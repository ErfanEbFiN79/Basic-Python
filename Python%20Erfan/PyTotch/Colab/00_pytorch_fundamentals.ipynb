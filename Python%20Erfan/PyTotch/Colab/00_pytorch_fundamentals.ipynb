{
  "cells": [
    {
      "cell_type": "markdown",
      "metadata": {
        "id": "view-in-github",
        "colab_type": "text"
      },
      "source": [
        "<a href=\"https://colab.research.google.com/github/ErfanEbFiN79/Erfan-Python/blob/main/Python%2520Erfan/PyTotch/Colab/00_pytorch_fundamentals.ipynb\" target=\"_parent\"><img src=\"https://colab.research.google.com/assets/colab-badge.svg\" alt=\"Open In Colab\"/></a>"
      ]
    },
    {
      "cell_type": "code",
      "execution_count": 2,
      "id": "e0d2832c-af09-4dde-8920-0fbaaeb65815",
      "metadata": {
        "colab": {
          "base_uri": "https://localhost:8080/"
        },
        "id": "e0d2832c-af09-4dde-8920-0fbaaeb65815",
        "outputId": "a806d3c6-dfb9-4b15-a2a2-70add9c77a5d"
      },
      "outputs": [
        {
          "output_type": "stream",
          "name": "stdout",
          "text": [
            "/bin/bash: line 1: nvidia-smi: command not found\n"
          ]
        }
      ],
      "source": [
        "!nvidia-smi"
      ]
    },
    {
      "cell_type": "code",
      "execution_count": 3,
      "id": "01b61bed-02a3-44dc-a694-eb387c0f1803",
      "metadata": {
        "id": "01b61bed-02a3-44dc-a694-eb387c0f1803"
      },
      "outputs": [],
      "source": [
        "import torch"
      ]
    },
    {
      "cell_type": "code",
      "source": [
        "print(torch.__version__)"
      ],
      "metadata": {
        "colab": {
          "base_uri": "https://localhost:8080/"
        },
        "id": "gHjiM7_y4uD4",
        "outputId": "36b2eece-53e4-42ce-bbfd-b6a71705c2bd"
      },
      "id": "gHjiM7_y4uD4",
      "execution_count": 4,
      "outputs": [
        {
          "output_type": "stream",
          "name": "stdout",
          "text": [
            "2.6.0+cu124\n"
          ]
        }
      ]
    },
    {
      "cell_type": "markdown",
      "source": [],
      "metadata": {
        "id": "1L1ayKTs5l1y"
      },
      "id": "1L1ayKTs5l1y"
    },
    {
      "cell_type": "markdown",
      "source": [
        "## Introduction to Tensors\n",
        "Creating Tensors"
      ],
      "metadata": {
        "id": "kFg7ZKXY5nau"
      },
      "id": "kFg7ZKXY5nau"
    },
    {
      "cell_type": "markdown",
      "source": [
        "Scalers are linear (or more precisely affine) transformers and differ from each other in the way they estimate the parameters used to shift and scale each feature. QuantileTransformer provides non-linear transformations in which distances between marginal outliers and inliers are shrunk."
      ],
      "metadata": {
        "id": "V8Uu4UEx6t1e"
      },
      "id": "V8Uu4UEx6t1e"
    },
    {
      "cell_type": "markdown",
      "source": [
        "PyTorch tensors are created usin torch.Tensor()"
      ],
      "metadata": {
        "id": "5MBXySiz69pX"
      },
      "id": "5MBXySiz69pX"
    },
    {
      "cell_type": "code",
      "source": [
        "# scalar\n",
        "scalar = torch.tensor(7)\n",
        "scalar"
      ],
      "metadata": {
        "colab": {
          "base_uri": "https://localhost:8080/"
        },
        "id": "hODJcyau420U",
        "outputId": "526a3a35-dcf0-41d8-98f4-54935cf8b621"
      },
      "id": "hODJcyau420U",
      "execution_count": 5,
      "outputs": [
        {
          "output_type": "execute_result",
          "data": {
            "text/plain": [
              "tensor(7)"
            ]
          },
          "metadata": {},
          "execution_count": 5
        }
      ]
    },
    {
      "cell_type": "code",
      "source": [
        "scalar.ndim"
      ],
      "metadata": {
        "colab": {
          "base_uri": "https://localhost:8080/"
        },
        "id": "lwAebDZ_7NSz",
        "outputId": "f85ffd0a-9424-40ed-f173-1ef20f48dd50"
      },
      "id": "lwAebDZ_7NSz",
      "execution_count": 6,
      "outputs": [
        {
          "output_type": "execute_result",
          "data": {
            "text/plain": [
              "0"
            ]
          },
          "metadata": {},
          "execution_count": 6
        }
      ]
    },
    {
      "cell_type": "code",
      "source": [
        "# Get tensor back as python int\n",
        "scalar.item()"
      ],
      "metadata": {
        "colab": {
          "base_uri": "https://localhost:8080/"
        },
        "id": "GzKIFJFB7fl-",
        "outputId": "23ea3109-1e1c-4776-e78d-36c8c8d9c4c9"
      },
      "id": "GzKIFJFB7fl-",
      "execution_count": 7,
      "outputs": [
        {
          "output_type": "execute_result",
          "data": {
            "text/plain": [
              "7"
            ]
          },
          "metadata": {},
          "execution_count": 7
        }
      ]
    },
    {
      "cell_type": "code",
      "source": [
        "# Vector\n",
        "vector = torch.tensor([7,7])\n",
        "vector"
      ],
      "metadata": {
        "colab": {
          "base_uri": "https://localhost:8080/"
        },
        "id": "oO2ZYl537qgM",
        "outputId": "1ee4288d-8430-468f-979c-cfb6a8a6a287"
      },
      "id": "oO2ZYl537qgM",
      "execution_count": 8,
      "outputs": [
        {
          "output_type": "execute_result",
          "data": {
            "text/plain": [
              "tensor([7, 7])"
            ]
          },
          "metadata": {},
          "execution_count": 8
        }
      ]
    },
    {
      "cell_type": "code",
      "source": [
        "vector.ndim"
      ],
      "metadata": {
        "colab": {
          "base_uri": "https://localhost:8080/"
        },
        "id": "EYz4tMjB8Wmp",
        "outputId": "1aba6882-baac-44e3-8763-52bb3ca88d98"
      },
      "id": "EYz4tMjB8Wmp",
      "execution_count": 9,
      "outputs": [
        {
          "output_type": "execute_result",
          "data": {
            "text/plain": [
              "1"
            ]
          },
          "metadata": {},
          "execution_count": 9
        }
      ]
    },
    {
      "cell_type": "code",
      "source": [
        "vector.shape"
      ],
      "metadata": {
        "colab": {
          "base_uri": "https://localhost:8080/"
        },
        "id": "UqX-wneq8e_L",
        "outputId": "6584432a-e709-431a-b778-5c98b8bcf27f"
      },
      "id": "UqX-wneq8e_L",
      "execution_count": 10,
      "outputs": [
        {
          "output_type": "execute_result",
          "data": {
            "text/plain": [
              "torch.Size([2])"
            ]
          },
          "metadata": {},
          "execution_count": 10
        }
      ]
    },
    {
      "cell_type": "code",
      "source": [
        "# Matrix\n",
        "Matrix = torch.tensor([[7,8],[9,10]])\n",
        "Matrix"
      ],
      "metadata": {
        "colab": {
          "base_uri": "https://localhost:8080/"
        },
        "id": "sVK4yArg8oH5",
        "outputId": "f8b8192a-4c83-49ba-df70-46eb18f82230"
      },
      "id": "sVK4yArg8oH5",
      "execution_count": 11,
      "outputs": [
        {
          "output_type": "execute_result",
          "data": {
            "text/plain": [
              "tensor([[ 7,  8],\n",
              "        [ 9, 10]])"
            ]
          },
          "metadata": {},
          "execution_count": 11
        }
      ]
    },
    {
      "cell_type": "code",
      "source": [
        "Matrix.ndim"
      ],
      "metadata": {
        "colab": {
          "base_uri": "https://localhost:8080/"
        },
        "id": "_Gcrzxdj84Kn",
        "outputId": "f80d8a9e-4c0f-4b32-98d2-51afe585d54d"
      },
      "id": "_Gcrzxdj84Kn",
      "execution_count": 12,
      "outputs": [
        {
          "output_type": "execute_result",
          "data": {
            "text/plain": [
              "2"
            ]
          },
          "metadata": {},
          "execution_count": 12
        }
      ]
    },
    {
      "cell_type": "code",
      "source": [
        "Matrix.size()"
      ],
      "metadata": {
        "colab": {
          "base_uri": "https://localhost:8080/"
        },
        "id": "ZJ9U3M0887oi",
        "outputId": "5537f503-bee3-4b2a-911e-8897dd4d3dfd"
      },
      "id": "ZJ9U3M0887oi",
      "execution_count": 13,
      "outputs": [
        {
          "output_type": "execute_result",
          "data": {
            "text/plain": [
              "torch.Size([2, 2])"
            ]
          },
          "metadata": {},
          "execution_count": 13
        }
      ]
    },
    {
      "cell_type": "code",
      "source": [
        "Matrix.shape"
      ],
      "metadata": {
        "colab": {
          "base_uri": "https://localhost:8080/"
        },
        "id": "L67ewcpZ8_t4",
        "outputId": "3d50db79-efe0-456b-b609-adf2a33dc3d6"
      },
      "id": "L67ewcpZ8_t4",
      "execution_count": 14,
      "outputs": [
        {
          "output_type": "execute_result",
          "data": {
            "text/plain": [
              "torch.Size([2, 2])"
            ]
          },
          "metadata": {},
          "execution_count": 14
        }
      ]
    },
    {
      "cell_type": "code",
      "source": [
        "type(Matrix)"
      ],
      "metadata": {
        "colab": {
          "base_uri": "https://localhost:8080/"
        },
        "id": "4auLOrkv9DWN",
        "outputId": "82809cdb-2425-4395-a7b3-a38cce445067"
      },
      "id": "4auLOrkv9DWN",
      "execution_count": 15,
      "outputs": [
        {
          "output_type": "execute_result",
          "data": {
            "text/plain": [
              "torch.Tensor"
            ]
          },
          "metadata": {},
          "execution_count": 15
        }
      ]
    },
    {
      "cell_type": "code",
      "source": [
        "Matrix"
      ],
      "metadata": {
        "colab": {
          "base_uri": "https://localhost:8080/"
        },
        "id": "sLv_qXW29QjJ",
        "outputId": "82659c64-427a-4b64-fc20-b62fb3120064"
      },
      "id": "sLv_qXW29QjJ",
      "execution_count": 16,
      "outputs": [
        {
          "output_type": "execute_result",
          "data": {
            "text/plain": [
              "tensor([[ 7,  8],\n",
              "        [ 9, 10]])"
            ]
          },
          "metadata": {},
          "execution_count": 16
        }
      ]
    },
    {
      "cell_type": "code",
      "source": [
        "Matrix[0]"
      ],
      "metadata": {
        "colab": {
          "base_uri": "https://localhost:8080/"
        },
        "id": "Vj7Q8jRY9UvD",
        "outputId": "1fd881fd-8723-4fb1-e374-530d807ce13a"
      },
      "id": "Vj7Q8jRY9UvD",
      "execution_count": 17,
      "outputs": [
        {
          "output_type": "execute_result",
          "data": {
            "text/plain": [
              "tensor([7, 8])"
            ]
          },
          "metadata": {},
          "execution_count": 17
        }
      ]
    },
    {
      "cell_type": "code",
      "source": [
        "Matrix[1]"
      ],
      "metadata": {
        "colab": {
          "base_uri": "https://localhost:8080/"
        },
        "id": "6pzPHicI9XBo",
        "outputId": "9a2a570b-44eb-4ead-dee8-507c8e003cdd"
      },
      "id": "6pzPHicI9XBo",
      "execution_count": 18,
      "outputs": [
        {
          "output_type": "execute_result",
          "data": {
            "text/plain": [
              "tensor([ 9, 10])"
            ]
          },
          "metadata": {},
          "execution_count": 18
        }
      ]
    },
    {
      "cell_type": "code",
      "source": [
        "# TENSOR\n",
        "\n",
        "TENSOR = torch.tensor([[[1,2,3],\n",
        "                        [3,6,9],\n",
        "                        [2,4,5]]])\n",
        "TENSOR"
      ],
      "metadata": {
        "colab": {
          "base_uri": "https://localhost:8080/"
        },
        "id": "CydECr5N9lXL",
        "outputId": "a22cec91-8e53-42c5-b41b-3695a6cd589c"
      },
      "id": "CydECr5N9lXL",
      "execution_count": 19,
      "outputs": [
        {
          "output_type": "execute_result",
          "data": {
            "text/plain": [
              "tensor([[[1, 2, 3],\n",
              "         [3, 6, 9],\n",
              "         [2, 4, 5]]])"
            ]
          },
          "metadata": {},
          "execution_count": 19
        }
      ]
    },
    {
      "cell_type": "code",
      "source": [
        "TENSOR.ndim"
      ],
      "metadata": {
        "colab": {
          "base_uri": "https://localhost:8080/"
        },
        "id": "q7xsnpLU9Y1a",
        "outputId": "ee17de1a-129a-47b6-e6c0-f32d38c2acf7"
      },
      "id": "q7xsnpLU9Y1a",
      "execution_count": 20,
      "outputs": [
        {
          "output_type": "execute_result",
          "data": {
            "text/plain": [
              "3"
            ]
          },
          "metadata": {},
          "execution_count": 20
        }
      ]
    },
    {
      "cell_type": "code",
      "source": [
        "TENSOR.shape"
      ],
      "metadata": {
        "colab": {
          "base_uri": "https://localhost:8080/"
        },
        "id": "ezwGdKuU9-AT",
        "outputId": "56355ac9-21d0-4012-a480-ae9b45a46d1d"
      },
      "id": "ezwGdKuU9-AT",
      "execution_count": 21,
      "outputs": [
        {
          "output_type": "execute_result",
          "data": {
            "text/plain": [
              "torch.Size([1, 3, 3])"
            ]
          },
          "metadata": {},
          "execution_count": 21
        }
      ]
    },
    {
      "cell_type": "code",
      "source": [
        "TENSOR[0]"
      ],
      "metadata": {
        "colab": {
          "base_uri": "https://localhost:8080/"
        },
        "id": "zpUUp9Qw-AEh",
        "outputId": "d1698f66-7556-471a-e860-f798191ff6b0"
      },
      "id": "zpUUp9Qw-AEh",
      "execution_count": 22,
      "outputs": [
        {
          "output_type": "execute_result",
          "data": {
            "text/plain": [
              "tensor([[1, 2, 3],\n",
              "        [3, 6, 9],\n",
              "        [2, 4, 5]])"
            ]
          },
          "metadata": {},
          "execution_count": 22
        }
      ]
    },
    {
      "cell_type": "code",
      "source": [
        "TENSOR[0][0]"
      ],
      "metadata": {
        "colab": {
          "base_uri": "https://localhost:8080/"
        },
        "id": "2p5BSZZE-KEz",
        "outputId": "c2804793-2838-48f7-ece5-386fb5c517ba"
      },
      "id": "2p5BSZZE-KEz",
      "execution_count": 23,
      "outputs": [
        {
          "output_type": "execute_result",
          "data": {
            "text/plain": [
              "tensor([1, 2, 3])"
            ]
          },
          "metadata": {},
          "execution_count": 23
        }
      ]
    },
    {
      "cell_type": "code",
      "source": [
        "TENSOR[0][2]"
      ],
      "metadata": {
        "colab": {
          "base_uri": "https://localhost:8080/"
        },
        "id": "M3urRfqF-U1K",
        "outputId": "49cfa0c6-5c07-46ac-ab4a-23c8f64324a7"
      },
      "id": "M3urRfqF-U1K",
      "execution_count": 24,
      "outputs": [
        {
          "output_type": "execute_result",
          "data": {
            "text/plain": [
              "tensor([2, 4, 5])"
            ]
          },
          "metadata": {},
          "execution_count": 24
        }
      ]
    },
    {
      "cell_type": "code",
      "source": [
        "TENSOR[0][1][1]"
      ],
      "metadata": {
        "colab": {
          "base_uri": "https://localhost:8080/"
        },
        "id": "68-3uWPS-Mmx",
        "outputId": "facef3fc-086e-4b7e-9f5b-e4744edbe3f4"
      },
      "id": "68-3uWPS-Mmx",
      "execution_count": 25,
      "outputs": [
        {
          "output_type": "execute_result",
          "data": {
            "text/plain": [
              "tensor(6)"
            ]
          },
          "metadata": {},
          "execution_count": 25
        }
      ]
    },
    {
      "cell_type": "markdown",
      "source": [],
      "metadata": {
        "id": "blE6H_6px-Bm"
      },
      "id": "blE6H_6px-Bm"
    },
    {
      "cell_type": "code",
      "source": [
        "MyTensorTest = torch.tensor([[[1,2,3],\n",
        "                              [4,5,6],\n",
        "                              [7,8,9]],\n",
        "                             [[10,12,13],\n",
        "                              [14,16,17],\n",
        "                              [18,19,20]]])"
      ],
      "metadata": {
        "id": "Fz9SQGmM-Yjy"
      },
      "id": "Fz9SQGmM-Yjy",
      "execution_count": 26,
      "outputs": []
    },
    {
      "cell_type": "code",
      "source": [
        "MyTensorTest.shape"
      ],
      "metadata": {
        "colab": {
          "base_uri": "https://localhost:8080/"
        },
        "id": "AXgBIa3xxJTD",
        "outputId": "1f0094c8-60e6-40cb-905b-a30a0c7e30b8"
      },
      "id": "AXgBIa3xxJTD",
      "execution_count": 27,
      "outputs": [
        {
          "output_type": "execute_result",
          "data": {
            "text/plain": [
              "torch.Size([2, 3, 3])"
            ]
          },
          "metadata": {},
          "execution_count": 27
        }
      ]
    },
    {
      "cell_type": "code",
      "source": [
        "MyTensorTest.ndim"
      ],
      "metadata": {
        "colab": {
          "base_uri": "https://localhost:8080/"
        },
        "id": "_23KPuFKxNZn",
        "outputId": "b41270d5-657e-49e7-d0f8-2f91128f7387"
      },
      "id": "_23KPuFKxNZn",
      "execution_count": 28,
      "outputs": [
        {
          "output_type": "execute_result",
          "data": {
            "text/plain": [
              "3"
            ]
          },
          "metadata": {},
          "execution_count": 28
        }
      ]
    },
    {
      "cell_type": "code",
      "source": [
        "MyTensorTest[0]"
      ],
      "metadata": {
        "colab": {
          "base_uri": "https://localhost:8080/"
        },
        "id": "4QxPaLiGxVIn",
        "outputId": "b6be4b1a-0e74-43b4-cf2d-1945b0d18c47"
      },
      "id": "4QxPaLiGxVIn",
      "execution_count": 29,
      "outputs": [
        {
          "output_type": "execute_result",
          "data": {
            "text/plain": [
              "tensor([[1, 2, 3],\n",
              "        [4, 5, 6],\n",
              "        [7, 8, 9]])"
            ]
          },
          "metadata": {},
          "execution_count": 29
        }
      ]
    },
    {
      "cell_type": "code",
      "source": [
        "MyTensorTest[1]"
      ],
      "metadata": {
        "colab": {
          "base_uri": "https://localhost:8080/"
        },
        "id": "enQj3LrQxguR",
        "outputId": "583f7208-7fb2-4ddd-e92f-4e565f6dbd8a"
      },
      "id": "enQj3LrQxguR",
      "execution_count": 30,
      "outputs": [
        {
          "output_type": "execute_result",
          "data": {
            "text/plain": [
              "tensor([[10, 12, 13],\n",
              "        [14, 16, 17],\n",
              "        [18, 19, 20]])"
            ]
          },
          "metadata": {},
          "execution_count": 30
        }
      ]
    },
    {
      "cell_type": "code",
      "source": [
        "# if we want to get a 16 from the Tesnor\n",
        "MyTensorTest[1][1][1]"
      ],
      "metadata": {
        "colab": {
          "base_uri": "https://localhost:8080/"
        },
        "id": "Rip8C1ZAxjiT",
        "outputId": "f2703cf8-a072-487a-ca02-cda94e5279f1"
      },
      "id": "Rip8C1ZAxjiT",
      "execution_count": 31,
      "outputs": [
        {
          "output_type": "execute_result",
          "data": {
            "text/plain": [
              "tensor(16)"
            ]
          },
          "metadata": {},
          "execution_count": 31
        }
      ]
    },
    {
      "cell_type": "markdown",
      "source": [
        "### Random Tensor\n",
        "\n",
        "We've established tensors represent some form of data.\n",
        "\n",
        "And machine learning models such as neural networks manipulate and seek patterns within tensors.\n",
        "\n",
        "But when building machine learning models with PyTorch, it's rare you'll create tensors by hand (like what we've been doing).\n",
        "\n",
        "Instead, a machine learning model often starts out with large random tensors of numbers and adjusts these random numbers as it works through data to better represent it.\n",
        "\n",
        "In essence:\n",
        "\n",
        "'Start with random numbers -> look at data -> update random numbers -> look at data -> update random numbers...'\n",
        "\n",
        "As a data scientist, you can define how the machine learning model starts (initialization), looks at data (representation) and updates (optimization) its random numbers.\n",
        "\n",
        "rand duc => https://docs.pytorch.org/docs/stable/generated/torch.rand.html"
      ],
      "metadata": {
        "id": "gnh_EWfgxwED"
      },
      "id": "gnh_EWfgxwED"
    },
    {
      "cell_type": "code",
      "source": [
        "rand_tensor_1 = torch.rand(3)\n",
        "rand_tensor_2 = torch.rand(3,4)\n",
        "rand_tensor_3 = torch.rand(2,3,8)\n",
        "print(f\"{rand_tensor_1} has {rand_tensor_1.ndim} dimentions and the shape is {rand_tensor_1.shape} and type is {rand_tensor_1.dtype}\\n\")\n",
        "print(f\"{rand_tensor_2} has {rand_tensor_2.ndim} dimentions and the shape is {rand_tensor_2.shape} and type is {rand_tensor_2.dtype}\\n\")\n",
        "print(f\"{rand_tensor_3} has {rand_tensor_3.ndim} dimentions and the shape is {rand_tensor_3.shape} and type is {rand_tensor_3.dtype}\\n\")"
      ],
      "metadata": {
        "colab": {
          "base_uri": "https://localhost:8080/"
        },
        "id": "QMwKWqssyro7",
        "outputId": "872403e9-e06a-40f2-bf41-6bd17a600729"
      },
      "id": "QMwKWqssyro7",
      "execution_count": 32,
      "outputs": [
        {
          "output_type": "stream",
          "name": "stdout",
          "text": [
            "tensor([0.5440, 0.1324, 0.6712]) has 1 dimentions and the shape is torch.Size([3]) and type is torch.float32\n",
            "\n",
            "tensor([[0.0489, 0.6642, 0.7755, 0.9267],\n",
            "        [0.0554, 0.6437, 0.6184, 0.1342],\n",
            "        [0.6258, 0.1232, 0.3948, 0.2431]]) has 2 dimentions and the shape is torch.Size([3, 4]) and type is torch.float32\n",
            "\n",
            "tensor([[[0.6283, 0.1572, 0.4555, 0.0088, 0.0865, 0.6468, 0.6766, 0.2271],\n",
            "         [0.0632, 0.1755, 0.9815, 0.6480, 0.0182, 0.6377, 0.2645, 0.3695],\n",
            "         [0.0830, 0.0196, 0.7395, 0.5238, 0.2815, 0.4425, 0.9154, 0.0701]],\n",
            "\n",
            "        [[0.2791, 0.7655, 0.2177, 0.9177, 0.1289, 0.8563, 0.9136, 0.4559],\n",
            "         [0.8837, 0.4079, 0.8916, 0.9947, 0.9041, 0.3798, 0.2402, 0.2451],\n",
            "         [0.3371, 0.1125, 0.5468, 0.1463, 0.2515, 0.6685, 0.3314, 0.7513]]]) has 3 dimentions and the shape is torch.Size([2, 3, 8]) and type is torch.float32\n",
            "\n"
          ]
        }
      ]
    },
    {
      "cell_type": "markdown",
      "source": [
        "The flexibility of torch.rand() is that we can adjust the size to be whatever we want.\n",
        "\n",
        "For example, say you wanted a random tensor in the common image shape of [224, 224, 3] ([height, width, color_channels])."
      ],
      "metadata": {
        "id": "xYh22AnX3C4M"
      },
      "id": "xYh22AnX3C4M"
    },
    {
      "cell_type": "code",
      "source": [
        "random_image_tensor = torch.rand(size=(3,224,224))\n",
        "print(f\"Dimention = {random_image_tensor.ndim} and shape is {random_image_tensor.shape} => \\n{random_image_tensor }\")"
      ],
      "metadata": {
        "colab": {
          "base_uri": "https://localhost:8080/"
        },
        "id": "kh5nEbBI3Hlw",
        "outputId": "270024e8-3f59-4ad1-8346-acdce89af20e"
      },
      "id": "kh5nEbBI3Hlw",
      "execution_count": 33,
      "outputs": [
        {
          "output_type": "stream",
          "name": "stdout",
          "text": [
            "Dimention = 3 and shape is torch.Size([3, 224, 224]) => \n",
            "tensor([[[0.2886, 0.4096, 0.9800,  ..., 0.1346, 0.9834, 0.9771],\n",
            "         [0.5738, 0.7864, 0.9264,  ..., 0.8288, 0.3606, 0.9132],\n",
            "         [0.0023, 0.8566, 0.0793,  ..., 0.7444, 0.8621, 0.1904],\n",
            "         ...,\n",
            "         [0.0592, 0.3673, 0.9390,  ..., 0.1867, 0.4278, 0.8327],\n",
            "         [0.4996, 0.6619, 0.8476,  ..., 0.5817, 0.3917, 0.1646],\n",
            "         [0.5487, 0.4351, 0.2470,  ..., 0.3910, 0.1069, 0.8579]],\n",
            "\n",
            "        [[0.2396, 0.4505, 0.6808,  ..., 0.4228, 0.8626, 0.3239],\n",
            "         [0.8871, 0.7540, 0.5141,  ..., 0.8839, 0.5882, 0.5478],\n",
            "         [0.2657, 0.8431, 0.4402,  ..., 0.4380, 0.6298, 0.6347],\n",
            "         ...,\n",
            "         [0.7300, 0.2860, 0.2857,  ..., 0.3702, 0.2321, 0.5851],\n",
            "         [0.8880, 0.3386, 0.7286,  ..., 0.0186, 0.6056, 0.9278],\n",
            "         [0.1901, 0.9913, 0.5973,  ..., 0.9937, 0.0404, 0.7777]],\n",
            "\n",
            "        [[0.2347, 0.1588, 0.2284,  ..., 0.2526, 0.9394, 0.1930],\n",
            "         [0.5068, 0.7643, 0.0052,  ..., 0.4692, 0.6137, 0.0163],\n",
            "         [0.7486, 0.8225, 0.0287,  ..., 0.7459, 0.6353, 0.8933],\n",
            "         ...,\n",
            "         [0.2380, 0.3153, 0.0698,  ..., 0.6096, 0.8701, 0.2120],\n",
            "         [0.5957, 0.2749, 0.3849,  ..., 0.6624, 0.0912, 0.6348],\n",
            "         [0.9047, 0.2647, 0.4972,  ..., 0.8511, 0.0418, 0.6661]]])\n"
          ]
        }
      ]
    },
    {
      "cell_type": "markdown",
      "source": [],
      "metadata": {
        "id": "vzmTu-Brxy0G"
      },
      "id": "vzmTu-Brxy0G"
    },
    {
      "cell_type": "code",
      "source": [
        "# HandWriting at 16 * 16 black and white\n",
        "# black < 0.5 / white >= 0\n",
        "rand_handwriting_00 = torch.rand(2,16,16)\n",
        "rand_handwriting_00"
      ],
      "metadata": {
        "colab": {
          "base_uri": "https://localhost:8080/"
        },
        "id": "tsf5uXhR5NR9",
        "outputId": "a2d4e55d-9fbe-48aa-bcbf-fb3d067213eb"
      },
      "id": "tsf5uXhR5NR9",
      "execution_count": 34,
      "outputs": [
        {
          "output_type": "execute_result",
          "data": {
            "text/plain": [
              "tensor([[[0.6375, 0.8320, 0.6640, 0.6800, 0.3913, 0.1602, 0.4422, 0.3464,\n",
              "          0.6546, 0.3866, 0.1079, 0.9233, 0.4466, 0.7706, 0.6317, 0.8033],\n",
              "         [0.6270, 0.1359, 0.0730, 0.7324, 0.9979, 0.6823, 0.3900, 0.5637,\n",
              "          0.3238, 0.9241, 0.2874, 0.2298, 0.2089, 0.4040, 0.1484, 0.0902],\n",
              "         [0.2481, 0.2871, 0.8220, 0.1816, 0.9463, 0.2705, 0.6122, 0.6345,\n",
              "          0.1048, 0.2520, 0.8032, 0.2739, 0.8544, 0.2983, 0.5343, 0.4903],\n",
              "         [0.2227, 0.1956, 0.5550, 0.8240, 0.3196, 0.4591, 0.1900, 0.1689,\n",
              "          0.4122, 0.6289, 0.5997, 0.2447, 0.6253, 0.9154, 0.8999, 0.1997],\n",
              "         [0.9272, 0.9745, 0.8811, 0.9338, 0.8537, 0.2429, 0.2328, 0.3609,\n",
              "          0.1684, 0.7031, 0.4384, 0.9998, 0.0062, 0.6465, 0.7526, 0.5851],\n",
              "         [0.7676, 0.8486, 0.7520, 0.5405, 0.0864, 0.5892, 0.6682, 0.8429,\n",
              "          0.1072, 0.8080, 0.7893, 0.5096, 0.4610, 0.5466, 0.1659, 0.0078],\n",
              "         [0.6292, 0.7611, 0.8238, 0.8944, 0.2684, 0.4201, 0.0456, 0.7245,\n",
              "          0.9838, 0.9171, 0.7990, 0.3827, 0.4884, 0.8142, 0.8907, 0.1569],\n",
              "         [0.3160, 0.3952, 0.7686, 0.5586, 0.2078, 0.2102, 0.0124, 0.1397,\n",
              "          0.4564, 0.9243, 0.5082, 0.2008, 0.8901, 0.2491, 0.4557, 0.6945],\n",
              "         [0.7104, 0.4018, 0.3483, 0.1383, 0.8851, 0.5379, 0.3177, 0.8440,\n",
              "          0.8373, 0.0593, 0.5489, 0.1543, 0.4654, 0.2863, 0.3816, 0.0916],\n",
              "         [0.5237, 0.1518, 0.2591, 0.1860, 0.4115, 0.6716, 0.5083, 0.4050,\n",
              "          0.0319, 0.4371, 0.3389, 0.0371, 0.0774, 0.6401, 0.4662, 0.2393],\n",
              "         [0.5344, 0.1051, 0.7301, 0.6050, 0.5088, 0.3110, 0.7646, 0.5064,\n",
              "          0.1521, 0.7038, 0.0400, 0.8629, 0.7520, 0.6807, 0.5121, 0.4866],\n",
              "         [0.8726, 0.1498, 0.3971, 0.5710, 0.0261, 0.0280, 0.4064, 0.7751,\n",
              "          0.7546, 0.0148, 0.9512, 0.8805, 0.8800, 0.6154, 0.9837, 0.7445],\n",
              "         [0.9195, 0.4705, 0.1109, 0.3561, 0.4344, 0.9202, 0.2889, 0.1708,\n",
              "          0.8258, 0.8571, 0.5002, 0.9563, 0.8483, 0.5797, 0.0230, 0.5812],\n",
              "         [0.8377, 0.9456, 0.5703, 0.1320, 0.5586, 0.3964, 0.4592, 0.6651,\n",
              "          0.2460, 0.5481, 0.0101, 0.9631, 0.1953, 0.5169, 0.8972, 0.9510],\n",
              "         [0.4172, 0.3372, 0.8155, 0.5341, 0.7577, 0.8146, 0.7502, 0.7375,\n",
              "          0.5955, 0.6905, 0.3545, 0.8124, 0.7284, 0.3136, 0.2566, 0.8541],\n",
              "         [0.4996, 0.9869, 0.0636, 0.7270, 0.9632, 0.0196, 0.0099, 0.7234,\n",
              "          0.7008, 0.9048, 0.2587, 0.5993, 0.8808, 0.9274, 0.4403, 0.7526]],\n",
              "\n",
              "        [[0.2630, 0.2377, 0.3624, 0.7427, 0.5778, 0.6378, 0.2435, 0.7900,\n",
              "          0.6316, 0.1841, 0.9475, 0.8025, 0.9192, 0.1742, 0.4144, 0.3761],\n",
              "         [0.5038, 0.6200, 0.0881, 0.5385, 0.8622, 0.1664, 0.8274, 0.5237,\n",
              "          0.6939, 0.4271, 0.3113, 0.6402, 0.9576, 0.1316, 0.8905, 0.2250],\n",
              "         [0.4064, 0.1830, 0.7623, 0.0028, 0.1329, 0.7314, 0.5030, 0.8512,\n",
              "          0.2279, 0.1728, 0.2675, 0.5906, 0.9717, 0.6168, 0.0016, 0.9651],\n",
              "         [0.3247, 0.5782, 0.3864, 0.1766, 0.5499, 0.8696, 0.3159, 0.9000,\n",
              "          0.1085, 0.5101, 0.0217, 0.7352, 0.9200, 0.4509, 0.0117, 0.1734],\n",
              "         [0.3683, 0.2670, 0.9636, 0.1690, 0.5198, 0.9909, 0.4745, 0.6598,\n",
              "          0.6817, 0.7735, 0.1803, 0.7455, 0.0513, 0.0793, 0.6592, 0.4055],\n",
              "         [0.7208, 0.3927, 0.6011, 0.6084, 0.8141, 0.8590, 0.7865, 0.1559,\n",
              "          0.0932, 0.8515, 0.4235, 0.5204, 0.2281, 0.2261, 0.7294, 0.8376],\n",
              "         [0.7023, 0.6471, 0.9261, 0.7820, 0.8279, 0.7998, 0.6558, 0.0135,\n",
              "          0.6825, 0.6775, 0.6763, 0.8933, 0.9375, 0.7201, 0.4085, 0.0795],\n",
              "         [0.0832, 0.4839, 0.4177, 0.7391, 0.2953, 0.2181, 0.4290, 0.8217,\n",
              "          0.6026, 0.9759, 0.1574, 0.9007, 0.7429, 0.7701, 0.0418, 0.5806],\n",
              "         [0.9731, 0.8329, 0.5764, 0.3794, 0.5045, 0.1545, 0.0152, 0.0917,\n",
              "          0.8020, 0.2663, 0.0107, 0.6022, 0.9531, 0.8315, 0.5289, 0.7896],\n",
              "         [0.1716, 0.7060, 0.7574, 0.6594, 0.1296, 0.3217, 0.4646, 0.3567,\n",
              "          0.9255, 0.7581, 0.6269, 0.6220, 0.2800, 0.4476, 0.2316, 0.6081],\n",
              "         [0.7338, 0.0026, 0.6374, 0.2412, 0.4903, 0.1099, 0.9628, 0.8036,\n",
              "          0.1604, 0.7345, 0.0913, 0.6089, 0.7892, 0.9542, 0.2820, 0.1959],\n",
              "         [0.6663, 0.4522, 0.1797, 0.7597, 0.4695, 0.6560, 0.7718, 0.6496,\n",
              "          0.0184, 0.0178, 0.0997, 0.7753, 0.3968, 0.1886, 0.7958, 0.2603],\n",
              "         [0.6615, 0.9618, 0.9614, 0.9713, 0.8885, 0.4336, 0.2854, 0.1617,\n",
              "          0.4060, 0.6798, 0.1113, 0.8824, 0.5221, 0.3969, 0.3356, 0.8493],\n",
              "         [0.9492, 0.4385, 0.5395, 0.5593, 0.4699, 0.4080, 0.1731, 0.1282,\n",
              "          0.8697, 0.0431, 0.9577, 0.3921, 0.6932, 0.5734, 0.6743, 0.9098],\n",
              "         [0.2921, 0.8363, 0.5082, 0.2202, 0.0520, 0.0393, 0.2941, 0.7827,\n",
              "          0.2291, 0.6981, 0.0260, 0.1152, 0.0422, 0.6254, 0.8981, 0.7350],\n",
              "         [0.1813, 0.2913, 0.8512, 0.7271, 0.0836, 0.4511, 0.3854, 0.4410,\n",
              "          0.8185, 0.6047, 0.6754, 0.4873, 0.1961, 0.7154, 0.7975, 0.8855]]])"
            ]
          },
          "metadata": {},
          "execution_count": 34
        }
      ]
    },
    {
      "cell_type": "markdown",
      "source": [
        "## Zeros and ones\n",
        "\n",
        "Sometimes you'll just want to fill tensors with zeros or ones.\n",
        "\n",
        "This happens a lot with masking (like masking some of the values in one tensor with zeros to let a model know not to learn them)."
      ],
      "metadata": {
        "id": "hu--NKXzxB-c"
      },
      "id": "hu--NKXzxB-c"
    },
    {
      "cell_type": "code",
      "source": [
        "# Create a tensor of all zeros\n",
        "zeros = torch.zeros(size=(3,3))\n",
        "print(f\"Structure -> \\n{zeros}\\nType : {zeros.dtype}\")"
      ],
      "metadata": {
        "colab": {
          "base_uri": "https://localhost:8080/"
        },
        "id": "AiaTP1AcxDzo",
        "outputId": "c589c12b-d773-4c76-f49c-5f145686ec67"
      },
      "id": "AiaTP1AcxDzo",
      "execution_count": 35,
      "outputs": [
        {
          "output_type": "stream",
          "name": "stdout",
          "text": [
            "Structure -> \n",
            "tensor([[0., 0., 0.],\n",
            "        [0., 0., 0.],\n",
            "        [0., 0., 0.]])\n",
            "Type : torch.float32\n"
          ]
        }
      ]
    },
    {
      "cell_type": "code",
      "source": [
        "# Create a tensor of all one\n",
        "ones = torch.ones(size=(3,4))\n",
        "print(f\"Structure -> \\n{ones}\\nType : {ones.dtype}\")"
      ],
      "metadata": {
        "colab": {
          "base_uri": "https://localhost:8080/"
        },
        "id": "wnGfV3FZxWDF",
        "outputId": "1a12deb1-f07b-44b2-e1f8-8515357550ef"
      },
      "id": "wnGfV3FZxWDF",
      "execution_count": 36,
      "outputs": [
        {
          "output_type": "stream",
          "name": "stdout",
          "text": [
            "Structure -> \n",
            "tensor([[1., 1., 1., 1.],\n",
            "        [1., 1., 1., 1.],\n",
            "        [1., 1., 1., 1.]])\n",
            "Type : torch.float32\n"
          ]
        }
      ]
    },
    {
      "cell_type": "markdown",
      "source": [
        "##Creating a range and tensors like\n",
        "Sometimes you might want a range of numbers, such as 1 to 10 or 0 to 100.\n",
        "\n",
        "You can use torch.arange(start, end, step) to do so.\n",
        "\n",
        "Where:\n",
        "\n",
        "* start = start of range (e.g. 0)\n",
        "* end = end of range (e.g. 10)\n",
        "* step = how many steps in between each value (e.g. 1)"
      ],
      "metadata": {
        "id": "0T-lHhNOz8FI"
      },
      "id": "0T-lHhNOz8FI"
    },
    {
      "cell_type": "code",
      "source": [
        "# 1 until 20 just odd\n",
        "Xodd = torch.arange(1,20,2)\n",
        "Xodd"
      ],
      "metadata": {
        "colab": {
          "base_uri": "https://localhost:8080/"
        },
        "id": "IFQlu2ISz-Vv",
        "outputId": "5c4cb884-1436-4555-818a-b39c57c9918f"
      },
      "id": "IFQlu2ISz-Vv",
      "execution_count": 37,
      "outputs": [
        {
          "output_type": "execute_result",
          "data": {
            "text/plain": [
              "tensor([ 1,  3,  5,  7,  9, 11, 13, 15, 17, 19])"
            ]
          },
          "metadata": {},
          "execution_count": 37
        }
      ]
    },
    {
      "cell_type": "code",
      "source": [
        "# 1 until 20 just even\n",
        "Xeven = torch.arange(2,21,2)\n",
        "Xeven"
      ],
      "metadata": {
        "colab": {
          "base_uri": "https://localhost:8080/"
        },
        "id": "0ct7iz2t0ZmK",
        "outputId": "9b999d3f-f051-48cb-d184-74960985f4ab"
      },
      "id": "0ct7iz2t0ZmK",
      "execution_count": 38,
      "outputs": [
        {
          "output_type": "execute_result",
          "data": {
            "text/plain": [
              "tensor([ 2,  4,  6,  8, 10, 12, 14, 16, 18, 20])"
            ]
          },
          "metadata": {},
          "execution_count": 38
        }
      ]
    },
    {
      "cell_type": "code",
      "source": [
        "XFive = torch.arange(0,51,5)\n",
        "XFive"
      ],
      "metadata": {
        "colab": {
          "base_uri": "https://localhost:8080/"
        },
        "id": "oPXqAboo0h3O",
        "outputId": "f6baa641-4194-4921-d9a9-563656e6037b"
      },
      "id": "oPXqAboo0h3O",
      "execution_count": 39,
      "outputs": [
        {
          "output_type": "execute_result",
          "data": {
            "text/plain": [
              "tensor([ 0,  5, 10, 15, 20, 25, 30, 35, 40, 45, 50])"
            ]
          },
          "metadata": {},
          "execution_count": 39
        }
      ]
    },
    {
      "cell_type": "markdown",
      "source": [
        "\n",
        "Sometimes you might want one tensor of a certain type with the same shape as another tensor.\n",
        "\n",
        "For example, a tensor of all zeros with the same shape as a previous tensor.\n",
        "\n",
        "To do so you can use torch.zeros_like(input) or torch.ones_like(input) which return a tensor filled with zeros or ones in the same shape as the input respectively."
      ],
      "metadata": {
        "id": "EUBSVY0R068n"
      },
      "id": "EUBSVY0R068n"
    },
    {
      "cell_type": "code",
      "source": [
        "XFive.shape"
      ],
      "metadata": {
        "colab": {
          "base_uri": "https://localhost:8080/"
        },
        "id": "V6bG1IO107W3",
        "outputId": "4897d00e-65ee-45ac-e616-e7ed858e4c70"
      },
      "id": "V6bG1IO107W3",
      "execution_count": 40,
      "outputs": [
        {
          "output_type": "execute_result",
          "data": {
            "text/plain": [
              "torch.Size([11])"
            ]
          },
          "metadata": {},
          "execution_count": 40
        }
      ]
    },
    {
      "cell_type": "code",
      "source": [
        "X_Shape_Copy1 = torch.zeros_like(input=XFive)\n",
        "X_Shape_Copy1, X_Shape_Copy1.shape, X_Shape_Copy1.dtype"
      ],
      "metadata": {
        "colab": {
          "base_uri": "https://localhost:8080/"
        },
        "id": "uDhg56My1DCj",
        "outputId": "506f8e56-4aa4-44e5-dcfa-9003e8956631"
      },
      "id": "uDhg56My1DCj",
      "execution_count": 41,
      "outputs": [
        {
          "output_type": "execute_result",
          "data": {
            "text/plain": [
              "(tensor([0, 0, 0, 0, 0, 0, 0, 0, 0, 0, 0]), torch.Size([11]), torch.int64)"
            ]
          },
          "metadata": {},
          "execution_count": 41
        }
      ]
    },
    {
      "cell_type": "code",
      "source": [
        "X_Shape_Copy2 = torch.ones_like(X_Shape_Copy1)\n",
        "X_Shape_Copy2, X_Shape_Copy2.shape, X_Shape_Copy2.dtype"
      ],
      "metadata": {
        "colab": {
          "base_uri": "https://localhost:8080/"
        },
        "id": "pqzUwxu61TCf",
        "outputId": "258f058c-921f-43ae-a416-714d508e0955"
      },
      "id": "pqzUwxu61TCf",
      "execution_count": 42,
      "outputs": [
        {
          "output_type": "execute_result",
          "data": {
            "text/plain": [
              "(tensor([1, 1, 1, 1, 1, 1, 1, 1, 1, 1, 1]), torch.Size([11]), torch.int64)"
            ]
          },
          "metadata": {},
          "execution_count": 42
        }
      ]
    },
    {
      "cell_type": "markdown",
      "source": [
        "\n",
        "##Tensor datatypes\n",
        "There are many different tensor datatypes available in PyTorch.\n",
        "link: https://docs.pytorch.org/docs/stable/tensors.html#data-types\n",
        "\n",
        "Some are specific for CPU and some are better for GPU.\n",
        "\n",
        "Getting to know which one can take some time.\n",
        "\n",
        "Generally if you see torch.cuda anywhere, the tensor is being used for GPU (since Nvidia GPUs use a computing toolkit called CUDA).\n",
        "\n",
        "The most common type (and generally the default) is torch.float32 or torch.float.\n",
        "\n",
        "This is referred to as \"32-bit floating point\".\n",
        "\n",
        "But there's also 16-bit floating point (torch.float16 or torch.half) and 64-bit floating point (torch.float64 or torch.double).\n",
        "\n",
        "And to confuse things even more there's also 8-bit, 16-bit, 32-bit and 64-bit integers.\n",
        "\n",
        "Plus more!\n",
        "\n",
        "Note: An integer is a flat round number like 7 whereas a float has a decimal 7.0.\n",
        "\n",
        "The reason for all of these is to do with precision in computing.\n",
        "\n",
        "Precision is the amount of detail used to describe a number.\n",
        "\n",
        "The higher the precision value (8, 16, 32), the more detail and hence data used to express a number.\n",
        "\n",
        "This matters in deep learning and numerical computing because you're making so many operations, the more detail you have to calculate on, the more compute you have to use.\n",
        "\n",
        "So lower precision datatypes are generally faster to compute on but sacrifice some performance on evaluation metrics like accuracy (faster to compute but less accurate).\n",
        "\n",
        "Resources:\n",
        "https://docs.pytorch.org/docs/stable/tensors.html#data-types\n",
        "\n",
        "https://en.wikipedia.org/wiki/Precision_(computer_science)\n",
        "\n",
        "See the PyTorch documentation for a list of all available tensor datatypes.\n",
        "Read the Wikipedia page for an overview of what precision in computing) is.\n",
        "Let's see how to create some tensors with specific datatypes. We can do so using the dtype paramete"
      ],
      "metadata": {
        "id": "PM6UhCBR63iG"
      },
      "id": "PM6UhCBR63iG"
    },
    {
      "cell_type": "code",
      "source": [
        "# Default datatype for tensors is float32\n",
        "float_32_tensor = torch.tensor([3.0, 6.0, 9.0],\n",
        "                               dtype=None, # defaults to None, which is torch.float32 or whatever datatype is passed\n",
        "                               device=None, # defaults to None, which uses the default tensor type\n",
        "                               requires_grad=False) # if True, operations performed on the tensor are recorded\n",
        "\n",
        "float_32_tensor.shape, float_32_tensor.dtype, float_32_tensor.device"
      ],
      "metadata": {
        "id": "T97AIxBM1j9_",
        "colab": {
          "base_uri": "https://localhost:8080/"
        },
        "outputId": "03974a7f-3bab-4bd8-92f0-349f662e63d8"
      },
      "id": "T97AIxBM1j9_",
      "execution_count": 43,
      "outputs": [
        {
          "output_type": "execute_result",
          "data": {
            "text/plain": [
              "(torch.Size([3]), torch.float32, device(type='cpu'))"
            ]
          },
          "metadata": {},
          "execution_count": 43
        }
      ]
    },
    {
      "cell_type": "markdown",
      "source": [
        "\n",
        "Aside from shape issues (tensor shapes don't match up), two of the other most common issues you'll come across in PyTorch are datatype and device issues.\n",
        "\n",
        "For example, one of tensors is torch.float32 and the other is torch.float16 (PyTorch often likes tensors to be the same format).\n",
        "\n",
        "Or one of your tensors is on the CPU and the other is on the GPU (PyTorch likes calculations between tensors to be on the same device).\n",
        "\n",
        "We'll see more of this device talk later on.\n",
        "\n",
        "For now let's create a tensor with dtype=torch.float16."
      ],
      "metadata": {
        "id": "9sOrNlXa7p1e"
      },
      "id": "9sOrNlXa7p1e"
    },
    {
      "cell_type": "code",
      "source": [
        "float_16_tensor = torch.tensor([3.0, 6.0, 9.0],\n",
        "                               dtype=torch.float16) # torch.half would also work\n",
        "\n",
        "float_16_tensor.dtype"
      ],
      "metadata": {
        "colab": {
          "base_uri": "https://localhost:8080/"
        },
        "id": "Iwcc5ZkA7W2h",
        "outputId": "ca253ea9-97de-4ac9-cc4d-e01213d1aa9a"
      },
      "id": "Iwcc5ZkA7W2h",
      "execution_count": 45,
      "outputs": [
        {
          "output_type": "execute_result",
          "data": {
            "text/plain": [
              "torch.float16"
            ]
          },
          "metadata": {},
          "execution_count": 45
        }
      ]
    },
    {
      "cell_type": "code",
      "source": [],
      "metadata": {
        "id": "yGpHX_D_7s5b"
      },
      "id": "yGpHX_D_7s5b",
      "execution_count": null,
      "outputs": []
    }
  ],
  "metadata": {
    "kernelspec": {
      "display_name": "Python 3",
      "name": "python3"
    },
    "language_info": {
      "codemirror_mode": {
        "name": "ipython",
        "version": 3
      },
      "file_extension": ".py",
      "mimetype": "text/x-python",
      "name": "python",
      "nbconvert_exporter": "python",
      "pygments_lexer": "ipython3",
      "version": "3.13.5"
    },
    "colab": {
      "provenance": [],
      "include_colab_link": true
    }
  },
  "nbformat": 4,
  "nbformat_minor": 5
}