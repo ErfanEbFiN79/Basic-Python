{
  "cells": [
    {
      "cell_type": "markdown",
      "metadata": {
        "id": "view-in-github",
        "colab_type": "text"
      },
      "source": [
        "<a href=\"https://colab.research.google.com/github/ErfanEbFiN79/Erfan-Python/blob/main/Python%20Erfan/PyTotch/Colab/00_pytorch_fundamentals.ipynb\" target=\"_parent\"><img src=\"https://colab.research.google.com/assets/colab-badge.svg\" alt=\"Open In Colab\"/></a>"
      ]
    },
    {
      "cell_type": "code",
      "execution_count": 1,
      "id": "e0d2832c-af09-4dde-8920-0fbaaeb65815",
      "metadata": {
        "colab": {
          "base_uri": "https://localhost:8080/"
        },
        "id": "e0d2832c-af09-4dde-8920-0fbaaeb65815",
        "outputId": "2a2680ad-40bd-4c8b-9f83-097434c67152"
      },
      "outputs": [
        {
          "output_type": "stream",
          "name": "stdout",
          "text": [
            "/bin/bash: line 1: nvidia-smi: command not found\n"
          ]
        }
      ],
      "source": [
        "!nvidia-smi"
      ]
    },
    {
      "cell_type": "code",
      "execution_count": 2,
      "id": "01b61bed-02a3-44dc-a694-eb387c0f1803",
      "metadata": {
        "id": "01b61bed-02a3-44dc-a694-eb387c0f1803"
      },
      "outputs": [],
      "source": [
        "import torch"
      ]
    },
    {
      "cell_type": "code",
      "source": [
        "print(torch.__version__)"
      ],
      "metadata": {
        "colab": {
          "base_uri": "https://localhost:8080/"
        },
        "id": "gHjiM7_y4uD4",
        "outputId": "e0132842-bc47-4591-e16e-683b5eff16fe"
      },
      "id": "gHjiM7_y4uD4",
      "execution_count": 3,
      "outputs": [
        {
          "output_type": "stream",
          "name": "stdout",
          "text": [
            "2.6.0+cu124\n"
          ]
        }
      ]
    },
    {
      "cell_type": "markdown",
      "source": [],
      "metadata": {
        "id": "1L1ayKTs5l1y"
      },
      "id": "1L1ayKTs5l1y"
    },
    {
      "cell_type": "markdown",
      "source": [
        "## Introduction to Tensors\n",
        "Creating Tensors"
      ],
      "metadata": {
        "id": "kFg7ZKXY5nau"
      },
      "id": "kFg7ZKXY5nau"
    },
    {
      "cell_type": "markdown",
      "source": [
        "Scalers are linear (or more precisely affine) transformers and differ from each other in the way they estimate the parameters used to shift and scale each feature. QuantileTransformer provides non-linear transformations in which distances between marginal outliers and inliers are shrunk."
      ],
      "metadata": {
        "id": "V8Uu4UEx6t1e"
      },
      "id": "V8Uu4UEx6t1e"
    },
    {
      "cell_type": "markdown",
      "source": [
        "PyTorch tensors are created usin torch.Tensor()"
      ],
      "metadata": {
        "id": "5MBXySiz69pX"
      },
      "id": "5MBXySiz69pX"
    },
    {
      "cell_type": "code",
      "source": [
        "# scalar\n",
        "scalar = torch.tensor(7)\n",
        "scalar"
      ],
      "metadata": {
        "colab": {
          "base_uri": "https://localhost:8080/"
        },
        "id": "hODJcyau420U",
        "outputId": "5cfa9f9b-a369-4006-8ee1-56fd356c0686"
      },
      "id": "hODJcyau420U",
      "execution_count": 4,
      "outputs": [
        {
          "output_type": "execute_result",
          "data": {
            "text/plain": [
              "tensor(7)"
            ]
          },
          "metadata": {},
          "execution_count": 4
        }
      ]
    },
    {
      "cell_type": "code",
      "source": [
        "scalar.ndim"
      ],
      "metadata": {
        "colab": {
          "base_uri": "https://localhost:8080/"
        },
        "id": "lwAebDZ_7NSz",
        "outputId": "38298607-ae59-42d7-c26c-8e3bb91b43ed"
      },
      "id": "lwAebDZ_7NSz",
      "execution_count": 5,
      "outputs": [
        {
          "output_type": "execute_result",
          "data": {
            "text/plain": [
              "0"
            ]
          },
          "metadata": {},
          "execution_count": 5
        }
      ]
    },
    {
      "cell_type": "code",
      "source": [
        "# Get tensor back as python int\n",
        "scalar.item()"
      ],
      "metadata": {
        "colab": {
          "base_uri": "https://localhost:8080/"
        },
        "id": "GzKIFJFB7fl-",
        "outputId": "f799ea30-e455-45cf-8d70-00288c236474"
      },
      "id": "GzKIFJFB7fl-",
      "execution_count": 6,
      "outputs": [
        {
          "output_type": "execute_result",
          "data": {
            "text/plain": [
              "7"
            ]
          },
          "metadata": {},
          "execution_count": 6
        }
      ]
    },
    {
      "cell_type": "code",
      "source": [
        "# Vector\n",
        "vector = torch.tensor([7,7])\n",
        "vector"
      ],
      "metadata": {
        "colab": {
          "base_uri": "https://localhost:8080/"
        },
        "id": "oO2ZYl537qgM",
        "outputId": "5576282b-6eac-476c-c28c-25c6c7f8d1fb"
      },
      "id": "oO2ZYl537qgM",
      "execution_count": 7,
      "outputs": [
        {
          "output_type": "execute_result",
          "data": {
            "text/plain": [
              "tensor([7, 7])"
            ]
          },
          "metadata": {},
          "execution_count": 7
        }
      ]
    },
    {
      "cell_type": "code",
      "source": [
        "vector.ndim"
      ],
      "metadata": {
        "colab": {
          "base_uri": "https://localhost:8080/"
        },
        "id": "EYz4tMjB8Wmp",
        "outputId": "ef91c5a8-a1db-4fbc-a6ee-f8d5940e2e5c"
      },
      "id": "EYz4tMjB8Wmp",
      "execution_count": 8,
      "outputs": [
        {
          "output_type": "execute_result",
          "data": {
            "text/plain": [
              "1"
            ]
          },
          "metadata": {},
          "execution_count": 8
        }
      ]
    },
    {
      "cell_type": "code",
      "source": [
        "vector.shape"
      ],
      "metadata": {
        "colab": {
          "base_uri": "https://localhost:8080/"
        },
        "id": "UqX-wneq8e_L",
        "outputId": "83f08c6c-c141-493d-dd82-6154284ec15b"
      },
      "id": "UqX-wneq8e_L",
      "execution_count": 9,
      "outputs": [
        {
          "output_type": "execute_result",
          "data": {
            "text/plain": [
              "torch.Size([2])"
            ]
          },
          "metadata": {},
          "execution_count": 9
        }
      ]
    },
    {
      "cell_type": "code",
      "source": [
        "# Matrix\n",
        "Matrix = torch.tensor([[7,8],[9,10]])\n",
        "Matrix"
      ],
      "metadata": {
        "colab": {
          "base_uri": "https://localhost:8080/"
        },
        "id": "sVK4yArg8oH5",
        "outputId": "eaac0866-bf3e-4147-bb25-7decb56f1f01"
      },
      "id": "sVK4yArg8oH5",
      "execution_count": 10,
      "outputs": [
        {
          "output_type": "execute_result",
          "data": {
            "text/plain": [
              "tensor([[ 7,  8],\n",
              "        [ 9, 10]])"
            ]
          },
          "metadata": {},
          "execution_count": 10
        }
      ]
    },
    {
      "cell_type": "code",
      "source": [
        "Matrix.ndim"
      ],
      "metadata": {
        "colab": {
          "base_uri": "https://localhost:8080/"
        },
        "id": "_Gcrzxdj84Kn",
        "outputId": "fffaf645-1526-4ff7-b728-4740432f781e"
      },
      "id": "_Gcrzxdj84Kn",
      "execution_count": 11,
      "outputs": [
        {
          "output_type": "execute_result",
          "data": {
            "text/plain": [
              "2"
            ]
          },
          "metadata": {},
          "execution_count": 11
        }
      ]
    },
    {
      "cell_type": "code",
      "source": [
        "Matrix.size()"
      ],
      "metadata": {
        "colab": {
          "base_uri": "https://localhost:8080/"
        },
        "id": "ZJ9U3M0887oi",
        "outputId": "348fec9e-3284-4f73-fa81-971a3d6f6fca"
      },
      "id": "ZJ9U3M0887oi",
      "execution_count": 12,
      "outputs": [
        {
          "output_type": "execute_result",
          "data": {
            "text/plain": [
              "torch.Size([2, 2])"
            ]
          },
          "metadata": {},
          "execution_count": 12
        }
      ]
    },
    {
      "cell_type": "code",
      "source": [
        "Matrix.shape"
      ],
      "metadata": {
        "colab": {
          "base_uri": "https://localhost:8080/"
        },
        "id": "L67ewcpZ8_t4",
        "outputId": "28edf78d-ec24-4b72-9922-56041fea63ae"
      },
      "id": "L67ewcpZ8_t4",
      "execution_count": 13,
      "outputs": [
        {
          "output_type": "execute_result",
          "data": {
            "text/plain": [
              "torch.Size([2, 2])"
            ]
          },
          "metadata": {},
          "execution_count": 13
        }
      ]
    },
    {
      "cell_type": "code",
      "source": [
        "type(Matrix)"
      ],
      "metadata": {
        "colab": {
          "base_uri": "https://localhost:8080/"
        },
        "id": "4auLOrkv9DWN",
        "outputId": "f49e52ad-6b1f-4d09-ee85-1b851c3215a8"
      },
      "id": "4auLOrkv9DWN",
      "execution_count": 14,
      "outputs": [
        {
          "output_type": "execute_result",
          "data": {
            "text/plain": [
              "torch.Tensor"
            ]
          },
          "metadata": {},
          "execution_count": 14
        }
      ]
    },
    {
      "cell_type": "code",
      "source": [
        "Matrix"
      ],
      "metadata": {
        "colab": {
          "base_uri": "https://localhost:8080/"
        },
        "id": "sLv_qXW29QjJ",
        "outputId": "e7f6a0a7-af43-4c7e-cae1-4333af6ffef5"
      },
      "id": "sLv_qXW29QjJ",
      "execution_count": 15,
      "outputs": [
        {
          "output_type": "execute_result",
          "data": {
            "text/plain": [
              "tensor([[ 7,  8],\n",
              "        [ 9, 10]])"
            ]
          },
          "metadata": {},
          "execution_count": 15
        }
      ]
    },
    {
      "cell_type": "code",
      "source": [
        "Matrix[0]"
      ],
      "metadata": {
        "colab": {
          "base_uri": "https://localhost:8080/"
        },
        "id": "Vj7Q8jRY9UvD",
        "outputId": "0d9bd14d-7040-40fa-c3ce-32c4207d7e8a"
      },
      "id": "Vj7Q8jRY9UvD",
      "execution_count": 16,
      "outputs": [
        {
          "output_type": "execute_result",
          "data": {
            "text/plain": [
              "tensor([7, 8])"
            ]
          },
          "metadata": {},
          "execution_count": 16
        }
      ]
    },
    {
      "cell_type": "code",
      "source": [
        "Matrix[1]"
      ],
      "metadata": {
        "colab": {
          "base_uri": "https://localhost:8080/"
        },
        "id": "6pzPHicI9XBo",
        "outputId": "7101a667-4762-44fa-98d1-ff80b29d20d3"
      },
      "id": "6pzPHicI9XBo",
      "execution_count": 17,
      "outputs": [
        {
          "output_type": "execute_result",
          "data": {
            "text/plain": [
              "tensor([ 9, 10])"
            ]
          },
          "metadata": {},
          "execution_count": 17
        }
      ]
    },
    {
      "cell_type": "code",
      "source": [
        "# TENSOR\n",
        "\n",
        "TENSOR = torch.tensor([[[1,2,3],\n",
        "                        [3,6,9],\n",
        "                        [2,4,5]]])\n",
        "TENSOR"
      ],
      "metadata": {
        "colab": {
          "base_uri": "https://localhost:8080/"
        },
        "id": "CydECr5N9lXL",
        "outputId": "d82f5134-1fba-4447-ec46-35c40d7203f0"
      },
      "id": "CydECr5N9lXL",
      "execution_count": 18,
      "outputs": [
        {
          "output_type": "execute_result",
          "data": {
            "text/plain": [
              "tensor([[[1, 2, 3],\n",
              "         [3, 6, 9],\n",
              "         [2, 4, 5]]])"
            ]
          },
          "metadata": {},
          "execution_count": 18
        }
      ]
    },
    {
      "cell_type": "code",
      "source": [
        "TENSOR.ndim"
      ],
      "metadata": {
        "colab": {
          "base_uri": "https://localhost:8080/"
        },
        "id": "q7xsnpLU9Y1a",
        "outputId": "45b3585a-56c7-41c9-ae20-de6a5fb10ece"
      },
      "id": "q7xsnpLU9Y1a",
      "execution_count": 19,
      "outputs": [
        {
          "output_type": "execute_result",
          "data": {
            "text/plain": [
              "3"
            ]
          },
          "metadata": {},
          "execution_count": 19
        }
      ]
    },
    {
      "cell_type": "code",
      "source": [
        "TENSOR.shape"
      ],
      "metadata": {
        "colab": {
          "base_uri": "https://localhost:8080/"
        },
        "id": "ezwGdKuU9-AT",
        "outputId": "d593265b-bfd2-44e5-8a86-cc71cccf2450"
      },
      "id": "ezwGdKuU9-AT",
      "execution_count": 20,
      "outputs": [
        {
          "output_type": "execute_result",
          "data": {
            "text/plain": [
              "torch.Size([1, 3, 3])"
            ]
          },
          "metadata": {},
          "execution_count": 20
        }
      ]
    },
    {
      "cell_type": "code",
      "source": [
        "TENSOR[0]"
      ],
      "metadata": {
        "colab": {
          "base_uri": "https://localhost:8080/"
        },
        "id": "zpUUp9Qw-AEh",
        "outputId": "91407fd5-042c-4374-ad2d-a32a32c2bdfe"
      },
      "id": "zpUUp9Qw-AEh",
      "execution_count": 21,
      "outputs": [
        {
          "output_type": "execute_result",
          "data": {
            "text/plain": [
              "tensor([[1, 2, 3],\n",
              "        [3, 6, 9],\n",
              "        [2, 4, 5]])"
            ]
          },
          "metadata": {},
          "execution_count": 21
        }
      ]
    },
    {
      "cell_type": "code",
      "source": [
        "TENSOR[0][0]"
      ],
      "metadata": {
        "colab": {
          "base_uri": "https://localhost:8080/"
        },
        "id": "2p5BSZZE-KEz",
        "outputId": "01b76cba-2299-4e44-d65f-d7c794b2b97c"
      },
      "id": "2p5BSZZE-KEz",
      "execution_count": 22,
      "outputs": [
        {
          "output_type": "execute_result",
          "data": {
            "text/plain": [
              "tensor([1, 2, 3])"
            ]
          },
          "metadata": {},
          "execution_count": 22
        }
      ]
    },
    {
      "cell_type": "code",
      "source": [
        "TENSOR[0][2]"
      ],
      "metadata": {
        "colab": {
          "base_uri": "https://localhost:8080/"
        },
        "id": "M3urRfqF-U1K",
        "outputId": "83e0ac44-5edf-4b32-83de-df77aa86c79e"
      },
      "id": "M3urRfqF-U1K",
      "execution_count": 23,
      "outputs": [
        {
          "output_type": "execute_result",
          "data": {
            "text/plain": [
              "tensor([2, 4, 5])"
            ]
          },
          "metadata": {},
          "execution_count": 23
        }
      ]
    },
    {
      "cell_type": "code",
      "source": [
        "TENSOR[0][1][1]"
      ],
      "metadata": {
        "colab": {
          "base_uri": "https://localhost:8080/"
        },
        "id": "68-3uWPS-Mmx",
        "outputId": "2332c960-4b74-4c56-c2c8-8fc6899da1cf"
      },
      "id": "68-3uWPS-Mmx",
      "execution_count": 24,
      "outputs": [
        {
          "output_type": "execute_result",
          "data": {
            "text/plain": [
              "tensor(6)"
            ]
          },
          "metadata": {},
          "execution_count": 24
        }
      ]
    },
    {
      "cell_type": "markdown",
      "source": [],
      "metadata": {
        "id": "blE6H_6px-Bm"
      },
      "id": "blE6H_6px-Bm"
    },
    {
      "cell_type": "code",
      "source": [
        "MyTensorTest = torch.tensor([[[1,2,3],\n",
        "                              [4,5,6],\n",
        "                              [7,8,9]],\n",
        "                             [[10,12,13],\n",
        "                              [14,16,17],\n",
        "                              [18,19,20]]])"
      ],
      "metadata": {
        "id": "Fz9SQGmM-Yjy"
      },
      "id": "Fz9SQGmM-Yjy",
      "execution_count": 25,
      "outputs": []
    },
    {
      "cell_type": "code",
      "source": [
        "MyTensorTest.shape"
      ],
      "metadata": {
        "colab": {
          "base_uri": "https://localhost:8080/"
        },
        "id": "AXgBIa3xxJTD",
        "outputId": "92d17a7e-c23d-4f45-c418-f4717004db15"
      },
      "id": "AXgBIa3xxJTD",
      "execution_count": 26,
      "outputs": [
        {
          "output_type": "execute_result",
          "data": {
            "text/plain": [
              "torch.Size([2, 3, 3])"
            ]
          },
          "metadata": {},
          "execution_count": 26
        }
      ]
    },
    {
      "cell_type": "code",
      "source": [
        "MyTensorTest.ndim"
      ],
      "metadata": {
        "colab": {
          "base_uri": "https://localhost:8080/"
        },
        "id": "_23KPuFKxNZn",
        "outputId": "276dd4ff-49bd-404f-e2c0-4887ea4cb333"
      },
      "id": "_23KPuFKxNZn",
      "execution_count": 27,
      "outputs": [
        {
          "output_type": "execute_result",
          "data": {
            "text/plain": [
              "3"
            ]
          },
          "metadata": {},
          "execution_count": 27
        }
      ]
    },
    {
      "cell_type": "code",
      "source": [
        "MyTensorTest[0]"
      ],
      "metadata": {
        "colab": {
          "base_uri": "https://localhost:8080/"
        },
        "id": "4QxPaLiGxVIn",
        "outputId": "1f792488-5c0a-4921-d3c4-9f41471f0fe0"
      },
      "id": "4QxPaLiGxVIn",
      "execution_count": 28,
      "outputs": [
        {
          "output_type": "execute_result",
          "data": {
            "text/plain": [
              "tensor([[1, 2, 3],\n",
              "        [4, 5, 6],\n",
              "        [7, 8, 9]])"
            ]
          },
          "metadata": {},
          "execution_count": 28
        }
      ]
    },
    {
      "cell_type": "code",
      "source": [
        "MyTensorTest[1]"
      ],
      "metadata": {
        "colab": {
          "base_uri": "https://localhost:8080/"
        },
        "id": "enQj3LrQxguR",
        "outputId": "09d9737d-0366-4bd2-a799-216b1d97ae6c"
      },
      "id": "enQj3LrQxguR",
      "execution_count": 29,
      "outputs": [
        {
          "output_type": "execute_result",
          "data": {
            "text/plain": [
              "tensor([[10, 12, 13],\n",
              "        [14, 16, 17],\n",
              "        [18, 19, 20]])"
            ]
          },
          "metadata": {},
          "execution_count": 29
        }
      ]
    },
    {
      "cell_type": "code",
      "source": [
        "# if we want to get a 16 from the Tesnor\n",
        "MyTensorTest[1][1][1]"
      ],
      "metadata": {
        "colab": {
          "base_uri": "https://localhost:8080/"
        },
        "id": "Rip8C1ZAxjiT",
        "outputId": "6ab132d1-75fe-463b-ac5f-ed5e5f4f6990"
      },
      "id": "Rip8C1ZAxjiT",
      "execution_count": 30,
      "outputs": [
        {
          "output_type": "execute_result",
          "data": {
            "text/plain": [
              "tensor(16)"
            ]
          },
          "metadata": {},
          "execution_count": 30
        }
      ]
    },
    {
      "cell_type": "markdown",
      "source": [
        "### Random Tensor\n",
        "\n",
        "We've established tensors represent some form of data.\n",
        "\n",
        "And machine learning models such as neural networks manipulate and seek patterns within tensors.\n",
        "\n",
        "But when building machine learning models with PyTorch, it's rare you'll create tensors by hand (like what we've been doing).\n",
        "\n",
        "Instead, a machine learning model often starts out with large random tensors of numbers and adjusts these random numbers as it works through data to better represent it.\n",
        "\n",
        "In essence:\n",
        "\n",
        "'Start with random numbers -> look at data -> update random numbers -> look at data -> update random numbers...'\n",
        "\n",
        "As a data scientist, you can define how the machine learning model starts (initialization), looks at data (representation) and updates (optimization) its random numbers.\n",
        "\n",
        "rand duc => https://docs.pytorch.org/docs/stable/generated/torch.rand.html"
      ],
      "metadata": {
        "id": "gnh_EWfgxwED"
      },
      "id": "gnh_EWfgxwED"
    },
    {
      "cell_type": "code",
      "source": [
        "rand_tensor_1 = torch.rand(3)\n",
        "rand_tensor_2 = torch.rand(3,4)\n",
        "rand_tensor_3 = torch.rand(2,3,8)\n",
        "print(f\"{rand_tensor_1} has {rand_tensor_1.ndim} dimentions and the shape is {rand_tensor_1.shape} and type is {rand_tensor_1.dtype}\\n\")\n",
        "print(f\"{rand_tensor_2} has {rand_tensor_2.ndim} dimentions and the shape is {rand_tensor_2.shape} and type is {rand_tensor_2.dtype}\\n\")\n",
        "print(f\"{rand_tensor_3} has {rand_tensor_3.ndim} dimentions and the shape is {rand_tensor_3.shape} and type is {rand_tensor_3.dtype}\\n\")"
      ],
      "metadata": {
        "colab": {
          "base_uri": "https://localhost:8080/"
        },
        "id": "QMwKWqssyro7",
        "outputId": "a3a306be-3428-4cd2-91a7-cbd9a6c7427d"
      },
      "id": "QMwKWqssyro7",
      "execution_count": 31,
      "outputs": [
        {
          "output_type": "stream",
          "name": "stdout",
          "text": [
            "tensor([0.1416, 0.1999, 0.0556]) has 1 dimentions and the shape is torch.Size([3]) and type is torch.float32\n",
            "\n",
            "tensor([[0.5553, 0.1883, 0.5874, 0.3375],\n",
            "        [0.2072, 0.3956, 0.9113, 0.1568],\n",
            "        [0.9827, 0.2310, 0.2524, 0.7206]]) has 2 dimentions and the shape is torch.Size([3, 4]) and type is torch.float32\n",
            "\n",
            "tensor([[[0.3461, 0.7794, 0.8542, 0.8279, 0.9265, 0.1675, 0.6975, 0.7242],\n",
            "         [0.9871, 0.9465, 0.7151, 0.7660, 0.3175, 0.1344, 0.3575, 0.1532],\n",
            "         [0.0273, 0.4528, 0.6142, 0.4833, 0.6033, 0.3016, 0.4165, 0.5211]],\n",
            "\n",
            "        [[0.6229, 0.7564, 0.5142, 0.2642, 0.8933, 0.9003, 0.8316, 0.3161],\n",
            "         [0.4479, 0.0799, 0.8251, 0.7249, 0.6341, 0.3437, 0.6027, 0.6507],\n",
            "         [0.6042, 0.5781, 0.1404, 0.9023, 0.5049, 0.7760, 0.5254, 0.6163]]]) has 3 dimentions and the shape is torch.Size([2, 3, 8]) and type is torch.float32\n",
            "\n"
          ]
        }
      ]
    },
    {
      "cell_type": "markdown",
      "source": [
        "The flexibility of torch.rand() is that we can adjust the size to be whatever we want.\n",
        "\n",
        "For example, say you wanted a random tensor in the common image shape of [224, 224, 3] ([height, width, color_channels])."
      ],
      "metadata": {
        "id": "xYh22AnX3C4M"
      },
      "id": "xYh22AnX3C4M"
    },
    {
      "cell_type": "code",
      "source": [
        "random_image_tensor = torch.rand(size=(3,224,224))\n",
        "print(f\"Dimention = {random_image_tensor.ndim} and shape is {random_image_tensor.shape} => \\n{random_image_tensor }\")"
      ],
      "metadata": {
        "colab": {
          "base_uri": "https://localhost:8080/"
        },
        "id": "kh5nEbBI3Hlw",
        "outputId": "5b4f51e0-830f-4027-e792-c038d5491f22"
      },
      "id": "kh5nEbBI3Hlw",
      "execution_count": 32,
      "outputs": [
        {
          "output_type": "stream",
          "name": "stdout",
          "text": [
            "Dimention = 3 and shape is torch.Size([3, 224, 224]) => \n",
            "tensor([[[0.8630, 0.8325, 0.5401,  ..., 0.5614, 0.1775, 0.7461],\n",
            "         [0.4966, 0.8793, 0.1047,  ..., 0.5966, 0.7866, 0.4151],\n",
            "         [0.0995, 0.9312, 0.4016,  ..., 0.7255, 0.1142, 0.0814],\n",
            "         ...,\n",
            "         [0.4448, 0.1169, 0.6102,  ..., 0.4166, 0.9260, 0.2347],\n",
            "         [0.2704, 0.6370, 0.2917,  ..., 0.8341, 0.7241, 0.5650],\n",
            "         [0.0379, 0.0538, 0.3660,  ..., 0.5045, 0.5765, 0.5024]],\n",
            "\n",
            "        [[0.2965, 0.6715, 0.3184,  ..., 0.1927, 0.9664, 0.3425],\n",
            "         [0.8958, 0.5080, 0.0863,  ..., 0.8689, 0.3901, 0.2970],\n",
            "         [0.3177, 0.9912, 0.2584,  ..., 0.9646, 0.3184, 0.8003],\n",
            "         ...,\n",
            "         [0.9149, 0.8596, 0.5040,  ..., 0.6252, 0.5312, 0.6218],\n",
            "         [0.5201, 0.2703, 0.0989,  ..., 0.4669, 0.4618, 0.4577],\n",
            "         [0.5255, 0.8317, 0.6684,  ..., 0.3737, 0.9850, 0.8100]],\n",
            "\n",
            "        [[0.7703, 0.5979, 0.4704,  ..., 0.3208, 0.3500, 0.4692],\n",
            "         [0.8870, 0.8879, 0.7030,  ..., 0.8563, 0.0948, 0.8055],\n",
            "         [0.5771, 0.5102, 0.0936,  ..., 0.4099, 0.9659, 0.7638],\n",
            "         ...,\n",
            "         [0.9245, 0.2165, 0.5503,  ..., 0.1644, 0.0170, 0.6277],\n",
            "         [0.8352, 0.5381, 0.5799,  ..., 0.0662, 0.7734, 0.9691],\n",
            "         [0.4421, 0.6994, 0.5601,  ..., 0.3232, 0.8838, 0.2673]]])\n"
          ]
        }
      ]
    },
    {
      "cell_type": "markdown",
      "source": [],
      "metadata": {
        "id": "vzmTu-Brxy0G"
      },
      "id": "vzmTu-Brxy0G"
    },
    {
      "cell_type": "code",
      "source": [
        "# HandWriting at 16 * 16 black and white\n",
        "# black < 0.5 / white >= 0\n",
        "rand_handwriting_00 = torch.rand(2,16,16)\n",
        "rand_handwriting_00"
      ],
      "metadata": {
        "colab": {
          "base_uri": "https://localhost:8080/"
        },
        "id": "tsf5uXhR5NR9",
        "outputId": "91cab8b1-b91e-453b-f7db-574724c9763f"
      },
      "id": "tsf5uXhR5NR9",
      "execution_count": 33,
      "outputs": [
        {
          "output_type": "execute_result",
          "data": {
            "text/plain": [
              "tensor([[[2.3931e-01, 6.5180e-01, 5.9107e-01, 5.3736e-01, 8.6490e-01,\n",
              "          2.6230e-01, 2.0640e-02, 1.4197e-02, 1.5894e-01, 4.9207e-01,\n",
              "          6.5761e-01, 7.5063e-01, 3.1827e-01, 5.6172e-01, 3.1010e-01,\n",
              "          5.0269e-01],\n",
              "         [5.8204e-01, 3.6173e-01, 6.4052e-01, 5.2932e-01, 4.4515e-02,\n",
              "          9.2546e-01, 4.8865e-01, 3.2773e-01, 2.5992e-01, 3.3321e-01,\n",
              "          9.4548e-01, 4.2625e-01, 5.9557e-01, 4.9490e-01, 5.0715e-02,\n",
              "          5.2473e-01],\n",
              "         [7.6700e-01, 7.3999e-01, 4.2391e-01, 7.4543e-01, 8.8175e-01,\n",
              "          8.6486e-01, 8.9935e-02, 1.1914e-01, 8.1706e-02, 7.1999e-02,\n",
              "          8.1775e-01, 3.7003e-01, 4.7605e-01, 3.4094e-01, 2.7232e-01,\n",
              "          4.1604e-01],\n",
              "         [9.9128e-01, 5.7384e-01, 3.0104e-01, 8.8410e-01, 9.3997e-01,\n",
              "          8.6855e-01, 6.8031e-02, 9.5531e-01, 6.7632e-02, 6.9912e-01,\n",
              "          6.4713e-01, 7.2396e-01, 5.5776e-02, 2.2935e-02, 2.4009e-01,\n",
              "          4.1746e-01],\n",
              "         [4.4958e-01, 5.3101e-01, 3.8882e-01, 3.6872e-02, 6.7598e-01,\n",
              "          3.2952e-01, 9.7932e-01, 9.4298e-03, 8.6995e-01, 7.0384e-01,\n",
              "          7.5071e-01, 4.2778e-01, 8.7626e-01, 7.2202e-01, 4.5969e-01,\n",
              "          4.5924e-02],\n",
              "         [9.0436e-01, 3.2134e-01, 4.3208e-02, 9.9299e-01, 8.0270e-01,\n",
              "          7.1451e-01, 1.5906e-02, 9.4780e-01, 1.9654e-02, 6.3883e-01,\n",
              "          1.7979e-01, 4.7399e-02, 9.3673e-01, 1.9180e-01, 1.9828e-01,\n",
              "          3.7858e-01],\n",
              "         [2.9642e-01, 3.4921e-01, 3.3097e-01, 3.6665e-01, 5.8319e-02,\n",
              "          2.5090e-01, 3.4181e-01, 1.8608e-02, 7.2558e-01, 1.3010e-01,\n",
              "          2.4934e-01, 1.0078e-01, 1.6608e-01, 6.7951e-01, 3.6286e-01,\n",
              "          9.3396e-01],\n",
              "         [8.2622e-01, 6.4361e-02, 2.3719e-01, 8.5980e-02, 2.5433e-02,\n",
              "          7.5826e-01, 5.3360e-01, 1.1932e-01, 4.4488e-03, 4.3839e-01,\n",
              "          4.9219e-01, 5.2758e-01, 6.7790e-01, 4.2694e-01, 5.0810e-01,\n",
              "          8.8884e-01],\n",
              "         [9.6167e-01, 8.9071e-01, 3.3857e-01, 6.1526e-01, 1.2991e-01,\n",
              "          7.5291e-01, 2.6829e-01, 2.0232e-01, 8.2070e-01, 9.2688e-01,\n",
              "          5.5423e-01, 8.9645e-01, 4.0248e-02, 7.8528e-01, 3.8100e-01,\n",
              "          4.9998e-01],\n",
              "         [9.7584e-01, 4.4742e-01, 8.4624e-01, 1.8097e-01, 9.5637e-01,\n",
              "          6.4484e-01, 2.2150e-01, 9.3216e-03, 9.5450e-01, 3.7191e-01,\n",
              "          6.6738e-01, 4.9178e-01, 5.1899e-01, 8.2273e-01, 8.2546e-01,\n",
              "          8.1767e-01],\n",
              "         [5.8105e-01, 5.6209e-01, 3.5796e-01, 8.4455e-01, 9.0849e-02,\n",
              "          1.3612e-01, 6.9887e-01, 6.0935e-01, 8.0123e-01, 4.5829e-02,\n",
              "          9.3502e-01, 9.3088e-01, 2.3104e-01, 1.3799e-01, 9.1596e-02,\n",
              "          4.8895e-01],\n",
              "         [3.8775e-03, 8.9572e-01, 6.4997e-01, 2.8163e-01, 6.1663e-01,\n",
              "          1.4670e-01, 3.2102e-01, 9.4385e-01, 7.5028e-01, 4.4703e-01,\n",
              "          4.6782e-01, 4.0133e-01, 6.6157e-01, 8.4202e-02, 4.1774e-02,\n",
              "          8.0373e-01],\n",
              "         [3.5852e-01, 7.7442e-01, 6.0185e-01, 9.5791e-01, 7.8574e-01,\n",
              "          7.9765e-01, 4.0026e-01, 5.8109e-01, 5.3978e-01, 8.7793e-01,\n",
              "          1.2041e-01, 9.5025e-01, 2.5473e-01, 7.1464e-01, 8.0064e-01,\n",
              "          5.4201e-01],\n",
              "         [9.4109e-01, 9.8011e-01, 6.8808e-02, 8.9766e-01, 1.7625e-01,\n",
              "          7.8662e-01, 7.7588e-01, 8.8572e-01, 1.1705e-01, 3.0566e-01,\n",
              "          6.6292e-01, 9.6795e-01, 6.7038e-01, 3.8005e-01, 8.1082e-01,\n",
              "          8.7681e-01],\n",
              "         [3.5533e-02, 2.8015e-01, 7.5667e-02, 1.7197e-01, 8.8695e-01,\n",
              "          8.1481e-01, 7.5933e-01, 9.3703e-01, 1.9734e-01, 8.8579e-01,\n",
              "          2.5353e-01, 2.1887e-01, 7.7794e-01, 6.3468e-01, 3.7413e-01,\n",
              "          3.6461e-01],\n",
              "         [1.8760e-01, 7.1158e-02, 2.5123e-01, 4.2266e-01, 6.6388e-01,\n",
              "          4.2152e-01, 7.0510e-01, 9.4240e-01, 7.3877e-01, 1.3705e-02,\n",
              "          6.1816e-01, 7.7974e-01, 4.3772e-01, 7.5077e-01, 5.0602e-01,\n",
              "          2.6515e-02]],\n",
              "\n",
              "        [[6.8809e-01, 2.8284e-01, 1.2388e-01, 4.2443e-01, 8.4864e-01,\n",
              "          6.1841e-01, 6.3951e-01, 3.3746e-01, 5.2796e-01, 3.4562e-01,\n",
              "          4.3232e-01, 3.9346e-01, 6.0557e-01, 5.0610e-01, 8.3395e-02,\n",
              "          3.2720e-01],\n",
              "         [8.6022e-01, 5.6872e-01, 2.6601e-02, 7.6307e-01, 1.6532e-01,\n",
              "          4.9945e-01, 1.7590e-01, 6.2267e-01, 1.8442e-01, 2.4932e-01,\n",
              "          3.6622e-01, 1.9417e-01, 6.6209e-01, 2.1636e-02, 5.5702e-01,\n",
              "          7.8770e-01],\n",
              "         [5.9881e-01, 3.6019e-01, 9.0549e-01, 6.5593e-01, 1.5900e-02,\n",
              "          2.5953e-02, 1.0702e-01, 8.3549e-02, 6.5571e-01, 8.9783e-01,\n",
              "          5.2427e-02, 1.7338e-02, 2.1377e-01, 9.6236e-01, 9.6976e-01,\n",
              "          4.6072e-01],\n",
              "         [7.2009e-01, 9.8947e-01, 1.0752e-01, 4.9657e-01, 6.6300e-01,\n",
              "          8.8263e-02, 2.6872e-02, 2.3719e-01, 3.2073e-01, 2.4121e-01,\n",
              "          6.1537e-01, 5.8601e-01, 8.9897e-01, 6.3288e-01, 1.5922e-01,\n",
              "          8.0637e-01],\n",
              "         [4.5154e-01, 3.4972e-01, 4.5253e-02, 9.0117e-01, 1.8534e-01,\n",
              "          3.5970e-02, 2.1390e-01, 2.2962e-02, 3.0515e-01, 6.1339e-04,\n",
              "          8.0839e-01, 6.8007e-01, 1.9176e-01, 4.6427e-01, 6.7281e-01,\n",
              "          2.1196e-02],\n",
              "         [2.8994e-01, 8.2225e-01, 5.6022e-01, 5.6756e-01, 3.7994e-01,\n",
              "          8.8808e-02, 5.4009e-01, 4.8996e-01, 9.2185e-01, 5.8131e-01,\n",
              "          8.0822e-01, 4.9116e-01, 1.1313e-02, 2.8284e-01, 8.4495e-01,\n",
              "          9.4447e-01],\n",
              "         [6.7501e-01, 8.6743e-01, 3.7505e-01, 6.7854e-01, 9.0256e-01,\n",
              "          5.2278e-01, 5.5494e-01, 2.5855e-01, 5.4784e-01, 2.3334e-02,\n",
              "          8.2275e-01, 6.3453e-01, 7.1891e-01, 7.5670e-01, 2.9684e-01,\n",
              "          7.5371e-01],\n",
              "         [1.4289e-01, 8.1931e-01, 2.5647e-01, 6.4206e-01, 8.4018e-01,\n",
              "          7.9980e-01, 3.0469e-01, 1.7711e-01, 6.1943e-01, 8.2131e-01,\n",
              "          3.9851e-01, 8.5577e-02, 7.6082e-01, 9.3147e-01, 3.8697e-01,\n",
              "          5.6679e-02],\n",
              "         [1.0113e-02, 4.0033e-01, 6.1222e-01, 3.8817e-01, 5.2857e-01,\n",
              "          2.4869e-01, 6.0626e-01, 1.8928e-01, 1.0424e-01, 8.7015e-01,\n",
              "          5.0687e-02, 5.9957e-01, 5.3727e-01, 4.0328e-01, 6.0897e-03,\n",
              "          1.9184e-01],\n",
              "         [6.6422e-01, 2.9383e-01, 3.1077e-01, 7.1884e-01, 7.8759e-01,\n",
              "          4.7425e-01, 4.2544e-01, 4.8004e-02, 2.2396e-01, 6.1939e-01,\n",
              "          7.3510e-01, 9.1476e-01, 7.9627e-01, 9.3606e-01, 6.0178e-01,\n",
              "          5.4411e-01],\n",
              "         [4.4075e-01, 9.2208e-01, 6.8555e-01, 6.2820e-01, 6.4594e-01,\n",
              "          8.1605e-02, 9.8409e-01, 8.7884e-01, 4.5721e-01, 2.4802e-01,\n",
              "          5.0936e-01, 1.1444e-01, 6.6143e-01, 1.2870e-02, 9.4331e-02,\n",
              "          4.2658e-01],\n",
              "         [1.6233e-01, 4.7298e-01, 3.6706e-02, 4.6999e-01, 6.0868e-01,\n",
              "          1.4571e-01, 9.9926e-01, 1.1272e-01, 2.1923e-01, 6.8362e-01,\n",
              "          4.9861e-01, 8.9549e-01, 2.8093e-01, 8.4023e-01, 3.6852e-01,\n",
              "          5.9825e-01],\n",
              "         [9.4941e-01, 8.6524e-01, 7.9738e-01, 7.0581e-01, 8.2611e-01,\n",
              "          5.8460e-01, 1.9259e-01, 7.1750e-01, 9.9039e-01, 9.9403e-01,\n",
              "          2.8193e-01, 3.9897e-01, 2.9135e-01, 1.0907e-01, 8.2311e-02,\n",
              "          3.8925e-01],\n",
              "         [4.4884e-01, 1.6027e-01, 2.2259e-01, 3.9429e-01, 2.1840e-01,\n",
              "          6.5057e-01, 9.7823e-02, 7.1117e-03, 6.1191e-01, 1.2862e-01,\n",
              "          4.9753e-01, 6.9234e-01, 9.6537e-01, 6.4715e-01, 1.3314e-01,\n",
              "          9.6404e-01],\n",
              "         [8.3209e-01, 1.3128e-01, 4.1952e-01, 7.7695e-01, 8.2240e-01,\n",
              "          6.7513e-01, 7.1485e-01, 1.6509e-02, 8.5990e-01, 8.4723e-01,\n",
              "          9.1643e-02, 9.0632e-01, 5.6365e-01, 7.5605e-01, 4.1727e-01,\n",
              "          6.7464e-01],\n",
              "         [4.7288e-01, 1.5999e-01, 9.9343e-01, 9.6213e-01, 8.1140e-02,\n",
              "          8.4652e-01, 8.0393e-01, 9.8687e-01, 3.4763e-01, 5.6136e-01,\n",
              "          2.1840e-01, 4.9314e-01, 8.4705e-01, 6.6370e-01, 3.8132e-01,\n",
              "          5.0564e-01]]])"
            ]
          },
          "metadata": {},
          "execution_count": 33
        }
      ]
    },
    {
      "cell_type": "markdown",
      "source": [
        "## Zeros and ones\n",
        "\n",
        "Sometimes you'll just want to fill tensors with zeros or ones.\n",
        "\n",
        "This happens a lot with masking (like masking some of the values in one tensor with zeros to let a model know not to learn them)."
      ],
      "metadata": {
        "id": "hu--NKXzxB-c"
      },
      "id": "hu--NKXzxB-c"
    },
    {
      "cell_type": "code",
      "source": [
        "# Create a tensor of all zeros\n",
        "zeros = torch.zeros(size=(3,3))\n",
        "print(f\"Structure -> \\n{zeros}\\nType : {zeros.dtype}\")"
      ],
      "metadata": {
        "colab": {
          "base_uri": "https://localhost:8080/"
        },
        "id": "AiaTP1AcxDzo",
        "outputId": "cacdc1f3-1ce4-48d6-c93a-8bed0dd09a67"
      },
      "id": "AiaTP1AcxDzo",
      "execution_count": 34,
      "outputs": [
        {
          "output_type": "stream",
          "name": "stdout",
          "text": [
            "Structure -> \n",
            "tensor([[0., 0., 0.],\n",
            "        [0., 0., 0.],\n",
            "        [0., 0., 0.]])\n",
            "Type : torch.float32\n"
          ]
        }
      ]
    },
    {
      "cell_type": "code",
      "source": [
        "# Create a tensor of all one\n",
        "ones = torch.ones(size=(3,4))\n",
        "print(f\"Structure -> \\n{ones}\\nType : {ones.dtype}\")"
      ],
      "metadata": {
        "colab": {
          "base_uri": "https://localhost:8080/"
        },
        "id": "wnGfV3FZxWDF",
        "outputId": "da55224a-3171-4ec2-acdc-6c139e6fab26"
      },
      "id": "wnGfV3FZxWDF",
      "execution_count": 35,
      "outputs": [
        {
          "output_type": "stream",
          "name": "stdout",
          "text": [
            "Structure -> \n",
            "tensor([[1., 1., 1., 1.],\n",
            "        [1., 1., 1., 1.],\n",
            "        [1., 1., 1., 1.]])\n",
            "Type : torch.float32\n"
          ]
        }
      ]
    },
    {
      "cell_type": "markdown",
      "source": [
        "##Creating a range and tensors like\n",
        "Sometimes you might want a range of numbers, such as 1 to 10 or 0 to 100.\n",
        "\n",
        "You can use torch.arange(start, end, step) to do so.\n",
        "\n",
        "Where:\n",
        "\n",
        "* start = start of range (e.g. 0)\n",
        "* end = end of range (e.g. 10)\n",
        "* step = how many steps in between each value (e.g. 1)"
      ],
      "metadata": {
        "id": "0T-lHhNOz8FI"
      },
      "id": "0T-lHhNOz8FI"
    },
    {
      "cell_type": "code",
      "source": [
        "# 1 until 20 just odd\n",
        "Xodd = torch.arange(1,20,2)\n",
        "Xodd"
      ],
      "metadata": {
        "colab": {
          "base_uri": "https://localhost:8080/"
        },
        "id": "IFQlu2ISz-Vv",
        "outputId": "e8708ff6-785d-428c-bea9-06c8c460e928"
      },
      "id": "IFQlu2ISz-Vv",
      "execution_count": 36,
      "outputs": [
        {
          "output_type": "execute_result",
          "data": {
            "text/plain": [
              "tensor([ 1,  3,  5,  7,  9, 11, 13, 15, 17, 19])"
            ]
          },
          "metadata": {},
          "execution_count": 36
        }
      ]
    },
    {
      "cell_type": "code",
      "source": [
        "# 1 until 20 just even\n",
        "Xeven = torch.arange(2,21,2)\n",
        "Xeven"
      ],
      "metadata": {
        "colab": {
          "base_uri": "https://localhost:8080/"
        },
        "id": "0ct7iz2t0ZmK",
        "outputId": "e8748ded-11d7-4a8c-cccb-1da49d95103c"
      },
      "id": "0ct7iz2t0ZmK",
      "execution_count": 37,
      "outputs": [
        {
          "output_type": "execute_result",
          "data": {
            "text/plain": [
              "tensor([ 2,  4,  6,  8, 10, 12, 14, 16, 18, 20])"
            ]
          },
          "metadata": {},
          "execution_count": 37
        }
      ]
    },
    {
      "cell_type": "code",
      "source": [
        "XFive = torch.arange(0,51,5)\n",
        "XFive"
      ],
      "metadata": {
        "colab": {
          "base_uri": "https://localhost:8080/"
        },
        "id": "oPXqAboo0h3O",
        "outputId": "0216f1f7-5b91-4c2b-8956-55d37403f51a"
      },
      "id": "oPXqAboo0h3O",
      "execution_count": 38,
      "outputs": [
        {
          "output_type": "execute_result",
          "data": {
            "text/plain": [
              "tensor([ 0,  5, 10, 15, 20, 25, 30, 35, 40, 45, 50])"
            ]
          },
          "metadata": {},
          "execution_count": 38
        }
      ]
    },
    {
      "cell_type": "markdown",
      "source": [
        "\n",
        "Sometimes you might want one tensor of a certain type with the same shape as another tensor.\n",
        "\n",
        "For example, a tensor of all zeros with the same shape as a previous tensor.\n",
        "\n",
        "To do so you can use torch.zeros_like(input) or torch.ones_like(input) which return a tensor filled with zeros or ones in the same shape as the input respectively."
      ],
      "metadata": {
        "id": "EUBSVY0R068n"
      },
      "id": "EUBSVY0R068n"
    },
    {
      "cell_type": "code",
      "source": [
        "XFive.shape"
      ],
      "metadata": {
        "colab": {
          "base_uri": "https://localhost:8080/"
        },
        "id": "V6bG1IO107W3",
        "outputId": "01dbbce3-f7e6-41d6-8087-3636e7b8196d"
      },
      "id": "V6bG1IO107W3",
      "execution_count": 39,
      "outputs": [
        {
          "output_type": "execute_result",
          "data": {
            "text/plain": [
              "torch.Size([11])"
            ]
          },
          "metadata": {},
          "execution_count": 39
        }
      ]
    },
    {
      "cell_type": "code",
      "source": [
        "X_Shape_Copy1 = torch.zeros_like(input=XFive)\n",
        "X_Shape_Copy1, X_Shape_Copy1.shape, X_Shape_Copy1.dtype"
      ],
      "metadata": {
        "colab": {
          "base_uri": "https://localhost:8080/"
        },
        "id": "uDhg56My1DCj",
        "outputId": "2edfe831-0575-4edd-b6cc-43c4211a76fd"
      },
      "id": "uDhg56My1DCj",
      "execution_count": 40,
      "outputs": [
        {
          "output_type": "execute_result",
          "data": {
            "text/plain": [
              "(tensor([0, 0, 0, 0, 0, 0, 0, 0, 0, 0, 0]), torch.Size([11]), torch.int64)"
            ]
          },
          "metadata": {},
          "execution_count": 40
        }
      ]
    },
    {
      "cell_type": "code",
      "source": [
        "X_Shape_Copy2 = torch.ones_like(X_Shape_Copy1)\n",
        "X_Shape_Copy2, X_Shape_Copy2.shape, X_Shape_Copy2.dtype"
      ],
      "metadata": {
        "colab": {
          "base_uri": "https://localhost:8080/"
        },
        "id": "pqzUwxu61TCf",
        "outputId": "94f40376-0a84-4b01-81ce-f02cebe145a6"
      },
      "id": "pqzUwxu61TCf",
      "execution_count": 41,
      "outputs": [
        {
          "output_type": "execute_result",
          "data": {
            "text/plain": [
              "(tensor([1, 1, 1, 1, 1, 1, 1, 1, 1, 1, 1]), torch.Size([11]), torch.int64)"
            ]
          },
          "metadata": {},
          "execution_count": 41
        }
      ]
    },
    {
      "cell_type": "markdown",
      "source": [
        "\n",
        "##Tensor datatypes\n",
        "There are many different tensor datatypes available in PyTorch.\n",
        "link: https://docs.pytorch.org/docs/stable/tensors.html#data-types\n",
        "\n",
        "Some are specific for CPU and some are better for GPU.\n",
        "\n",
        "Getting to know which one can take some time.\n",
        "\n",
        "Generally if you see torch.cuda anywhere, the tensor is being used for GPU (since Nvidia GPUs use a computing toolkit called CUDA).\n",
        "\n",
        "The most common type (and generally the default) is torch.float32 or torch.float.\n",
        "\n",
        "This is referred to as \"32-bit floating point\".\n",
        "\n",
        "But there's also 16-bit floating point (torch.float16 or torch.half) and 64-bit floating point (torch.float64 or torch.double).\n",
        "\n",
        "And to confuse things even more there's also 8-bit, 16-bit, 32-bit and 64-bit integers.\n",
        "\n",
        "Plus more!\n",
        "\n",
        "Note: An integer is a flat round number like 7 whereas a float has a decimal 7.0.\n",
        "\n",
        "The reason for all of these is to do with precision in computing.\n",
        "\n",
        "Precision is the amount of detail used to describe a number.\n",
        "\n",
        "The higher the precision value (8, 16, 32), the more detail and hence data used to express a number.\n",
        "\n",
        "This matters in deep learning and numerical computing because you're making so many operations, the more detail you have to calculate on, the more compute you have to use.\n",
        "\n",
        "So lower precision datatypes are generally faster to compute on but sacrifice some performance on evaluation metrics like accuracy (faster to compute but less accurate).\n",
        "\n",
        "Resources:\n",
        "https://docs.pytorch.org/docs/stable/tensors.html#data-types\n",
        "\n",
        "https://en.wikipedia.org/wiki/Precision_(computer_science)\n",
        "\n",
        "See the PyTorch documentation for a list of all available tensor datatypes.\n",
        "Read the Wikipedia page for an overview of what precision in computing) is.\n",
        "Let's see how to create some tensors with specific datatypes. We can do so using the dtype paramete"
      ],
      "metadata": {
        "id": "PM6UhCBR63iG"
      },
      "id": "PM6UhCBR63iG"
    },
    {
      "cell_type": "code",
      "source": [
        "# Default datatype for tensors is float32\n",
        "float_32_tensor = torch.tensor([3.0, 6.0, 9.0],\n",
        "                               dtype=None, # defaults to None, which is torch.float32 or whatever datatype is passed\n",
        "                               device=None, # defaults to None, which uses the default tensor type\n",
        "                               requires_grad=False) # if True, operations performed on the tensor are recorded\n",
        "\n",
        "float_32_tensor.shape, float_32_tensor.dtype, float_32_tensor.device"
      ],
      "metadata": {
        "id": "T97AIxBM1j9_",
        "colab": {
          "base_uri": "https://localhost:8080/"
        },
        "outputId": "4b68fdce-fd92-4781-c841-b0903a4499a4"
      },
      "id": "T97AIxBM1j9_",
      "execution_count": 42,
      "outputs": [
        {
          "output_type": "execute_result",
          "data": {
            "text/plain": [
              "(torch.Size([3]), torch.float32, device(type='cpu'))"
            ]
          },
          "metadata": {},
          "execution_count": 42
        }
      ]
    },
    {
      "cell_type": "markdown",
      "source": [
        "\n",
        "Aside from shape issues (tensor shapes don't match up), two of the other most common issues you'll come across in PyTorch are datatype and device issues.\n",
        "\n",
        "For example, one of tensors is torch.float32 and the other is torch.float16 (PyTorch often likes tensors to be the same format).\n",
        "\n",
        "Or one of your tensors is on the CPU and the other is on the GPU (PyTorch likes calculations between tensors to be on the same device).\n",
        "\n",
        "We'll see more of this device talk later on.\n",
        "\n",
        "For now let's create a tensor with dtype=torch.float16."
      ],
      "metadata": {
        "id": "9sOrNlXa7p1e"
      },
      "id": "9sOrNlXa7p1e"
    },
    {
      "cell_type": "code",
      "source": [
        "float_32_tensor.dtype"
      ],
      "metadata": {
        "colab": {
          "base_uri": "https://localhost:8080/"
        },
        "id": "JlAUnesvmWl8",
        "outputId": "57fcd557-91ad-4c50-d02e-ca4af366d144"
      },
      "id": "JlAUnesvmWl8",
      "execution_count": 48,
      "outputs": [
        {
          "output_type": "execute_result",
          "data": {
            "text/plain": [
              "torch.float32"
            ]
          },
          "metadata": {},
          "execution_count": 48
        }
      ]
    },
    {
      "cell_type": "code",
      "source": [
        "float_16_tensor = torch.tensor([3.0, 6.0, 9.0],\n",
        "                               dtype=torch.float16) # torch.half would also work\n",
        "\n",
        "float_16_tensor"
      ],
      "metadata": {
        "colab": {
          "base_uri": "https://localhost:8080/"
        },
        "id": "Iwcc5ZkA7W2h",
        "outputId": "f2f62f80-9546-457b-fb8e-7f382de0f347"
      },
      "id": "Iwcc5ZkA7W2h",
      "execution_count": 46,
      "outputs": [
        {
          "output_type": "execute_result",
          "data": {
            "text/plain": [
              "tensor([3., 6., 9.], dtype=torch.float16)"
            ]
          },
          "metadata": {},
          "execution_count": 46
        }
      ]
    },
    {
      "cell_type": "code",
      "source": [
        "float_16_tensor2 = float_32_tensor.type(torch.float16)\n",
        "float_16_tensor2"
      ],
      "metadata": {
        "id": "yGpHX_D_7s5b",
        "colab": {
          "base_uri": "https://localhost:8080/"
        },
        "outputId": "346c91b2-20db-4fe3-d922-39c11c8960c6"
      },
      "id": "yGpHX_D_7s5b",
      "execution_count": 45,
      "outputs": [
        {
          "output_type": "execute_result",
          "data": {
            "text/plain": [
              "tensor([3., 6., 9.], dtype=torch.float16)"
            ]
          },
          "metadata": {},
          "execution_count": 45
        }
      ]
    },
    {
      "cell_type": "code",
      "source": [
        "# WOW, We can do this\n",
        "float_32_tensor * float_16_tensor\n",
        "# but try to use same data type, ok??\n",
        "# because: maby get error at large database"
      ],
      "metadata": {
        "colab": {
          "base_uri": "https://localhost:8080/"
        },
        "id": "YcRkgjVfmR6K",
        "outputId": "4e0e9f42-e689-468a-ad14-314767945083"
      },
      "id": "YcRkgjVfmR6K",
      "execution_count": 50,
      "outputs": [
        {
          "output_type": "execute_result",
          "data": {
            "text/plain": [
              "tensor([ 9., 36., 81.])"
            ]
          },
          "metadata": {},
          "execution_count": 50
        }
      ]
    },
    {
      "cell_type": "code",
      "source": [
        "float_16_mulb_32 = float_32_tensor * float_16_tensor\n",
        "float_16_mulb_32.dtype"
      ],
      "metadata": {
        "colab": {
          "base_uri": "https://localhost:8080/"
        },
        "id": "y4okxKCBmic3",
        "outputId": "4c547e4b-55ec-42f3-e2e3-271e1b2f2b75"
      },
      "id": "y4okxKCBmic3",
      "execution_count": 52,
      "outputs": [
        {
          "output_type": "execute_result",
          "data": {
            "text/plain": [
              "torch.float32"
            ]
          },
          "metadata": {},
          "execution_count": 52
        }
      ]
    },
    {
      "cell_type": "code",
      "source": [
        "int_32_tensor = torch.tensor([1,2,3], dtype=torch.int32)\n",
        "int_32_tensor"
      ],
      "metadata": {
        "colab": {
          "base_uri": "https://localhost:8080/"
        },
        "id": "puOKZuONnH5N",
        "outputId": "12132cc1-113d-4015-80d0-948dacf939ff"
      },
      "id": "puOKZuONnH5N",
      "execution_count": 54,
      "outputs": [
        {
          "output_type": "execute_result",
          "data": {
            "text/plain": [
              "tensor([1, 2, 3], dtype=torch.int32)"
            ]
          },
          "metadata": {},
          "execution_count": 54
        }
      ]
    },
    {
      "cell_type": "code",
      "source": [
        "(float_32_tensor * int_32_tensor).dtype\n",
        "# Wow it's work too :/"
      ],
      "metadata": {
        "colab": {
          "base_uri": "https://localhost:8080/"
        },
        "id": "IXgt9CTKnnmp",
        "outputId": "9b3768b4-2ad1-4bdc-e2b7-acd4358f9c6e"
      },
      "id": "IXgt9CTKnnmp",
      "execution_count": 56,
      "outputs": [
        {
          "output_type": "execute_result",
          "data": {
            "text/plain": [
              "torch.float32"
            ]
          },
          "metadata": {},
          "execution_count": 56
        }
      ]
    },
    {
      "cell_type": "markdown",
      "source": [
        "### Getting information from tensors\n",
        "Once you've created tensors (or someone else or a PyTorch module has created them for you), you might want to get some information from them.\n",
        "\n",
        "We've seen these before but three of the most common attributes you'll want to find out about tensors are:\n",
        "\n",
        "1. shape - what shape is the tensor? (some operations require specific shape rules)\n",
        "2. dtype - what datatype are the elements within the tensor stored in?\n",
        "3. device - what device is the tensor stored on? (usually GPU or CPU)\n",
        "\n",
        "Let's create a random tensor and find out details about it."
      ],
      "metadata": {
        "id": "JuoB2aVyodoE"
      },
      "id": "JuoB2aVyodoE"
    },
    {
      "cell_type": "code",
      "source": [
        "# Create a tensor\n",
        "exTensor1 = torch.arange(0,11,2)\n",
        "exTensor1"
      ],
      "metadata": {
        "colab": {
          "base_uri": "https://localhost:8080/"
        },
        "id": "tn07Jr2Rnvat",
        "outputId": "0074cd64-7a59-4b44-e52b-5559a922d79c"
      },
      "id": "tn07Jr2Rnvat",
      "execution_count": 59,
      "outputs": [
        {
          "output_type": "execute_result",
          "data": {
            "text/plain": [
              "tensor([ 0,  2,  4,  6,  8, 10])"
            ]
          },
          "metadata": {},
          "execution_count": 59
        }
      ]
    },
    {
      "cell_type": "code",
      "source": [
        "# Find out details about <exTensor1>\n",
        "print(exTensor1)\n",
        "print(f\"Datatype of tensor: {exTensor1.dtype}\")\n",
        "print(f\"Shape of tensor: {exTensor1.shape}\")\n",
        "print(f\"Dimenstion of tensor: {exTensor1.ndim}\")\n",
        "print(f\"Device tensor is on: {exTensor1.device}\")"
      ],
      "metadata": {
        "colab": {
          "base_uri": "https://localhost:8080/"
        },
        "id": "by1pWEDgpIGr",
        "outputId": "81d9a125-9d07-4e2f-e0ce-47342de958b2"
      },
      "id": "by1pWEDgpIGr",
      "execution_count": 63,
      "outputs": [
        {
          "output_type": "stream",
          "name": "stdout",
          "text": [
            "tensor([ 0,  2,  4,  6,  8, 10])\n",
            "Datatype of tensor: torch.int64\n",
            "Shape of tensor: torch.Size([6])\n",
            "Dimenstion of tensor: 1\n",
            "Device tensor is on: cpu\n"
          ]
        }
      ]
    },
    {
      "cell_type": "code",
      "source": [],
      "metadata": {
        "id": "NT39XPlWp4sj"
      },
      "id": "NT39XPlWp4sj",
      "execution_count": null,
      "outputs": []
    }
  ],
  "metadata": {
    "kernelspec": {
      "display_name": "Python 3",
      "name": "python3"
    },
    "language_info": {
      "codemirror_mode": {
        "name": "ipython",
        "version": 3
      },
      "file_extension": ".py",
      "mimetype": "text/x-python",
      "name": "python",
      "nbconvert_exporter": "python",
      "pygments_lexer": "ipython3",
      "version": "3.13.5"
    },
    "colab": {
      "provenance": [],
      "include_colab_link": true
    }
  },
  "nbformat": 4,
  "nbformat_minor": 5
}