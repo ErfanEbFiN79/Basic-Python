{
  "cells": [
    {
      "cell_type": "markdown",
      "metadata": {
        "id": "view-in-github",
        "colab_type": "text"
      },
      "source": [
        "<a href=\"https://colab.research.google.com/github/ErfanEbFiN79/Erfan-Python/blob/main/00_pytorch_fundamentals.ipynb\" target=\"_parent\"><img src=\"https://colab.research.google.com/assets/colab-badge.svg\" alt=\"Open In Colab\"/></a>"
      ]
    },
    {
      "cell_type": "code",
      "execution_count": 1,
      "id": "e0d2832c-af09-4dde-8920-0fbaaeb65815",
      "metadata": {
        "colab": {
          "base_uri": "https://localhost:8080/"
        },
        "id": "e0d2832c-af09-4dde-8920-0fbaaeb65815",
        "outputId": "408cd1fc-d665-47ac-d622-d5876b655203"
      },
      "outputs": [
        {
          "output_type": "stream",
          "name": "stdout",
          "text": [
            "/bin/bash: line 1: nvidia-smi: command not found\n"
          ]
        }
      ],
      "source": [
        "!nvidia-smi"
      ]
    },
    {
      "cell_type": "code",
      "execution_count": 2,
      "id": "01b61bed-02a3-44dc-a694-eb387c0f1803",
      "metadata": {
        "id": "01b61bed-02a3-44dc-a694-eb387c0f1803"
      },
      "outputs": [],
      "source": [
        "import torch"
      ]
    },
    {
      "cell_type": "code",
      "source": [
        "print(torch.__version__)"
      ],
      "metadata": {
        "colab": {
          "base_uri": "https://localhost:8080/"
        },
        "id": "gHjiM7_y4uD4",
        "outputId": "e924aa39-32da-4e59-caa3-84b212f9777d"
      },
      "id": "gHjiM7_y4uD4",
      "execution_count": 3,
      "outputs": [
        {
          "output_type": "stream",
          "name": "stdout",
          "text": [
            "2.6.0+cu124\n"
          ]
        }
      ]
    },
    {
      "cell_type": "markdown",
      "source": [],
      "metadata": {
        "id": "1L1ayKTs5l1y"
      },
      "id": "1L1ayKTs5l1y"
    },
    {
      "cell_type": "markdown",
      "source": [
        "## Introduction to Tensors\n",
        "Creating Tensors"
      ],
      "metadata": {
        "id": "kFg7ZKXY5nau"
      },
      "id": "kFg7ZKXY5nau"
    },
    {
      "cell_type": "markdown",
      "source": [
        "Scalers are linear (or more precisely affine) transformers and differ from each other in the way they estimate the parameters used to shift and scale each feature. QuantileTransformer provides non-linear transformations in which distances between marginal outliers and inliers are shrunk."
      ],
      "metadata": {
        "id": "V8Uu4UEx6t1e"
      },
      "id": "V8Uu4UEx6t1e"
    },
    {
      "cell_type": "markdown",
      "source": [
        "PyTorch tensors are created usin torch.Tensor()"
      ],
      "metadata": {
        "id": "5MBXySiz69pX"
      },
      "id": "5MBXySiz69pX"
    },
    {
      "cell_type": "code",
      "source": [
        "# scalar\n",
        "scalar = torch.tensor(7)\n",
        "scalar"
      ],
      "metadata": {
        "colab": {
          "base_uri": "https://localhost:8080/"
        },
        "id": "hODJcyau420U",
        "outputId": "a00f99a2-4625-41e9-d83d-eb153970278c"
      },
      "id": "hODJcyau420U",
      "execution_count": 4,
      "outputs": [
        {
          "output_type": "execute_result",
          "data": {
            "text/plain": [
              "tensor(7)"
            ]
          },
          "metadata": {},
          "execution_count": 4
        }
      ]
    },
    {
      "cell_type": "code",
      "source": [
        "scalar.ndim"
      ],
      "metadata": {
        "colab": {
          "base_uri": "https://localhost:8080/"
        },
        "id": "lwAebDZ_7NSz",
        "outputId": "66e61bf2-cb67-4d8f-c560-022b17f324f0"
      },
      "id": "lwAebDZ_7NSz",
      "execution_count": 5,
      "outputs": [
        {
          "output_type": "execute_result",
          "data": {
            "text/plain": [
              "0"
            ]
          },
          "metadata": {},
          "execution_count": 5
        }
      ]
    },
    {
      "cell_type": "code",
      "source": [
        "# Get tensor back as python int\n",
        "scalar.item()"
      ],
      "metadata": {
        "colab": {
          "base_uri": "https://localhost:8080/"
        },
        "id": "GzKIFJFB7fl-",
        "outputId": "3e1733de-d296-4d06-f69b-9475ef5808b5"
      },
      "id": "GzKIFJFB7fl-",
      "execution_count": 6,
      "outputs": [
        {
          "output_type": "execute_result",
          "data": {
            "text/plain": [
              "7"
            ]
          },
          "metadata": {},
          "execution_count": 6
        }
      ]
    },
    {
      "cell_type": "code",
      "source": [
        "# Vector\n",
        "vector = torch.tensor([7,7])\n",
        "vector"
      ],
      "metadata": {
        "colab": {
          "base_uri": "https://localhost:8080/"
        },
        "id": "oO2ZYl537qgM",
        "outputId": "10c9c77c-b337-4144-e981-2e95cad9522f"
      },
      "id": "oO2ZYl537qgM",
      "execution_count": 7,
      "outputs": [
        {
          "output_type": "execute_result",
          "data": {
            "text/plain": [
              "tensor([7, 7])"
            ]
          },
          "metadata": {},
          "execution_count": 7
        }
      ]
    },
    {
      "cell_type": "code",
      "source": [
        "vector.ndim"
      ],
      "metadata": {
        "colab": {
          "base_uri": "https://localhost:8080/"
        },
        "id": "EYz4tMjB8Wmp",
        "outputId": "40d40213-bcac-40b6-a04e-e3c783907ac3"
      },
      "id": "EYz4tMjB8Wmp",
      "execution_count": 8,
      "outputs": [
        {
          "output_type": "execute_result",
          "data": {
            "text/plain": [
              "1"
            ]
          },
          "metadata": {},
          "execution_count": 8
        }
      ]
    },
    {
      "cell_type": "code",
      "source": [
        "vector.shape"
      ],
      "metadata": {
        "colab": {
          "base_uri": "https://localhost:8080/"
        },
        "id": "UqX-wneq8e_L",
        "outputId": "665dcdbd-7c87-4c46-dc1b-4a4c74ee1be6"
      },
      "id": "UqX-wneq8e_L",
      "execution_count": 9,
      "outputs": [
        {
          "output_type": "execute_result",
          "data": {
            "text/plain": [
              "torch.Size([2])"
            ]
          },
          "metadata": {},
          "execution_count": 9
        }
      ]
    },
    {
      "cell_type": "code",
      "source": [
        "# Matrix\n",
        "Matrix = torch.tensor([[7,8],[9,10]])\n",
        "Matrix"
      ],
      "metadata": {
        "colab": {
          "base_uri": "https://localhost:8080/"
        },
        "id": "sVK4yArg8oH5",
        "outputId": "a1beb183-afef-4b56-f21e-919e165cde52"
      },
      "id": "sVK4yArg8oH5",
      "execution_count": 10,
      "outputs": [
        {
          "output_type": "execute_result",
          "data": {
            "text/plain": [
              "tensor([[ 7,  8],\n",
              "        [ 9, 10]])"
            ]
          },
          "metadata": {},
          "execution_count": 10
        }
      ]
    },
    {
      "cell_type": "code",
      "source": [
        "Matrix.ndim"
      ],
      "metadata": {
        "colab": {
          "base_uri": "https://localhost:8080/"
        },
        "id": "_Gcrzxdj84Kn",
        "outputId": "90f35692-82dc-4a14-dc2c-b0c6ec8cb1da"
      },
      "id": "_Gcrzxdj84Kn",
      "execution_count": 11,
      "outputs": [
        {
          "output_type": "execute_result",
          "data": {
            "text/plain": [
              "2"
            ]
          },
          "metadata": {},
          "execution_count": 11
        }
      ]
    },
    {
      "cell_type": "code",
      "source": [
        "Matrix.size()"
      ],
      "metadata": {
        "colab": {
          "base_uri": "https://localhost:8080/"
        },
        "id": "ZJ9U3M0887oi",
        "outputId": "801ab7c1-552a-4106-aa66-4d41a8d80c21"
      },
      "id": "ZJ9U3M0887oi",
      "execution_count": 12,
      "outputs": [
        {
          "output_type": "execute_result",
          "data": {
            "text/plain": [
              "torch.Size([2, 2])"
            ]
          },
          "metadata": {},
          "execution_count": 12
        }
      ]
    },
    {
      "cell_type": "code",
      "source": [
        "Matrix.shape"
      ],
      "metadata": {
        "colab": {
          "base_uri": "https://localhost:8080/"
        },
        "id": "L67ewcpZ8_t4",
        "outputId": "2ef7bd94-9b35-4855-a661-739e141c1a8b"
      },
      "id": "L67ewcpZ8_t4",
      "execution_count": 13,
      "outputs": [
        {
          "output_type": "execute_result",
          "data": {
            "text/plain": [
              "torch.Size([2, 2])"
            ]
          },
          "metadata": {},
          "execution_count": 13
        }
      ]
    },
    {
      "cell_type": "code",
      "source": [
        "type(Matrix)"
      ],
      "metadata": {
        "colab": {
          "base_uri": "https://localhost:8080/"
        },
        "id": "4auLOrkv9DWN",
        "outputId": "55a02639-42bd-44be-9a8b-3824fe5abdb3"
      },
      "id": "4auLOrkv9DWN",
      "execution_count": 14,
      "outputs": [
        {
          "output_type": "execute_result",
          "data": {
            "text/plain": [
              "torch.Tensor"
            ]
          },
          "metadata": {},
          "execution_count": 14
        }
      ]
    },
    {
      "cell_type": "code",
      "source": [
        "Matrix"
      ],
      "metadata": {
        "colab": {
          "base_uri": "https://localhost:8080/"
        },
        "id": "sLv_qXW29QjJ",
        "outputId": "ba5f484f-b54c-4dad-cb46-aa6e4402bab7"
      },
      "id": "sLv_qXW29QjJ",
      "execution_count": 15,
      "outputs": [
        {
          "output_type": "execute_result",
          "data": {
            "text/plain": [
              "tensor([[ 7,  8],\n",
              "        [ 9, 10]])"
            ]
          },
          "metadata": {},
          "execution_count": 15
        }
      ]
    },
    {
      "cell_type": "code",
      "source": [
        "Matrix[0]"
      ],
      "metadata": {
        "colab": {
          "base_uri": "https://localhost:8080/"
        },
        "id": "Vj7Q8jRY9UvD",
        "outputId": "ba570b39-4657-468c-8ac9-0e297e462e97"
      },
      "id": "Vj7Q8jRY9UvD",
      "execution_count": 16,
      "outputs": [
        {
          "output_type": "execute_result",
          "data": {
            "text/plain": [
              "tensor([7, 8])"
            ]
          },
          "metadata": {},
          "execution_count": 16
        }
      ]
    },
    {
      "cell_type": "code",
      "source": [
        "Matrix[1]"
      ],
      "metadata": {
        "colab": {
          "base_uri": "https://localhost:8080/"
        },
        "id": "6pzPHicI9XBo",
        "outputId": "aeeb3e92-bb8c-4e1d-a26b-161cb0fc413d"
      },
      "id": "6pzPHicI9XBo",
      "execution_count": 17,
      "outputs": [
        {
          "output_type": "execute_result",
          "data": {
            "text/plain": [
              "tensor([ 9, 10])"
            ]
          },
          "metadata": {},
          "execution_count": 17
        }
      ]
    },
    {
      "cell_type": "code",
      "source": [
        "# TENSOR\n",
        "\n",
        "TENSOR = torch.tensor([[[1,2,3],\n",
        "                        [3,6,9],\n",
        "                        [2,4,5]]])\n",
        "TENSOR"
      ],
      "metadata": {
        "colab": {
          "base_uri": "https://localhost:8080/"
        },
        "id": "CydECr5N9lXL",
        "outputId": "70ded0d0-72d5-47a1-b0a2-4ffffee7435d"
      },
      "id": "CydECr5N9lXL",
      "execution_count": 18,
      "outputs": [
        {
          "output_type": "execute_result",
          "data": {
            "text/plain": [
              "tensor([[[1, 2, 3],\n",
              "         [3, 6, 9],\n",
              "         [2, 4, 5]]])"
            ]
          },
          "metadata": {},
          "execution_count": 18
        }
      ]
    },
    {
      "cell_type": "code",
      "source": [
        "TENSOR.ndim"
      ],
      "metadata": {
        "colab": {
          "base_uri": "https://localhost:8080/"
        },
        "id": "q7xsnpLU9Y1a",
        "outputId": "d56e5303-da74-461d-e91a-4106844adc9c"
      },
      "id": "q7xsnpLU9Y1a",
      "execution_count": 19,
      "outputs": [
        {
          "output_type": "execute_result",
          "data": {
            "text/plain": [
              "3"
            ]
          },
          "metadata": {},
          "execution_count": 19
        }
      ]
    },
    {
      "cell_type": "code",
      "source": [
        "TENSOR.shape"
      ],
      "metadata": {
        "colab": {
          "base_uri": "https://localhost:8080/"
        },
        "id": "ezwGdKuU9-AT",
        "outputId": "ce2b2672-c8b8-4ad5-aac0-8023af552353"
      },
      "id": "ezwGdKuU9-AT",
      "execution_count": 20,
      "outputs": [
        {
          "output_type": "execute_result",
          "data": {
            "text/plain": [
              "torch.Size([1, 3, 3])"
            ]
          },
          "metadata": {},
          "execution_count": 20
        }
      ]
    },
    {
      "cell_type": "code",
      "source": [
        "TENSOR[0]"
      ],
      "metadata": {
        "colab": {
          "base_uri": "https://localhost:8080/"
        },
        "id": "zpUUp9Qw-AEh",
        "outputId": "2d69d3e2-73e1-43b8-d800-c135c606901b"
      },
      "id": "zpUUp9Qw-AEh",
      "execution_count": 21,
      "outputs": [
        {
          "output_type": "execute_result",
          "data": {
            "text/plain": [
              "tensor([[1, 2, 3],\n",
              "        [3, 6, 9],\n",
              "        [2, 4, 5]])"
            ]
          },
          "metadata": {},
          "execution_count": 21
        }
      ]
    },
    {
      "cell_type": "code",
      "source": [
        "TENSOR[0][0]"
      ],
      "metadata": {
        "colab": {
          "base_uri": "https://localhost:8080/"
        },
        "id": "2p5BSZZE-KEz",
        "outputId": "35e609f4-608b-4528-c7a8-ef6259860e6d"
      },
      "id": "2p5BSZZE-KEz",
      "execution_count": 22,
      "outputs": [
        {
          "output_type": "execute_result",
          "data": {
            "text/plain": [
              "tensor([1, 2, 3])"
            ]
          },
          "metadata": {},
          "execution_count": 22
        }
      ]
    },
    {
      "cell_type": "code",
      "source": [
        "TENSOR[0][2]"
      ],
      "metadata": {
        "colab": {
          "base_uri": "https://localhost:8080/"
        },
        "id": "M3urRfqF-U1K",
        "outputId": "6a4047b6-1020-4f21-952f-2068956196d4"
      },
      "id": "M3urRfqF-U1K",
      "execution_count": 23,
      "outputs": [
        {
          "output_type": "execute_result",
          "data": {
            "text/plain": [
              "tensor([2, 4, 5])"
            ]
          },
          "metadata": {},
          "execution_count": 23
        }
      ]
    },
    {
      "cell_type": "code",
      "source": [
        "TENSOR[0][1][1]"
      ],
      "metadata": {
        "colab": {
          "base_uri": "https://localhost:8080/"
        },
        "id": "68-3uWPS-Mmx",
        "outputId": "49bb44e9-4c65-491d-9c5b-b15d472b119f"
      },
      "id": "68-3uWPS-Mmx",
      "execution_count": 24,
      "outputs": [
        {
          "output_type": "execute_result",
          "data": {
            "text/plain": [
              "tensor(6)"
            ]
          },
          "metadata": {},
          "execution_count": 24
        }
      ]
    },
    {
      "cell_type": "markdown",
      "source": [],
      "metadata": {
        "id": "blE6H_6px-Bm"
      },
      "id": "blE6H_6px-Bm"
    },
    {
      "cell_type": "code",
      "source": [
        "MyTensorTest = torch.tensor([[[1,2,3],\n",
        "                              [4,5,6],\n",
        "                              [7,8,9]],\n",
        "                             [[10,12,13],\n",
        "                              [14,16,17],\n",
        "                              [18,19,20]]])"
      ],
      "metadata": {
        "id": "Fz9SQGmM-Yjy"
      },
      "id": "Fz9SQGmM-Yjy",
      "execution_count": 25,
      "outputs": []
    },
    {
      "cell_type": "code",
      "source": [
        "MyTensorTest.shape"
      ],
      "metadata": {
        "colab": {
          "base_uri": "https://localhost:8080/"
        },
        "id": "AXgBIa3xxJTD",
        "outputId": "ec16377d-f39f-47ca-9ec8-3d5bfbd9cef4"
      },
      "id": "AXgBIa3xxJTD",
      "execution_count": 26,
      "outputs": [
        {
          "output_type": "execute_result",
          "data": {
            "text/plain": [
              "torch.Size([2, 3, 3])"
            ]
          },
          "metadata": {},
          "execution_count": 26
        }
      ]
    },
    {
      "cell_type": "code",
      "source": [
        "MyTensorTest.ndim"
      ],
      "metadata": {
        "colab": {
          "base_uri": "https://localhost:8080/"
        },
        "id": "_23KPuFKxNZn",
        "outputId": "c048e6aa-b2d1-4777-b716-a97ad3129499"
      },
      "id": "_23KPuFKxNZn",
      "execution_count": 27,
      "outputs": [
        {
          "output_type": "execute_result",
          "data": {
            "text/plain": [
              "3"
            ]
          },
          "metadata": {},
          "execution_count": 27
        }
      ]
    },
    {
      "cell_type": "code",
      "source": [
        "MyTensorTest[0]"
      ],
      "metadata": {
        "colab": {
          "base_uri": "https://localhost:8080/"
        },
        "id": "4QxPaLiGxVIn",
        "outputId": "4377f3d1-8116-489d-bfbd-be49aec24266"
      },
      "id": "4QxPaLiGxVIn",
      "execution_count": 28,
      "outputs": [
        {
          "output_type": "execute_result",
          "data": {
            "text/plain": [
              "tensor([[1, 2, 3],\n",
              "        [4, 5, 6],\n",
              "        [7, 8, 9]])"
            ]
          },
          "metadata": {},
          "execution_count": 28
        }
      ]
    },
    {
      "cell_type": "code",
      "source": [
        "MyTensorTest[1]"
      ],
      "metadata": {
        "colab": {
          "base_uri": "https://localhost:8080/"
        },
        "id": "enQj3LrQxguR",
        "outputId": "5d31c2f0-33e2-47de-9bed-5b87b1691699"
      },
      "id": "enQj3LrQxguR",
      "execution_count": 29,
      "outputs": [
        {
          "output_type": "execute_result",
          "data": {
            "text/plain": [
              "tensor([[10, 12, 13],\n",
              "        [14, 16, 17],\n",
              "        [18, 19, 20]])"
            ]
          },
          "metadata": {},
          "execution_count": 29
        }
      ]
    },
    {
      "cell_type": "code",
      "source": [
        "# if we want to get a 16 from the Tesnor\n",
        "MyTensorTest[1][1][1]"
      ],
      "metadata": {
        "colab": {
          "base_uri": "https://localhost:8080/"
        },
        "id": "Rip8C1ZAxjiT",
        "outputId": "cc7e2f26-5526-4469-fe84-ed01a45315c7"
      },
      "id": "Rip8C1ZAxjiT",
      "execution_count": 30,
      "outputs": [
        {
          "output_type": "execute_result",
          "data": {
            "text/plain": [
              "tensor(16)"
            ]
          },
          "metadata": {},
          "execution_count": 30
        }
      ]
    },
    {
      "cell_type": "markdown",
      "source": [
        "### Random Tensor\n",
        "\n",
        "We've established tensors represent some form of data.\n",
        "\n",
        "And machine learning models such as neural networks manipulate and seek patterns within tensors.\n",
        "\n",
        "But when building machine learning models with PyTorch, it's rare you'll create tensors by hand (like what we've been doing).\n",
        "\n",
        "Instead, a machine learning model often starts out with large random tensors of numbers and adjusts these random numbers as it works through data to better represent it.\n",
        "\n",
        "In essence:\n",
        "\n",
        "'Start with random numbers -> look at data -> update random numbers -> look at data -> update random numbers...'\n",
        "\n",
        "As a data scientist, you can define how the machine learning model starts (initialization), looks at data (representation) and updates (optimization) its random numbers.\n",
        "\n",
        "rand duc => https://docs.pytorch.org/docs/stable/generated/torch.rand.html"
      ],
      "metadata": {
        "id": "gnh_EWfgxwED"
      },
      "id": "gnh_EWfgxwED"
    },
    {
      "cell_type": "code",
      "source": [
        "rand_tensor_1 = torch.rand(3)\n",
        "rand_tensor_2 = torch.rand(3,4)\n",
        "rand_tensor_3 = torch.rand(2,3,8)\n",
        "print(f\"{rand_tensor_1} has {rand_tensor_1.ndim} dimentions and the shape is {rand_tensor_1.shape} and type is {rand_tensor_1.dtype}\\n\")\n",
        "print(f\"{rand_tensor_2} has {rand_tensor_2.ndim} dimentions and the shape is {rand_tensor_2.shape} and type is {rand_tensor_2.dtype}\\n\")\n",
        "print(f\"{rand_tensor_3} has {rand_tensor_3.ndim} dimentions and the shape is {rand_tensor_3.shape} and type is {rand_tensor_3.dtype}\\n\")"
      ],
      "metadata": {
        "colab": {
          "base_uri": "https://localhost:8080/"
        },
        "id": "QMwKWqssyro7",
        "outputId": "b666f9dc-4294-464f-8c30-bd336ff7ebdd"
      },
      "id": "QMwKWqssyro7",
      "execution_count": 37,
      "outputs": [
        {
          "output_type": "stream",
          "name": "stdout",
          "text": [
            "tensor([0.9354, 0.2375, 0.9369]) has 1 dimentions and the shape is torch.Size([3]) and type is torch.float32\n",
            "\n",
            "tensor([[0.9760, 0.6143, 0.3585, 0.4502],\n",
            "        [0.0934, 0.3757, 0.1060, 0.3406],\n",
            "        [0.2676, 0.5581, 0.0788, 0.6049]]) has 2 dimentions and the shape is torch.Size([3, 4]) and type is torch.float32\n",
            "\n",
            "tensor([[[0.7767, 0.8968, 0.8341, 0.6979, 0.8283, 0.3958, 0.9370, 0.4509],\n",
            "         [0.7115, 0.2560, 0.2899, 0.8967, 0.3080, 0.3006, 0.3182, 0.1235],\n",
            "         [0.4146, 0.5727, 0.1664, 0.6760, 0.0788, 0.2935, 0.7156, 0.9449]],\n",
            "\n",
            "        [[0.2936, 0.4970, 0.5070, 0.7363, 0.4751, 0.4002, 0.5992, 0.4527],\n",
            "         [0.3644, 0.4188, 0.6878, 0.8928, 0.2433, 0.0892, 0.1174, 0.4250],\n",
            "         [0.6548, 0.8882, 0.2687, 0.1421, 0.5625, 0.6358, 0.6870, 0.1426]]]) has 3 dimentions and the shape is torch.Size([2, 3, 8]) and type is torch.float32\n",
            "\n"
          ]
        }
      ]
    },
    {
      "cell_type": "markdown",
      "source": [
        "The flexibility of torch.rand() is that we can adjust the size to be whatever we want.\n",
        "\n",
        "For example, say you wanted a random tensor in the common image shape of [224, 224, 3] ([height, width, color_channels])."
      ],
      "metadata": {
        "id": "xYh22AnX3C4M"
      },
      "id": "xYh22AnX3C4M"
    },
    {
      "cell_type": "code",
      "source": [
        "random_image_tensor = torch.rand(size=(3,224,224))\n",
        "print(f\"Dimention = {random_image_tensor.ndim} and shape is {random_image_tensor.shape} => \\n{random_image_tensor }\")"
      ],
      "metadata": {
        "colab": {
          "base_uri": "https://localhost:8080/"
        },
        "id": "kh5nEbBI3Hlw",
        "outputId": "cfa67549-2561-4370-8cad-2bb793b83721"
      },
      "id": "kh5nEbBI3Hlw",
      "execution_count": 41,
      "outputs": [
        {
          "output_type": "stream",
          "name": "stdout",
          "text": [
            "Dimention = 3 and shape is torch.Size([3, 224, 224]) => \n",
            "tensor([[[0.6756, 0.7423, 0.0779,  ..., 0.7075, 0.3798, 0.2706],\n",
            "         [0.4705, 0.0363, 0.0120,  ..., 0.4069, 0.7316, 0.0749],\n",
            "         [0.7217, 0.7544, 0.2707,  ..., 0.3917, 0.2190, 0.2400],\n",
            "         ...,\n",
            "         [0.6357, 0.1664, 0.2428,  ..., 0.9632, 0.8047, 0.7087],\n",
            "         [0.1959, 0.8935, 0.7032,  ..., 0.6428, 0.2738, 0.7325],\n",
            "         [0.6541, 0.9489, 0.1560,  ..., 0.6763, 0.4974, 0.7144]],\n",
            "\n",
            "        [[0.1544, 0.1426, 0.5191,  ..., 0.0727, 0.6117, 0.2139],\n",
            "         [0.1047, 0.5916, 0.0271,  ..., 0.9873, 0.7638, 0.7111],\n",
            "         [0.6043, 0.4323, 0.3425,  ..., 0.8886, 0.4302, 0.9231],\n",
            "         ...,\n",
            "         [0.9071, 0.0158, 0.4206,  ..., 0.2727, 0.9518, 0.7811],\n",
            "         [0.3144, 0.1407, 0.8550,  ..., 0.9771, 0.0350, 0.9036],\n",
            "         [0.0727, 0.8785, 0.5835,  ..., 0.4022, 0.7063, 0.1168]],\n",
            "\n",
            "        [[0.9050, 0.8577, 0.1466,  ..., 0.9255, 0.8819, 0.7155],\n",
            "         [0.7647, 0.5482, 0.9264,  ..., 0.1216, 0.0665, 0.0489],\n",
            "         [0.6082, 0.0861, 0.7199,  ..., 0.9393, 0.6434, 0.0379],\n",
            "         ...,\n",
            "         [0.3714, 0.3348, 0.7650,  ..., 0.4804, 0.6059, 0.1055],\n",
            "         [0.9702, 0.2591, 0.3042,  ..., 0.9294, 0.7890, 0.4769],\n",
            "         [0.6855, 0.6096, 0.8370,  ..., 0.1591, 0.8165, 0.9149]]])\n"
          ]
        }
      ]
    },
    {
      "cell_type": "markdown",
      "source": [],
      "metadata": {
        "id": "vzmTu-Brxy0G"
      },
      "id": "vzmTu-Brxy0G"
    },
    {
      "cell_type": "code",
      "source": [
        "# HandWriting at 16 * 16 black and white\n",
        "# black < 0.5 / white >= 0\n",
        "rand_handwriting_00 = torch.rand(2,16,16)\n",
        "rand_handwriting_00"
      ],
      "metadata": {
        "colab": {
          "base_uri": "https://localhost:8080/"
        },
        "id": "tsf5uXhR5NR9",
        "outputId": "0e08e1e3-0fbd-4200-d836-d1935e9ef1c1"
      },
      "id": "tsf5uXhR5NR9",
      "execution_count": 50,
      "outputs": [
        {
          "output_type": "execute_result",
          "data": {
            "text/plain": [
              "tensor([[[0.6747, 0.1496, 0.1915, 0.3546, 0.1105, 0.6214, 0.4420, 0.9827,\n",
              "          0.1932, 0.0883, 0.6006, 0.3023, 0.9379, 0.0710, 0.1979, 0.4766],\n",
              "         [0.4845, 0.1841, 0.2041, 0.9850, 0.6522, 0.1374, 0.7474, 0.7610,\n",
              "          0.0244, 0.7327, 0.2116, 0.1582, 0.9333, 0.7847, 0.0640, 0.3236],\n",
              "         [0.6422, 0.5634, 0.9760, 0.9408, 0.5779, 0.2646, 0.3795, 0.7348,\n",
              "          0.3005, 0.4244, 0.8051, 0.7405, 0.4030, 0.2408, 0.8036, 0.2297],\n",
              "         [0.4016, 0.3823, 0.9325, 0.3672, 0.4749, 0.4216, 0.2075, 0.5193,\n",
              "          0.3099, 0.6714, 0.3162, 0.2409, 0.5774, 0.9413, 0.2537, 0.9977],\n",
              "         [0.3922, 0.5720, 0.1606, 0.0649, 0.9342, 0.0834, 0.8876, 0.5257,\n",
              "          0.1118, 0.2282, 0.8735, 0.8202, 0.9052, 0.1153, 0.1434, 0.0365],\n",
              "         [0.5079, 0.7506, 0.5653, 0.0749, 0.5964, 0.0912, 0.8646, 0.9890,\n",
              "          0.4580, 0.9950, 0.7449, 0.4640, 0.5131, 0.9838, 0.3195, 0.6647],\n",
              "         [0.1464, 0.0947, 0.7784, 0.5048, 0.8985, 0.9953, 0.1351, 0.4164,\n",
              "          0.6051, 0.9266, 0.1184, 0.6097, 0.6848, 0.6335, 0.6808, 0.4495],\n",
              "         [0.9943, 0.8320, 0.3155, 0.2799, 0.1205, 0.3590, 0.8249, 0.4223,\n",
              "          0.5694, 0.8269, 0.6246, 0.3683, 0.3910, 0.4560, 0.6867, 0.8079],\n",
              "         [0.6173, 0.5215, 0.7491, 0.7027, 0.5221, 0.9893, 0.0405, 0.3672,\n",
              "          0.7023, 0.5156, 0.9428, 0.3402, 0.9196, 0.9652, 0.2277, 0.4396],\n",
              "         [0.0065, 0.8223, 0.8900, 0.9517, 0.2885, 0.6521, 0.1709, 0.6397,\n",
              "          0.6956, 0.5861, 0.3931, 0.9079, 0.4630, 0.1657, 0.0853, 0.9613],\n",
              "         [0.5716, 0.9226, 0.6857, 0.6292, 0.0575, 0.5833, 0.3190, 0.5167,\n",
              "          0.9630, 0.5443, 0.8468, 0.5605, 0.3617, 0.8769, 0.3671, 0.2921],\n",
              "         [0.8144, 0.0486, 0.7896, 0.0665, 0.7435, 0.1871, 0.3142, 0.1545,\n",
              "          0.3707, 0.3930, 0.8829, 0.8505, 0.9145, 0.2560, 0.1607, 0.0345],\n",
              "         [0.3264, 0.0984, 0.5625, 0.7240, 0.3191, 0.5787, 0.2586, 0.8636,\n",
              "          0.7196, 0.5397, 0.7092, 0.5711, 0.8147, 0.5835, 0.8016, 0.4736],\n",
              "         [0.9909, 0.6063, 0.5102, 0.1567, 0.3818, 0.2010, 0.6735, 0.4002,\n",
              "          0.6190, 0.0682, 0.7862, 0.0350, 0.6122, 0.7450, 0.6917, 0.4680],\n",
              "         [0.9750, 0.0328, 0.9085, 0.7216, 0.3277, 0.2016, 0.5870, 0.9949,\n",
              "          0.9290, 0.5047, 0.4350, 0.0473, 0.5845, 0.6160, 0.8400, 0.0089],\n",
              "         [0.6598, 0.8460, 0.2361, 0.0886, 0.8048, 0.6968, 0.2715, 0.4936,\n",
              "          0.2313, 0.7007, 0.8146, 0.4836, 0.5512, 0.1791, 0.0584, 0.6033]],\n",
              "\n",
              "        [[0.4642, 0.2161, 0.0611, 0.2400, 0.4083, 0.6539, 0.8753, 0.2964,\n",
              "          0.3296, 0.6151, 0.7692, 0.9027, 0.1586, 0.8425, 0.1337, 0.5477],\n",
              "         [0.7745, 0.1593, 0.6981, 0.2802, 0.1155, 0.0513, 0.5441, 0.7962,\n",
              "          0.1473, 0.2523, 0.7283, 0.5617, 0.8386, 0.9988, 0.1125, 0.4029],\n",
              "         [0.6550, 0.4554, 0.4132, 0.0200, 0.4884, 0.0947, 0.9688, 0.0319,\n",
              "          0.5431, 0.7279, 0.7715, 0.6712, 0.5603, 0.6719, 0.0030, 0.4483],\n",
              "         [0.0518, 0.2578, 0.0110, 0.6830, 0.8190, 0.5396, 0.6255, 0.7770,\n",
              "          0.3347, 0.8024, 0.4206, 0.0697, 0.8875, 0.2590, 0.2806, 0.4152],\n",
              "         [0.4038, 0.7979, 0.5463, 0.9168, 0.3820, 0.9686, 0.0951, 0.3399,\n",
              "          0.9766, 0.6099, 0.1115, 0.5403, 0.2614, 0.3851, 0.9039, 0.5182],\n",
              "         [0.1105, 0.6538, 0.8695, 0.7364, 0.7238, 0.8380, 0.4778, 0.7366,\n",
              "          0.0920, 0.6387, 0.7432, 0.8910, 0.0272, 0.6431, 0.2398, 0.7610],\n",
              "         [0.4970, 0.7781, 0.7018, 0.6115, 0.8343, 0.2834, 0.9366, 0.1424,\n",
              "          0.9199, 0.8400, 0.7524, 0.7995, 0.4951, 0.1595, 0.1129, 0.4605],\n",
              "         [0.0812, 0.7160, 0.2502, 0.9288, 0.1672, 0.8531, 0.1039, 0.7600,\n",
              "          0.6096, 0.7629, 0.3307, 0.7939, 0.9926, 0.1163, 0.4946, 0.9485],\n",
              "         [0.4244, 0.2437, 0.1567, 0.1748, 0.4536, 0.3600, 0.8145, 0.9089,\n",
              "          0.9322, 0.9447, 0.1313, 0.3220, 0.5231, 0.9764, 0.6762, 0.8493],\n",
              "         [0.2018, 0.5324, 0.4870, 0.0776, 0.6480, 0.2955, 0.3218, 0.8349,\n",
              "          0.3609, 0.3211, 0.1300, 0.4359, 0.1550, 0.2835, 0.3228, 0.6808],\n",
              "         [0.6325, 0.5928, 0.3630, 0.6492, 0.2838, 0.1736, 0.8305, 0.4489,\n",
              "          0.1309, 0.2117, 0.4712, 0.2300, 0.7079, 0.5087, 0.1926, 0.7236],\n",
              "         [0.1161, 0.8400, 0.0790, 0.9393, 0.2518, 0.2429, 0.5846, 0.1575,\n",
              "          0.6662, 0.4025, 0.3411, 0.6987, 0.3932, 0.2867, 0.2944, 0.0627],\n",
              "         [0.2781, 0.9072, 0.0941, 0.2569, 0.4151, 0.0327, 0.0039, 0.5856,\n",
              "          0.8091, 0.0096, 0.7836, 0.7576, 0.4166, 0.1157, 0.8206, 0.0076],\n",
              "         [0.4113, 0.7169, 0.6635, 0.8067, 0.4235, 0.4998, 0.2526, 0.8942,\n",
              "          0.8204, 0.3273, 0.6439, 0.6128, 0.0044, 0.1570, 0.4851, 0.8108],\n",
              "         [0.4255, 0.8211, 0.7419, 0.1342, 0.6079, 0.6750, 0.2981, 0.4418,\n",
              "          0.0453, 0.3979, 0.4459, 0.0820, 0.3563, 0.9714, 0.6889, 0.7214],\n",
              "         [0.8013, 0.4966, 0.1008, 0.3887, 0.0381, 0.3063, 0.5260, 0.2059,\n",
              "          0.1759, 0.7442, 0.7961, 0.3024, 0.2876, 0.0030, 0.9401, 0.1119]]])"
            ]
          },
          "metadata": {},
          "execution_count": 50
        }
      ]
    },
    {
      "cell_type": "code",
      "source": [],
      "metadata": {
        "id": "6otBRBio5fDl"
      },
      "id": "6otBRBio5fDl",
      "execution_count": null,
      "outputs": []
    }
  ],
  "metadata": {
    "kernelspec": {
      "display_name": "Python 3",
      "name": "python3"
    },
    "language_info": {
      "codemirror_mode": {
        "name": "ipython",
        "version": 3
      },
      "file_extension": ".py",
      "mimetype": "text/x-python",
      "name": "python",
      "nbconvert_exporter": "python",
      "pygments_lexer": "ipython3",
      "version": "3.13.5"
    },
    "colab": {
      "provenance": [],
      "include_colab_link": true
    }
  },
  "nbformat": 4,
  "nbformat_minor": 5
}