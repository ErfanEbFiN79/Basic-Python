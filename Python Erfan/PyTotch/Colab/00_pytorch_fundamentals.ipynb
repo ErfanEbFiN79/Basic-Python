{
  "cells": [
    {
      "cell_type": "markdown",
      "metadata": {
        "id": "view-in-github",
        "colab_type": "text"
      },
      "source": [
        "<a href=\"https://colab.research.google.com/github/ErfanEbFiN79/Erfan-Python/blob/main/Python%20Erfan/PyTotch/Colab/00_pytorch_fundamentals.ipynb\" target=\"_parent\"><img src=\"https://colab.research.google.com/assets/colab-badge.svg\" alt=\"Open In Colab\"/></a>"
      ]
    },
    {
      "cell_type": "code",
      "execution_count": 1,
      "id": "e0d2832c-af09-4dde-8920-0fbaaeb65815",
      "metadata": {
        "colab": {
          "base_uri": "https://localhost:8080/"
        },
        "id": "e0d2832c-af09-4dde-8920-0fbaaeb65815",
        "outputId": "97c6ef7b-b870-46be-abfa-99a5761fab6d"
      },
      "outputs": [
        {
          "output_type": "stream",
          "name": "stdout",
          "text": [
            "/bin/bash: line 1: nvidia-smi: command not found\n"
          ]
        }
      ],
      "source": [
        "!nvidia-smi"
      ]
    },
    {
      "cell_type": "code",
      "execution_count": 2,
      "id": "01b61bed-02a3-44dc-a694-eb387c0f1803",
      "metadata": {
        "id": "01b61bed-02a3-44dc-a694-eb387c0f1803"
      },
      "outputs": [],
      "source": [
        "import torch"
      ]
    },
    {
      "cell_type": "code",
      "source": [
        "print(torch.__version__)"
      ],
      "metadata": {
        "colab": {
          "base_uri": "https://localhost:8080/"
        },
        "id": "gHjiM7_y4uD4",
        "outputId": "62b4eaa1-fa15-451a-b274-4ddfbf5b2b1c"
      },
      "id": "gHjiM7_y4uD4",
      "execution_count": 3,
      "outputs": [
        {
          "output_type": "stream",
          "name": "stdout",
          "text": [
            "2.6.0+cu124\n"
          ]
        }
      ]
    },
    {
      "cell_type": "markdown",
      "source": [],
      "metadata": {
        "id": "1L1ayKTs5l1y"
      },
      "id": "1L1ayKTs5l1y"
    },
    {
      "cell_type": "markdown",
      "source": [
        "## Introduction to Tensors\n",
        "Creating Tensors"
      ],
      "metadata": {
        "id": "kFg7ZKXY5nau"
      },
      "id": "kFg7ZKXY5nau"
    },
    {
      "cell_type": "markdown",
      "source": [
        "Scalers are linear (or more precisely affine) transformers and differ from each other in the way they estimate the parameters used to shift and scale each feature. QuantileTransformer provides non-linear transformations in which distances between marginal outliers and inliers are shrunk."
      ],
      "metadata": {
        "id": "V8Uu4UEx6t1e"
      },
      "id": "V8Uu4UEx6t1e"
    },
    {
      "cell_type": "markdown",
      "source": [
        "PyTorch tensors are created usin torch.Tensor()"
      ],
      "metadata": {
        "id": "5MBXySiz69pX"
      },
      "id": "5MBXySiz69pX"
    },
    {
      "cell_type": "code",
      "source": [
        "# scalar\n",
        "scalar = torch.tensor(7)\n",
        "scalar"
      ],
      "metadata": {
        "colab": {
          "base_uri": "https://localhost:8080/"
        },
        "id": "hODJcyau420U",
        "outputId": "8dd148c6-5459-4854-9c88-848ad5432fc4"
      },
      "id": "hODJcyau420U",
      "execution_count": 4,
      "outputs": [
        {
          "output_type": "execute_result",
          "data": {
            "text/plain": [
              "tensor(7)"
            ]
          },
          "metadata": {},
          "execution_count": 4
        }
      ]
    },
    {
      "cell_type": "code",
      "source": [
        "scalar.ndim"
      ],
      "metadata": {
        "colab": {
          "base_uri": "https://localhost:8080/"
        },
        "id": "lwAebDZ_7NSz",
        "outputId": "87909684-caa9-4431-874e-a86989a5785c"
      },
      "id": "lwAebDZ_7NSz",
      "execution_count": 5,
      "outputs": [
        {
          "output_type": "execute_result",
          "data": {
            "text/plain": [
              "0"
            ]
          },
          "metadata": {},
          "execution_count": 5
        }
      ]
    },
    {
      "cell_type": "code",
      "source": [
        "# Get tensor back as python int\n",
        "scalar.item()"
      ],
      "metadata": {
        "colab": {
          "base_uri": "https://localhost:8080/"
        },
        "id": "GzKIFJFB7fl-",
        "outputId": "77d9889f-b2ca-4498-9cb4-123ba6a7f90b"
      },
      "id": "GzKIFJFB7fl-",
      "execution_count": 6,
      "outputs": [
        {
          "output_type": "execute_result",
          "data": {
            "text/plain": [
              "7"
            ]
          },
          "metadata": {},
          "execution_count": 6
        }
      ]
    },
    {
      "cell_type": "code",
      "source": [
        "# Vector\n",
        "vector = torch.tensor([7,7])\n",
        "vector"
      ],
      "metadata": {
        "colab": {
          "base_uri": "https://localhost:8080/"
        },
        "id": "oO2ZYl537qgM",
        "outputId": "53d732d5-48b6-45c8-e88e-a43e7009a4e1"
      },
      "id": "oO2ZYl537qgM",
      "execution_count": 7,
      "outputs": [
        {
          "output_type": "execute_result",
          "data": {
            "text/plain": [
              "tensor([7, 7])"
            ]
          },
          "metadata": {},
          "execution_count": 7
        }
      ]
    },
    {
      "cell_type": "code",
      "source": [
        "vector.ndim"
      ],
      "metadata": {
        "colab": {
          "base_uri": "https://localhost:8080/"
        },
        "id": "EYz4tMjB8Wmp",
        "outputId": "e0ac959e-d285-4052-9396-09d3ca7a2040"
      },
      "id": "EYz4tMjB8Wmp",
      "execution_count": 8,
      "outputs": [
        {
          "output_type": "execute_result",
          "data": {
            "text/plain": [
              "1"
            ]
          },
          "metadata": {},
          "execution_count": 8
        }
      ]
    },
    {
      "cell_type": "code",
      "source": [
        "vector.shape"
      ],
      "metadata": {
        "colab": {
          "base_uri": "https://localhost:8080/"
        },
        "id": "UqX-wneq8e_L",
        "outputId": "555e4d27-d151-481b-80f7-0aeba08469a4"
      },
      "id": "UqX-wneq8e_L",
      "execution_count": 9,
      "outputs": [
        {
          "output_type": "execute_result",
          "data": {
            "text/plain": [
              "torch.Size([2])"
            ]
          },
          "metadata": {},
          "execution_count": 9
        }
      ]
    },
    {
      "cell_type": "code",
      "source": [
        "# Matrix\n",
        "Matrix = torch.tensor([[7,8],[9,10]])\n",
        "Matrix"
      ],
      "metadata": {
        "colab": {
          "base_uri": "https://localhost:8080/"
        },
        "id": "sVK4yArg8oH5",
        "outputId": "35b5b902-4244-49ad-c9a1-b831809c09e0"
      },
      "id": "sVK4yArg8oH5",
      "execution_count": 10,
      "outputs": [
        {
          "output_type": "execute_result",
          "data": {
            "text/plain": [
              "tensor([[ 7,  8],\n",
              "        [ 9, 10]])"
            ]
          },
          "metadata": {},
          "execution_count": 10
        }
      ]
    },
    {
      "cell_type": "code",
      "source": [
        "Matrix.ndim"
      ],
      "metadata": {
        "colab": {
          "base_uri": "https://localhost:8080/"
        },
        "id": "_Gcrzxdj84Kn",
        "outputId": "6abb772b-1300-4eb4-8a9c-f478170f658b"
      },
      "id": "_Gcrzxdj84Kn",
      "execution_count": 11,
      "outputs": [
        {
          "output_type": "execute_result",
          "data": {
            "text/plain": [
              "2"
            ]
          },
          "metadata": {},
          "execution_count": 11
        }
      ]
    },
    {
      "cell_type": "code",
      "source": [
        "Matrix.size()"
      ],
      "metadata": {
        "colab": {
          "base_uri": "https://localhost:8080/"
        },
        "id": "ZJ9U3M0887oi",
        "outputId": "c36f2dd0-0487-4625-abbc-84f96482c30f"
      },
      "id": "ZJ9U3M0887oi",
      "execution_count": 12,
      "outputs": [
        {
          "output_type": "execute_result",
          "data": {
            "text/plain": [
              "torch.Size([2, 2])"
            ]
          },
          "metadata": {},
          "execution_count": 12
        }
      ]
    },
    {
      "cell_type": "code",
      "source": [
        "Matrix.shape"
      ],
      "metadata": {
        "colab": {
          "base_uri": "https://localhost:8080/"
        },
        "id": "L67ewcpZ8_t4",
        "outputId": "7a8e17b6-d00e-470d-ea4d-e5b10821d4a4"
      },
      "id": "L67ewcpZ8_t4",
      "execution_count": 13,
      "outputs": [
        {
          "output_type": "execute_result",
          "data": {
            "text/plain": [
              "torch.Size([2, 2])"
            ]
          },
          "metadata": {},
          "execution_count": 13
        }
      ]
    },
    {
      "cell_type": "code",
      "source": [
        "type(Matrix)"
      ],
      "metadata": {
        "colab": {
          "base_uri": "https://localhost:8080/"
        },
        "id": "4auLOrkv9DWN",
        "outputId": "689f602c-6ce3-4b55-be2f-c74420bd2fad"
      },
      "id": "4auLOrkv9DWN",
      "execution_count": 14,
      "outputs": [
        {
          "output_type": "execute_result",
          "data": {
            "text/plain": [
              "torch.Tensor"
            ]
          },
          "metadata": {},
          "execution_count": 14
        }
      ]
    },
    {
      "cell_type": "code",
      "source": [
        "Matrix"
      ],
      "metadata": {
        "colab": {
          "base_uri": "https://localhost:8080/"
        },
        "id": "sLv_qXW29QjJ",
        "outputId": "17b8013f-5b09-4afd-b852-08e14596b804"
      },
      "id": "sLv_qXW29QjJ",
      "execution_count": 15,
      "outputs": [
        {
          "output_type": "execute_result",
          "data": {
            "text/plain": [
              "tensor([[ 7,  8],\n",
              "        [ 9, 10]])"
            ]
          },
          "metadata": {},
          "execution_count": 15
        }
      ]
    },
    {
      "cell_type": "code",
      "source": [
        "Matrix[0]"
      ],
      "metadata": {
        "colab": {
          "base_uri": "https://localhost:8080/"
        },
        "id": "Vj7Q8jRY9UvD",
        "outputId": "87d31da4-bfb1-4aa5-be3c-c545b8c27792"
      },
      "id": "Vj7Q8jRY9UvD",
      "execution_count": 16,
      "outputs": [
        {
          "output_type": "execute_result",
          "data": {
            "text/plain": [
              "tensor([7, 8])"
            ]
          },
          "metadata": {},
          "execution_count": 16
        }
      ]
    },
    {
      "cell_type": "code",
      "source": [
        "Matrix[1]"
      ],
      "metadata": {
        "colab": {
          "base_uri": "https://localhost:8080/"
        },
        "id": "6pzPHicI9XBo",
        "outputId": "eea68071-613d-4a62-8b08-8fcb8fa40e19"
      },
      "id": "6pzPHicI9XBo",
      "execution_count": 17,
      "outputs": [
        {
          "output_type": "execute_result",
          "data": {
            "text/plain": [
              "tensor([ 9, 10])"
            ]
          },
          "metadata": {},
          "execution_count": 17
        }
      ]
    },
    {
      "cell_type": "code",
      "source": [
        "# TENSOR\n",
        "\n",
        "TENSOR = torch.tensor([[[1,2,3],\n",
        "                        [3,6,9],\n",
        "                        [2,4,5]]])\n",
        "TENSOR"
      ],
      "metadata": {
        "colab": {
          "base_uri": "https://localhost:8080/"
        },
        "id": "CydECr5N9lXL",
        "outputId": "a142a445-17ad-44a2-c405-8bec762f01e6"
      },
      "id": "CydECr5N9lXL",
      "execution_count": 18,
      "outputs": [
        {
          "output_type": "execute_result",
          "data": {
            "text/plain": [
              "tensor([[[1, 2, 3],\n",
              "         [3, 6, 9],\n",
              "         [2, 4, 5]]])"
            ]
          },
          "metadata": {},
          "execution_count": 18
        }
      ]
    },
    {
      "cell_type": "code",
      "source": [
        "TENSOR.ndim"
      ],
      "metadata": {
        "colab": {
          "base_uri": "https://localhost:8080/"
        },
        "id": "q7xsnpLU9Y1a",
        "outputId": "a52c8116-9f9e-46f1-cd90-95961e878a67"
      },
      "id": "q7xsnpLU9Y1a",
      "execution_count": 19,
      "outputs": [
        {
          "output_type": "execute_result",
          "data": {
            "text/plain": [
              "3"
            ]
          },
          "metadata": {},
          "execution_count": 19
        }
      ]
    },
    {
      "cell_type": "code",
      "source": [
        "TENSOR.shape"
      ],
      "metadata": {
        "colab": {
          "base_uri": "https://localhost:8080/"
        },
        "id": "ezwGdKuU9-AT",
        "outputId": "a5e9c6aa-044b-4296-fbc8-661f3276379c"
      },
      "id": "ezwGdKuU9-AT",
      "execution_count": 20,
      "outputs": [
        {
          "output_type": "execute_result",
          "data": {
            "text/plain": [
              "torch.Size([1, 3, 3])"
            ]
          },
          "metadata": {},
          "execution_count": 20
        }
      ]
    },
    {
      "cell_type": "code",
      "source": [
        "TENSOR[0]"
      ],
      "metadata": {
        "colab": {
          "base_uri": "https://localhost:8080/"
        },
        "id": "zpUUp9Qw-AEh",
        "outputId": "270a8857-0e49-4eb8-ce2d-ba943a1b07d3"
      },
      "id": "zpUUp9Qw-AEh",
      "execution_count": 21,
      "outputs": [
        {
          "output_type": "execute_result",
          "data": {
            "text/plain": [
              "tensor([[1, 2, 3],\n",
              "        [3, 6, 9],\n",
              "        [2, 4, 5]])"
            ]
          },
          "metadata": {},
          "execution_count": 21
        }
      ]
    },
    {
      "cell_type": "code",
      "source": [
        "TENSOR[0][0]"
      ],
      "metadata": {
        "colab": {
          "base_uri": "https://localhost:8080/"
        },
        "id": "2p5BSZZE-KEz",
        "outputId": "bbae9d63-898f-478d-d3d7-8d9fa2cbd8df"
      },
      "id": "2p5BSZZE-KEz",
      "execution_count": 22,
      "outputs": [
        {
          "output_type": "execute_result",
          "data": {
            "text/plain": [
              "tensor([1, 2, 3])"
            ]
          },
          "metadata": {},
          "execution_count": 22
        }
      ]
    },
    {
      "cell_type": "code",
      "source": [
        "TENSOR[0][2]"
      ],
      "metadata": {
        "colab": {
          "base_uri": "https://localhost:8080/"
        },
        "id": "M3urRfqF-U1K",
        "outputId": "f90c8751-b91f-436c-c73d-5e1330cf793b"
      },
      "id": "M3urRfqF-U1K",
      "execution_count": 23,
      "outputs": [
        {
          "output_type": "execute_result",
          "data": {
            "text/plain": [
              "tensor([2, 4, 5])"
            ]
          },
          "metadata": {},
          "execution_count": 23
        }
      ]
    },
    {
      "cell_type": "code",
      "source": [
        "TENSOR[0][1][1]"
      ],
      "metadata": {
        "colab": {
          "base_uri": "https://localhost:8080/"
        },
        "id": "68-3uWPS-Mmx",
        "outputId": "9b0751d9-bbcc-4532-961a-c5e1e53e3fda"
      },
      "id": "68-3uWPS-Mmx",
      "execution_count": 24,
      "outputs": [
        {
          "output_type": "execute_result",
          "data": {
            "text/plain": [
              "tensor(6)"
            ]
          },
          "metadata": {},
          "execution_count": 24
        }
      ]
    },
    {
      "cell_type": "markdown",
      "source": [],
      "metadata": {
        "id": "blE6H_6px-Bm"
      },
      "id": "blE6H_6px-Bm"
    },
    {
      "cell_type": "code",
      "source": [
        "MyTensorTest = torch.tensor([[[1,2,3],\n",
        "                              [4,5,6],\n",
        "                              [7,8,9]],\n",
        "                             [[10,12,13],\n",
        "                              [14,16,17],\n",
        "                              [18,19,20]]])"
      ],
      "metadata": {
        "id": "Fz9SQGmM-Yjy"
      },
      "id": "Fz9SQGmM-Yjy",
      "execution_count": 25,
      "outputs": []
    },
    {
      "cell_type": "code",
      "source": [
        "MyTensorTest.shape"
      ],
      "metadata": {
        "colab": {
          "base_uri": "https://localhost:8080/"
        },
        "id": "AXgBIa3xxJTD",
        "outputId": "506cfce8-9d7c-4cc1-ac27-72979b2e1329"
      },
      "id": "AXgBIa3xxJTD",
      "execution_count": 26,
      "outputs": [
        {
          "output_type": "execute_result",
          "data": {
            "text/plain": [
              "torch.Size([2, 3, 3])"
            ]
          },
          "metadata": {},
          "execution_count": 26
        }
      ]
    },
    {
      "cell_type": "code",
      "source": [
        "MyTensorTest.ndim"
      ],
      "metadata": {
        "colab": {
          "base_uri": "https://localhost:8080/"
        },
        "id": "_23KPuFKxNZn",
        "outputId": "c3cafefd-191e-4ae7-d05c-62e0e03fb8d4"
      },
      "id": "_23KPuFKxNZn",
      "execution_count": 27,
      "outputs": [
        {
          "output_type": "execute_result",
          "data": {
            "text/plain": [
              "3"
            ]
          },
          "metadata": {},
          "execution_count": 27
        }
      ]
    },
    {
      "cell_type": "code",
      "source": [
        "MyTensorTest[0]"
      ],
      "metadata": {
        "colab": {
          "base_uri": "https://localhost:8080/"
        },
        "id": "4QxPaLiGxVIn",
        "outputId": "b21bb540-bb2d-4235-e0b4-180a7c68730e"
      },
      "id": "4QxPaLiGxVIn",
      "execution_count": 28,
      "outputs": [
        {
          "output_type": "execute_result",
          "data": {
            "text/plain": [
              "tensor([[1, 2, 3],\n",
              "        [4, 5, 6],\n",
              "        [7, 8, 9]])"
            ]
          },
          "metadata": {},
          "execution_count": 28
        }
      ]
    },
    {
      "cell_type": "code",
      "source": [
        "MyTensorTest[1]"
      ],
      "metadata": {
        "colab": {
          "base_uri": "https://localhost:8080/"
        },
        "id": "enQj3LrQxguR",
        "outputId": "00ffa850-51b6-46bc-e346-ef0ce5a482a4"
      },
      "id": "enQj3LrQxguR",
      "execution_count": 29,
      "outputs": [
        {
          "output_type": "execute_result",
          "data": {
            "text/plain": [
              "tensor([[10, 12, 13],\n",
              "        [14, 16, 17],\n",
              "        [18, 19, 20]])"
            ]
          },
          "metadata": {},
          "execution_count": 29
        }
      ]
    },
    {
      "cell_type": "code",
      "source": [
        "# if we want to get a 16 from the Tesnor\n",
        "MyTensorTest[1][1][1]"
      ],
      "metadata": {
        "colab": {
          "base_uri": "https://localhost:8080/"
        },
        "id": "Rip8C1ZAxjiT",
        "outputId": "6153b1e0-0ec3-4f57-a3fa-c96b82de963c"
      },
      "id": "Rip8C1ZAxjiT",
      "execution_count": 30,
      "outputs": [
        {
          "output_type": "execute_result",
          "data": {
            "text/plain": [
              "tensor(16)"
            ]
          },
          "metadata": {},
          "execution_count": 30
        }
      ]
    },
    {
      "cell_type": "markdown",
      "source": [
        "### Random Tensor\n",
        "\n",
        "We've established tensors represent some form of data.\n",
        "\n",
        "And machine learning models such as neural networks manipulate and seek patterns within tensors.\n",
        "\n",
        "But when building machine learning models with PyTorch, it's rare you'll create tensors by hand (like what we've been doing).\n",
        "\n",
        "Instead, a machine learning model often starts out with large random tensors of numbers and adjusts these random numbers as it works through data to better represent it.\n",
        "\n",
        "In essence:\n",
        "\n",
        "'Start with random numbers -> look at data -> update random numbers -> look at data -> update random numbers...'\n",
        "\n",
        "As a data scientist, you can define how the machine learning model starts (initialization), looks at data (representation) and updates (optimization) its random numbers.\n",
        "\n",
        "rand duc => https://docs.pytorch.org/docs/stable/generated/torch.rand.html"
      ],
      "metadata": {
        "id": "gnh_EWfgxwED"
      },
      "id": "gnh_EWfgxwED"
    },
    {
      "cell_type": "code",
      "source": [
        "rand_tensor_1 = torch.rand(3)\n",
        "rand_tensor_2 = torch.rand(3,4)\n",
        "rand_tensor_3 = torch.rand(2,3,8)\n",
        "print(f\"{rand_tensor_1} has {rand_tensor_1.ndim} dimentions and the shape is {rand_tensor_1.shape} and type is {rand_tensor_1.dtype}\\n\")\n",
        "print(f\"{rand_tensor_2} has {rand_tensor_2.ndim} dimentions and the shape is {rand_tensor_2.shape} and type is {rand_tensor_2.dtype}\\n\")\n",
        "print(f\"{rand_tensor_3} has {rand_tensor_3.ndim} dimentions and the shape is {rand_tensor_3.shape} and type is {rand_tensor_3.dtype}\\n\")"
      ],
      "metadata": {
        "colab": {
          "base_uri": "https://localhost:8080/"
        },
        "id": "QMwKWqssyro7",
        "outputId": "a2528fda-3044-4371-f1c1-55ca10480daa"
      },
      "id": "QMwKWqssyro7",
      "execution_count": 31,
      "outputs": [
        {
          "output_type": "stream",
          "name": "stdout",
          "text": [
            "tensor([0.2135, 0.5819, 0.6293]) has 1 dimentions and the shape is torch.Size([3]) and type is torch.float32\n",
            "\n",
            "tensor([[0.0166, 0.1023, 0.1094, 0.4813],\n",
            "        [0.5279, 0.6807, 0.2043, 0.8370],\n",
            "        [0.6337, 0.4773, 0.4027, 0.4094]]) has 2 dimentions and the shape is torch.Size([3, 4]) and type is torch.float32\n",
            "\n",
            "tensor([[[0.1082, 0.8036, 0.6796, 0.8858, 0.5000, 0.9951, 0.4622, 0.8919],\n",
            "         [0.2389, 0.0680, 0.0826, 0.9769, 0.8102, 0.4323, 0.2553, 0.1286],\n",
            "         [0.8422, 0.7211, 0.3975, 0.6940, 0.9613, 0.1121, 0.9524, 0.6224]],\n",
            "\n",
            "        [[0.4081, 0.3220, 0.5403, 0.4395, 0.7696, 0.3162, 0.0377, 0.0287],\n",
            "         [0.1169, 0.9785, 0.2183, 0.7990, 0.2073, 0.4578, 0.1590, 0.9272],\n",
            "         [0.0792, 0.7730, 0.3359, 0.5937, 0.1017, 0.4866, 0.9729, 0.5756]]]) has 3 dimentions and the shape is torch.Size([2, 3, 8]) and type is torch.float32\n",
            "\n"
          ]
        }
      ]
    },
    {
      "cell_type": "markdown",
      "source": [
        "The flexibility of torch.rand() is that we can adjust the size to be whatever we want.\n",
        "\n",
        "For example, say you wanted a random tensor in the common image shape of [224, 224, 3] ([height, width, color_channels])."
      ],
      "metadata": {
        "id": "xYh22AnX3C4M"
      },
      "id": "xYh22AnX3C4M"
    },
    {
      "cell_type": "code",
      "source": [
        "random_image_tensor = torch.rand(size=(3,224,224))\n",
        "print(f\"Dimention = {random_image_tensor.ndim} and shape is {random_image_tensor.shape} => \\n{random_image_tensor }\")"
      ],
      "metadata": {
        "colab": {
          "base_uri": "https://localhost:8080/"
        },
        "id": "kh5nEbBI3Hlw",
        "outputId": "6219597c-e506-4877-c9de-0f9192b6ab9f"
      },
      "id": "kh5nEbBI3Hlw",
      "execution_count": 32,
      "outputs": [
        {
          "output_type": "stream",
          "name": "stdout",
          "text": [
            "Dimention = 3 and shape is torch.Size([3, 224, 224]) => \n",
            "tensor([[[0.8715, 0.4278, 0.2190,  ..., 0.6118, 0.6772, 0.3738],\n",
            "         [0.0990, 0.0261, 0.9465,  ..., 0.5955, 0.7470, 0.6965],\n",
            "         [0.5722, 0.0668, 0.0826,  ..., 0.5635, 0.7139, 0.2558],\n",
            "         ...,\n",
            "         [0.3235, 0.2765, 0.1514,  ..., 0.4615, 0.1645, 0.8618],\n",
            "         [0.6819, 0.8339, 0.8110,  ..., 0.9344, 0.4679, 0.4077],\n",
            "         [0.2512, 0.4292, 0.8543,  ..., 0.5358, 0.9285, 0.9027]],\n",
            "\n",
            "        [[0.4420, 0.5188, 0.8345,  ..., 0.2538, 0.7166, 0.2464],\n",
            "         [0.3370, 0.8197, 0.6067,  ..., 0.0255, 0.8486, 0.5097],\n",
            "         [0.2598, 0.9070, 0.1774,  ..., 0.7021, 0.5387, 0.8692],\n",
            "         ...,\n",
            "         [0.5320, 0.8652, 0.3365,  ..., 0.9929, 0.8769, 0.2881],\n",
            "         [0.6806, 0.1568, 0.9617,  ..., 0.6339, 0.0330, 0.2993],\n",
            "         [0.5527, 0.7235, 0.1331,  ..., 0.2681, 0.8381, 0.9481]],\n",
            "\n",
            "        [[0.0633, 0.4538, 0.5716,  ..., 0.7854, 0.2222, 0.9609],\n",
            "         [0.5295, 0.2758, 0.3300,  ..., 0.0146, 0.6709, 0.6050],\n",
            "         [0.6091, 0.3038, 0.4714,  ..., 0.5287, 0.2337, 0.1575],\n",
            "         ...,\n",
            "         [0.4316, 0.1412, 0.2296,  ..., 0.6044, 0.0990, 0.0010],\n",
            "         [0.7622, 0.4861, 0.2389,  ..., 0.3511, 0.4755, 0.0219],\n",
            "         [0.5970, 0.4415, 0.4918,  ..., 0.3867, 0.6696, 0.9602]]])\n"
          ]
        }
      ]
    },
    {
      "cell_type": "markdown",
      "source": [],
      "metadata": {
        "id": "vzmTu-Brxy0G"
      },
      "id": "vzmTu-Brxy0G"
    },
    {
      "cell_type": "code",
      "source": [
        "# HandWriting at 16 * 16 black and white\n",
        "# black < 0.5 / white >= 0\n",
        "rand_handwriting_00 = torch.rand(2,16,16)\n",
        "rand_handwriting_00"
      ],
      "metadata": {
        "colab": {
          "base_uri": "https://localhost:8080/"
        },
        "id": "tsf5uXhR5NR9",
        "outputId": "26f150b2-c190-4238-d44a-7ddc60ddbb4f"
      },
      "id": "tsf5uXhR5NR9",
      "execution_count": 33,
      "outputs": [
        {
          "output_type": "execute_result",
          "data": {
            "text/plain": [
              "tensor([[[1.3814e-01, 1.4135e-01, 6.5382e-01, 9.1483e-01, 1.9479e-01,\n",
              "          8.3286e-01, 3.1117e-01, 4.9607e-02, 6.7277e-01, 6.3756e-01,\n",
              "          2.8613e-01, 9.0010e-01, 3.7629e-01, 7.3545e-01, 1.2335e-01,\n",
              "          8.6614e-01],\n",
              "         [1.0297e-01, 3.1887e-01, 4.1634e-01, 3.9565e-01, 2.5095e-02,\n",
              "          9.5100e-03, 7.3543e-01, 5.9454e-02, 7.8173e-01, 9.8531e-01,\n",
              "          7.7418e-01, 4.6480e-01, 1.6310e-01, 2.2304e-01, 3.1290e-01,\n",
              "          2.5852e-02],\n",
              "         [9.2968e-02, 9.7758e-01, 8.4021e-01, 3.1446e-02, 4.0146e-01,\n",
              "          7.3150e-01, 8.0015e-01, 4.1671e-01, 8.4821e-01, 4.6063e-01,\n",
              "          3.3935e-01, 9.3935e-01, 2.8256e-01, 4.2532e-01, 1.4099e-01,\n",
              "          6.9151e-01],\n",
              "         [3.3976e-01, 3.2021e-01, 5.1621e-01, 4.9744e-01, 9.5798e-02,\n",
              "          2.2844e-01, 2.1019e-01, 6.8208e-01, 1.9501e-02, 4.3707e-01,\n",
              "          3.5658e-01, 6.2822e-01, 4.1278e-01, 7.3163e-01, 7.4092e-01,\n",
              "          9.9536e-01],\n",
              "         [9.7014e-01, 6.3400e-01, 4.0448e-01, 4.8266e-01, 2.5187e-01,\n",
              "          7.8707e-01, 1.0392e-01, 4.7994e-01, 8.8742e-01, 5.2983e-01,\n",
              "          8.5269e-01, 2.2736e-01, 3.6211e-01, 7.1394e-01, 3.2879e-01,\n",
              "          5.5673e-01],\n",
              "         [7.6285e-01, 4.2339e-01, 1.0113e-01, 1.0416e-01, 4.0172e-01,\n",
              "          9.8775e-01, 7.4263e-01, 2.6489e-01, 5.2847e-01, 9.4980e-01,\n",
              "          7.9894e-01, 5.3263e-01, 4.8616e-01, 2.3934e-01, 6.5841e-01,\n",
              "          2.2623e-01],\n",
              "         [7.2981e-01, 5.2632e-01, 1.8721e-01, 1.6477e-01, 7.3009e-01,\n",
              "          7.1344e-01, 2.9182e-01, 9.0295e-01, 4.1230e-01, 9.0036e-01,\n",
              "          5.3735e-02, 8.8863e-01, 9.7275e-01, 7.9563e-02, 2.1773e-01,\n",
              "          4.9240e-01],\n",
              "         [2.1387e-01, 9.7407e-02, 1.8044e-01, 4.8966e-01, 5.5947e-01,\n",
              "          1.3788e-01, 3.1975e-01, 6.5612e-01, 6.2456e-01, 2.2523e-01,\n",
              "          1.0578e-01, 6.9883e-01, 7.7035e-01, 2.7197e-01, 7.1492e-02,\n",
              "          5.4412e-01],\n",
              "         [3.8152e-01, 5.9876e-01, 3.7118e-01, 3.3236e-04, 4.0133e-02,\n",
              "          5.0669e-01, 8.0006e-01, 3.4634e-01, 5.0843e-01, 8.2371e-01,\n",
              "          6.2054e-01, 4.7208e-01, 2.3992e-01, 3.3722e-01, 4.2749e-01,\n",
              "          7.3841e-03],\n",
              "         [9.0725e-01, 1.8458e-01, 6.6557e-01, 7.9074e-01, 6.7114e-02,\n",
              "          7.2179e-01, 8.4895e-01, 8.5885e-01, 7.7856e-01, 9.9806e-01,\n",
              "          7.2566e-01, 6.9355e-01, 1.6429e-01, 9.0082e-01, 9.4992e-01,\n",
              "          7.8516e-01],\n",
              "         [1.3564e-01, 8.7980e-01, 1.1009e-01, 8.8625e-01, 7.6355e-02,\n",
              "          6.8301e-01, 9.1728e-01, 2.4006e-02, 4.1273e-01, 9.1828e-01,\n",
              "          1.5234e-01, 9.6753e-01, 5.0445e-01, 5.3035e-01, 6.3379e-01,\n",
              "          8.8190e-01],\n",
              "         [2.8417e-01, 9.6948e-01, 7.3336e-01, 2.5260e-01, 2.6339e-01,\n",
              "          2.1240e-02, 7.9298e-01, 7.1722e-01, 4.6270e-02, 8.0001e-01,\n",
              "          3.8166e-01, 9.4747e-01, 8.0259e-01, 9.6611e-01, 4.4620e-01,\n",
              "          3.9232e-01],\n",
              "         [8.3954e-01, 2.5042e-01, 1.7283e-01, 4.0711e-01, 6.8678e-01,\n",
              "          3.1030e-01, 2.7630e-01, 5.6350e-01, 6.9439e-01, 3.6852e-01,\n",
              "          1.2629e-01, 5.1728e-01, 1.8627e-01, 2.5478e-01, 2.0272e-01,\n",
              "          1.5306e-02],\n",
              "         [3.8113e-01, 3.8080e-01, 1.3379e-02, 2.8688e-01, 5.9822e-01,\n",
              "          8.7644e-01, 9.4430e-01, 7.5657e-01, 2.2305e-01, 8.4552e-01,\n",
              "          2.7450e-01, 8.1795e-01, 1.0170e-01, 6.6462e-01, 7.8057e-01,\n",
              "          2.1546e-01],\n",
              "         [4.7544e-01, 7.8676e-01, 6.5602e-01, 3.4641e-01, 4.3009e-01,\n",
              "          1.7363e-01, 2.5460e-01, 8.2092e-01, 5.8760e-01, 9.7466e-01,\n",
              "          5.9344e-01, 8.8615e-01, 8.6075e-01, 8.7938e-01, 8.2024e-01,\n",
              "          6.0345e-01],\n",
              "         [9.1447e-01, 4.4360e-01, 4.5735e-01, 8.6408e-01, 1.8547e-01,\n",
              "          1.1949e-01, 4.6480e-02, 4.7296e-01, 1.6730e-01, 2.5542e-01,\n",
              "          6.4565e-01, 3.1512e-01, 8.8413e-01, 7.1751e-01, 9.1732e-01,\n",
              "          5.6494e-01]],\n",
              "\n",
              "        [[6.3787e-01, 8.2400e-01, 1.3330e-01, 1.9545e-01, 1.9238e-01,\n",
              "          2.7149e-01, 6.8165e-01, 3.1208e-01, 8.7982e-01, 3.5093e-01,\n",
              "          3.5932e-01, 9.3984e-01, 9.0870e-01, 1.2043e-01, 6.3536e-01,\n",
              "          3.9027e-01],\n",
              "         [9.7427e-02, 9.9260e-01, 3.2641e-01, 2.7082e-01, 8.4029e-01,\n",
              "          5.8256e-01, 9.4704e-01, 7.9683e-01, 7.8345e-01, 1.6591e-01,\n",
              "          4.6774e-01, 2.9524e-01, 3.9240e-01, 7.5152e-01, 3.3932e-01,\n",
              "          5.6341e-01],\n",
              "         [4.5410e-01, 1.3017e-01, 7.6907e-01, 8.8878e-01, 3.6629e-02,\n",
              "          8.2784e-02, 7.0886e-01, 2.1275e-01, 2.3101e-02, 4.2124e-01,\n",
              "          5.0219e-01, 2.7945e-01, 6.4472e-01, 5.7070e-01, 3.8359e-01,\n",
              "          6.2003e-01],\n",
              "         [7.9327e-01, 1.9816e-01, 5.4050e-01, 7.0173e-02, 8.9082e-01,\n",
              "          2.1054e-01, 1.8548e-01, 6.8284e-01, 1.7598e-01, 5.9685e-01,\n",
              "          3.0918e-01, 1.8234e-01, 2.3028e-01, 4.4849e-01, 9.7861e-01,\n",
              "          8.3226e-01],\n",
              "         [7.3241e-01, 1.4845e-01, 1.0104e-01, 9.6345e-01, 5.5870e-01,\n",
              "          4.9023e-01, 5.4697e-01, 7.1995e-01, 2.7924e-01, 3.4220e-01,\n",
              "          2.5301e-01, 6.7607e-01, 2.5614e-01, 3.0710e-01, 8.9250e-01,\n",
              "          1.3277e-01],\n",
              "         [9.8741e-01, 9.2503e-01, 9.4603e-01, 1.5719e-01, 8.6401e-01,\n",
              "          8.3837e-01, 8.5876e-01, 8.1992e-01, 8.7499e-01, 5.1123e-01,\n",
              "          6.6239e-01, 7.7273e-01, 1.9854e-01, 7.0035e-01, 5.5740e-01,\n",
              "          7.0124e-01],\n",
              "         [3.4260e-01, 8.4336e-01, 8.1896e-01, 5.9555e-01, 5.2200e-01,\n",
              "          1.9200e-01, 8.0282e-01, 5.5000e-01, 1.3421e-01, 6.8334e-02,\n",
              "          3.6250e-01, 7.3162e-01, 6.6723e-01, 4.7678e-01, 4.0574e-02,\n",
              "          1.3023e-01],\n",
              "         [5.5226e-01, 2.5627e-01, 9.7325e-01, 5.1050e-01, 9.4319e-01,\n",
              "          9.3750e-01, 2.4581e-01, 5.3632e-02, 5.7741e-01, 4.5125e-01,\n",
              "          9.1628e-01, 3.0517e-01, 7.3631e-01, 9.2567e-01, 3.1668e-01,\n",
              "          3.5854e-01],\n",
              "         [3.8408e-01, 4.2329e-01, 6.0179e-01, 7.9413e-01, 1.6590e-01,\n",
              "          7.4925e-01, 6.6345e-01, 9.3186e-02, 2.6798e-01, 4.0940e-01,\n",
              "          2.1283e-01, 4.7437e-01, 9.5053e-01, 9.6334e-01, 2.0388e-01,\n",
              "          9.9879e-01],\n",
              "         [9.3422e-01, 5.8058e-01, 4.8500e-01, 3.8163e-01, 5.2634e-01,\n",
              "          5.5179e-01, 7.4317e-01, 3.3917e-01, 9.9871e-03, 4.6980e-01,\n",
              "          7.3637e-01, 2.0433e-01, 3.3721e-01, 6.3308e-01, 1.1792e-01,\n",
              "          3.2032e-01],\n",
              "         [2.2387e-01, 6.5801e-03, 7.9790e-01, 5.7251e-01, 6.0338e-01,\n",
              "          1.0150e-01, 4.5087e-01, 4.1389e-01, 4.6032e-01, 4.8297e-01,\n",
              "          7.6317e-01, 4.0209e-01, 3.4538e-01, 7.5386e-01, 2.2795e-01,\n",
              "          6.1667e-01],\n",
              "         [4.8655e-01, 6.4158e-01, 9.5440e-02, 9.1386e-01, 1.9118e-01,\n",
              "          1.8982e-02, 4.6786e-01, 9.7210e-01, 5.7057e-01, 6.3103e-01,\n",
              "          8.2649e-01, 8.7063e-01, 3.7503e-01, 2.6513e-01, 6.9522e-01,\n",
              "          7.9217e-01],\n",
              "         [1.9371e-01, 5.7561e-01, 8.4961e-01, 9.9647e-01, 8.9609e-01,\n",
              "          8.4126e-01, 4.2315e-01, 7.1270e-01, 4.0540e-03, 2.0007e-01,\n",
              "          8.1643e-01, 3.8329e-01, 1.2708e-01, 9.5498e-02, 2.2214e-01,\n",
              "          8.8423e-02],\n",
              "         [9.7478e-01, 3.8276e-01, 7.3815e-01, 2.2537e-02, 4.0630e-01,\n",
              "          9.8592e-01, 2.9060e-01, 9.5720e-01, 3.6605e-01, 9.2981e-01,\n",
              "          2.9562e-01, 1.5559e-01, 7.6148e-01, 9.4783e-01, 3.0525e-01,\n",
              "          7.8594e-01],\n",
              "         [7.5798e-01, 2.8011e-01, 8.1881e-01, 7.4428e-01, 6.0173e-02,\n",
              "          2.2624e-01, 5.3372e-01, 7.5003e-02, 4.3401e-01, 9.8298e-01,\n",
              "          3.5059e-01, 6.5264e-02, 9.9880e-01, 6.9694e-02, 3.2439e-01,\n",
              "          2.6678e-01],\n",
              "         [5.5806e-02, 5.0716e-01, 1.2349e-01, 2.2717e-02, 8.6610e-01,\n",
              "          3.9424e-01, 4.0140e-01, 6.5599e-01, 4.5412e-01, 1.2029e-01,\n",
              "          9.7219e-01, 5.9731e-01, 2.3100e-01, 5.1970e-02, 3.8829e-01,\n",
              "          5.6761e-01]]])"
            ]
          },
          "metadata": {},
          "execution_count": 33
        }
      ]
    },
    {
      "cell_type": "markdown",
      "source": [
        "## Zeros and ones\n",
        "\n",
        "Sometimes you'll just want to fill tensors with zeros or ones.\n",
        "\n",
        "This happens a lot with masking (like masking some of the values in one tensor with zeros to let a model know not to learn them)."
      ],
      "metadata": {
        "id": "hu--NKXzxB-c"
      },
      "id": "hu--NKXzxB-c"
    },
    {
      "cell_type": "code",
      "source": [
        "# Create a tensor of all zeros\n",
        "zeros = torch.zeros(size=(3,3))\n",
        "print(f\"Structure -> \\n{zeros}\\nType : {zeros.dtype}\")"
      ],
      "metadata": {
        "colab": {
          "base_uri": "https://localhost:8080/"
        },
        "id": "AiaTP1AcxDzo",
        "outputId": "fcec143a-1180-4931-b443-e5a8ddd29526"
      },
      "id": "AiaTP1AcxDzo",
      "execution_count": 34,
      "outputs": [
        {
          "output_type": "stream",
          "name": "stdout",
          "text": [
            "Structure -> \n",
            "tensor([[0., 0., 0.],\n",
            "        [0., 0., 0.],\n",
            "        [0., 0., 0.]])\n",
            "Type : torch.float32\n"
          ]
        }
      ]
    },
    {
      "cell_type": "code",
      "source": [
        "# Create a tensor of all one\n",
        "ones = torch.ones(size=(3,4))\n",
        "print(f\"Structure -> \\n{ones}\\nType : {ones.dtype}\")"
      ],
      "metadata": {
        "colab": {
          "base_uri": "https://localhost:8080/"
        },
        "id": "wnGfV3FZxWDF",
        "outputId": "c6333b70-b468-4298-dee2-14a7dcfbde89"
      },
      "id": "wnGfV3FZxWDF",
      "execution_count": 35,
      "outputs": [
        {
          "output_type": "stream",
          "name": "stdout",
          "text": [
            "Structure -> \n",
            "tensor([[1., 1., 1., 1.],\n",
            "        [1., 1., 1., 1.],\n",
            "        [1., 1., 1., 1.]])\n",
            "Type : torch.float32\n"
          ]
        }
      ]
    },
    {
      "cell_type": "markdown",
      "source": [
        "##Creating a range and tensors like\n",
        "Sometimes you might want a range of numbers, such as 1 to 10 or 0 to 100.\n",
        "\n",
        "You can use torch.arange(start, end, step) to do so.\n",
        "\n",
        "Where:\n",
        "\n",
        "* start = start of range (e.g. 0)\n",
        "* end = end of range (e.g. 10)\n",
        "* step = how many steps in between each value (e.g. 1)"
      ],
      "metadata": {
        "id": "0T-lHhNOz8FI"
      },
      "id": "0T-lHhNOz8FI"
    },
    {
      "cell_type": "code",
      "source": [
        "# 1 until 20 just odd\n",
        "Xodd = torch.arange(1,20,2)\n",
        "Xodd"
      ],
      "metadata": {
        "colab": {
          "base_uri": "https://localhost:8080/"
        },
        "id": "IFQlu2ISz-Vv",
        "outputId": "225ce935-58eb-4b95-ed59-bc0d360405d8"
      },
      "id": "IFQlu2ISz-Vv",
      "execution_count": 36,
      "outputs": [
        {
          "output_type": "execute_result",
          "data": {
            "text/plain": [
              "tensor([ 1,  3,  5,  7,  9, 11, 13, 15, 17, 19])"
            ]
          },
          "metadata": {},
          "execution_count": 36
        }
      ]
    },
    {
      "cell_type": "code",
      "source": [
        "# 1 until 20 just even\n",
        "Xeven = torch.arange(2,21,2)\n",
        "Xeven"
      ],
      "metadata": {
        "colab": {
          "base_uri": "https://localhost:8080/"
        },
        "id": "0ct7iz2t0ZmK",
        "outputId": "3ea99e5b-bc84-4d8f-8b2f-2ed6a001ebff"
      },
      "id": "0ct7iz2t0ZmK",
      "execution_count": 37,
      "outputs": [
        {
          "output_type": "execute_result",
          "data": {
            "text/plain": [
              "tensor([ 2,  4,  6,  8, 10, 12, 14, 16, 18, 20])"
            ]
          },
          "metadata": {},
          "execution_count": 37
        }
      ]
    },
    {
      "cell_type": "code",
      "source": [
        "XFive = torch.arange(0,51,5)\n",
        "XFive"
      ],
      "metadata": {
        "colab": {
          "base_uri": "https://localhost:8080/"
        },
        "id": "oPXqAboo0h3O",
        "outputId": "145c5119-6c49-408c-d4f2-0657d6d6731a"
      },
      "id": "oPXqAboo0h3O",
      "execution_count": 38,
      "outputs": [
        {
          "output_type": "execute_result",
          "data": {
            "text/plain": [
              "tensor([ 0,  5, 10, 15, 20, 25, 30, 35, 40, 45, 50])"
            ]
          },
          "metadata": {},
          "execution_count": 38
        }
      ]
    },
    {
      "cell_type": "markdown",
      "source": [
        "\n",
        "Sometimes you might want one tensor of a certain type with the same shape as another tensor.\n",
        "\n",
        "For example, a tensor of all zeros with the same shape as a previous tensor.\n",
        "\n",
        "To do so you can use torch.zeros_like(input) or torch.ones_like(input) which return a tensor filled with zeros or ones in the same shape as the input respectively."
      ],
      "metadata": {
        "id": "EUBSVY0R068n"
      },
      "id": "EUBSVY0R068n"
    },
    {
      "cell_type": "code",
      "source": [
        "XFive.shape"
      ],
      "metadata": {
        "colab": {
          "base_uri": "https://localhost:8080/"
        },
        "id": "V6bG1IO107W3",
        "outputId": "11c54583-a046-4bbf-bbf2-2f72c0754a73"
      },
      "id": "V6bG1IO107W3",
      "execution_count": 39,
      "outputs": [
        {
          "output_type": "execute_result",
          "data": {
            "text/plain": [
              "torch.Size([11])"
            ]
          },
          "metadata": {},
          "execution_count": 39
        }
      ]
    },
    {
      "cell_type": "code",
      "source": [
        "X_Shape_Copy1 = torch.zeros_like(input=XFive)\n",
        "X_Shape_Copy1, X_Shape_Copy1.shape, X_Shape_Copy1.dtype"
      ],
      "metadata": {
        "colab": {
          "base_uri": "https://localhost:8080/"
        },
        "id": "uDhg56My1DCj",
        "outputId": "3ae66919-39d0-4a3f-f261-7fe5007c6a17"
      },
      "id": "uDhg56My1DCj",
      "execution_count": 40,
      "outputs": [
        {
          "output_type": "execute_result",
          "data": {
            "text/plain": [
              "(tensor([0, 0, 0, 0, 0, 0, 0, 0, 0, 0, 0]), torch.Size([11]), torch.int64)"
            ]
          },
          "metadata": {},
          "execution_count": 40
        }
      ]
    },
    {
      "cell_type": "code",
      "source": [
        "X_Shape_Copy2 = torch.ones_like(X_Shape_Copy1)\n",
        "X_Shape_Copy2, X_Shape_Copy2.shape, X_Shape_Copy2.dtype"
      ],
      "metadata": {
        "colab": {
          "base_uri": "https://localhost:8080/"
        },
        "id": "pqzUwxu61TCf",
        "outputId": "93bf1a0f-ee90-4a21-f880-4c7ec2167b6a"
      },
      "id": "pqzUwxu61TCf",
      "execution_count": 41,
      "outputs": [
        {
          "output_type": "execute_result",
          "data": {
            "text/plain": [
              "(tensor([1, 1, 1, 1, 1, 1, 1, 1, 1, 1, 1]), torch.Size([11]), torch.int64)"
            ]
          },
          "metadata": {},
          "execution_count": 41
        }
      ]
    },
    {
      "cell_type": "markdown",
      "source": [
        "\n",
        "##Tensor datatypes\n",
        "There are many different tensor datatypes available in PyTorch.\n",
        "link: https://docs.pytorch.org/docs/stable/tensors.html#data-types\n",
        "\n",
        "Some are specific for CPU and some are better for GPU.\n",
        "\n",
        "Getting to know which one can take some time.\n",
        "\n",
        "Generally if you see torch.cuda anywhere, the tensor is being used for GPU (since Nvidia GPUs use a computing toolkit called CUDA).\n",
        "\n",
        "The most common type (and generally the default) is torch.float32 or torch.float.\n",
        "\n",
        "This is referred to as \"32-bit floating point\".\n",
        "\n",
        "But there's also 16-bit floating point (torch.float16 or torch.half) and 64-bit floating point (torch.float64 or torch.double).\n",
        "\n",
        "And to confuse things even more there's also 8-bit, 16-bit, 32-bit and 64-bit integers.\n",
        "\n",
        "Plus more!\n",
        "\n",
        "Note: An integer is a flat round number like 7 whereas a float has a decimal 7.0.\n",
        "\n",
        "The reason for all of these is to do with precision in computing.\n",
        "\n",
        "Precision is the amount of detail used to describe a number.\n",
        "\n",
        "The higher the precision value (8, 16, 32), the more detail and hence data used to express a number.\n",
        "\n",
        "This matters in deep learning and numerical computing because you're making so many operations, the more detail you have to calculate on, the more compute you have to use.\n",
        "\n",
        "So lower precision datatypes are generally faster to compute on but sacrifice some performance on evaluation metrics like accuracy (faster to compute but less accurate).\n",
        "\n",
        "Resources:\n",
        "https://docs.pytorch.org/docs/stable/tensors.html#data-types\n",
        "\n",
        "https://en.wikipedia.org/wiki/Precision_(computer_science)\n",
        "\n",
        "See the PyTorch documentation for a list of all available tensor datatypes.\n",
        "Read the Wikipedia page for an overview of what precision in computing) is.\n",
        "Let's see how to create some tensors with specific datatypes. We can do so using the dtype paramete"
      ],
      "metadata": {
        "id": "PM6UhCBR63iG"
      },
      "id": "PM6UhCBR63iG"
    },
    {
      "cell_type": "code",
      "source": [
        "# Default datatype for tensors is float32\n",
        "float_32_tensor = torch.tensor([3.0, 6.0, 9.0],\n",
        "                               dtype=None, # defaults to None, which is torch.float32 or whatever datatype is passed\n",
        "                               device=None, # defaults to None, which uses the default tensor type\n",
        "                               requires_grad=False) # if True, operations performed on the tensor are recorded\n",
        "\n",
        "float_32_tensor.shape, float_32_tensor.dtype, float_32_tensor.device"
      ],
      "metadata": {
        "id": "T97AIxBM1j9_",
        "colab": {
          "base_uri": "https://localhost:8080/"
        },
        "outputId": "da76cee1-5bd2-471a-fe1b-069135f13e5e"
      },
      "id": "T97AIxBM1j9_",
      "execution_count": 42,
      "outputs": [
        {
          "output_type": "execute_result",
          "data": {
            "text/plain": [
              "(torch.Size([3]), torch.float32, device(type='cpu'))"
            ]
          },
          "metadata": {},
          "execution_count": 42
        }
      ]
    },
    {
      "cell_type": "markdown",
      "source": [
        "\n",
        "Aside from shape issues (tensor shapes don't match up), two of the other most common issues you'll come across in PyTorch are datatype and device issues.\n",
        "\n",
        "For example, one of tensors is torch.float32 and the other is torch.float16 (PyTorch often likes tensors to be the same format).\n",
        "\n",
        "Or one of your tensors is on the CPU and the other is on the GPU (PyTorch likes calculations between tensors to be on the same device).\n",
        "\n",
        "We'll see more of this device talk later on.\n",
        "\n",
        "For now let's create a tensor with dtype=torch.float16."
      ],
      "metadata": {
        "id": "9sOrNlXa7p1e"
      },
      "id": "9sOrNlXa7p1e"
    },
    {
      "cell_type": "code",
      "source": [
        "float_32_tensor.dtype"
      ],
      "metadata": {
        "colab": {
          "base_uri": "https://localhost:8080/"
        },
        "id": "JlAUnesvmWl8",
        "outputId": "cb0226fb-ed4f-4099-c9b7-eed15bccbc3b"
      },
      "id": "JlAUnesvmWl8",
      "execution_count": 43,
      "outputs": [
        {
          "output_type": "execute_result",
          "data": {
            "text/plain": [
              "torch.float32"
            ]
          },
          "metadata": {},
          "execution_count": 43
        }
      ]
    },
    {
      "cell_type": "code",
      "source": [
        "float_16_tensor = torch.tensor([3.0, 6.0, 9.0],\n",
        "                               dtype=torch.float16) # torch.half would also work\n",
        "\n",
        "float_16_tensor"
      ],
      "metadata": {
        "colab": {
          "base_uri": "https://localhost:8080/"
        },
        "id": "Iwcc5ZkA7W2h",
        "outputId": "850646ad-ced4-4882-87ab-5891062a6487"
      },
      "id": "Iwcc5ZkA7W2h",
      "execution_count": 44,
      "outputs": [
        {
          "output_type": "execute_result",
          "data": {
            "text/plain": [
              "tensor([3., 6., 9.], dtype=torch.float16)"
            ]
          },
          "metadata": {},
          "execution_count": 44
        }
      ]
    },
    {
      "cell_type": "code",
      "source": [
        "float_16_tensor2 = float_32_tensor.type(torch.float16)\n",
        "float_16_tensor2"
      ],
      "metadata": {
        "id": "yGpHX_D_7s5b",
        "colab": {
          "base_uri": "https://localhost:8080/"
        },
        "outputId": "4865c79b-c687-40f5-9eb8-aaac9f5c061a"
      },
      "id": "yGpHX_D_7s5b",
      "execution_count": 45,
      "outputs": [
        {
          "output_type": "execute_result",
          "data": {
            "text/plain": [
              "tensor([3., 6., 9.], dtype=torch.float16)"
            ]
          },
          "metadata": {},
          "execution_count": 45
        }
      ]
    },
    {
      "cell_type": "code",
      "source": [
        "# WOW, We can do this\n",
        "float_32_tensor * float_16_tensor\n",
        "# but try to use same data type, ok??\n",
        "# because: maby get error at large database"
      ],
      "metadata": {
        "colab": {
          "base_uri": "https://localhost:8080/"
        },
        "id": "YcRkgjVfmR6K",
        "outputId": "6e666396-7902-47ee-e9f3-5a20d3fed50b"
      },
      "id": "YcRkgjVfmR6K",
      "execution_count": 46,
      "outputs": [
        {
          "output_type": "execute_result",
          "data": {
            "text/plain": [
              "tensor([ 9., 36., 81.])"
            ]
          },
          "metadata": {},
          "execution_count": 46
        }
      ]
    },
    {
      "cell_type": "code",
      "source": [
        "float_16_mulb_32 = float_32_tensor * float_16_tensor\n",
        "float_16_mulb_32.dtype"
      ],
      "metadata": {
        "colab": {
          "base_uri": "https://localhost:8080/"
        },
        "id": "y4okxKCBmic3",
        "outputId": "df8b418c-3575-4ed2-a6a1-4b3e1dd883f5"
      },
      "id": "y4okxKCBmic3",
      "execution_count": 47,
      "outputs": [
        {
          "output_type": "execute_result",
          "data": {
            "text/plain": [
              "torch.float32"
            ]
          },
          "metadata": {},
          "execution_count": 47
        }
      ]
    },
    {
      "cell_type": "code",
      "source": [
        "int_32_tensor = torch.tensor([1,2,3], dtype=torch.int32)\n",
        "int_32_tensor"
      ],
      "metadata": {
        "colab": {
          "base_uri": "https://localhost:8080/"
        },
        "id": "puOKZuONnH5N",
        "outputId": "88af71aa-fecf-4aa4-e9ca-94f6d2715907"
      },
      "id": "puOKZuONnH5N",
      "execution_count": 48,
      "outputs": [
        {
          "output_type": "execute_result",
          "data": {
            "text/plain": [
              "tensor([1, 2, 3], dtype=torch.int32)"
            ]
          },
          "metadata": {},
          "execution_count": 48
        }
      ]
    },
    {
      "cell_type": "code",
      "source": [
        "(float_32_tensor * int_32_tensor).dtype\n",
        "# Wow it's work too :/"
      ],
      "metadata": {
        "colab": {
          "base_uri": "https://localhost:8080/"
        },
        "id": "IXgt9CTKnnmp",
        "outputId": "bd7c1648-a769-443a-bc77-9035bedacf46"
      },
      "id": "IXgt9CTKnnmp",
      "execution_count": 49,
      "outputs": [
        {
          "output_type": "execute_result",
          "data": {
            "text/plain": [
              "torch.float32"
            ]
          },
          "metadata": {},
          "execution_count": 49
        }
      ]
    },
    {
      "cell_type": "markdown",
      "source": [
        "### Getting information from tensors\n",
        "Once you've created tensors (or someone else or a PyTorch module has created them for you), you might want to get some information from them.\n",
        "\n",
        "We've seen these before but three of the most common attributes you'll want to find out about tensors are:\n",
        "\n",
        "1. shape - what shape is the tensor? (some operations require specific shape rules)\n",
        "2. dtype - what datatype are the elements within the tensor stored in?\n",
        "3. device - what device is the tensor stored on? (usually GPU or CPU)\n",
        "\n",
        "Let's create a random tensor and find out details about it."
      ],
      "metadata": {
        "id": "JuoB2aVyodoE"
      },
      "id": "JuoB2aVyodoE"
    },
    {
      "cell_type": "code",
      "source": [
        "# Create a tensor\n",
        "exTensor1 = torch.arange(0,11,2)\n",
        "exTensor1"
      ],
      "metadata": {
        "colab": {
          "base_uri": "https://localhost:8080/"
        },
        "id": "tn07Jr2Rnvat",
        "outputId": "0ff93877-61b2-42ca-9df4-9c7d5d2b5c25"
      },
      "id": "tn07Jr2Rnvat",
      "execution_count": 50,
      "outputs": [
        {
          "output_type": "execute_result",
          "data": {
            "text/plain": [
              "tensor([ 0,  2,  4,  6,  8, 10])"
            ]
          },
          "metadata": {},
          "execution_count": 50
        }
      ]
    },
    {
      "cell_type": "code",
      "source": [
        "# Find out details about <exTensor1>\n",
        "print(exTensor1)\n",
        "print(f\"Datatype of tensor: {exTensor1.dtype}\")\n",
        "print(f\"Shape of tensor: {exTensor1.shape}\")\n",
        "print(f\"Dimenstion of tensor: {exTensor1.ndim}\")\n",
        "print(f\"Device tensor is on: {exTensor1.device}\")"
      ],
      "metadata": {
        "colab": {
          "base_uri": "https://localhost:8080/"
        },
        "id": "by1pWEDgpIGr",
        "outputId": "bdf4d16f-d3c1-4ccb-b6f9-3c48054c6d8a"
      },
      "id": "by1pWEDgpIGr",
      "execution_count": 51,
      "outputs": [
        {
          "output_type": "stream",
          "name": "stdout",
          "text": [
            "tensor([ 0,  2,  4,  6,  8, 10])\n",
            "Datatype of tensor: torch.int64\n",
            "Shape of tensor: torch.Size([6])\n",
            "Dimenstion of tensor: 1\n",
            "Device tensor is on: cpu\n"
          ]
        }
      ]
    },
    {
      "cell_type": "code",
      "source": [
        "print(XFive)\n",
        "print(f\"Shape : {XFive.shape}\")\n",
        "print(f\"Data type : {XFive.dtype}\")\n",
        "print(f\"Dimenstion : {XFive.ndim}\")\n",
        "print(f\"Device : {XFive.device}\")"
      ],
      "metadata": {
        "id": "NT39XPlWp4sj",
        "colab": {
          "base_uri": "https://localhost:8080/"
        },
        "outputId": "0ba0804a-d196-4ae7-bc7e-2482466c7f95"
      },
      "id": "NT39XPlWp4sj",
      "execution_count": 55,
      "outputs": [
        {
          "output_type": "stream",
          "name": "stdout",
          "text": [
            "tensor([ 0,  5, 10, 15, 20, 25, 30, 35, 40, 45, 50])\n",
            "Shape : torch.Size([11])\n",
            "Data type : torch.int64\n",
            "Dimenstion : 1\n",
            "Device : cpu\n"
          ]
        }
      ]
    },
    {
      "cell_type": "markdown",
      "source": [
        "## Manipulating tensors (tensor operations)\n",
        "\n",
        "Manipulating tensors (tensor operations)¶\n",
        "In deep learning, data (images, text, video, audio, protein structures, etc) gets represented as tensors.\n",
        "\n",
        "A model learns by investigating those tensors and performing a series of operations (could be 1,000,000s+) on tensors to create a representation of the patterns in the input data.\n",
        "\n",
        "These operations are often a wonderful dance between:\n",
        "\n",
        "* Addition\n",
        "* Substraction\n",
        "* Multiplication (element-wise)\n",
        "* Division\n",
        "* Matrix multiplication\n",
        "And that's it. Sure there are a few more here and there but these are the basic building blocks of neural networks.\n",
        "\n",
        "Stacking these building blocks in the right way, you can create the most sophisticated of neural networks (just like lego!)."
      ],
      "metadata": {
        "id": "dfBu9hr76El-"
      },
      "id": "dfBu9hr76El-"
    },
    {
      "cell_type": "code",
      "source": [
        "exTensor1"
      ],
      "metadata": {
        "colab": {
          "base_uri": "https://localhost:8080/"
        },
        "id": "JxiqyREL5q3T",
        "outputId": "827b1688-7522-4a67-a036-d87fe4dfa75a"
      },
      "id": "JxiqyREL5q3T",
      "execution_count": 56,
      "outputs": [
        {
          "output_type": "execute_result",
          "data": {
            "text/plain": [
              "tensor([ 0,  2,  4,  6,  8, 10])"
            ]
          },
          "metadata": {},
          "execution_count": 56
        }
      ]
    },
    {
      "cell_type": "code",
      "source": [
        "# Let's + 10 to the each of the elements\n",
        "exTensor1 + 10"
      ],
      "metadata": {
        "colab": {
          "base_uri": "https://localhost:8080/"
        },
        "id": "B5sYNnww8j9D",
        "outputId": "8b65e70e-2cc3-41e8-eb40-082922bffc41"
      },
      "id": "B5sYNnww8j9D",
      "execution_count": 58,
      "outputs": [
        {
          "output_type": "execute_result",
          "data": {
            "text/plain": [
              "tensor([10, 12, 14, 16, 18, 20])"
            ]
          },
          "metadata": {},
          "execution_count": 58
        }
      ]
    },
    {
      "cell_type": "code",
      "source": [
        "# Lets try *\n",
        "%%time\n",
        "exTensor1 * 10"
      ],
      "metadata": {
        "colab": {
          "base_uri": "https://localhost:8080/"
        },
        "id": "j95tNlt88tUi",
        "outputId": "67b0e496-19b8-4d7a-fd3f-87cf2a022a36"
      },
      "id": "j95tNlt88tUi",
      "execution_count": 76,
      "outputs": [
        {
          "output_type": "stream",
          "name": "stdout",
          "text": [
            "CPU times: user 92 µs, sys: 9 µs, total: 101 µs\n",
            "Wall time: 106 µs\n"
          ]
        },
        {
          "output_type": "execute_result",
          "data": {
            "text/plain": [
              "tensor([  0,  20,  40,  60,  80, 100])"
            ]
          },
          "metadata": {},
          "execution_count": 76
        }
      ]
    },
    {
      "cell_type": "code",
      "source": [
        "%%time\n",
        "torch.multiply(exTensor1, 10)"
      ],
      "metadata": {
        "colab": {
          "base_uri": "https://localhost:8080/"
        },
        "id": "9Z7l_Yg4_07z",
        "outputId": "13936f54-a30a-4858-f7f7-98699f856cb0"
      },
      "id": "9Z7l_Yg4_07z",
      "execution_count": 77,
      "outputs": [
        {
          "output_type": "stream",
          "name": "stdout",
          "text": [
            "CPU times: user 560 µs, sys: 0 ns, total: 560 µs\n",
            "Wall time: 576 µs\n"
          ]
        },
        {
          "output_type": "execute_result",
          "data": {
            "text/plain": [
              "tensor([  0,  20,  40,  60,  80, 100])"
            ]
          },
          "metadata": {},
          "execution_count": 77
        }
      ]
    },
    {
      "cell_type": "code",
      "source": [
        "# When you dont use = that means you don't change\n",
        "#    the origin value, just you see a results\n",
        "exTensor1"
      ],
      "metadata": {
        "colab": {
          "base_uri": "https://localhost:8080/"
        },
        "id": "8gccKM6R800_",
        "outputId": "bdf0afb4-15de-477e-804d-a96360ee9187"
      },
      "id": "8gccKM6R800_",
      "execution_count": 62,
      "outputs": [
        {
          "output_type": "execute_result",
          "data": {
            "text/plain": [
              "tensor([ 0,  2,  4,  6,  8, 10])"
            ]
          },
          "metadata": {},
          "execution_count": 62
        }
      ]
    },
    {
      "cell_type": "markdown",
      "source": [
        "PyTorch also has a bunch of built-in functions like torch.mul() (short for multiplication) and torch.add() to perform basic operations."
      ],
      "metadata": {
        "id": "3KNH9w_e9L36"
      },
      "id": "3KNH9w_e9L36"
    },
    {
      "cell_type": "code",
      "source": [
        "# Insted of * we can us multiply funation\n",
        "torch.multiply(exTensor1, 10)"
      ],
      "metadata": {
        "colab": {
          "base_uri": "https://localhost:8080/"
        },
        "id": "6ENCF7rb8-I0",
        "outputId": "17a67ccf-3aba-44de-ce34-873b95cae219"
      },
      "id": "6ENCF7rb8-I0",
      "execution_count": 66,
      "outputs": [
        {
          "output_type": "execute_result",
          "data": {
            "text/plain": [
              "tensor([  0,  20,  40,  60,  80, 100])"
            ]
          },
          "metadata": {},
          "execution_count": 66
        }
      ]
    },
    {
      "cell_type": "code",
      "source": [
        "# Insted of + we can us add function\n",
        "print(torch.add(exTensor1, 10))\n",
        "print(torch.add(exTensor1, exTensor1))"
      ],
      "metadata": {
        "colab": {
          "base_uri": "https://localhost:8080/"
        },
        "id": "j7eEnDFk9b-o",
        "outputId": "a0d3aae4-602a-4bd3-c114-0d42409c825f"
      },
      "id": "j7eEnDFk9b-o",
      "execution_count": 69,
      "outputs": [
        {
          "output_type": "stream",
          "name": "stdout",
          "text": [
            "tensor([10, 12, 14, 16, 18, 20])\n",
            "tensor([ 0,  4,  8, 12, 16, 20])\n"
          ]
        }
      ]
    },
    {
      "cell_type": "markdown",
      "source": [
        "! However, it's more common to use the operator symbols like * instead of torch.mul()"
      ],
      "metadata": {
        "id": "R8OARQdw-EMH"
      },
      "id": "R8OARQdw-EMH"
    },
    {
      "cell_type": "markdown",
      "source": [
        "\n",
        "## Matrix multiplication (is all you need)\n",
        "One of the most common operations in machine learning and deep learning algorithms (like neural networks) is matrix multiplication.\n",
        "\n",
        "\n",
        "PyTorch implements matrix multiplication functionality in the torch.matmul() method.\n",
        "\n",
        "The main two rules for matrix multiplication to remember are:\n",
        "\n",
        "1. The **inner dimensions** must match:\n",
        "* (3, 2) @ (3, 2) won't work\n",
        "* (2, 3) @ (3, 2) will work\n",
        "* (3, 2) @ (2, 3) will work\n",
        "The resulting matrix has the shape of\n",
        "2. the **outer dimensions**:\n",
        "* '(2, 3) @ (3, 2)' -> '(2, 2)'\n",
        "* '(3, 2) @ (2, 3)' -> '(3, 3)'\n",
        "\n",
        "Note: \"@\" in Python is the symbol for matrix multiplication.\n",
        "\n",
        "Resource: You can see all of the rules for matrix multiplication using torch.matmul() in the PyTorch documentation."
      ],
      "metadata": {
        "id": "iCMVr0FmI7ox"
      },
      "id": "iCMVr0FmI7ox"
    },
    {
      "cell_type": "code",
      "source": [],
      "metadata": {
        "id": "dfD0gMV391Ni"
      },
      "id": "dfD0gMV391Ni",
      "execution_count": null,
      "outputs": []
    }
  ],
  "metadata": {
    "kernelspec": {
      "display_name": "Python 3",
      "name": "python3"
    },
    "language_info": {
      "codemirror_mode": {
        "name": "ipython",
        "version": 3
      },
      "file_extension": ".py",
      "mimetype": "text/x-python",
      "name": "python",
      "nbconvert_exporter": "python",
      "pygments_lexer": "ipython3",
      "version": "3.13.5"
    },
    "colab": {
      "provenance": [],
      "include_colab_link": true
    }
  },
  "nbformat": 4,
  "nbformat_minor": 5
}