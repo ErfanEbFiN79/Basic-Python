{
  "cells": [
    {
      "cell_type": "markdown",
      "metadata": {
        "id": "view-in-github",
        "colab_type": "text"
      },
      "source": [
        "<a href=\"https://colab.research.google.com/github/ErfanEbFiN79/Erfan-Python/blob/main/Python%20Erfan/PyTorch/Colab/00_pytorch_fundamentals.ipynb\" target=\"_parent\"><img src=\"https://colab.research.google.com/assets/colab-badge.svg\" alt=\"Open In Colab\"/></a>"
      ]
    },
    {
      "cell_type": "code",
      "execution_count": 1,
      "id": "e0d2832c-af09-4dde-8920-0fbaaeb65815",
      "metadata": {
        "colab": {
          "base_uri": "https://localhost:8080/"
        },
        "id": "e0d2832c-af09-4dde-8920-0fbaaeb65815",
        "outputId": "8b9b0269-7f62-4cf2-e21b-26be39885e8e"
      },
      "outputs": [
        {
          "output_type": "stream",
          "name": "stdout",
          "text": [
            "/bin/bash: line 1: nvidia-smi: command not found\n"
          ]
        }
      ],
      "source": [
        "!nvidia-smi"
      ]
    },
    {
      "cell_type": "code",
      "execution_count": 2,
      "id": "01b61bed-02a3-44dc-a694-eb387c0f1803",
      "metadata": {
        "id": "01b61bed-02a3-44dc-a694-eb387c0f1803"
      },
      "outputs": [],
      "source": [
        "import torch"
      ]
    },
    {
      "cell_type": "code",
      "source": [
        "print(torch.__version__)"
      ],
      "metadata": {
        "colab": {
          "base_uri": "https://localhost:8080/"
        },
        "id": "gHjiM7_y4uD4",
        "outputId": "f6dd0fe7-2cc4-4193-d2ee-4023c185f307"
      },
      "id": "gHjiM7_y4uD4",
      "execution_count": 3,
      "outputs": [
        {
          "output_type": "stream",
          "name": "stdout",
          "text": [
            "2.6.0+cu124\n"
          ]
        }
      ]
    },
    {
      "cell_type": "markdown",
      "source": [],
      "metadata": {
        "id": "1L1ayKTs5l1y"
      },
      "id": "1L1ayKTs5l1y"
    },
    {
      "cell_type": "markdown",
      "source": [
        "## Introduction to Tensors\n",
        "Creating Tensors"
      ],
      "metadata": {
        "id": "kFg7ZKXY5nau"
      },
      "id": "kFg7ZKXY5nau"
    },
    {
      "cell_type": "markdown",
      "source": [
        "Scalers are linear (or more precisely affine) transformers and differ from each other in the way they estimate the parameters used to shift and scale each feature. QuantileTransformer provides non-linear transformations in which distances between marginal outliers and inliers are shrunk."
      ],
      "metadata": {
        "id": "V8Uu4UEx6t1e"
      },
      "id": "V8Uu4UEx6t1e"
    },
    {
      "cell_type": "markdown",
      "source": [
        "PyTorch tensors are created usin torch.Tensor()"
      ],
      "metadata": {
        "id": "5MBXySiz69pX"
      },
      "id": "5MBXySiz69pX"
    },
    {
      "cell_type": "code",
      "source": [
        "# scalar\n",
        "scalar = torch.tensor(7)\n",
        "scalar"
      ],
      "metadata": {
        "colab": {
          "base_uri": "https://localhost:8080/"
        },
        "id": "hODJcyau420U",
        "outputId": "468801e5-8b15-46fe-fa02-0578fa35a05f"
      },
      "id": "hODJcyau420U",
      "execution_count": 4,
      "outputs": [
        {
          "output_type": "execute_result",
          "data": {
            "text/plain": [
              "tensor(7)"
            ]
          },
          "metadata": {},
          "execution_count": 4
        }
      ]
    },
    {
      "cell_type": "code",
      "source": [
        "scalar.ndim"
      ],
      "metadata": {
        "id": "lwAebDZ_7NSz",
        "colab": {
          "base_uri": "https://localhost:8080/"
        },
        "outputId": "a7e084f8-3f2c-4992-88ec-41f760630ccc"
      },
      "id": "lwAebDZ_7NSz",
      "execution_count": 5,
      "outputs": [
        {
          "output_type": "execute_result",
          "data": {
            "text/plain": [
              "0"
            ]
          },
          "metadata": {},
          "execution_count": 5
        }
      ]
    },
    {
      "cell_type": "code",
      "source": [
        "# Get tensor back as python int\n",
        "scalar.item()"
      ],
      "metadata": {
        "id": "GzKIFJFB7fl-",
        "colab": {
          "base_uri": "https://localhost:8080/"
        },
        "outputId": "0ee4fb44-114e-4711-c571-83cabfcff2e1"
      },
      "id": "GzKIFJFB7fl-",
      "execution_count": 6,
      "outputs": [
        {
          "output_type": "execute_result",
          "data": {
            "text/plain": [
              "7"
            ]
          },
          "metadata": {},
          "execution_count": 6
        }
      ]
    },
    {
      "cell_type": "code",
      "source": [
        "# Vector\n",
        "vector = torch.tensor([7,7])\n",
        "vector"
      ],
      "metadata": {
        "id": "oO2ZYl537qgM",
        "colab": {
          "base_uri": "https://localhost:8080/"
        },
        "outputId": "c54bb317-95f0-4ee0-9ba4-18b7f7a5501c"
      },
      "id": "oO2ZYl537qgM",
      "execution_count": 7,
      "outputs": [
        {
          "output_type": "execute_result",
          "data": {
            "text/plain": [
              "tensor([7, 7])"
            ]
          },
          "metadata": {},
          "execution_count": 7
        }
      ]
    },
    {
      "cell_type": "code",
      "source": [
        "vector.ndim"
      ],
      "metadata": {
        "id": "EYz4tMjB8Wmp",
        "colab": {
          "base_uri": "https://localhost:8080/"
        },
        "outputId": "07c5ad06-a0c9-4533-926e-1c896ab907f2"
      },
      "id": "EYz4tMjB8Wmp",
      "execution_count": 8,
      "outputs": [
        {
          "output_type": "execute_result",
          "data": {
            "text/plain": [
              "1"
            ]
          },
          "metadata": {},
          "execution_count": 8
        }
      ]
    },
    {
      "cell_type": "code",
      "source": [
        "vector.shape"
      ],
      "metadata": {
        "id": "UqX-wneq8e_L",
        "colab": {
          "base_uri": "https://localhost:8080/"
        },
        "outputId": "6396aaad-3c80-4131-95a8-12a7891a2cff"
      },
      "id": "UqX-wneq8e_L",
      "execution_count": 9,
      "outputs": [
        {
          "output_type": "execute_result",
          "data": {
            "text/plain": [
              "torch.Size([2])"
            ]
          },
          "metadata": {},
          "execution_count": 9
        }
      ]
    },
    {
      "cell_type": "code",
      "source": [
        "# Matrix\n",
        "Matrix = torch.tensor([[7,8],[9,10]])\n",
        "Matrix"
      ],
      "metadata": {
        "id": "sVK4yArg8oH5",
        "colab": {
          "base_uri": "https://localhost:8080/"
        },
        "outputId": "7f14dcf2-7c9d-48bb-cdb4-83d8bbe5ecd6"
      },
      "id": "sVK4yArg8oH5",
      "execution_count": 10,
      "outputs": [
        {
          "output_type": "execute_result",
          "data": {
            "text/plain": [
              "tensor([[ 7,  8],\n",
              "        [ 9, 10]])"
            ]
          },
          "metadata": {},
          "execution_count": 10
        }
      ]
    },
    {
      "cell_type": "code",
      "source": [
        "Matrix.ndim"
      ],
      "metadata": {
        "id": "_Gcrzxdj84Kn",
        "colab": {
          "base_uri": "https://localhost:8080/"
        },
        "outputId": "3d4bc6f4-7ba2-427b-b59b-49c2389e913c"
      },
      "id": "_Gcrzxdj84Kn",
      "execution_count": 11,
      "outputs": [
        {
          "output_type": "execute_result",
          "data": {
            "text/plain": [
              "2"
            ]
          },
          "metadata": {},
          "execution_count": 11
        }
      ]
    },
    {
      "cell_type": "code",
      "source": [
        "Matrix.size()"
      ],
      "metadata": {
        "id": "ZJ9U3M0887oi",
        "colab": {
          "base_uri": "https://localhost:8080/"
        },
        "outputId": "96687acd-7997-4e5d-f1ea-b0ea6751a372"
      },
      "id": "ZJ9U3M0887oi",
      "execution_count": 12,
      "outputs": [
        {
          "output_type": "execute_result",
          "data": {
            "text/plain": [
              "torch.Size([2, 2])"
            ]
          },
          "metadata": {},
          "execution_count": 12
        }
      ]
    },
    {
      "cell_type": "code",
      "source": [
        "Matrix.shape"
      ],
      "metadata": {
        "id": "L67ewcpZ8_t4",
        "colab": {
          "base_uri": "https://localhost:8080/"
        },
        "outputId": "e059fca3-16d0-4ee3-f715-14ec112f2251"
      },
      "id": "L67ewcpZ8_t4",
      "execution_count": 13,
      "outputs": [
        {
          "output_type": "execute_result",
          "data": {
            "text/plain": [
              "torch.Size([2, 2])"
            ]
          },
          "metadata": {},
          "execution_count": 13
        }
      ]
    },
    {
      "cell_type": "code",
      "source": [
        "type(Matrix)"
      ],
      "metadata": {
        "id": "4auLOrkv9DWN",
        "colab": {
          "base_uri": "https://localhost:8080/"
        },
        "outputId": "24841ad8-7321-4bf0-ae8c-39cef277de85"
      },
      "id": "4auLOrkv9DWN",
      "execution_count": 14,
      "outputs": [
        {
          "output_type": "execute_result",
          "data": {
            "text/plain": [
              "torch.Tensor"
            ]
          },
          "metadata": {},
          "execution_count": 14
        }
      ]
    },
    {
      "cell_type": "code",
      "source": [
        "Matrix"
      ],
      "metadata": {
        "id": "sLv_qXW29QjJ",
        "colab": {
          "base_uri": "https://localhost:8080/"
        },
        "outputId": "07f1e20c-20c2-4025-fe4b-9fd7b8ce5109"
      },
      "id": "sLv_qXW29QjJ",
      "execution_count": 15,
      "outputs": [
        {
          "output_type": "execute_result",
          "data": {
            "text/plain": [
              "tensor([[ 7,  8],\n",
              "        [ 9, 10]])"
            ]
          },
          "metadata": {},
          "execution_count": 15
        }
      ]
    },
    {
      "cell_type": "code",
      "source": [
        "Matrix[0]"
      ],
      "metadata": {
        "id": "Vj7Q8jRY9UvD",
        "colab": {
          "base_uri": "https://localhost:8080/"
        },
        "outputId": "7657ae1a-7d96-47cf-ec3b-2d24bfc29d5f"
      },
      "id": "Vj7Q8jRY9UvD",
      "execution_count": 16,
      "outputs": [
        {
          "output_type": "execute_result",
          "data": {
            "text/plain": [
              "tensor([7, 8])"
            ]
          },
          "metadata": {},
          "execution_count": 16
        }
      ]
    },
    {
      "cell_type": "code",
      "source": [
        "Matrix[1]"
      ],
      "metadata": {
        "id": "6pzPHicI9XBo",
        "colab": {
          "base_uri": "https://localhost:8080/"
        },
        "outputId": "a767c261-2ecc-4db9-dc4d-88fa705ede66"
      },
      "id": "6pzPHicI9XBo",
      "execution_count": 17,
      "outputs": [
        {
          "output_type": "execute_result",
          "data": {
            "text/plain": [
              "tensor([ 9, 10])"
            ]
          },
          "metadata": {},
          "execution_count": 17
        }
      ]
    },
    {
      "cell_type": "code",
      "source": [
        "# TENSOR\n",
        "\n",
        "TENSOR = torch.tensor([[[1,2,3],\n",
        "                        [3,6,9],\n",
        "                        [2,4,5]]])\n",
        "TENSOR"
      ],
      "metadata": {
        "id": "CydECr5N9lXL",
        "colab": {
          "base_uri": "https://localhost:8080/"
        },
        "outputId": "b4d64737-62ad-4090-b804-a6c1dabee71a"
      },
      "id": "CydECr5N9lXL",
      "execution_count": 18,
      "outputs": [
        {
          "output_type": "execute_result",
          "data": {
            "text/plain": [
              "tensor([[[1, 2, 3],\n",
              "         [3, 6, 9],\n",
              "         [2, 4, 5]]])"
            ]
          },
          "metadata": {},
          "execution_count": 18
        }
      ]
    },
    {
      "cell_type": "code",
      "source": [
        "TENSOR.ndim"
      ],
      "metadata": {
        "id": "q7xsnpLU9Y1a",
        "colab": {
          "base_uri": "https://localhost:8080/"
        },
        "outputId": "d2754f28-22dd-4dd6-859f-420dc0b8c7a3"
      },
      "id": "q7xsnpLU9Y1a",
      "execution_count": 19,
      "outputs": [
        {
          "output_type": "execute_result",
          "data": {
            "text/plain": [
              "3"
            ]
          },
          "metadata": {},
          "execution_count": 19
        }
      ]
    },
    {
      "cell_type": "code",
      "source": [
        "TENSOR.shape"
      ],
      "metadata": {
        "id": "ezwGdKuU9-AT",
        "colab": {
          "base_uri": "https://localhost:8080/"
        },
        "outputId": "6d427a31-d5e3-4cda-eba2-1787c1f50904"
      },
      "id": "ezwGdKuU9-AT",
      "execution_count": 20,
      "outputs": [
        {
          "output_type": "execute_result",
          "data": {
            "text/plain": [
              "torch.Size([1, 3, 3])"
            ]
          },
          "metadata": {},
          "execution_count": 20
        }
      ]
    },
    {
      "cell_type": "code",
      "source": [
        "TENSOR[0]"
      ],
      "metadata": {
        "id": "zpUUp9Qw-AEh",
        "colab": {
          "base_uri": "https://localhost:8080/"
        },
        "outputId": "548e9e18-4359-47da-cba2-3cb94a49b095"
      },
      "id": "zpUUp9Qw-AEh",
      "execution_count": 21,
      "outputs": [
        {
          "output_type": "execute_result",
          "data": {
            "text/plain": [
              "tensor([[1, 2, 3],\n",
              "        [3, 6, 9],\n",
              "        [2, 4, 5]])"
            ]
          },
          "metadata": {},
          "execution_count": 21
        }
      ]
    },
    {
      "cell_type": "code",
      "source": [
        "TENSOR[0][0]"
      ],
      "metadata": {
        "id": "2p5BSZZE-KEz",
        "colab": {
          "base_uri": "https://localhost:8080/"
        },
        "outputId": "372aa5b2-5a48-4a05-a008-9611eea4dfd7"
      },
      "id": "2p5BSZZE-KEz",
      "execution_count": 22,
      "outputs": [
        {
          "output_type": "execute_result",
          "data": {
            "text/plain": [
              "tensor([1, 2, 3])"
            ]
          },
          "metadata": {},
          "execution_count": 22
        }
      ]
    },
    {
      "cell_type": "code",
      "source": [
        "TENSOR[0][2]"
      ],
      "metadata": {
        "id": "M3urRfqF-U1K",
        "colab": {
          "base_uri": "https://localhost:8080/"
        },
        "outputId": "43b7a19d-6fff-4e21-f0dc-719151a31299"
      },
      "id": "M3urRfqF-U1K",
      "execution_count": 23,
      "outputs": [
        {
          "output_type": "execute_result",
          "data": {
            "text/plain": [
              "tensor([2, 4, 5])"
            ]
          },
          "metadata": {},
          "execution_count": 23
        }
      ]
    },
    {
      "cell_type": "code",
      "source": [
        "TENSOR[0][1][1]"
      ],
      "metadata": {
        "id": "68-3uWPS-Mmx",
        "colab": {
          "base_uri": "https://localhost:8080/"
        },
        "outputId": "fae1696a-4dd6-4e71-c9aa-1b0541f454e6"
      },
      "id": "68-3uWPS-Mmx",
      "execution_count": 24,
      "outputs": [
        {
          "output_type": "execute_result",
          "data": {
            "text/plain": [
              "tensor(6)"
            ]
          },
          "metadata": {},
          "execution_count": 24
        }
      ]
    },
    {
      "cell_type": "markdown",
      "source": [],
      "metadata": {
        "id": "blE6H_6px-Bm"
      },
      "id": "blE6H_6px-Bm"
    },
    {
      "cell_type": "code",
      "source": [
        "MyTensorTest = torch.tensor([[[1,2,3],\n",
        "                              [4,5,6],\n",
        "                              [7,8,9]],\n",
        "                             [[10,12,13],\n",
        "                              [14,16,17],\n",
        "                              [18,19,20]]])"
      ],
      "metadata": {
        "id": "Fz9SQGmM-Yjy"
      },
      "id": "Fz9SQGmM-Yjy",
      "execution_count": 25,
      "outputs": []
    },
    {
      "cell_type": "code",
      "source": [
        "MyTensorTest.shape"
      ],
      "metadata": {
        "id": "AXgBIa3xxJTD",
        "colab": {
          "base_uri": "https://localhost:8080/"
        },
        "outputId": "50e06229-af99-4dc9-b0b1-06fc33dd1241"
      },
      "id": "AXgBIa3xxJTD",
      "execution_count": 26,
      "outputs": [
        {
          "output_type": "execute_result",
          "data": {
            "text/plain": [
              "torch.Size([2, 3, 3])"
            ]
          },
          "metadata": {},
          "execution_count": 26
        }
      ]
    },
    {
      "cell_type": "code",
      "source": [
        "MyTensorTest.ndim"
      ],
      "metadata": {
        "id": "_23KPuFKxNZn",
        "colab": {
          "base_uri": "https://localhost:8080/"
        },
        "outputId": "968891bb-1ee9-4053-916c-a3958f7a4980"
      },
      "id": "_23KPuFKxNZn",
      "execution_count": 27,
      "outputs": [
        {
          "output_type": "execute_result",
          "data": {
            "text/plain": [
              "3"
            ]
          },
          "metadata": {},
          "execution_count": 27
        }
      ]
    },
    {
      "cell_type": "code",
      "source": [
        "MyTensorTest[0]"
      ],
      "metadata": {
        "id": "4QxPaLiGxVIn",
        "colab": {
          "base_uri": "https://localhost:8080/"
        },
        "outputId": "8e9a3ca0-4d27-4823-cae2-dd239ad55574"
      },
      "id": "4QxPaLiGxVIn",
      "execution_count": 28,
      "outputs": [
        {
          "output_type": "execute_result",
          "data": {
            "text/plain": [
              "tensor([[1, 2, 3],\n",
              "        [4, 5, 6],\n",
              "        [7, 8, 9]])"
            ]
          },
          "metadata": {},
          "execution_count": 28
        }
      ]
    },
    {
      "cell_type": "code",
      "source": [
        "MyTensorTest[1]"
      ],
      "metadata": {
        "id": "enQj3LrQxguR",
        "colab": {
          "base_uri": "https://localhost:8080/"
        },
        "outputId": "7358149b-99b2-4e00-c212-52577918ea8e"
      },
      "id": "enQj3LrQxguR",
      "execution_count": 29,
      "outputs": [
        {
          "output_type": "execute_result",
          "data": {
            "text/plain": [
              "tensor([[10, 12, 13],\n",
              "        [14, 16, 17],\n",
              "        [18, 19, 20]])"
            ]
          },
          "metadata": {},
          "execution_count": 29
        }
      ]
    },
    {
      "cell_type": "code",
      "source": [
        "# if we want to get a 16 from the Tesnor\n",
        "MyTensorTest[1][1][1]"
      ],
      "metadata": {
        "id": "Rip8C1ZAxjiT",
        "colab": {
          "base_uri": "https://localhost:8080/"
        },
        "outputId": "fbcd98ab-f5e8-498a-b26d-2d49577850e5"
      },
      "id": "Rip8C1ZAxjiT",
      "execution_count": 30,
      "outputs": [
        {
          "output_type": "execute_result",
          "data": {
            "text/plain": [
              "tensor(16)"
            ]
          },
          "metadata": {},
          "execution_count": 30
        }
      ]
    },
    {
      "cell_type": "markdown",
      "source": [
        "### Random Tensor\n",
        "\n",
        "We've established tensors represent some form of data.\n",
        "\n",
        "And machine learning models such as neural networks manipulate and seek patterns within tensors.\n",
        "\n",
        "But when building machine learning models with PyTorch, it's rare you'll create tensors by hand (like what we've been doing).\n",
        "\n",
        "Instead, a machine learning model often starts out with large random tensors of numbers and adjusts these random numbers as it works through data to better represent it.\n",
        "\n",
        "In essence:\n",
        "\n",
        "'Start with random numbers -> look at data -> update random numbers -> look at data -> update random numbers...'\n",
        "\n",
        "As a data scientist, you can define how the machine learning model starts (initialization), looks at data (representation) and updates (optimization) its random numbers.\n",
        "\n",
        "rand duc => https://docs.pytorch.org/docs/stable/generated/torch.rand.html"
      ],
      "metadata": {
        "id": "gnh_EWfgxwED"
      },
      "id": "gnh_EWfgxwED"
    },
    {
      "cell_type": "code",
      "source": [
        "rand_tensor_1 = torch.rand(3)\n",
        "rand_tensor_2 = torch.rand(3,4)\n",
        "rand_tensor_3 = torch.rand(2,3,8)\n",
        "print(f\"{rand_tensor_1} has {rand_tensor_1.ndim} dimentions and the shape is {rand_tensor_1.shape} and type is {rand_tensor_1.dtype}\\n\")\n",
        "print(f\"{rand_tensor_2} has {rand_tensor_2.ndim} dimentions and the shape is {rand_tensor_2.shape} and type is {rand_tensor_2.dtype}\\n\")\n",
        "print(f\"{rand_tensor_3} has {rand_tensor_3.ndim} dimentions and the shape is {rand_tensor_3.shape} and type is {rand_tensor_3.dtype}\\n\")"
      ],
      "metadata": {
        "id": "QMwKWqssyro7",
        "colab": {
          "base_uri": "https://localhost:8080/"
        },
        "outputId": "4ab11dd2-4a1d-400b-a8d0-0914ad75a32c"
      },
      "id": "QMwKWqssyro7",
      "execution_count": 31,
      "outputs": [
        {
          "output_type": "stream",
          "name": "stdout",
          "text": [
            "tensor([0.6648, 0.4983, 0.2770]) has 1 dimentions and the shape is torch.Size([3]) and type is torch.float32\n",
            "\n",
            "tensor([[0.2418, 0.1203, 0.9845, 0.2182],\n",
            "        [0.7118, 0.6240, 0.9199, 0.4149],\n",
            "        [0.2762, 0.8095, 0.4135, 0.3469]]) has 2 dimentions and the shape is torch.Size([3, 4]) and type is torch.float32\n",
            "\n",
            "tensor([[[0.9638, 0.7024, 0.7027, 0.3894, 0.6013, 0.5830, 0.2641, 0.3455],\n",
            "         [0.3226, 0.6143, 0.0168, 0.1558, 0.2517, 0.8743, 0.9145, 0.4885],\n",
            "         [0.5086, 0.3394, 0.7956, 0.2770, 0.9484, 0.5474, 0.4025, 0.4874]],\n",
            "\n",
            "        [[0.4921, 0.3327, 0.4644, 0.1928, 0.7414, 0.6386, 0.3989, 0.6623],\n",
            "         [0.0414, 0.0503, 0.7774, 0.4212, 0.6115, 0.3768, 0.8873, 0.0159],\n",
            "         [0.9310, 0.5922, 0.0770, 0.9478, 0.0500, 0.0857, 0.1752, 0.6134]]]) has 3 dimentions and the shape is torch.Size([2, 3, 8]) and type is torch.float32\n",
            "\n"
          ]
        }
      ]
    },
    {
      "cell_type": "markdown",
      "source": [
        "The flexibility of torch.rand() is that we can adjust the size to be whatever we want.\n",
        "\n",
        "For example, say you wanted a random tensor in the common image shape of [224, 224, 3] ([height, width, color_channels])."
      ],
      "metadata": {
        "id": "xYh22AnX3C4M"
      },
      "id": "xYh22AnX3C4M"
    },
    {
      "cell_type": "code",
      "source": [
        "random_image_tensor = torch.rand(size=(3,224,224))\n",
        "print(f\"Dimention = {random_image_tensor.ndim} and shape is {random_image_tensor.shape} => \\n{random_image_tensor }\")"
      ],
      "metadata": {
        "id": "kh5nEbBI3Hlw",
        "colab": {
          "base_uri": "https://localhost:8080/"
        },
        "outputId": "199a1e70-456c-4fb5-9549-49b78faee961"
      },
      "id": "kh5nEbBI3Hlw",
      "execution_count": 32,
      "outputs": [
        {
          "output_type": "stream",
          "name": "stdout",
          "text": [
            "Dimention = 3 and shape is torch.Size([3, 224, 224]) => \n",
            "tensor([[[0.8619, 0.7818, 0.8909,  ..., 0.9810, 0.4428, 0.7907],\n",
            "         [0.6534, 0.4897, 0.9710,  ..., 0.1163, 0.8045, 0.0431],\n",
            "         [0.6559, 0.9956, 0.1420,  ..., 0.5624, 0.8733, 0.1949],\n",
            "         ...,\n",
            "         [0.6547, 0.5376, 0.1115,  ..., 0.8474, 0.7494, 0.4293],\n",
            "         [0.9514, 0.1435, 0.9874,  ..., 0.8182, 0.2229, 0.9150],\n",
            "         [0.5579, 0.4020, 0.5670,  ..., 0.4027, 0.9562, 0.0963]],\n",
            "\n",
            "        [[0.0908, 0.7588, 0.9223,  ..., 0.6454, 0.2455, 0.1133],\n",
            "         [0.7963, 0.9128, 0.0026,  ..., 0.0512, 0.9380, 0.6976],\n",
            "         [0.9508, 0.3339, 0.8632,  ..., 0.9711, 0.4583, 0.1014],\n",
            "         ...,\n",
            "         [0.8061, 0.6974, 0.9095,  ..., 0.6994, 0.6638, 0.1643],\n",
            "         [0.5256, 0.5469, 0.5783,  ..., 0.1848, 0.6133, 0.1284],\n",
            "         [0.9699, 0.5043, 0.0799,  ..., 0.9407, 0.7484, 0.5554]],\n",
            "\n",
            "        [[0.6473, 0.1868, 0.3923,  ..., 0.8149, 0.2153, 0.7916],\n",
            "         [0.2213, 0.9778, 0.4978,  ..., 0.1153, 0.6899, 0.8407],\n",
            "         [0.5977, 0.7285, 0.6493,  ..., 0.1171, 0.9044, 0.9797],\n",
            "         ...,\n",
            "         [0.3422, 0.1017, 0.6173,  ..., 0.1861, 0.7953, 0.9495],\n",
            "         [0.3390, 0.6919, 0.0571,  ..., 0.5435, 0.5474, 0.3488],\n",
            "         [0.9957, 0.2006, 0.4026,  ..., 0.0892, 0.0178, 0.3750]]])\n"
          ]
        }
      ]
    },
    {
      "cell_type": "markdown",
      "source": [],
      "metadata": {
        "id": "vzmTu-Brxy0G"
      },
      "id": "vzmTu-Brxy0G"
    },
    {
      "cell_type": "code",
      "source": [
        "# HandWriting at 16 * 16 black and white\n",
        "# black < 0.5 / white >= 0\n",
        "rand_handwriting_00 = torch.rand(2,16,16)\n",
        "rand_handwriting_00"
      ],
      "metadata": {
        "id": "tsf5uXhR5NR9",
        "colab": {
          "base_uri": "https://localhost:8080/"
        },
        "outputId": "79f46303-a13b-4d6d-9185-567f092a1a81"
      },
      "id": "tsf5uXhR5NR9",
      "execution_count": 33,
      "outputs": [
        {
          "output_type": "execute_result",
          "data": {
            "text/plain": [
              "tensor([[[0.3863, 0.9948, 0.5759, 0.1244, 0.4496, 0.5335, 0.0496, 0.6541,\n",
              "          0.6164, 0.7441, 0.6209, 0.3731, 0.3371, 0.4181, 0.1918, 0.5113],\n",
              "         [0.9308, 0.4214, 0.5372, 0.4141, 0.7794, 0.0286, 0.7414, 0.4017,\n",
              "          0.9528, 0.6104, 0.1067, 0.1902, 0.0602, 0.4583, 0.8138, 0.5101],\n",
              "         [0.2895, 0.2394, 0.2483, 0.6641, 0.5969, 0.0880, 0.1686, 0.3856,\n",
              "          0.4173, 0.1596, 0.7194, 0.8802, 0.5429, 0.1876, 0.4827, 0.8637],\n",
              "         [0.3703, 0.2714, 0.1105, 0.9271, 0.0416, 0.4505, 0.7589, 0.8083,\n",
              "          0.4437, 0.4625, 0.1916, 0.9826, 0.5701, 0.5674, 0.4264, 0.1891],\n",
              "         [0.3054, 0.7441, 0.4873, 0.7127, 0.1553, 0.6529, 0.6491, 0.3829,\n",
              "          0.4558, 0.6251, 0.8619, 0.3754, 0.5851, 0.4587, 0.5053, 0.9120],\n",
              "         [0.6534, 0.2639, 0.5850, 0.0234, 0.0931, 0.2010, 0.7196, 0.9271,\n",
              "          0.2247, 0.1084, 0.7560, 0.7091, 0.2172, 0.0185, 0.0932, 0.9817],\n",
              "         [0.4458, 0.4298, 0.9051, 0.4577, 0.1820, 0.6401, 0.1841, 0.7019,\n",
              "          0.4070, 0.1254, 0.9167, 0.5858, 0.7456, 0.3346, 0.5809, 0.3511],\n",
              "         [0.8430, 0.4405, 0.7165, 0.7976, 0.3740, 0.0147, 0.3846, 0.3228,\n",
              "          0.7222, 0.6418, 0.4352, 0.5643, 0.1492, 0.6818, 0.0691, 0.7613],\n",
              "         [0.6336, 0.8066, 0.8417, 0.4743, 0.4759, 0.9199, 0.7741, 0.9309,\n",
              "          0.1673, 0.2488, 0.4613, 0.8191, 0.7990, 0.8585, 0.3078, 0.5221],\n",
              "         [0.1173, 0.1065, 0.5550, 0.2843, 0.2545, 0.4137, 0.2329, 0.9742,\n",
              "          0.9433, 0.2846, 0.3233, 0.7589, 0.5121, 0.5750, 0.2334, 0.2410],\n",
              "         [0.1836, 0.5778, 0.9192, 0.1118, 0.5059, 0.6468, 0.4290, 0.9001,\n",
              "          0.9225, 0.5935, 0.5257, 0.4791, 0.3258, 0.1742, 0.2566, 0.4557],\n",
              "         [0.4793, 0.6923, 0.3930, 0.7729, 0.8011, 0.9003, 0.9988, 0.6927,\n",
              "          0.2319, 0.3039, 0.7299, 0.7236, 0.9905, 0.5616, 0.0382, 0.7296],\n",
              "         [0.5309, 0.1019, 0.0849, 0.4487, 0.9452, 0.5646, 0.9393, 0.3012,\n",
              "          0.0313, 0.6397, 0.0871, 0.8320, 0.0408, 0.7000, 0.6331, 0.9825],\n",
              "         [0.1652, 0.9376, 0.0147, 0.5212, 0.7974, 0.6151, 0.9782, 0.4801,\n",
              "          0.6703, 0.9444, 0.9849, 0.3989, 0.6644, 0.6383, 0.1396, 0.3269],\n",
              "         [0.6728, 0.4015, 0.3767, 0.4261, 0.1473, 0.0697, 0.8854, 0.3101,\n",
              "          0.6811, 0.5702, 0.5868, 0.7161, 0.0513, 0.2350, 0.4403, 0.9193],\n",
              "         [0.6045, 0.9946, 0.7698, 0.3453, 0.7772, 0.9867, 0.5025, 0.8778,\n",
              "          0.0179, 0.0730, 0.2892, 0.3246, 0.8645, 0.4271, 0.5359, 0.8049]],\n",
              "\n",
              "        [[0.5707, 0.2872, 0.6481, 0.3995, 0.5743, 0.2608, 0.9160, 0.5798,\n",
              "          0.7643, 0.4930, 0.5855, 0.6483, 0.9638, 0.8778, 0.2135, 0.0653],\n",
              "         [0.6487, 0.2404, 0.0126, 0.6820, 0.0375, 0.5965, 0.4170, 0.0996,\n",
              "          0.4205, 0.6171, 0.9562, 0.5479, 0.8937, 0.9995, 0.1562, 0.8385],\n",
              "         [0.4742, 0.3947, 0.1505, 0.1633, 0.9895, 0.6597, 0.5689, 0.0395,\n",
              "          0.5935, 0.5576, 0.5851, 0.9014, 0.0161, 0.0356, 0.1142, 0.6266],\n",
              "         [0.7235, 0.4423, 0.5213, 0.8789, 0.1853, 0.7073, 0.4131, 0.5564,\n",
              "          0.8702, 0.4110, 0.7746, 0.2659, 0.5004, 0.8306, 0.1727, 0.9836],\n",
              "         [0.2557, 0.3244, 0.6186, 0.6001, 0.8246, 0.8590, 0.6318, 0.0488,\n",
              "          0.9897, 0.8407, 0.7250, 0.3673, 0.7537, 0.7730, 0.8844, 0.3259],\n",
              "         [0.1396, 0.5760, 0.8185, 0.1034, 0.3832, 0.1602, 0.5679, 0.0593,\n",
              "          0.8689, 0.5496, 0.1614, 0.1775, 0.7851, 0.7280, 0.3433, 0.5633],\n",
              "         [0.7666, 0.5093, 0.9985, 0.7119, 0.1801, 0.9113, 0.2237, 0.1885,\n",
              "          0.3331, 0.9493, 0.6572, 0.9719, 0.3912, 0.5574, 0.2702, 0.6434],\n",
              "         [0.0501, 0.8350, 0.2612, 0.7662, 0.3737, 0.7719, 0.0387, 0.4005,\n",
              "          0.8162, 0.6807, 0.1347, 0.6680, 0.1111, 0.0110, 0.4679, 0.4776],\n",
              "         [0.5544, 0.3842, 0.3759, 0.9391, 0.2669, 0.2348, 0.2669, 0.1773,\n",
              "          0.3255, 0.0377, 0.3333, 0.4957, 0.2311, 0.2591, 0.0058, 0.4656],\n",
              "         [0.0520, 0.1482, 0.1102, 0.8761, 0.9541, 0.7289, 0.9606, 0.3000,\n",
              "          0.9276, 0.9065, 0.9826, 0.0129, 0.4297, 0.1314, 0.1531, 0.9040],\n",
              "         [0.0962, 0.3325, 0.2551, 0.9977, 0.5488, 0.6045, 0.0969, 0.4914,\n",
              "          0.1935, 0.3572, 0.9319, 0.0195, 0.2292, 0.0993, 0.9819, 0.5061],\n",
              "         [0.9417, 0.2219, 0.3012, 0.8476, 0.3359, 0.7943, 0.1115, 0.5918,\n",
              "          0.3914, 0.6250, 0.3830, 0.0087, 0.9073, 0.7496, 0.3807, 0.8277],\n",
              "         [0.6807, 0.6168, 0.8733, 0.9831, 0.0372, 0.3756, 0.8521, 0.3339,\n",
              "          0.6718, 0.8264, 0.8021, 0.2021, 0.8487, 0.5011, 0.3065, 0.4622],\n",
              "         [0.3327, 0.6179, 0.2937, 0.0783, 0.7345, 0.5321, 0.4212, 0.7722,\n",
              "          0.5372, 0.5589, 0.7574, 0.8270, 0.3070, 0.0573, 0.4546, 0.5860],\n",
              "         [0.7439, 0.8391, 0.2389, 0.7587, 0.0304, 0.7422, 0.3394, 0.9460,\n",
              "          0.9197, 0.0730, 0.1481, 0.8215, 0.3797, 0.2104, 0.3663, 0.0711],\n",
              "         [0.1102, 0.9161, 0.6159, 0.6306, 0.6899, 0.6026, 0.9342, 0.5539,\n",
              "          0.0271, 0.9933, 0.3463, 0.2376, 0.3188, 0.2395, 0.2728, 0.5173]]])"
            ]
          },
          "metadata": {},
          "execution_count": 33
        }
      ]
    },
    {
      "cell_type": "markdown",
      "source": [
        "## Zeros and ones\n",
        "\n",
        "Sometimes you'll just want to fill tensors with zeros or ones.\n",
        "\n",
        "This happens a lot with masking (like masking some of the values in one tensor with zeros to let a model know not to learn them)."
      ],
      "metadata": {
        "id": "hu--NKXzxB-c"
      },
      "id": "hu--NKXzxB-c"
    },
    {
      "cell_type": "code",
      "source": [
        "# Create a tensor of all zeros\n",
        "zeros = torch.zeros(size=(3,3))\n",
        "print(f\"Structure -> \\n{zeros}\\nType : {zeros.dtype}\")"
      ],
      "metadata": {
        "id": "AiaTP1AcxDzo",
        "colab": {
          "base_uri": "https://localhost:8080/"
        },
        "outputId": "0cee1894-775d-4ba1-a56e-b6f0e02647a9"
      },
      "id": "AiaTP1AcxDzo",
      "execution_count": 34,
      "outputs": [
        {
          "output_type": "stream",
          "name": "stdout",
          "text": [
            "Structure -> \n",
            "tensor([[0., 0., 0.],\n",
            "        [0., 0., 0.],\n",
            "        [0., 0., 0.]])\n",
            "Type : torch.float32\n"
          ]
        }
      ]
    },
    {
      "cell_type": "code",
      "source": [
        "# Create a tensor of all one\n",
        "ones = torch.ones(size=(3,4))\n",
        "print(f\"Structure -> \\n{ones}\\nType : {ones.dtype}\")"
      ],
      "metadata": {
        "id": "wnGfV3FZxWDF",
        "colab": {
          "base_uri": "https://localhost:8080/"
        },
        "outputId": "f0027537-4c05-4c0e-9647-be6ac075cffd"
      },
      "id": "wnGfV3FZxWDF",
      "execution_count": 35,
      "outputs": [
        {
          "output_type": "stream",
          "name": "stdout",
          "text": [
            "Structure -> \n",
            "tensor([[1., 1., 1., 1.],\n",
            "        [1., 1., 1., 1.],\n",
            "        [1., 1., 1., 1.]])\n",
            "Type : torch.float32\n"
          ]
        }
      ]
    },
    {
      "cell_type": "markdown",
      "source": [
        "##Creating a range and tensors like\n",
        "Sometimes you might want a range of numbers, such as 1 to 10 or 0 to 100.\n",
        "\n",
        "You can use torch.arange(start, end, step) to do so.\n",
        "\n",
        "Where:\n",
        "\n",
        "* start = start of range (e.g. 0)\n",
        "* end = end of range (e.g. 10)\n",
        "* step = how many steps in between each value (e.g. 1)"
      ],
      "metadata": {
        "id": "0T-lHhNOz8FI"
      },
      "id": "0T-lHhNOz8FI"
    },
    {
      "cell_type": "code",
      "source": [
        "# 1 until 20 just odd\n",
        "Xodd = torch.arange(1,20,2)\n",
        "Xodd"
      ],
      "metadata": {
        "id": "IFQlu2ISz-Vv",
        "colab": {
          "base_uri": "https://localhost:8080/"
        },
        "outputId": "0772ab52-e27a-4b4b-8bbc-17abcbc3e64e"
      },
      "id": "IFQlu2ISz-Vv",
      "execution_count": 36,
      "outputs": [
        {
          "output_type": "execute_result",
          "data": {
            "text/plain": [
              "tensor([ 1,  3,  5,  7,  9, 11, 13, 15, 17, 19])"
            ]
          },
          "metadata": {},
          "execution_count": 36
        }
      ]
    },
    {
      "cell_type": "code",
      "source": [
        "# 1 until 20 just even\n",
        "Xeven = torch.arange(2,21,2)\n",
        "Xeven"
      ],
      "metadata": {
        "id": "0ct7iz2t0ZmK",
        "colab": {
          "base_uri": "https://localhost:8080/"
        },
        "outputId": "68e1a69e-078a-495c-8372-d4071548efae"
      },
      "id": "0ct7iz2t0ZmK",
      "execution_count": 37,
      "outputs": [
        {
          "output_type": "execute_result",
          "data": {
            "text/plain": [
              "tensor([ 2,  4,  6,  8, 10, 12, 14, 16, 18, 20])"
            ]
          },
          "metadata": {},
          "execution_count": 37
        }
      ]
    },
    {
      "cell_type": "code",
      "source": [
        "XFive = torch.arange(0,51,5)\n",
        "XFive"
      ],
      "metadata": {
        "id": "oPXqAboo0h3O",
        "colab": {
          "base_uri": "https://localhost:8080/"
        },
        "outputId": "c49400f3-3c61-47c5-e7e9-76045f6cfba1"
      },
      "id": "oPXqAboo0h3O",
      "execution_count": 38,
      "outputs": [
        {
          "output_type": "execute_result",
          "data": {
            "text/plain": [
              "tensor([ 0,  5, 10, 15, 20, 25, 30, 35, 40, 45, 50])"
            ]
          },
          "metadata": {},
          "execution_count": 38
        }
      ]
    },
    {
      "cell_type": "markdown",
      "source": [
        "\n",
        "Sometimes you might want one tensor of a certain type with the same shape as another tensor.\n",
        "\n",
        "For example, a tensor of all zeros with the same shape as a previous tensor.\n",
        "\n",
        "To do so you can use torch.zeros_like(input) or torch.ones_like(input) which return a tensor filled with zeros or ones in the same shape as the input respectively."
      ],
      "metadata": {
        "id": "EUBSVY0R068n"
      },
      "id": "EUBSVY0R068n"
    },
    {
      "cell_type": "code",
      "source": [
        "XFive.shape"
      ],
      "metadata": {
        "id": "V6bG1IO107W3",
        "colab": {
          "base_uri": "https://localhost:8080/"
        },
        "outputId": "c835457b-71c1-4832-c619-34e8dc0e1cc5"
      },
      "id": "V6bG1IO107W3",
      "execution_count": 39,
      "outputs": [
        {
          "output_type": "execute_result",
          "data": {
            "text/plain": [
              "torch.Size([11])"
            ]
          },
          "metadata": {},
          "execution_count": 39
        }
      ]
    },
    {
      "cell_type": "code",
      "source": [
        "X_Shape_Copy1 = torch.zeros_like(input=XFive)\n",
        "X_Shape_Copy1, X_Shape_Copy1.shape, X_Shape_Copy1.dtype"
      ],
      "metadata": {
        "id": "uDhg56My1DCj",
        "colab": {
          "base_uri": "https://localhost:8080/"
        },
        "outputId": "72dfde4f-dce5-45fc-d998-23ea3eb59588"
      },
      "id": "uDhg56My1DCj",
      "execution_count": 40,
      "outputs": [
        {
          "output_type": "execute_result",
          "data": {
            "text/plain": [
              "(tensor([0, 0, 0, 0, 0, 0, 0, 0, 0, 0, 0]), torch.Size([11]), torch.int64)"
            ]
          },
          "metadata": {},
          "execution_count": 40
        }
      ]
    },
    {
      "cell_type": "code",
      "source": [
        "X_Shape_Copy2 = torch.ones_like(X_Shape_Copy1)\n",
        "X_Shape_Copy2, X_Shape_Copy2.shape, X_Shape_Copy2.dtype"
      ],
      "metadata": {
        "id": "pqzUwxu61TCf",
        "colab": {
          "base_uri": "https://localhost:8080/"
        },
        "outputId": "3e92d808-0f1b-4dbb-fadb-de4437344349"
      },
      "id": "pqzUwxu61TCf",
      "execution_count": 41,
      "outputs": [
        {
          "output_type": "execute_result",
          "data": {
            "text/plain": [
              "(tensor([1, 1, 1, 1, 1, 1, 1, 1, 1, 1, 1]), torch.Size([11]), torch.int64)"
            ]
          },
          "metadata": {},
          "execution_count": 41
        }
      ]
    },
    {
      "cell_type": "markdown",
      "source": [
        "\n",
        "##Tensor datatypes\n",
        "There are many different tensor datatypes available in PyTorch.\n",
        "link: https://docs.pytorch.org/docs/stable/tensors.html#data-types\n",
        "\n",
        "Some are specific for CPU and some are better for GPU.\n",
        "\n",
        "Getting to know which one can take some time.\n",
        "\n",
        "Generally if you see torch.cuda anywhere, the tensor is being used for GPU (since Nvidia GPUs use a computing toolkit called CUDA).\n",
        "\n",
        "The most common type (and generally the default) is torch.float32 or torch.float.\n",
        "\n",
        "This is referred to as \"32-bit floating point\".\n",
        "\n",
        "But there's also 16-bit floating point (torch.float16 or torch.half) and 64-bit floating point (torch.float64 or torch.double).\n",
        "\n",
        "And to confuse things even more there's also 8-bit, 16-bit, 32-bit and 64-bit integers.\n",
        "\n",
        "Plus more!\n",
        "\n",
        "Note: An integer is a flat round number like 7 whereas a float has a decimal 7.0.\n",
        "\n",
        "The reason for all of these is to do with precision in computing.\n",
        "\n",
        "Precision is the amount of detail used to describe a number.\n",
        "\n",
        "The higher the precision value (8, 16, 32), the more detail and hence data used to express a number.\n",
        "\n",
        "This matters in deep learning and numerical computing because you're making so many operations, the more detail you have to calculate on, the more compute you have to use.\n",
        "\n",
        "So lower precision datatypes are generally faster to compute on but sacrifice some performance on evaluation metrics like accuracy (faster to compute but less accurate).\n",
        "\n",
        "Resources:\n",
        "https://docs.pytorch.org/docs/stable/tensors.html#data-types\n",
        "\n",
        "https://en.wikipedia.org/wiki/Precision_(computer_science)\n",
        "\n",
        "See the PyTorch documentation for a list of all available tensor datatypes.\n",
        "Read the Wikipedia page for an overview of what precision in computing) is.\n",
        "Let's see how to create some tensors with specific datatypes. We can do so using the dtype paramete"
      ],
      "metadata": {
        "id": "PM6UhCBR63iG"
      },
      "id": "PM6UhCBR63iG"
    },
    {
      "cell_type": "code",
      "source": [
        "# Default datatype for tensors is float32\n",
        "float_32_tensor = torch.tensor([3.0, 6.0, 9.0],\n",
        "                               dtype=None, # defaults to None, which is torch.float32 or whatever datatype is passed\n",
        "                               device=None, # defaults to None, which uses the default tensor type\n",
        "                               requires_grad=False) # if True, operations performed on the tensor are recorded\n",
        "\n",
        "float_32_tensor.shape, float_32_tensor.dtype, float_32_tensor.device"
      ],
      "metadata": {
        "id": "T97AIxBM1j9_",
        "colab": {
          "base_uri": "https://localhost:8080/"
        },
        "outputId": "9fee3b03-56f5-462a-8195-47814093054a"
      },
      "id": "T97AIxBM1j9_",
      "execution_count": 42,
      "outputs": [
        {
          "output_type": "execute_result",
          "data": {
            "text/plain": [
              "(torch.Size([3]), torch.float32, device(type='cpu'))"
            ]
          },
          "metadata": {},
          "execution_count": 42
        }
      ]
    },
    {
      "cell_type": "markdown",
      "source": [
        "\n",
        "Aside from shape issues (tensor shapes don't match up), two of the other most common issues you'll come across in PyTorch are datatype and device issues.\n",
        "\n",
        "For example, one of tensors is torch.float32 and the other is torch.float16 (PyTorch often likes tensors to be the same format).\n",
        "\n",
        "Or one of your tensors is on the CPU and the other is on the GPU (PyTorch likes calculations between tensors to be on the same device).\n",
        "\n",
        "We'll see more of this device talk later on.\n",
        "\n",
        "For now let's create a tensor with dtype=torch.float16."
      ],
      "metadata": {
        "id": "9sOrNlXa7p1e"
      },
      "id": "9sOrNlXa7p1e"
    },
    {
      "cell_type": "code",
      "source": [
        "float_32_tensor.dtype"
      ],
      "metadata": {
        "id": "JlAUnesvmWl8",
        "colab": {
          "base_uri": "https://localhost:8080/"
        },
        "outputId": "2bf99483-4f5e-4be7-9fe4-b37e780c8b05"
      },
      "id": "JlAUnesvmWl8",
      "execution_count": 43,
      "outputs": [
        {
          "output_type": "execute_result",
          "data": {
            "text/plain": [
              "torch.float32"
            ]
          },
          "metadata": {},
          "execution_count": 43
        }
      ]
    },
    {
      "cell_type": "code",
      "source": [
        "float_16_tensor = torch.tensor([3.0, 6.0, 9.0],\n",
        "                               dtype=torch.float16) # torch.half would also work\n",
        "\n",
        "float_16_tensor"
      ],
      "metadata": {
        "id": "Iwcc5ZkA7W2h",
        "colab": {
          "base_uri": "https://localhost:8080/"
        },
        "outputId": "d80b0fbe-6b38-45cb-b10a-13d39127faa2"
      },
      "id": "Iwcc5ZkA7W2h",
      "execution_count": 44,
      "outputs": [
        {
          "output_type": "execute_result",
          "data": {
            "text/plain": [
              "tensor([3., 6., 9.], dtype=torch.float16)"
            ]
          },
          "metadata": {},
          "execution_count": 44
        }
      ]
    },
    {
      "cell_type": "code",
      "source": [
        "float_16_tensor2 = float_32_tensor.type(torch.float16)\n",
        "float_16_tensor2"
      ],
      "metadata": {
        "id": "yGpHX_D_7s5b",
        "colab": {
          "base_uri": "https://localhost:8080/"
        },
        "outputId": "1765abe9-8838-4cd3-df84-beaf4e961d6c"
      },
      "id": "yGpHX_D_7s5b",
      "execution_count": 45,
      "outputs": [
        {
          "output_type": "execute_result",
          "data": {
            "text/plain": [
              "tensor([3., 6., 9.], dtype=torch.float16)"
            ]
          },
          "metadata": {},
          "execution_count": 45
        }
      ]
    },
    {
      "cell_type": "code",
      "source": [
        "# WOW, We can do this\n",
        "float_32_tensor * float_16_tensor\n",
        "# but try to use same data type, ok??\n",
        "# because: maby get error at large database"
      ],
      "metadata": {
        "id": "YcRkgjVfmR6K",
        "colab": {
          "base_uri": "https://localhost:8080/"
        },
        "outputId": "01473791-e22e-4f5a-8215-e5a6d96b4536"
      },
      "id": "YcRkgjVfmR6K",
      "execution_count": 46,
      "outputs": [
        {
          "output_type": "execute_result",
          "data": {
            "text/plain": [
              "tensor([ 9., 36., 81.])"
            ]
          },
          "metadata": {},
          "execution_count": 46
        }
      ]
    },
    {
      "cell_type": "code",
      "source": [
        "float_16_mulb_32 = float_32_tensor * float_16_tensor\n",
        "float_16_mulb_32.dtype"
      ],
      "metadata": {
        "id": "y4okxKCBmic3",
        "colab": {
          "base_uri": "https://localhost:8080/"
        },
        "outputId": "b2b40fbe-dc9d-4e64-dfb6-ed8ae4efa621"
      },
      "id": "y4okxKCBmic3",
      "execution_count": 47,
      "outputs": [
        {
          "output_type": "execute_result",
          "data": {
            "text/plain": [
              "torch.float32"
            ]
          },
          "metadata": {},
          "execution_count": 47
        }
      ]
    },
    {
      "cell_type": "code",
      "source": [
        "int_32_tensor = torch.tensor([1,2,3], dtype=torch.int32)\n",
        "int_32_tensor"
      ],
      "metadata": {
        "id": "puOKZuONnH5N",
        "colab": {
          "base_uri": "https://localhost:8080/"
        },
        "outputId": "4e36bc30-2892-416d-aebf-6544a840b88a"
      },
      "id": "puOKZuONnH5N",
      "execution_count": 48,
      "outputs": [
        {
          "output_type": "execute_result",
          "data": {
            "text/plain": [
              "tensor([1, 2, 3], dtype=torch.int32)"
            ]
          },
          "metadata": {},
          "execution_count": 48
        }
      ]
    },
    {
      "cell_type": "code",
      "source": [
        "(float_32_tensor * int_32_tensor).dtype\n",
        "# Wow it's work too :/"
      ],
      "metadata": {
        "id": "IXgt9CTKnnmp",
        "colab": {
          "base_uri": "https://localhost:8080/"
        },
        "outputId": "5883f2de-aab6-4eab-fcd8-c44a1d674154"
      },
      "id": "IXgt9CTKnnmp",
      "execution_count": 49,
      "outputs": [
        {
          "output_type": "execute_result",
          "data": {
            "text/plain": [
              "torch.float32"
            ]
          },
          "metadata": {},
          "execution_count": 49
        }
      ]
    },
    {
      "cell_type": "markdown",
      "source": [
        "### Getting information from tensors\n",
        "Once you've created tensors (or someone else or a PyTorch module has created them for you), you might want to get some information from them.\n",
        "\n",
        "We've seen these before but three of the most common attributes you'll want to find out about tensors are:\n",
        "\n",
        "1. shape - what shape is the tensor? (some operations require specific shape rules)\n",
        "2. dtype - what datatype are the elements within the tensor stored in?\n",
        "3. device - what device is the tensor stored on? (usually GPU or CPU)\n",
        "\n",
        "Let's create a random tensor and find out details about it."
      ],
      "metadata": {
        "id": "JuoB2aVyodoE"
      },
      "id": "JuoB2aVyodoE"
    },
    {
      "cell_type": "code",
      "source": [
        "# Create a tensor\n",
        "exTensor1 = torch.arange(0,11,2)\n",
        "exTensor1"
      ],
      "metadata": {
        "id": "tn07Jr2Rnvat",
        "colab": {
          "base_uri": "https://localhost:8080/"
        },
        "outputId": "fc0aa324-73b9-485b-973a-9ba9359944f4"
      },
      "id": "tn07Jr2Rnvat",
      "execution_count": 50,
      "outputs": [
        {
          "output_type": "execute_result",
          "data": {
            "text/plain": [
              "tensor([ 0,  2,  4,  6,  8, 10])"
            ]
          },
          "metadata": {},
          "execution_count": 50
        }
      ]
    },
    {
      "cell_type": "code",
      "source": [
        "# Find out details about <exTensor1>\n",
        "print(exTensor1)\n",
        "print(f\"Datatype of tensor: {exTensor1.dtype}\")\n",
        "print(f\"Shape of tensor: {exTensor1.shape}\")\n",
        "print(f\"Dimenstion of tensor: {exTensor1.ndim}\")\n",
        "print(f\"Device tensor is on: {exTensor1.device}\")"
      ],
      "metadata": {
        "id": "by1pWEDgpIGr",
        "colab": {
          "base_uri": "https://localhost:8080/"
        },
        "outputId": "97b3ad3e-594c-4106-86b9-4f7ba1bc9360"
      },
      "id": "by1pWEDgpIGr",
      "execution_count": 51,
      "outputs": [
        {
          "output_type": "stream",
          "name": "stdout",
          "text": [
            "tensor([ 0,  2,  4,  6,  8, 10])\n",
            "Datatype of tensor: torch.int64\n",
            "Shape of tensor: torch.Size([6])\n",
            "Dimenstion of tensor: 1\n",
            "Device tensor is on: cpu\n"
          ]
        }
      ]
    },
    {
      "cell_type": "code",
      "source": [
        "print(XFive)\n",
        "print(f\"Shape : {XFive.shape}\")\n",
        "print(f\"Data type : {XFive.dtype}\")\n",
        "print(f\"Dimenstion : {XFive.ndim}\")\n",
        "print(f\"Device : {XFive.device}\")"
      ],
      "metadata": {
        "id": "NT39XPlWp4sj",
        "colab": {
          "base_uri": "https://localhost:8080/"
        },
        "outputId": "4d600a3d-dd21-412e-8d19-e06b47061150"
      },
      "id": "NT39XPlWp4sj",
      "execution_count": 52,
      "outputs": [
        {
          "output_type": "stream",
          "name": "stdout",
          "text": [
            "tensor([ 0,  5, 10, 15, 20, 25, 30, 35, 40, 45, 50])\n",
            "Shape : torch.Size([11])\n",
            "Data type : torch.int64\n",
            "Dimenstion : 1\n",
            "Device : cpu\n"
          ]
        }
      ]
    },
    {
      "cell_type": "markdown",
      "source": [
        "## Manipulating tensors (tensor operations)\n",
        "\n",
        "Manipulating tensors (tensor operations)¶\n",
        "In deep learning, data (images, text, video, audio, protein structures, etc) gets represented as tensors.\n",
        "\n",
        "A model learns by investigating those tensors and performing a series of operations (could be 1,000,000s+) on tensors to create a representation of the patterns in the input data.\n",
        "\n",
        "These operations are often a wonderful dance between:\n",
        "\n",
        "* Addition\n",
        "* Substraction\n",
        "* Multiplication (element-wise)\n",
        "* Division\n",
        "* Matrix multiplication\n",
        "And that's it. Sure there are a few more here and there but these are the basic building blocks of neural networks.\n",
        "\n",
        "Stacking these building blocks in the right way, you can create the most sophisticated of neural networks (just like lego!)."
      ],
      "metadata": {
        "id": "dfBu9hr76El-"
      },
      "id": "dfBu9hr76El-"
    },
    {
      "cell_type": "code",
      "source": [
        "exTensor1"
      ],
      "metadata": {
        "id": "JxiqyREL5q3T",
        "colab": {
          "base_uri": "https://localhost:8080/"
        },
        "outputId": "787c2503-553c-4a0d-e5ec-c96a4d8bde2b"
      },
      "id": "JxiqyREL5q3T",
      "execution_count": 53,
      "outputs": [
        {
          "output_type": "execute_result",
          "data": {
            "text/plain": [
              "tensor([ 0,  2,  4,  6,  8, 10])"
            ]
          },
          "metadata": {},
          "execution_count": 53
        }
      ]
    },
    {
      "cell_type": "code",
      "source": [
        "# Let's + 10 to the each of the elements\n",
        "exTensor1 + 10"
      ],
      "metadata": {
        "id": "B5sYNnww8j9D",
        "colab": {
          "base_uri": "https://localhost:8080/"
        },
        "outputId": "54268b6f-8055-443b-c4df-2d50641643e7"
      },
      "id": "B5sYNnww8j9D",
      "execution_count": 54,
      "outputs": [
        {
          "output_type": "execute_result",
          "data": {
            "text/plain": [
              "tensor([10, 12, 14, 16, 18, 20])"
            ]
          },
          "metadata": {},
          "execution_count": 54
        }
      ]
    },
    {
      "cell_type": "code",
      "source": [
        "# Lets try *\n",
        "%%time\n",
        "exTensor1 * 10"
      ],
      "metadata": {
        "id": "j95tNlt88tUi",
        "colab": {
          "base_uri": "https://localhost:8080/"
        },
        "outputId": "643ccdcc-8a31-42ab-fd44-45ffb921dcb7"
      },
      "id": "j95tNlt88tUi",
      "execution_count": 55,
      "outputs": [
        {
          "output_type": "stream",
          "name": "stdout",
          "text": [
            "CPU times: user 133 µs, sys: 0 ns, total: 133 µs\n",
            "Wall time: 139 µs\n"
          ]
        },
        {
          "output_type": "execute_result",
          "data": {
            "text/plain": [
              "tensor([  0,  20,  40,  60,  80, 100])"
            ]
          },
          "metadata": {},
          "execution_count": 55
        }
      ]
    },
    {
      "cell_type": "code",
      "source": [
        "%%time\n",
        "torch.multiply(exTensor1, 10)"
      ],
      "metadata": {
        "id": "9Z7l_Yg4_07z",
        "colab": {
          "base_uri": "https://localhost:8080/"
        },
        "outputId": "50ba07a6-d9b5-4e45-da56-de9661d95744"
      },
      "id": "9Z7l_Yg4_07z",
      "execution_count": 56,
      "outputs": [
        {
          "output_type": "stream",
          "name": "stdout",
          "text": [
            "CPU times: user 164 µs, sys: 0 ns, total: 164 µs\n",
            "Wall time: 168 µs\n"
          ]
        },
        {
          "output_type": "execute_result",
          "data": {
            "text/plain": [
              "tensor([  0,  20,  40,  60,  80, 100])"
            ]
          },
          "metadata": {},
          "execution_count": 56
        }
      ]
    },
    {
      "cell_type": "code",
      "source": [
        "# When you dont use = that means you don't change\n",
        "#    the origin value, just you see a results\n",
        "exTensor1"
      ],
      "metadata": {
        "id": "8gccKM6R800_",
        "colab": {
          "base_uri": "https://localhost:8080/"
        },
        "outputId": "d500a74b-0a84-497a-f24f-e7c605a385e1"
      },
      "id": "8gccKM6R800_",
      "execution_count": 57,
      "outputs": [
        {
          "output_type": "execute_result",
          "data": {
            "text/plain": [
              "tensor([ 0,  2,  4,  6,  8, 10])"
            ]
          },
          "metadata": {},
          "execution_count": 57
        }
      ]
    },
    {
      "cell_type": "markdown",
      "source": [
        "PyTorch also has a bunch of built-in functions like torch.mul() (short for multiplication) and torch.add() to perform basic operations."
      ],
      "metadata": {
        "id": "3KNH9w_e9L36"
      },
      "id": "3KNH9w_e9L36"
    },
    {
      "cell_type": "code",
      "source": [
        "# Insted of * we can us multiply funation\n",
        "torch.multiply(exTensor1, 10)"
      ],
      "metadata": {
        "id": "6ENCF7rb8-I0",
        "colab": {
          "base_uri": "https://localhost:8080/"
        },
        "outputId": "aa93bcba-fd89-4e7a-aa5a-597402ef9280"
      },
      "id": "6ENCF7rb8-I0",
      "execution_count": 58,
      "outputs": [
        {
          "output_type": "execute_result",
          "data": {
            "text/plain": [
              "tensor([  0,  20,  40,  60,  80, 100])"
            ]
          },
          "metadata": {},
          "execution_count": 58
        }
      ]
    },
    {
      "cell_type": "code",
      "source": [
        "# Insted of + we can us add function\n",
        "print(torch.add(exTensor1, 10))\n",
        "print(torch.add(exTensor1, exTensor1))"
      ],
      "metadata": {
        "id": "j7eEnDFk9b-o",
        "colab": {
          "base_uri": "https://localhost:8080/"
        },
        "outputId": "cefda2a6-aa9b-4256-afe2-9dc8c4082b42"
      },
      "id": "j7eEnDFk9b-o",
      "execution_count": 59,
      "outputs": [
        {
          "output_type": "stream",
          "name": "stdout",
          "text": [
            "tensor([10, 12, 14, 16, 18, 20])\n",
            "tensor([ 0,  4,  8, 12, 16, 20])\n"
          ]
        }
      ]
    },
    {
      "cell_type": "markdown",
      "source": [
        "! However, it's more common to use the operator symbols like * instead of torch.mul()"
      ],
      "metadata": {
        "id": "R8OARQdw-EMH"
      },
      "id": "R8OARQdw-EMH"
    },
    {
      "cell_type": "markdown",
      "source": [
        "\n",
        "## Matrix multiplication (is all you need)\n",
        "One of the most common operations in machine learning and deep learning algorithms (like neural networks) is matrix multiplication.\n",
        "\n",
        "\n",
        "PyTorch implements matrix multiplication functionality in the torch.matmul() method.\n",
        "\n",
        "The main two rules for matrix multiplication to remember are:\n",
        "\n",
        "1. The **inner dimensions** must match:\n",
        "* (3, 2) @ (3, 2) won't work\n",
        "* (2, 3) @ (3, 2) will work\n",
        "* (3, 2) @ (2, 3) will work\n",
        "The resulting matrix has the shape of\n",
        "2. the **outer dimensions**:\n",
        "* '(2, 3) @ (3, 2)' -> '(2, 2)'\n",
        "* '(3, 2) @ (2, 3)' -> '(3, 3)'\n",
        "\n",
        "Note: \"@\" in Python is the symbol for matrix multiplication.\n",
        "\n",
        "Resource: You can see all of the rules for matrix multiplication using torch.matmul() in the PyTorch documentation."
      ],
      "metadata": {
        "id": "iCMVr0FmI7ox"
      },
      "id": "iCMVr0FmI7ox"
    },
    {
      "cell_type": "code",
      "source": [
        "exTensor1"
      ],
      "metadata": {
        "id": "bpIs5qJ9vfii",
        "colab": {
          "base_uri": "https://localhost:8080/"
        },
        "outputId": "36bd4bd6-36cb-470e-e685-333e7464132a"
      },
      "id": "bpIs5qJ9vfii",
      "execution_count": 60,
      "outputs": [
        {
          "output_type": "execute_result",
          "data": {
            "text/plain": [
              "tensor([ 0,  2,  4,  6,  8, 10])"
            ]
          },
          "metadata": {},
          "execution_count": 60
        }
      ]
    },
    {
      "cell_type": "code",
      "source": [
        "torch.matmul(exTensor1, exTensor1)"
      ],
      "metadata": {
        "id": "1gCsmhY7vjye",
        "colab": {
          "base_uri": "https://localhost:8080/"
        },
        "outputId": "614a191c-2f92-4a79-afa3-45e874e2821f"
      },
      "id": "1gCsmhY7vjye",
      "execution_count": 61,
      "outputs": [
        {
          "output_type": "execute_result",
          "data": {
            "text/plain": [
              "tensor(220)"
            ]
          },
          "metadata": {},
          "execution_count": 61
        }
      ]
    },
    {
      "cell_type": "code",
      "source": [
        "exTensor1 @ exTensor1"
      ],
      "metadata": {
        "id": "I6Y7fTfewlJl",
        "colab": {
          "base_uri": "https://localhost:8080/"
        },
        "outputId": "e0fe523b-a801-4185-b2b2-bbbf4ce01a7a"
      },
      "id": "I6Y7fTfewlJl",
      "execution_count": 62,
      "outputs": [
        {
          "output_type": "execute_result",
          "data": {
            "text/plain": [
              "tensor(220)"
            ]
          },
          "metadata": {},
          "execution_count": 62
        }
      ]
    },
    {
      "cell_type": "markdown",
      "source": [
        "\n",
        "You can do matrix multiplication by hand but it's not recommended.\n",
        "\n",
        "The in-built torch.matmul() method is faster."
      ],
      "metadata": {
        "id": "BJJu9B6QwsEA"
      },
      "id": "BJJu9B6QwsEA"
    },
    {
      "cell_type": "code",
      "source": [
        "exTensor2_1 = torch.tensor([[1,2],\n",
        "                           [3,4],\n",
        "                           [5,6]])\n",
        "\n",
        "exTensor2_2 = torch.tensor([[7,10],\n",
        "                             [8,11],\n",
        "                             [9,12]])"
      ],
      "metadata": {
        "id": "dfD0gMV391Ni"
      },
      "id": "dfD0gMV391Ni",
      "execution_count": 63,
      "outputs": []
    },
    {
      "cell_type": "markdown",
      "source": [
        "\n",
        "## One of the most common errors in deep learning (shape errors)\n",
        "Because much of deep learning is multiplying and performing operations on matrices and matrices have a strict rule about what shapes and sizes can be combined, one of the most common errors you'll run into in deep learning is shape mismatches."
      ],
      "metadata": {
        "id": "KtNnIOnCwwgH"
      },
      "id": "KtNnIOnCwwgH"
    },
    {
      "cell_type": "code",
      "source": [
        "exTensor2_1.shape"
      ],
      "metadata": {
        "id": "hKh0Hau-u5wh",
        "colab": {
          "base_uri": "https://localhost:8080/"
        },
        "outputId": "862fdc7c-7d9d-447a-98f4-3b7a3a9508d5"
      },
      "id": "hKh0Hau-u5wh",
      "execution_count": 64,
      "outputs": [
        {
          "output_type": "execute_result",
          "data": {
            "text/plain": [
              "torch.Size([3, 2])"
            ]
          },
          "metadata": {},
          "execution_count": 64
        }
      ]
    },
    {
      "cell_type": "code",
      "source": [
        "exTensor2_2.shape"
      ],
      "metadata": {
        "id": "iFcu2f1xvCuM",
        "colab": {
          "base_uri": "https://localhost:8080/"
        },
        "outputId": "b25f0dd0-a3d9-40b3-c1b3-1d97f85d6c4d"
      },
      "id": "iFcu2f1xvCuM",
      "execution_count": 65,
      "outputs": [
        {
          "output_type": "execute_result",
          "data": {
            "text/plain": [
              "torch.Size([3, 2])"
            ]
          },
          "metadata": {},
          "execution_count": 65
        }
      ]
    },
    {
      "cell_type": "markdown",
      "source": [
        "we can do matrix multiplication becase it's broke role one\n",
        "for exTensor2_1 and exTensor2_2\n",
        "**we need transpose one of them**\n",
        "\n",
        "One of the ways to do this is with a transpose (switch the dimensions of a given tensor).\n",
        "\n",
        "You can perform transposes in PyTorch using either:\n",
        "\n",
        "* torch.transpose(input, dim0, dim1) - where input is the desired tensor to transpose and dim0 and dim1 are the dimensions to be swapped.\n",
        "* tensor.T - where tensor is the desired tensor to transpose."
      ],
      "metadata": {
        "id": "7iFfXog3w1_h"
      },
      "id": "7iFfXog3w1_h"
    },
    {
      "cell_type": "code",
      "source": [
        "print(exTensor2_1)\n",
        "print(\"\\n\")\n",
        "print(exTensor2_2)"
      ],
      "metadata": {
        "id": "gHQVQrObvQh3",
        "colab": {
          "base_uri": "https://localhost:8080/"
        },
        "outputId": "ce68b9cf-9acf-412d-d0bc-c835b959f03e"
      },
      "id": "gHQVQrObvQh3",
      "execution_count": 66,
      "outputs": [
        {
          "output_type": "stream",
          "name": "stdout",
          "text": [
            "tensor([[1, 2],\n",
            "        [3, 4],\n",
            "        [5, 6]])\n",
            "\n",
            "\n",
            "tensor([[ 7, 10],\n",
            "        [ 8, 11],\n",
            "        [ 9, 12]])\n"
          ]
        }
      ]
    },
    {
      "cell_type": "code",
      "source": [
        "print(exTensor2_1)\n",
        "print(\"\\n\")\n",
        "print(exTensor2_2.T)"
      ],
      "metadata": {
        "id": "KG5pPwZIxbeo",
        "colab": {
          "base_uri": "https://localhost:8080/"
        },
        "outputId": "8c3a91cc-acfb-4e00-a126-59cb4a91f168"
      },
      "id": "KG5pPwZIxbeo",
      "execution_count": 67,
      "outputs": [
        {
          "output_type": "stream",
          "name": "stdout",
          "text": [
            "tensor([[1, 2],\n",
            "        [3, 4],\n",
            "        [5, 6]])\n",
            "\n",
            "\n",
            "tensor([[ 7,  8,  9],\n",
            "        [10, 11, 12]])\n"
          ]
        }
      ]
    },
    {
      "cell_type": "code",
      "source": [
        "exTensor2_2_New = exTensor2_2.T"
      ],
      "metadata": {
        "id": "rwpfe5R4xhPw"
      },
      "id": "rwpfe5R4xhPw",
      "execution_count": 68,
      "outputs": []
    },
    {
      "cell_type": "code",
      "source": [
        "# The operation works when tensor_B is transposed\n",
        "print(f\"Original shapes: exTensor2_1 = {exTensor2_1.shape}, exTensor2_2= {exTensor2_2.shape}\\n\")\n",
        "print(f\"New shapes: exTensor2_1 = {exTensor2_1.shape} (same as above), exTensor2_2 = {exTensor2_2.T.shape}\\n\")\n",
        "print(f\"Multiplying: {exTensor2_1.shape} * {exTensor2_2.T.shape} <- inner dimensions match\\n\")\n",
        "print(\"Output:\\n\")\n",
        "output = torch.matmul(exTensor2_1, exTensor2_2.T)\n",
        "print(output)\n",
        "print(f\"\\nOutput shape: {output.shape}\")"
      ],
      "metadata": {
        "id": "WBG6g4DexqoX",
        "colab": {
          "base_uri": "https://localhost:8080/"
        },
        "outputId": "4689d3f9-7068-4303-fddd-f64beb325502"
      },
      "id": "WBG6g4DexqoX",
      "execution_count": 69,
      "outputs": [
        {
          "output_type": "stream",
          "name": "stdout",
          "text": [
            "Original shapes: exTensor2_1 = torch.Size([3, 2]), exTensor2_2= torch.Size([3, 2])\n",
            "\n",
            "New shapes: exTensor2_1 = torch.Size([3, 2]) (same as above), exTensor2_2 = torch.Size([2, 3])\n",
            "\n",
            "Multiplying: torch.Size([3, 2]) * torch.Size([2, 3]) <- inner dimensions match\n",
            "\n",
            "Output:\n",
            "\n",
            "tensor([[ 27,  30,  33],\n",
            "        [ 61,  68,  75],\n",
            "        [ 95, 106, 117]])\n",
            "\n",
            "Output shape: torch.Size([3, 3])\n"
          ]
        }
      ]
    },
    {
      "cell_type": "markdown",
      "source": [
        "Without the transpose, the rules of matrix multiplication aren't fulfilled and we get an error like above.\n",
        "\n",
        "How about a visual?\n",
        "\n",
        "![visual demo of matrix multiplication](https://github.com/mrdbourke/pytorch-deep-learning/raw/main/images/00-matrix-multiply-crop.gif)\n",
        "\n",
        "You can create your own matrix multiplication visuals like this at http://matrixmultiplication.xyz/.\n",
        "\n",
        "> **Note:** A matrix multiplication like this is also referred to as the [**dot product**](https://www.mathsisfun.com/algebra/vectors-dot-product.html) of two matrices.\n",
        "\n",
        "\n",
        "\n",
        "Neural networks are full of matrix multiplications and dot products.\n",
        "\n",
        "The [`torch.nn.Linear()`](https://pytorch.org/docs/1.9.1/generated/torch.nn.Linear.html) module (we'll see this in action later on), also known as a feed-forward layer or fully connected layer, implements a matrix multiplication between an input `x` and a weights matrix `A`.\n",
        "\n",
        "$$\n",
        "y = x\\cdot{A^T} + b\n",
        "$$\n",
        "\n",
        "Where:\n",
        "* `x` is the input to the layer (deep learning is a stack of layers like `torch.nn.Linear()` and others on top of each other).\n",
        "* `A` is the weights matrix created by the layer, this starts out as random numbers that get adjusted as a neural network learns to better represent patterns in the data (notice the \"`T`\", that's because the weights matrix gets transposed).\n",
        "  * **Note:** You might also often see `W` or another letter like `X` used to showcase the weights matrix.\n",
        "* `b` is the bias term used to slightly offset the weights and inputs.\n",
        "* `y` is the output (a manipulation of the input in the hopes to discover patterns in it).\n",
        "\n",
        "This is a linear function (you may have seen something like $y = mx+b$ in high school or elsewhere), and can be used to draw a straight line!\n",
        "\n",
        "Let's play around with a linear layer.\n",
        "\n",
        "Try changing the values of `in_features` and `out_features` below and see what happens.\n",
        "\n",
        "Do you notice anything to do with the shapes?"
      ],
      "metadata": {
        "id": "aW9Xu6FdzV1g"
      },
      "id": "aW9Xu6FdzV1g"
    },
    {
      "cell_type": "code",
      "source": [
        "exTensor2_1, exTensor2_1.shape"
      ],
      "metadata": {
        "id": "VZDixHNxyJYx",
        "colab": {
          "base_uri": "https://localhost:8080/"
        },
        "outputId": "7b550ce0-f538-45b6-e0e8-93dd5a6633cd"
      },
      "id": "VZDixHNxyJYx",
      "execution_count": 70,
      "outputs": [
        {
          "output_type": "execute_result",
          "data": {
            "text/plain": [
              "(tensor([[1, 2],\n",
              "         [3, 4],\n",
              "         [5, 6]]),\n",
              " torch.Size([3, 2]))"
            ]
          },
          "metadata": {},
          "execution_count": 70
        }
      ]
    },
    {
      "cell_type": "code",
      "source": [
        "exTensor2_2_New, exTensor2_2_New.shape"
      ],
      "metadata": {
        "id": "EzVT_K1hzugW",
        "colab": {
          "base_uri": "https://localhost:8080/"
        },
        "outputId": "a7229d70-891d-4500-cf16-c378241bd20a"
      },
      "id": "EzVT_K1hzugW",
      "execution_count": 71,
      "outputs": [
        {
          "output_type": "execute_result",
          "data": {
            "text/plain": [
              "(tensor([[ 7,  8,  9],\n",
              "         [10, 11, 12]]),\n",
              " torch.Size([2, 3]))"
            ]
          },
          "metadata": {},
          "execution_count": 71
        }
      ]
    },
    {
      "cell_type": "code",
      "source": [
        "exTensorR1 = exTensor2_1 @ exTensor2_2_New"
      ],
      "metadata": {
        "id": "506xM-Rbz8GR"
      },
      "id": "506xM-Rbz8GR",
      "execution_count": 72,
      "outputs": []
    },
    {
      "cell_type": "code",
      "source": [
        "print(exTensorR1)\n",
        "print(f\"Shape : {exTensorR1.shape}\")\n",
        "print(f\"Dimenstion : {exTensorR1.ndim}\")\n",
        "print(f\"Datatype : {exTensorR1.dtype}\")\n",
        "print(f\"Device : {exTensorR1.device}\")"
      ],
      "metadata": {
        "id": "Q-z6qeF10Pz4",
        "colab": {
          "base_uri": "https://localhost:8080/"
        },
        "outputId": "2f0381a4-8a57-4dae-bc45-23083508fd4b"
      },
      "id": "Q-z6qeF10Pz4",
      "execution_count": 73,
      "outputs": [
        {
          "output_type": "stream",
          "name": "stdout",
          "text": [
            "tensor([[ 27,  30,  33],\n",
            "        [ 61,  68,  75],\n",
            "        [ 95, 106, 117]])\n",
            "Shape : torch.Size([3, 3])\n",
            "Dimenstion : 2\n",
            "Datatype : torch.int64\n",
            "Device : cpu\n"
          ]
        }
      ]
    },
    {
      "cell_type": "markdown",
      "source": [
        "\n",
        "## Finding the min, max, mean, sum, etc (aggregation)\n",
        "Now we've seen a few ways to manipulate tensors, let's run through a few ways to aggregate them (go from more values to less values)."
      ],
      "metadata": {
        "id": "rQ9Aj0ls4-9g"
      },
      "id": "rQ9Aj0ls4-9g"
    },
    {
      "cell_type": "code",
      "source": [
        "exTensorR1"
      ],
      "metadata": {
        "id": "R_eHfg8y00qn",
        "colab": {
          "base_uri": "https://localhost:8080/"
        },
        "outputId": "21aadb1a-84de-4353-b07f-e56f7e375340"
      },
      "id": "R_eHfg8y00qn",
      "execution_count": 74,
      "outputs": [
        {
          "output_type": "execute_result",
          "data": {
            "text/plain": [
              "tensor([[ 27,  30,  33],\n",
              "        [ 61,  68,  75],\n",
              "        [ 95, 106, 117]])"
            ]
          },
          "metadata": {},
          "execution_count": 74
        }
      ]
    },
    {
      "cell_type": "code",
      "source": [
        "#Find Min\n",
        "exTensorR1.min()"
      ],
      "metadata": {
        "id": "IkGZ9n8Y5EiW",
        "colab": {
          "base_uri": "https://localhost:8080/"
        },
        "outputId": "a302797f-8c45-42cc-e6ef-6437c58e1205"
      },
      "id": "IkGZ9n8Y5EiW",
      "execution_count": 75,
      "outputs": [
        {
          "output_type": "execute_result",
          "data": {
            "text/plain": [
              "tensor(27)"
            ]
          },
          "metadata": {},
          "execution_count": 75
        }
      ]
    },
    {
      "cell_type": "code",
      "source": [
        "#Find Max\n",
        "exTensorR1.max()"
      ],
      "metadata": {
        "id": "kVQACgk35PKe",
        "colab": {
          "base_uri": "https://localhost:8080/"
        },
        "outputId": "fec75a39-6669-4fee-da21-833fe84adcad"
      },
      "id": "kVQACgk35PKe",
      "execution_count": 76,
      "outputs": [
        {
          "output_type": "execute_result",
          "data": {
            "text/plain": [
              "tensor(117)"
            ]
          },
          "metadata": {},
          "execution_count": 76
        }
      ]
    },
    {
      "cell_type": "code",
      "source": [
        "#Find mean\n",
        "exTensorR1.type(torch.float32).mean()"
      ],
      "metadata": {
        "id": "khEEftgj5aS4",
        "colab": {
          "base_uri": "https://localhost:8080/"
        },
        "outputId": "ab452a89-d0b2-49f7-dde6-8b9e30502664"
      },
      "id": "khEEftgj5aS4",
      "execution_count": 77,
      "outputs": [
        {
          "output_type": "execute_result",
          "data": {
            "text/plain": [
              "tensor(68.)"
            ]
          },
          "metadata": {},
          "execution_count": 77
        }
      ]
    },
    {
      "cell_type": "markdown",
      "source": [
        "> **Note:** You may find some methods such as `torch.mean()` require tensors to be in `torch.float32` (the most common) or another specific datatype, otherwise the operation will fail.\n",
        "\n"
      ],
      "metadata": {
        "id": "UptGLvIK54uB"
      },
      "id": "UptGLvIK54uB"
    },
    {
      "cell_type": "code",
      "source": [
        "# Sum of elements\n",
        "exTensorR1.sum()"
      ],
      "metadata": {
        "id": "chQ0lVWH6N8F",
        "colab": {
          "base_uri": "https://localhost:8080/"
        },
        "outputId": "1ef99ffb-de3b-4a10-cf45-56956533b51d"
      },
      "id": "chQ0lVWH6N8F",
      "execution_count": 78,
      "outputs": [
        {
          "output_type": "execute_result",
          "data": {
            "text/plain": [
              "tensor(612)"
            ]
          },
          "metadata": {},
          "execution_count": 78
        }
      ]
    },
    {
      "cell_type": "markdown",
      "source": [
        "You can also do the same as above with `torch` methods."
      ],
      "metadata": {
        "id": "ZqGYLwGW6WOw"
      },
      "id": "ZqGYLwGW6WOw"
    },
    {
      "cell_type": "code",
      "source": [
        "torch.min(exTensorR1), torch.max(exTensorR1)"
      ],
      "metadata": {
        "id": "Zd_z-hsC5nlb",
        "colab": {
          "base_uri": "https://localhost:8080/"
        },
        "outputId": "9c767778-e706-43bc-b1f8-6f531668626c"
      },
      "id": "Zd_z-hsC5nlb",
      "execution_count": 79,
      "outputs": [
        {
          "output_type": "execute_result",
          "data": {
            "text/plain": [
              "(tensor(27), tensor(117))"
            ]
          },
          "metadata": {},
          "execution_count": 79
        }
      ]
    },
    {
      "cell_type": "code",
      "source": [
        "torch.mean(exTensorR1.type(torch.float32)), torch.sum(exTensorR1)"
      ],
      "metadata": {
        "id": "YNsWa7F56pNR",
        "colab": {
          "base_uri": "https://localhost:8080/"
        },
        "outputId": "3d472a47-e010-4339-e737-d852fc2dcd16"
      },
      "id": "YNsWa7F56pNR",
      "execution_count": 80,
      "outputs": [
        {
          "output_type": "execute_result",
          "data": {
            "text/plain": [
              "(tensor(68.), tensor(612))"
            ]
          },
          "metadata": {},
          "execution_count": 80
        }
      ]
    },
    {
      "cell_type": "markdown",
      "source": [
        "## Finding position of min and max value\n",
        "\n",
        "This is helpful incase you just want the position where the highest (or lowest) value is and not the actual value itself (we'll see this in a later section when using the [softmax activation function](https://pytorch.org/docs/stable/generated/torch.nn.Softmax.html))."
      ],
      "metadata": {
        "id": "vDH73MRB9PYK"
      },
      "id": "vDH73MRB9PYK"
    },
    {
      "cell_type": "markdown",
      "source": [],
      "metadata": {
        "id": "_3ZCg6Pl9Oal"
      },
      "id": "_3ZCg6Pl9Oal"
    },
    {
      "cell_type": "markdown",
      "source": [],
      "metadata": {
        "id": "R2SvcJYxAceB"
      },
      "id": "R2SvcJYxAceB"
    },
    {
      "cell_type": "code",
      "source": [
        "import random"
      ],
      "metadata": {
        "id": "ZpR226_zCrIb"
      },
      "id": "ZpR226_zCrIb",
      "execution_count": 104,
      "outputs": []
    },
    {
      "cell_type": "code",
      "source": [
        "def BackRandom():\n",
        "  return random.randint(1, 50)"
      ],
      "metadata": {
        "id": "RH196gaxCyxJ"
      },
      "id": "RH196gaxCyxJ",
      "execution_count": 111,
      "outputs": []
    },
    {
      "cell_type": "code",
      "source": [
        "exTensor2 = torch.tensor([BackRandom(),BackRandom(),BackRandom()])"
      ],
      "metadata": {
        "id": "sUpmopJo9vAm"
      },
      "id": "sUpmopJo9vAm",
      "execution_count": 115,
      "outputs": []
    },
    {
      "cell_type": "code",
      "source": [
        "exTensor2.argmax()"
      ],
      "metadata": {
        "id": "lgqbhQ3V-YTu",
        "colab": {
          "base_uri": "https://localhost:8080/"
        },
        "outputId": "ffb346b3-91a4-429e-ff8b-c09071af30cf"
      },
      "id": "lgqbhQ3V-YTu",
      "execution_count": 116,
      "outputs": [
        {
          "output_type": "execute_result",
          "data": {
            "text/plain": [
              "tensor(2)"
            ]
          },
          "metadata": {},
          "execution_count": 116
        }
      ]
    },
    {
      "cell_type": "code",
      "source": [
        "exTensor2.argmin()"
      ],
      "metadata": {
        "id": "xlUMZaDq-atq",
        "colab": {
          "base_uri": "https://localhost:8080/"
        },
        "outputId": "7ed6ec7b-9966-4977-ee85-39c8f632512e"
      },
      "id": "xlUMZaDq-atq",
      "execution_count": 117,
      "outputs": [
        {
          "output_type": "execute_result",
          "data": {
            "text/plain": [
              "tensor(1)"
            ]
          },
          "metadata": {},
          "execution_count": 117
        }
      ]
    },
    {
      "cell_type": "code",
      "source": [
        "exTensor2[2]"
      ],
      "metadata": {
        "colab": {
          "base_uri": "https://localhost:8080/"
        },
        "id": "6IoHy88JB68j",
        "outputId": "fc99ed11-e8ef-426c-8409-aaaca76b6d6d"
      },
      "id": "6IoHy88JB68j",
      "execution_count": 118,
      "outputs": [
        {
          "output_type": "execute_result",
          "data": {
            "text/plain": [
              "tensor(23)"
            ]
          },
          "metadata": {},
          "execution_count": 118
        }
      ]
    },
    {
      "cell_type": "code",
      "source": [
        "exTensor2[1]"
      ],
      "metadata": {
        "colab": {
          "base_uri": "https://localhost:8080/"
        },
        "id": "duk7FGIZB-XG",
        "outputId": "30ef382f-9a79-4a2c-a4c6-feaf4b010743"
      },
      "id": "duk7FGIZB-XG",
      "execution_count": 119,
      "outputs": [
        {
          "output_type": "execute_result",
          "data": {
            "text/plain": [
              "tensor(3)"
            ]
          },
          "metadata": {},
          "execution_count": 119
        }
      ]
    },
    {
      "cell_type": "code",
      "source": [
        "exTensor2"
      ],
      "metadata": {
        "colab": {
          "base_uri": "https://localhost:8080/"
        },
        "id": "S9baRWoNCWFc",
        "outputId": "a169705c-5feb-4b69-ae44-d789c083e94e"
      },
      "id": "S9baRWoNCWFc",
      "execution_count": 120,
      "outputs": [
        {
          "output_type": "execute_result",
          "data": {
            "text/plain": [
              "tensor([15,  3, 23])"
            ]
          },
          "metadata": {},
          "execution_count": 120
        }
      ]
    },
    {
      "cell_type": "code",
      "source": [
        "exTensor3 = torch.arange(BackRandom(), BackRandom())"
      ],
      "metadata": {
        "id": "uInS0RgWCmtX"
      },
      "id": "uInS0RgWCmtX",
      "execution_count": 122,
      "outputs": []
    },
    {
      "cell_type": "code",
      "source": [
        "exTensor3.argmax()"
      ],
      "metadata": {
        "colab": {
          "base_uri": "https://localhost:8080/"
        },
        "id": "BbVcNb_gDIBo",
        "outputId": "81e16f62-59cb-4c9c-b5f8-8d579658e9da"
      },
      "id": "BbVcNb_gDIBo",
      "execution_count": 123,
      "outputs": [
        {
          "output_type": "execute_result",
          "data": {
            "text/plain": [
              "tensor(9)"
            ]
          },
          "metadata": {},
          "execution_count": 123
        }
      ]
    },
    {
      "cell_type": "code",
      "source": [
        "exTensor3.argmin()"
      ],
      "metadata": {
        "colab": {
          "base_uri": "https://localhost:8080/"
        },
        "id": "MFhm6P_uDNlY",
        "outputId": "d5619709-863a-4d9c-af8e-803c967f0186"
      },
      "id": "MFhm6P_uDNlY",
      "execution_count": 124,
      "outputs": [
        {
          "output_type": "execute_result",
          "data": {
            "text/plain": [
              "tensor(0)"
            ]
          },
          "metadata": {},
          "execution_count": 124
        }
      ]
    },
    {
      "cell_type": "code",
      "source": [
        "exTensor3"
      ],
      "metadata": {
        "colab": {
          "base_uri": "https://localhost:8080/"
        },
        "id": "X759d23pDQPp",
        "outputId": "341b2f64-16a3-4ed7-f5d8-2c5c11c4ae54"
      },
      "id": "X759d23pDQPp",
      "execution_count": 125,
      "outputs": [
        {
          "output_type": "execute_result",
          "data": {
            "text/plain": [
              "tensor([28, 29, 30, 31, 32, 33, 34, 35, 36, 37])"
            ]
          },
          "metadata": {},
          "execution_count": 125
        }
      ]
    },
    {
      "cell_type": "code",
      "source": [],
      "metadata": {
        "id": "xgAifnaQDSBt"
      },
      "id": "xgAifnaQDSBt",
      "execution_count": null,
      "outputs": []
    }
  ],
  "metadata": {
    "kernelspec": {
      "display_name": "Python 3",
      "name": "python3"
    },
    "language_info": {
      "codemirror_mode": {
        "name": "ipython",
        "version": 3
      },
      "file_extension": ".py",
      "mimetype": "text/x-python",
      "name": "python",
      "nbconvert_exporter": "python",
      "pygments_lexer": "ipython3",
      "version": "3.13.5"
    },
    "colab": {
      "provenance": [],
      "include_colab_link": true
    }
  },
  "nbformat": 4,
  "nbformat_minor": 5
}