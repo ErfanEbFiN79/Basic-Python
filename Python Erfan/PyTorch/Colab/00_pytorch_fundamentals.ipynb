{
  "cells": [
    {
      "cell_type": "markdown",
      "metadata": {
        "id": "view-in-github",
        "colab_type": "text"
      },
      "source": [
        "<a href=\"https://colab.research.google.com/github/ErfanEbFiN79/Erfan-Python/blob/main/Python%20Erfan/PyTotch/Colab/00_pytorch_fundamentals.ipynb\" target=\"_parent\"><img src=\"https://colab.research.google.com/assets/colab-badge.svg\" alt=\"Open In Colab\"/></a>"
      ]
    },
    {
      "cell_type": "code",
      "execution_count": 1,
      "id": "e0d2832c-af09-4dde-8920-0fbaaeb65815",
      "metadata": {
        "colab": {
          "base_uri": "https://localhost:8080/"
        },
        "id": "e0d2832c-af09-4dde-8920-0fbaaeb65815",
        "outputId": "6407016c-6dfc-4755-cbff-4f1b929da446"
      },
      "outputs": [
        {
          "output_type": "stream",
          "name": "stdout",
          "text": [
            "/bin/bash: line 1: nvidia-smi: command not found\n"
          ]
        }
      ],
      "source": [
        "!nvidia-smi"
      ]
    },
    {
      "cell_type": "code",
      "execution_count": 2,
      "id": "01b61bed-02a3-44dc-a694-eb387c0f1803",
      "metadata": {
        "id": "01b61bed-02a3-44dc-a694-eb387c0f1803"
      },
      "outputs": [],
      "source": [
        "import torch"
      ]
    },
    {
      "cell_type": "code",
      "source": [
        "print(torch.__version__)"
      ],
      "metadata": {
        "colab": {
          "base_uri": "https://localhost:8080/"
        },
        "id": "gHjiM7_y4uD4",
        "outputId": "59baebbf-5e89-4cc3-8b0b-bd97e439599c"
      },
      "id": "gHjiM7_y4uD4",
      "execution_count": 3,
      "outputs": [
        {
          "output_type": "stream",
          "name": "stdout",
          "text": [
            "2.6.0+cu124\n"
          ]
        }
      ]
    },
    {
      "cell_type": "markdown",
      "source": [],
      "metadata": {
        "id": "1L1ayKTs5l1y"
      },
      "id": "1L1ayKTs5l1y"
    },
    {
      "cell_type": "markdown",
      "source": [
        "## Introduction to Tensors\n",
        "Creating Tensors"
      ],
      "metadata": {
        "id": "kFg7ZKXY5nau"
      },
      "id": "kFg7ZKXY5nau"
    },
    {
      "cell_type": "markdown",
      "source": [
        "Scalers are linear (or more precisely affine) transformers and differ from each other in the way they estimate the parameters used to shift and scale each feature. QuantileTransformer provides non-linear transformations in which distances between marginal outliers and inliers are shrunk."
      ],
      "metadata": {
        "id": "V8Uu4UEx6t1e"
      },
      "id": "V8Uu4UEx6t1e"
    },
    {
      "cell_type": "markdown",
      "source": [
        "PyTorch tensors are created usin torch.Tensor()"
      ],
      "metadata": {
        "id": "5MBXySiz69pX"
      },
      "id": "5MBXySiz69pX"
    },
    {
      "cell_type": "code",
      "source": [
        "# scalar\n",
        "scalar = torch.tensor(7)\n",
        "scalar"
      ],
      "metadata": {
        "colab": {
          "base_uri": "https://localhost:8080/"
        },
        "id": "hODJcyau420U",
        "outputId": "b88a554f-569c-40ee-cc88-d7ecf6590eee"
      },
      "id": "hODJcyau420U",
      "execution_count": 4,
      "outputs": [
        {
          "output_type": "execute_result",
          "data": {
            "text/plain": [
              "tensor(7)"
            ]
          },
          "metadata": {},
          "execution_count": 4
        }
      ]
    },
    {
      "cell_type": "code",
      "source": [
        "scalar.ndim"
      ],
      "metadata": {
        "colab": {
          "base_uri": "https://localhost:8080/"
        },
        "id": "lwAebDZ_7NSz",
        "outputId": "b623c37c-7741-4f2a-a94f-542f0d6c6be2"
      },
      "id": "lwAebDZ_7NSz",
      "execution_count": 5,
      "outputs": [
        {
          "output_type": "execute_result",
          "data": {
            "text/plain": [
              "0"
            ]
          },
          "metadata": {},
          "execution_count": 5
        }
      ]
    },
    {
      "cell_type": "code",
      "source": [
        "# Get tensor back as python int\n",
        "scalar.item()"
      ],
      "metadata": {
        "colab": {
          "base_uri": "https://localhost:8080/"
        },
        "id": "GzKIFJFB7fl-",
        "outputId": "7b7a31d3-81bb-42cc-ab65-8c0b49f38763"
      },
      "id": "GzKIFJFB7fl-",
      "execution_count": 6,
      "outputs": [
        {
          "output_type": "execute_result",
          "data": {
            "text/plain": [
              "7"
            ]
          },
          "metadata": {},
          "execution_count": 6
        }
      ]
    },
    {
      "cell_type": "code",
      "source": [
        "# Vector\n",
        "vector = torch.tensor([7,7])\n",
        "vector"
      ],
      "metadata": {
        "colab": {
          "base_uri": "https://localhost:8080/"
        },
        "id": "oO2ZYl537qgM",
        "outputId": "2d1de851-6477-4f46-bf77-e0c6a1fd4d11"
      },
      "id": "oO2ZYl537qgM",
      "execution_count": 7,
      "outputs": [
        {
          "output_type": "execute_result",
          "data": {
            "text/plain": [
              "tensor([7, 7])"
            ]
          },
          "metadata": {},
          "execution_count": 7
        }
      ]
    },
    {
      "cell_type": "code",
      "source": [
        "vector.ndim"
      ],
      "metadata": {
        "colab": {
          "base_uri": "https://localhost:8080/"
        },
        "id": "EYz4tMjB8Wmp",
        "outputId": "cdd36a4c-b60d-4179-c79d-466e22cc4262"
      },
      "id": "EYz4tMjB8Wmp",
      "execution_count": 8,
      "outputs": [
        {
          "output_type": "execute_result",
          "data": {
            "text/plain": [
              "1"
            ]
          },
          "metadata": {},
          "execution_count": 8
        }
      ]
    },
    {
      "cell_type": "code",
      "source": [
        "vector.shape"
      ],
      "metadata": {
        "colab": {
          "base_uri": "https://localhost:8080/"
        },
        "id": "UqX-wneq8e_L",
        "outputId": "b9302dd1-1a50-4bc9-f3c9-c0d7cad72036"
      },
      "id": "UqX-wneq8e_L",
      "execution_count": 9,
      "outputs": [
        {
          "output_type": "execute_result",
          "data": {
            "text/plain": [
              "torch.Size([2])"
            ]
          },
          "metadata": {},
          "execution_count": 9
        }
      ]
    },
    {
      "cell_type": "code",
      "source": [
        "# Matrix\n",
        "Matrix = torch.tensor([[7,8],[9,10]])\n",
        "Matrix"
      ],
      "metadata": {
        "colab": {
          "base_uri": "https://localhost:8080/"
        },
        "id": "sVK4yArg8oH5",
        "outputId": "aae321e8-66a2-44e3-f973-cd2c260e2185"
      },
      "id": "sVK4yArg8oH5",
      "execution_count": 10,
      "outputs": [
        {
          "output_type": "execute_result",
          "data": {
            "text/plain": [
              "tensor([[ 7,  8],\n",
              "        [ 9, 10]])"
            ]
          },
          "metadata": {},
          "execution_count": 10
        }
      ]
    },
    {
      "cell_type": "code",
      "source": [
        "Matrix.ndim"
      ],
      "metadata": {
        "colab": {
          "base_uri": "https://localhost:8080/"
        },
        "id": "_Gcrzxdj84Kn",
        "outputId": "d997f215-da76-4526-cddd-618872a3257c"
      },
      "id": "_Gcrzxdj84Kn",
      "execution_count": 11,
      "outputs": [
        {
          "output_type": "execute_result",
          "data": {
            "text/plain": [
              "2"
            ]
          },
          "metadata": {},
          "execution_count": 11
        }
      ]
    },
    {
      "cell_type": "code",
      "source": [
        "Matrix.size()"
      ],
      "metadata": {
        "colab": {
          "base_uri": "https://localhost:8080/"
        },
        "id": "ZJ9U3M0887oi",
        "outputId": "cc0dcad1-c7c3-4d6a-f428-f44c00ff5581"
      },
      "id": "ZJ9U3M0887oi",
      "execution_count": 12,
      "outputs": [
        {
          "output_type": "execute_result",
          "data": {
            "text/plain": [
              "torch.Size([2, 2])"
            ]
          },
          "metadata": {},
          "execution_count": 12
        }
      ]
    },
    {
      "cell_type": "code",
      "source": [
        "Matrix.shape"
      ],
      "metadata": {
        "colab": {
          "base_uri": "https://localhost:8080/"
        },
        "id": "L67ewcpZ8_t4",
        "outputId": "dc42338a-e18a-4f6d-9aea-1227c4c72805"
      },
      "id": "L67ewcpZ8_t4",
      "execution_count": 13,
      "outputs": [
        {
          "output_type": "execute_result",
          "data": {
            "text/plain": [
              "torch.Size([2, 2])"
            ]
          },
          "metadata": {},
          "execution_count": 13
        }
      ]
    },
    {
      "cell_type": "code",
      "source": [
        "type(Matrix)"
      ],
      "metadata": {
        "colab": {
          "base_uri": "https://localhost:8080/"
        },
        "id": "4auLOrkv9DWN",
        "outputId": "123f6503-98f1-4d18-fe5d-2059e7a85a89"
      },
      "id": "4auLOrkv9DWN",
      "execution_count": 14,
      "outputs": [
        {
          "output_type": "execute_result",
          "data": {
            "text/plain": [
              "torch.Tensor"
            ]
          },
          "metadata": {},
          "execution_count": 14
        }
      ]
    },
    {
      "cell_type": "code",
      "source": [
        "Matrix"
      ],
      "metadata": {
        "colab": {
          "base_uri": "https://localhost:8080/"
        },
        "id": "sLv_qXW29QjJ",
        "outputId": "e47e52a1-7f3c-4eef-c783-807857ab1733"
      },
      "id": "sLv_qXW29QjJ",
      "execution_count": 15,
      "outputs": [
        {
          "output_type": "execute_result",
          "data": {
            "text/plain": [
              "tensor([[ 7,  8],\n",
              "        [ 9, 10]])"
            ]
          },
          "metadata": {},
          "execution_count": 15
        }
      ]
    },
    {
      "cell_type": "code",
      "source": [
        "Matrix[0]"
      ],
      "metadata": {
        "colab": {
          "base_uri": "https://localhost:8080/"
        },
        "id": "Vj7Q8jRY9UvD",
        "outputId": "2c8e510c-cb84-477b-a72d-5b085cb41fd4"
      },
      "id": "Vj7Q8jRY9UvD",
      "execution_count": 16,
      "outputs": [
        {
          "output_type": "execute_result",
          "data": {
            "text/plain": [
              "tensor([7, 8])"
            ]
          },
          "metadata": {},
          "execution_count": 16
        }
      ]
    },
    {
      "cell_type": "code",
      "source": [
        "Matrix[1]"
      ],
      "metadata": {
        "colab": {
          "base_uri": "https://localhost:8080/"
        },
        "id": "6pzPHicI9XBo",
        "outputId": "7767e94b-8c61-4323-9c32-13ebbc79a1af"
      },
      "id": "6pzPHicI9XBo",
      "execution_count": 17,
      "outputs": [
        {
          "output_type": "execute_result",
          "data": {
            "text/plain": [
              "tensor([ 9, 10])"
            ]
          },
          "metadata": {},
          "execution_count": 17
        }
      ]
    },
    {
      "cell_type": "code",
      "source": [
        "# TENSOR\n",
        "\n",
        "TENSOR = torch.tensor([[[1,2,3],\n",
        "                        [3,6,9],\n",
        "                        [2,4,5]]])\n",
        "TENSOR"
      ],
      "metadata": {
        "colab": {
          "base_uri": "https://localhost:8080/"
        },
        "id": "CydECr5N9lXL",
        "outputId": "10b0171a-5791-4c6d-ef40-72d3bd67a433"
      },
      "id": "CydECr5N9lXL",
      "execution_count": 18,
      "outputs": [
        {
          "output_type": "execute_result",
          "data": {
            "text/plain": [
              "tensor([[[1, 2, 3],\n",
              "         [3, 6, 9],\n",
              "         [2, 4, 5]]])"
            ]
          },
          "metadata": {},
          "execution_count": 18
        }
      ]
    },
    {
      "cell_type": "code",
      "source": [
        "TENSOR.ndim"
      ],
      "metadata": {
        "colab": {
          "base_uri": "https://localhost:8080/"
        },
        "id": "q7xsnpLU9Y1a",
        "outputId": "ea8603c3-4a0e-4087-e917-a3c25c970ce4"
      },
      "id": "q7xsnpLU9Y1a",
      "execution_count": 19,
      "outputs": [
        {
          "output_type": "execute_result",
          "data": {
            "text/plain": [
              "3"
            ]
          },
          "metadata": {},
          "execution_count": 19
        }
      ]
    },
    {
      "cell_type": "code",
      "source": [
        "TENSOR.shape"
      ],
      "metadata": {
        "colab": {
          "base_uri": "https://localhost:8080/"
        },
        "id": "ezwGdKuU9-AT",
        "outputId": "031fd855-4e47-41f5-f9f7-655fb86ecf6d"
      },
      "id": "ezwGdKuU9-AT",
      "execution_count": 20,
      "outputs": [
        {
          "output_type": "execute_result",
          "data": {
            "text/plain": [
              "torch.Size([1, 3, 3])"
            ]
          },
          "metadata": {},
          "execution_count": 20
        }
      ]
    },
    {
      "cell_type": "code",
      "source": [
        "TENSOR[0]"
      ],
      "metadata": {
        "colab": {
          "base_uri": "https://localhost:8080/"
        },
        "id": "zpUUp9Qw-AEh",
        "outputId": "a2a63c69-0a00-4762-d32b-4f4261637127"
      },
      "id": "zpUUp9Qw-AEh",
      "execution_count": 21,
      "outputs": [
        {
          "output_type": "execute_result",
          "data": {
            "text/plain": [
              "tensor([[1, 2, 3],\n",
              "        [3, 6, 9],\n",
              "        [2, 4, 5]])"
            ]
          },
          "metadata": {},
          "execution_count": 21
        }
      ]
    },
    {
      "cell_type": "code",
      "source": [
        "TENSOR[0][0]"
      ],
      "metadata": {
        "colab": {
          "base_uri": "https://localhost:8080/"
        },
        "id": "2p5BSZZE-KEz",
        "outputId": "8f693bcb-3eed-4e50-d715-3e3f741ae73c"
      },
      "id": "2p5BSZZE-KEz",
      "execution_count": 22,
      "outputs": [
        {
          "output_type": "execute_result",
          "data": {
            "text/plain": [
              "tensor([1, 2, 3])"
            ]
          },
          "metadata": {},
          "execution_count": 22
        }
      ]
    },
    {
      "cell_type": "code",
      "source": [
        "TENSOR[0][2]"
      ],
      "metadata": {
        "colab": {
          "base_uri": "https://localhost:8080/"
        },
        "id": "M3urRfqF-U1K",
        "outputId": "39df5ed4-45c5-4d23-a340-b83154908983"
      },
      "id": "M3urRfqF-U1K",
      "execution_count": 23,
      "outputs": [
        {
          "output_type": "execute_result",
          "data": {
            "text/plain": [
              "tensor([2, 4, 5])"
            ]
          },
          "metadata": {},
          "execution_count": 23
        }
      ]
    },
    {
      "cell_type": "code",
      "source": [
        "TENSOR[0][1][1]"
      ],
      "metadata": {
        "colab": {
          "base_uri": "https://localhost:8080/"
        },
        "id": "68-3uWPS-Mmx",
        "outputId": "21eba96c-2b7b-4ea4-ffed-459a37fef8e0"
      },
      "id": "68-3uWPS-Mmx",
      "execution_count": 24,
      "outputs": [
        {
          "output_type": "execute_result",
          "data": {
            "text/plain": [
              "tensor(6)"
            ]
          },
          "metadata": {},
          "execution_count": 24
        }
      ]
    },
    {
      "cell_type": "markdown",
      "source": [],
      "metadata": {
        "id": "blE6H_6px-Bm"
      },
      "id": "blE6H_6px-Bm"
    },
    {
      "cell_type": "code",
      "source": [
        "MyTensorTest = torch.tensor([[[1,2,3],\n",
        "                              [4,5,6],\n",
        "                              [7,8,9]],\n",
        "                             [[10,12,13],\n",
        "                              [14,16,17],\n",
        "                              [18,19,20]]])"
      ],
      "metadata": {
        "id": "Fz9SQGmM-Yjy"
      },
      "id": "Fz9SQGmM-Yjy",
      "execution_count": 25,
      "outputs": []
    },
    {
      "cell_type": "code",
      "source": [
        "MyTensorTest.shape"
      ],
      "metadata": {
        "colab": {
          "base_uri": "https://localhost:8080/"
        },
        "id": "AXgBIa3xxJTD",
        "outputId": "d48ac4b2-cad9-4054-adb9-d25020cb03ce"
      },
      "id": "AXgBIa3xxJTD",
      "execution_count": 26,
      "outputs": [
        {
          "output_type": "execute_result",
          "data": {
            "text/plain": [
              "torch.Size([2, 3, 3])"
            ]
          },
          "metadata": {},
          "execution_count": 26
        }
      ]
    },
    {
      "cell_type": "code",
      "source": [
        "MyTensorTest.ndim"
      ],
      "metadata": {
        "colab": {
          "base_uri": "https://localhost:8080/"
        },
        "id": "_23KPuFKxNZn",
        "outputId": "d4f8486d-5793-41a9-a09c-c1a15f58d332"
      },
      "id": "_23KPuFKxNZn",
      "execution_count": 27,
      "outputs": [
        {
          "output_type": "execute_result",
          "data": {
            "text/plain": [
              "3"
            ]
          },
          "metadata": {},
          "execution_count": 27
        }
      ]
    },
    {
      "cell_type": "code",
      "source": [
        "MyTensorTest[0]"
      ],
      "metadata": {
        "colab": {
          "base_uri": "https://localhost:8080/"
        },
        "id": "4QxPaLiGxVIn",
        "outputId": "b7eeb8be-0ad8-494d-d1b2-7077a1efb88a"
      },
      "id": "4QxPaLiGxVIn",
      "execution_count": 28,
      "outputs": [
        {
          "output_type": "execute_result",
          "data": {
            "text/plain": [
              "tensor([[1, 2, 3],\n",
              "        [4, 5, 6],\n",
              "        [7, 8, 9]])"
            ]
          },
          "metadata": {},
          "execution_count": 28
        }
      ]
    },
    {
      "cell_type": "code",
      "source": [
        "MyTensorTest[1]"
      ],
      "metadata": {
        "colab": {
          "base_uri": "https://localhost:8080/"
        },
        "id": "enQj3LrQxguR",
        "outputId": "f61d7ad6-2948-4990-91e4-95c87366b950"
      },
      "id": "enQj3LrQxguR",
      "execution_count": 29,
      "outputs": [
        {
          "output_type": "execute_result",
          "data": {
            "text/plain": [
              "tensor([[10, 12, 13],\n",
              "        [14, 16, 17],\n",
              "        [18, 19, 20]])"
            ]
          },
          "metadata": {},
          "execution_count": 29
        }
      ]
    },
    {
      "cell_type": "code",
      "source": [
        "# if we want to get a 16 from the Tesnor\n",
        "MyTensorTest[1][1][1]"
      ],
      "metadata": {
        "colab": {
          "base_uri": "https://localhost:8080/"
        },
        "id": "Rip8C1ZAxjiT",
        "outputId": "b374140c-0d93-4a81-c118-8ee5aab9c574"
      },
      "id": "Rip8C1ZAxjiT",
      "execution_count": 30,
      "outputs": [
        {
          "output_type": "execute_result",
          "data": {
            "text/plain": [
              "tensor(16)"
            ]
          },
          "metadata": {},
          "execution_count": 30
        }
      ]
    },
    {
      "cell_type": "markdown",
      "source": [
        "### Random Tensor\n",
        "\n",
        "We've established tensors represent some form of data.\n",
        "\n",
        "And machine learning models such as neural networks manipulate and seek patterns within tensors.\n",
        "\n",
        "But when building machine learning models with PyTorch, it's rare you'll create tensors by hand (like what we've been doing).\n",
        "\n",
        "Instead, a machine learning model often starts out with large random tensors of numbers and adjusts these random numbers as it works through data to better represent it.\n",
        "\n",
        "In essence:\n",
        "\n",
        "'Start with random numbers -> look at data -> update random numbers -> look at data -> update random numbers...'\n",
        "\n",
        "As a data scientist, you can define how the machine learning model starts (initialization), looks at data (representation) and updates (optimization) its random numbers.\n",
        "\n",
        "rand duc => https://docs.pytorch.org/docs/stable/generated/torch.rand.html"
      ],
      "metadata": {
        "id": "gnh_EWfgxwED"
      },
      "id": "gnh_EWfgxwED"
    },
    {
      "cell_type": "code",
      "source": [
        "rand_tensor_1 = torch.rand(3)\n",
        "rand_tensor_2 = torch.rand(3,4)\n",
        "rand_tensor_3 = torch.rand(2,3,8)\n",
        "print(f\"{rand_tensor_1} has {rand_tensor_1.ndim} dimentions and the shape is {rand_tensor_1.shape} and type is {rand_tensor_1.dtype}\\n\")\n",
        "print(f\"{rand_tensor_2} has {rand_tensor_2.ndim} dimentions and the shape is {rand_tensor_2.shape} and type is {rand_tensor_2.dtype}\\n\")\n",
        "print(f\"{rand_tensor_3} has {rand_tensor_3.ndim} dimentions and the shape is {rand_tensor_3.shape} and type is {rand_tensor_3.dtype}\\n\")"
      ],
      "metadata": {
        "colab": {
          "base_uri": "https://localhost:8080/"
        },
        "id": "QMwKWqssyro7",
        "outputId": "42f25ba8-5fa4-42ef-f07d-5dc96071197b"
      },
      "id": "QMwKWqssyro7",
      "execution_count": 31,
      "outputs": [
        {
          "output_type": "stream",
          "name": "stdout",
          "text": [
            "tensor([0.4949, 0.3744, 0.8434]) has 1 dimentions and the shape is torch.Size([3]) and type is torch.float32\n",
            "\n",
            "tensor([[0.7318, 0.6931, 0.2305, 0.7189],\n",
            "        [0.6807, 0.9643, 0.0889, 0.6596],\n",
            "        [0.0902, 0.5064, 0.5402, 0.4932]]) has 2 dimentions and the shape is torch.Size([3, 4]) and type is torch.float32\n",
            "\n",
            "tensor([[[0.9194, 0.0130, 0.4050, 0.9999, 0.3761, 0.7158, 0.8744, 0.1660],\n",
            "         [0.6388, 0.4208, 0.5516, 0.7884, 0.9508, 0.5581, 0.0271, 0.4356],\n",
            "         [0.3332, 0.8820, 0.6501, 0.6286, 0.0449, 0.9316, 0.5791, 0.7135]],\n",
            "\n",
            "        [[0.0150, 0.7555, 0.2032, 0.7749, 0.3336, 0.5559, 0.4914, 0.2730],\n",
            "         [0.3576, 0.3177, 0.0545, 0.3190, 0.9251, 0.1685, 0.0740, 0.6087],\n",
            "         [0.9725, 0.2419, 0.1823, 0.5090, 0.6114, 0.2397, 0.0863, 0.0974]]]) has 3 dimentions and the shape is torch.Size([2, 3, 8]) and type is torch.float32\n",
            "\n"
          ]
        }
      ]
    },
    {
      "cell_type": "markdown",
      "source": [
        "The flexibility of torch.rand() is that we can adjust the size to be whatever we want.\n",
        "\n",
        "For example, say you wanted a random tensor in the common image shape of [224, 224, 3] ([height, width, color_channels])."
      ],
      "metadata": {
        "id": "xYh22AnX3C4M"
      },
      "id": "xYh22AnX3C4M"
    },
    {
      "cell_type": "code",
      "source": [
        "random_image_tensor = torch.rand(size=(3,224,224))\n",
        "print(f\"Dimention = {random_image_tensor.ndim} and shape is {random_image_tensor.shape} => \\n{random_image_tensor }\")"
      ],
      "metadata": {
        "colab": {
          "base_uri": "https://localhost:8080/"
        },
        "id": "kh5nEbBI3Hlw",
        "outputId": "9f2730f6-49b9-4b4a-e503-3832ea043423"
      },
      "id": "kh5nEbBI3Hlw",
      "execution_count": 32,
      "outputs": [
        {
          "output_type": "stream",
          "name": "stdout",
          "text": [
            "Dimention = 3 and shape is torch.Size([3, 224, 224]) => \n",
            "tensor([[[0.4769, 0.1336, 0.3150,  ..., 0.8432, 0.3593, 0.3519],\n",
            "         [0.9663, 0.0492, 0.9545,  ..., 0.4397, 0.9661, 0.0656],\n",
            "         [0.8212, 0.1612, 0.3926,  ..., 0.7140, 0.2122, 0.6748],\n",
            "         ...,\n",
            "         [0.0132, 0.3145, 0.4335,  ..., 0.5918, 0.1518, 0.9722],\n",
            "         [0.9153, 0.3935, 0.0525,  ..., 0.2723, 0.3390, 0.8109],\n",
            "         [0.4746, 0.0795, 0.7431,  ..., 0.7374, 0.4882, 0.2039]],\n",
            "\n",
            "        [[0.7100, 0.3515, 0.4406,  ..., 0.4632, 0.9246, 0.9628],\n",
            "         [0.2583, 0.6158, 0.4107,  ..., 0.4616, 0.5313, 0.0971],\n",
            "         [0.9847, 0.7360, 0.7562,  ..., 0.4216, 0.2825, 0.2546],\n",
            "         ...,\n",
            "         [0.8202, 0.5430, 0.4379,  ..., 0.9614, 0.3108, 0.3923],\n",
            "         [0.5631, 0.7463, 0.2249,  ..., 0.1159, 0.9438, 0.2113],\n",
            "         [0.5080, 0.8018, 0.5926,  ..., 0.3547, 0.2060, 0.4972]],\n",
            "\n",
            "        [[0.5830, 0.8103, 0.1731,  ..., 0.9231, 0.0707, 0.4735],\n",
            "         [0.8193, 0.0745, 0.7017,  ..., 0.2569, 0.6738, 0.2314],\n",
            "         [0.8500, 0.4547, 0.0568,  ..., 0.6855, 0.9288, 0.7018],\n",
            "         ...,\n",
            "         [0.3621, 0.7299, 0.1988,  ..., 0.4296, 0.7390, 0.6659],\n",
            "         [0.4961, 0.7909, 0.9779,  ..., 0.7964, 0.7442, 0.4199],\n",
            "         [0.8633, 0.6966, 0.2863,  ..., 0.2840, 0.4900, 0.7013]]])\n"
          ]
        }
      ]
    },
    {
      "cell_type": "markdown",
      "source": [],
      "metadata": {
        "id": "vzmTu-Brxy0G"
      },
      "id": "vzmTu-Brxy0G"
    },
    {
      "cell_type": "code",
      "source": [
        "# HandWriting at 16 * 16 black and white\n",
        "# black < 0.5 / white >= 0\n",
        "rand_handwriting_00 = torch.rand(2,16,16)\n",
        "rand_handwriting_00"
      ],
      "metadata": {
        "colab": {
          "base_uri": "https://localhost:8080/"
        },
        "id": "tsf5uXhR5NR9",
        "outputId": "e96092bd-8f79-4eae-fcf0-c0532745593d"
      },
      "id": "tsf5uXhR5NR9",
      "execution_count": 33,
      "outputs": [
        {
          "output_type": "execute_result",
          "data": {
            "text/plain": [
              "tensor([[[0.7767, 0.4870, 0.2127, 0.4817, 0.3953, 0.6563, 0.8083, 0.1455,\n",
              "          0.2585, 0.2838, 0.1878, 0.6529, 0.1685, 0.1344, 0.9455, 0.1085],\n",
              "         [0.1667, 0.2033, 0.9597, 0.0725, 0.4367, 0.0158, 0.0946, 0.2662,\n",
              "          0.1278, 0.0937, 0.4658, 0.2133, 0.9302, 0.5385, 0.2327, 0.4859],\n",
              "         [0.4725, 0.3125, 0.9007, 0.3109, 0.2827, 0.4466, 0.8232, 0.7102,\n",
              "          0.6871, 0.5880, 0.0819, 0.4985, 0.8308, 0.6252, 0.0098, 0.0452],\n",
              "         [0.6140, 0.9544, 0.3395, 0.8577, 0.0462, 0.3984, 0.1726, 0.0561,\n",
              "          0.4862, 0.1061, 0.6835, 0.1459, 0.5452, 0.1439, 0.4629, 0.1676],\n",
              "         [0.3377, 0.2036, 0.2409, 0.0843, 0.2830, 0.6490, 0.4897, 0.0061,\n",
              "          0.6457, 0.1801, 0.4920, 0.4203, 0.1654, 0.0187, 0.0071, 0.7392],\n",
              "         [0.9585, 0.8721, 0.2390, 0.2406, 0.5739, 0.2569, 0.9246, 0.4311,\n",
              "          0.6364, 0.5336, 0.9172, 0.1695, 0.3843, 0.3211, 0.2332, 0.7509],\n",
              "         [0.5366, 0.0461, 0.3084, 0.7382, 0.7857, 0.0996, 0.1053, 0.0531,\n",
              "          0.8296, 0.4465, 0.5535, 0.9600, 0.8277, 0.9564, 0.4852, 0.4525],\n",
              "         [0.5400, 0.2143, 0.8781, 0.0846, 0.2704, 0.0458, 0.8338, 0.7869,\n",
              "          0.1074, 0.0948, 0.1114, 0.9326, 0.6922, 0.0291, 0.2564, 0.3474],\n",
              "         [0.2505, 0.5434, 0.4439, 0.4659, 0.0477, 0.1088, 0.0018, 0.5480,\n",
              "          0.0028, 0.7970, 0.3291, 0.6045, 0.9534, 0.6931, 0.9139, 0.4452],\n",
              "         [0.1652, 0.2336, 0.4798, 0.8754, 0.1081, 0.9656, 0.8104, 0.1683,\n",
              "          0.9512, 0.0267, 0.9880, 0.6461, 0.6614, 0.8277, 0.9602, 0.7680],\n",
              "         [0.2183, 0.0971, 0.0615, 0.9598, 0.4147, 0.9723, 0.2367, 0.2577,\n",
              "          0.3114, 0.1681, 0.4404, 0.1610, 0.1516, 0.5025, 0.6255, 0.7358],\n",
              "         [0.2603, 0.3075, 0.6729, 0.6286, 0.8977, 0.1052, 0.8099, 0.4200,\n",
              "          0.6245, 0.2372, 0.1772, 0.7918, 0.1578, 0.1232, 0.5768, 0.2361],\n",
              "         [0.0316, 0.3667, 0.7941, 0.2884, 0.5216, 0.8736, 0.2697, 0.6914,\n",
              "          0.8334, 0.8751, 0.2110, 0.7565, 0.5208, 0.4200, 0.6453, 0.4977],\n",
              "         [0.5101, 0.8640, 0.1783, 0.3561, 0.0020, 0.1610, 0.1935, 0.6052,\n",
              "          0.4055, 0.0258, 0.4860, 0.1626, 0.7525, 0.7430, 0.9648, 0.1346],\n",
              "         [0.4018, 0.5460, 0.9182, 0.1822, 0.5775, 0.3319, 0.6261, 0.3968,\n",
              "          0.4304, 0.9512, 0.8630, 0.5430, 0.7727, 0.7639, 0.9374, 0.7642],\n",
              "         [0.0821, 0.9725, 0.0179, 0.3456, 0.7018, 0.6216, 0.8216, 0.1274,\n",
              "          0.9513, 0.7797, 0.0117, 0.7818, 0.9343, 0.3624, 0.4724, 0.6439]],\n",
              "\n",
              "        [[0.2457, 0.2647, 0.5787, 0.2027, 0.5618, 0.4506, 0.6661, 0.2346,\n",
              "          0.3342, 0.5429, 0.5927, 0.1452, 0.8531, 0.0394, 0.7548, 0.9007],\n",
              "         [0.7378, 0.3601, 0.2695, 0.0987, 0.2397, 0.4643, 0.7448, 0.8154,\n",
              "          0.7408, 0.4101, 0.1136, 0.9539, 0.9836, 0.5122, 0.1488, 0.5952],\n",
              "         [0.0536, 0.7980, 0.9511, 0.3809, 0.7935, 0.6945, 0.4278, 0.6986,\n",
              "          0.0868, 0.4283, 0.7808, 0.6258, 0.3868, 0.7616, 0.1964, 0.5619],\n",
              "         [0.6833, 0.6231, 0.6390, 0.7420, 0.7245, 0.3218, 0.0337, 0.5967,\n",
              "          0.9788, 0.9431, 0.1626, 0.5208, 0.9358, 0.5709, 0.8860, 0.4028],\n",
              "         [0.3226, 0.9125, 0.1249, 0.7196, 0.2260, 0.5636, 0.6686, 0.2913,\n",
              "          0.3950, 0.0739, 0.3109, 0.0561, 0.8914, 0.6973, 0.6251, 0.4834],\n",
              "         [0.0704, 0.5995, 0.5647, 0.1783, 0.4693, 0.5064, 0.0605, 0.1580,\n",
              "          0.3948, 0.1372, 0.3427, 0.2503, 0.1551, 0.6690, 0.2307, 0.6995],\n",
              "         [0.9474, 0.1988, 0.4865, 0.8025, 0.2992, 0.8679, 0.3480, 0.7766,\n",
              "          0.9113, 0.1860, 0.8558, 0.6753, 0.5823, 0.2223, 0.7309, 0.8007],\n",
              "         [0.8360, 0.0630, 0.8768, 0.6115, 0.7923, 0.5435, 0.0668, 0.6213,\n",
              "          0.0388, 0.0321, 0.7575, 0.9442, 0.9035, 0.7107, 0.6049, 0.2328],\n",
              "         [0.8308, 0.5691, 0.5608, 0.8029, 0.0386, 0.3365, 0.1767, 0.1934,\n",
              "          0.7943, 0.6538, 0.6219, 0.5818, 0.5273, 0.1224, 0.4661, 0.0598],\n",
              "         [0.0376, 0.6592, 0.0561, 0.0620, 0.1831, 0.0282, 0.7841, 0.3845,\n",
              "          0.4545, 0.5710, 0.6075, 0.1907, 0.6307, 0.0135, 0.6513, 0.8440],\n",
              "         [0.5273, 0.5597, 0.6970, 0.4315, 0.2207, 0.1330, 0.5448, 0.3108,\n",
              "          0.5858, 0.9696, 0.1029, 0.3111, 0.8160, 0.2232, 0.0354, 0.0434],\n",
              "         [0.6558, 0.5110, 0.5767, 0.6351, 0.7746, 0.0948, 0.7095, 0.8879,\n",
              "          0.9971, 0.9276, 0.3405, 0.6073, 0.0805, 0.8409, 0.5468, 0.9724],\n",
              "         [0.5476, 0.9891, 0.0230, 0.9452, 0.1553, 0.7058, 0.9786, 0.4830,\n",
              "          0.0023, 0.7394, 0.4362, 0.5498, 0.0216, 0.1130, 0.6369, 0.6879],\n",
              "         [0.2598, 0.7201, 0.9254, 0.3081, 0.6847, 0.8458, 0.8690, 0.2688,\n",
              "          0.0287, 0.0984, 0.6452, 0.4641, 0.4021, 0.3224, 0.6807, 0.6905],\n",
              "         [0.8816, 0.7610, 0.2737, 0.7100, 0.0110, 0.1246, 0.8422, 0.8041,\n",
              "          0.4583, 0.7770, 0.9985, 0.6183, 0.1730, 0.1394, 0.3389, 0.2816],\n",
              "         [0.6559, 0.5551, 0.0320, 0.4679, 0.3087, 0.9384, 0.9195, 0.5150,\n",
              "          0.8159, 0.3962, 0.0675, 0.9416, 0.9352, 0.5671, 0.7499, 0.2803]]])"
            ]
          },
          "metadata": {},
          "execution_count": 33
        }
      ]
    },
    {
      "cell_type": "markdown",
      "source": [
        "## Zeros and ones\n",
        "\n",
        "Sometimes you'll just want to fill tensors with zeros or ones.\n",
        "\n",
        "This happens a lot with masking (like masking some of the values in one tensor with zeros to let a model know not to learn them)."
      ],
      "metadata": {
        "id": "hu--NKXzxB-c"
      },
      "id": "hu--NKXzxB-c"
    },
    {
      "cell_type": "code",
      "source": [
        "# Create a tensor of all zeros\n",
        "zeros = torch.zeros(size=(3,3))\n",
        "print(f\"Structure -> \\n{zeros}\\nType : {zeros.dtype}\")"
      ],
      "metadata": {
        "colab": {
          "base_uri": "https://localhost:8080/"
        },
        "id": "AiaTP1AcxDzo",
        "outputId": "da731b7f-60b0-4ccc-9fcd-ee285e081e5e"
      },
      "id": "AiaTP1AcxDzo",
      "execution_count": 34,
      "outputs": [
        {
          "output_type": "stream",
          "name": "stdout",
          "text": [
            "Structure -> \n",
            "tensor([[0., 0., 0.],\n",
            "        [0., 0., 0.],\n",
            "        [0., 0., 0.]])\n",
            "Type : torch.float32\n"
          ]
        }
      ]
    },
    {
      "cell_type": "code",
      "source": [
        "# Create a tensor of all one\n",
        "ones = torch.ones(size=(3,4))\n",
        "print(f\"Structure -> \\n{ones}\\nType : {ones.dtype}\")"
      ],
      "metadata": {
        "colab": {
          "base_uri": "https://localhost:8080/"
        },
        "id": "wnGfV3FZxWDF",
        "outputId": "8946b6e4-5808-4980-b9fe-43ce0e0eea99"
      },
      "id": "wnGfV3FZxWDF",
      "execution_count": 35,
      "outputs": [
        {
          "output_type": "stream",
          "name": "stdout",
          "text": [
            "Structure -> \n",
            "tensor([[1., 1., 1., 1.],\n",
            "        [1., 1., 1., 1.],\n",
            "        [1., 1., 1., 1.]])\n",
            "Type : torch.float32\n"
          ]
        }
      ]
    },
    {
      "cell_type": "markdown",
      "source": [
        "##Creating a range and tensors like\n",
        "Sometimes you might want a range of numbers, such as 1 to 10 or 0 to 100.\n",
        "\n",
        "You can use torch.arange(start, end, step) to do so.\n",
        "\n",
        "Where:\n",
        "\n",
        "* start = start of range (e.g. 0)\n",
        "* end = end of range (e.g. 10)\n",
        "* step = how many steps in between each value (e.g. 1)"
      ],
      "metadata": {
        "id": "0T-lHhNOz8FI"
      },
      "id": "0T-lHhNOz8FI"
    },
    {
      "cell_type": "code",
      "source": [
        "# 1 until 20 just odd\n",
        "Xodd = torch.arange(1,20,2)\n",
        "Xodd"
      ],
      "metadata": {
        "colab": {
          "base_uri": "https://localhost:8080/"
        },
        "id": "IFQlu2ISz-Vv",
        "outputId": "27acfab8-6cbe-4c15-8520-ebe288b5c254"
      },
      "id": "IFQlu2ISz-Vv",
      "execution_count": 36,
      "outputs": [
        {
          "output_type": "execute_result",
          "data": {
            "text/plain": [
              "tensor([ 1,  3,  5,  7,  9, 11, 13, 15, 17, 19])"
            ]
          },
          "metadata": {},
          "execution_count": 36
        }
      ]
    },
    {
      "cell_type": "code",
      "source": [
        "# 1 until 20 just even\n",
        "Xeven = torch.arange(2,21,2)\n",
        "Xeven"
      ],
      "metadata": {
        "colab": {
          "base_uri": "https://localhost:8080/"
        },
        "id": "0ct7iz2t0ZmK",
        "outputId": "ad5f7dbe-5355-4961-d8e0-58159b893bc6"
      },
      "id": "0ct7iz2t0ZmK",
      "execution_count": 37,
      "outputs": [
        {
          "output_type": "execute_result",
          "data": {
            "text/plain": [
              "tensor([ 2,  4,  6,  8, 10, 12, 14, 16, 18, 20])"
            ]
          },
          "metadata": {},
          "execution_count": 37
        }
      ]
    },
    {
      "cell_type": "code",
      "source": [
        "XFive = torch.arange(0,51,5)\n",
        "XFive"
      ],
      "metadata": {
        "colab": {
          "base_uri": "https://localhost:8080/"
        },
        "id": "oPXqAboo0h3O",
        "outputId": "32baa7a9-6abe-449e-e6c0-fab76688c9fb"
      },
      "id": "oPXqAboo0h3O",
      "execution_count": 38,
      "outputs": [
        {
          "output_type": "execute_result",
          "data": {
            "text/plain": [
              "tensor([ 0,  5, 10, 15, 20, 25, 30, 35, 40, 45, 50])"
            ]
          },
          "metadata": {},
          "execution_count": 38
        }
      ]
    },
    {
      "cell_type": "markdown",
      "source": [
        "\n",
        "Sometimes you might want one tensor of a certain type with the same shape as another tensor.\n",
        "\n",
        "For example, a tensor of all zeros with the same shape as a previous tensor.\n",
        "\n",
        "To do so you can use torch.zeros_like(input) or torch.ones_like(input) which return a tensor filled with zeros or ones in the same shape as the input respectively."
      ],
      "metadata": {
        "id": "EUBSVY0R068n"
      },
      "id": "EUBSVY0R068n"
    },
    {
      "cell_type": "code",
      "source": [
        "XFive.shape"
      ],
      "metadata": {
        "colab": {
          "base_uri": "https://localhost:8080/"
        },
        "id": "V6bG1IO107W3",
        "outputId": "31df61aa-cf89-4c13-c2f0-d1d042158c30"
      },
      "id": "V6bG1IO107W3",
      "execution_count": 39,
      "outputs": [
        {
          "output_type": "execute_result",
          "data": {
            "text/plain": [
              "torch.Size([11])"
            ]
          },
          "metadata": {},
          "execution_count": 39
        }
      ]
    },
    {
      "cell_type": "code",
      "source": [
        "X_Shape_Copy1 = torch.zeros_like(input=XFive)\n",
        "X_Shape_Copy1, X_Shape_Copy1.shape, X_Shape_Copy1.dtype"
      ],
      "metadata": {
        "colab": {
          "base_uri": "https://localhost:8080/"
        },
        "id": "uDhg56My1DCj",
        "outputId": "54a850ee-ed76-480b-8565-2c59ebcf1534"
      },
      "id": "uDhg56My1DCj",
      "execution_count": 40,
      "outputs": [
        {
          "output_type": "execute_result",
          "data": {
            "text/plain": [
              "(tensor([0, 0, 0, 0, 0, 0, 0, 0, 0, 0, 0]), torch.Size([11]), torch.int64)"
            ]
          },
          "metadata": {},
          "execution_count": 40
        }
      ]
    },
    {
      "cell_type": "code",
      "source": [
        "X_Shape_Copy2 = torch.ones_like(X_Shape_Copy1)\n",
        "X_Shape_Copy2, X_Shape_Copy2.shape, X_Shape_Copy2.dtype"
      ],
      "metadata": {
        "colab": {
          "base_uri": "https://localhost:8080/"
        },
        "id": "pqzUwxu61TCf",
        "outputId": "fdd9924f-3a66-47d1-f345-a746fe84c8dd"
      },
      "id": "pqzUwxu61TCf",
      "execution_count": 41,
      "outputs": [
        {
          "output_type": "execute_result",
          "data": {
            "text/plain": [
              "(tensor([1, 1, 1, 1, 1, 1, 1, 1, 1, 1, 1]), torch.Size([11]), torch.int64)"
            ]
          },
          "metadata": {},
          "execution_count": 41
        }
      ]
    },
    {
      "cell_type": "markdown",
      "source": [
        "\n",
        "##Tensor datatypes\n",
        "There are many different tensor datatypes available in PyTorch.\n",
        "link: https://docs.pytorch.org/docs/stable/tensors.html#data-types\n",
        "\n",
        "Some are specific for CPU and some are better for GPU.\n",
        "\n",
        "Getting to know which one can take some time.\n",
        "\n",
        "Generally if you see torch.cuda anywhere, the tensor is being used for GPU (since Nvidia GPUs use a computing toolkit called CUDA).\n",
        "\n",
        "The most common type (and generally the default) is torch.float32 or torch.float.\n",
        "\n",
        "This is referred to as \"32-bit floating point\".\n",
        "\n",
        "But there's also 16-bit floating point (torch.float16 or torch.half) and 64-bit floating point (torch.float64 or torch.double).\n",
        "\n",
        "And to confuse things even more there's also 8-bit, 16-bit, 32-bit and 64-bit integers.\n",
        "\n",
        "Plus more!\n",
        "\n",
        "Note: An integer is a flat round number like 7 whereas a float has a decimal 7.0.\n",
        "\n",
        "The reason for all of these is to do with precision in computing.\n",
        "\n",
        "Precision is the amount of detail used to describe a number.\n",
        "\n",
        "The higher the precision value (8, 16, 32), the more detail and hence data used to express a number.\n",
        "\n",
        "This matters in deep learning and numerical computing because you're making so many operations, the more detail you have to calculate on, the more compute you have to use.\n",
        "\n",
        "So lower precision datatypes are generally faster to compute on but sacrifice some performance on evaluation metrics like accuracy (faster to compute but less accurate).\n",
        "\n",
        "Resources:\n",
        "https://docs.pytorch.org/docs/stable/tensors.html#data-types\n",
        "\n",
        "https://en.wikipedia.org/wiki/Precision_(computer_science)\n",
        "\n",
        "See the PyTorch documentation for a list of all available tensor datatypes.\n",
        "Read the Wikipedia page for an overview of what precision in computing) is.\n",
        "Let's see how to create some tensors with specific datatypes. We can do so using the dtype paramete"
      ],
      "metadata": {
        "id": "PM6UhCBR63iG"
      },
      "id": "PM6UhCBR63iG"
    },
    {
      "cell_type": "code",
      "source": [
        "# Default datatype for tensors is float32\n",
        "float_32_tensor = torch.tensor([3.0, 6.0, 9.0],\n",
        "                               dtype=None, # defaults to None, which is torch.float32 or whatever datatype is passed\n",
        "                               device=None, # defaults to None, which uses the default tensor type\n",
        "                               requires_grad=False) # if True, operations performed on the tensor are recorded\n",
        "\n",
        "float_32_tensor.shape, float_32_tensor.dtype, float_32_tensor.device"
      ],
      "metadata": {
        "id": "T97AIxBM1j9_",
        "colab": {
          "base_uri": "https://localhost:8080/"
        },
        "outputId": "e77610f1-8f7c-4c60-f3ff-5b128535655e"
      },
      "id": "T97AIxBM1j9_",
      "execution_count": 42,
      "outputs": [
        {
          "output_type": "execute_result",
          "data": {
            "text/plain": [
              "(torch.Size([3]), torch.float32, device(type='cpu'))"
            ]
          },
          "metadata": {},
          "execution_count": 42
        }
      ]
    },
    {
      "cell_type": "markdown",
      "source": [
        "\n",
        "Aside from shape issues (tensor shapes don't match up), two of the other most common issues you'll come across in PyTorch are datatype and device issues.\n",
        "\n",
        "For example, one of tensors is torch.float32 and the other is torch.float16 (PyTorch often likes tensors to be the same format).\n",
        "\n",
        "Or one of your tensors is on the CPU and the other is on the GPU (PyTorch likes calculations between tensors to be on the same device).\n",
        "\n",
        "We'll see more of this device talk later on.\n",
        "\n",
        "For now let's create a tensor with dtype=torch.float16."
      ],
      "metadata": {
        "id": "9sOrNlXa7p1e"
      },
      "id": "9sOrNlXa7p1e"
    },
    {
      "cell_type": "code",
      "source": [
        "float_32_tensor.dtype"
      ],
      "metadata": {
        "colab": {
          "base_uri": "https://localhost:8080/"
        },
        "id": "JlAUnesvmWl8",
        "outputId": "da22aabe-1e7e-4bf2-eb86-b9a82eb09360"
      },
      "id": "JlAUnesvmWl8",
      "execution_count": 43,
      "outputs": [
        {
          "output_type": "execute_result",
          "data": {
            "text/plain": [
              "torch.float32"
            ]
          },
          "metadata": {},
          "execution_count": 43
        }
      ]
    },
    {
      "cell_type": "code",
      "source": [
        "float_16_tensor = torch.tensor([3.0, 6.0, 9.0],\n",
        "                               dtype=torch.float16) # torch.half would also work\n",
        "\n",
        "float_16_tensor"
      ],
      "metadata": {
        "colab": {
          "base_uri": "https://localhost:8080/"
        },
        "id": "Iwcc5ZkA7W2h",
        "outputId": "355e2ab1-2715-4188-d7c2-92045ddb94ef"
      },
      "id": "Iwcc5ZkA7W2h",
      "execution_count": 44,
      "outputs": [
        {
          "output_type": "execute_result",
          "data": {
            "text/plain": [
              "tensor([3., 6., 9.], dtype=torch.float16)"
            ]
          },
          "metadata": {},
          "execution_count": 44
        }
      ]
    },
    {
      "cell_type": "code",
      "source": [
        "float_16_tensor2 = float_32_tensor.type(torch.float16)\n",
        "float_16_tensor2"
      ],
      "metadata": {
        "id": "yGpHX_D_7s5b",
        "colab": {
          "base_uri": "https://localhost:8080/"
        },
        "outputId": "2cba5853-067b-46da-dfd0-a653017e4d12"
      },
      "id": "yGpHX_D_7s5b",
      "execution_count": 45,
      "outputs": [
        {
          "output_type": "execute_result",
          "data": {
            "text/plain": [
              "tensor([3., 6., 9.], dtype=torch.float16)"
            ]
          },
          "metadata": {},
          "execution_count": 45
        }
      ]
    },
    {
      "cell_type": "code",
      "source": [
        "# WOW, We can do this\n",
        "float_32_tensor * float_16_tensor\n",
        "# but try to use same data type, ok??\n",
        "# because: maby get error at large database"
      ],
      "metadata": {
        "colab": {
          "base_uri": "https://localhost:8080/"
        },
        "id": "YcRkgjVfmR6K",
        "outputId": "b0805d33-3c5c-44b1-b638-e365c41edae3"
      },
      "id": "YcRkgjVfmR6K",
      "execution_count": 46,
      "outputs": [
        {
          "output_type": "execute_result",
          "data": {
            "text/plain": [
              "tensor([ 9., 36., 81.])"
            ]
          },
          "metadata": {},
          "execution_count": 46
        }
      ]
    },
    {
      "cell_type": "code",
      "source": [
        "float_16_mulb_32 = float_32_tensor * float_16_tensor\n",
        "float_16_mulb_32.dtype"
      ],
      "metadata": {
        "colab": {
          "base_uri": "https://localhost:8080/"
        },
        "id": "y4okxKCBmic3",
        "outputId": "697fda0f-e55e-4021-8283-44108f48a139"
      },
      "id": "y4okxKCBmic3",
      "execution_count": 47,
      "outputs": [
        {
          "output_type": "execute_result",
          "data": {
            "text/plain": [
              "torch.float32"
            ]
          },
          "metadata": {},
          "execution_count": 47
        }
      ]
    },
    {
      "cell_type": "code",
      "source": [
        "int_32_tensor = torch.tensor([1,2,3], dtype=torch.int32)\n",
        "int_32_tensor"
      ],
      "metadata": {
        "colab": {
          "base_uri": "https://localhost:8080/"
        },
        "id": "puOKZuONnH5N",
        "outputId": "268f2956-44c7-4156-c23d-3c6409238631"
      },
      "id": "puOKZuONnH5N",
      "execution_count": 48,
      "outputs": [
        {
          "output_type": "execute_result",
          "data": {
            "text/plain": [
              "tensor([1, 2, 3], dtype=torch.int32)"
            ]
          },
          "metadata": {},
          "execution_count": 48
        }
      ]
    },
    {
      "cell_type": "code",
      "source": [
        "(float_32_tensor * int_32_tensor).dtype\n",
        "# Wow it's work too :/"
      ],
      "metadata": {
        "colab": {
          "base_uri": "https://localhost:8080/"
        },
        "id": "IXgt9CTKnnmp",
        "outputId": "ea2977d8-a6a3-4f1b-e136-809602ac6031"
      },
      "id": "IXgt9CTKnnmp",
      "execution_count": 49,
      "outputs": [
        {
          "output_type": "execute_result",
          "data": {
            "text/plain": [
              "torch.float32"
            ]
          },
          "metadata": {},
          "execution_count": 49
        }
      ]
    },
    {
      "cell_type": "markdown",
      "source": [
        "### Getting information from tensors\n",
        "Once you've created tensors (or someone else or a PyTorch module has created them for you), you might want to get some information from them.\n",
        "\n",
        "We've seen these before but three of the most common attributes you'll want to find out about tensors are:\n",
        "\n",
        "1. shape - what shape is the tensor? (some operations require specific shape rules)\n",
        "2. dtype - what datatype are the elements within the tensor stored in?\n",
        "3. device - what device is the tensor stored on? (usually GPU or CPU)\n",
        "\n",
        "Let's create a random tensor and find out details about it."
      ],
      "metadata": {
        "id": "JuoB2aVyodoE"
      },
      "id": "JuoB2aVyodoE"
    },
    {
      "cell_type": "code",
      "source": [
        "# Create a tensor\n",
        "exTensor1 = torch.arange(0,11,2)\n",
        "exTensor1"
      ],
      "metadata": {
        "colab": {
          "base_uri": "https://localhost:8080/"
        },
        "id": "tn07Jr2Rnvat",
        "outputId": "ecc8ef22-37a5-45be-bd43-6dfd28d46c61"
      },
      "id": "tn07Jr2Rnvat",
      "execution_count": 50,
      "outputs": [
        {
          "output_type": "execute_result",
          "data": {
            "text/plain": [
              "tensor([ 0,  2,  4,  6,  8, 10])"
            ]
          },
          "metadata": {},
          "execution_count": 50
        }
      ]
    },
    {
      "cell_type": "code",
      "source": [
        "# Find out details about <exTensor1>\n",
        "print(exTensor1)\n",
        "print(f\"Datatype of tensor: {exTensor1.dtype}\")\n",
        "print(f\"Shape of tensor: {exTensor1.shape}\")\n",
        "print(f\"Dimenstion of tensor: {exTensor1.ndim}\")\n",
        "print(f\"Device tensor is on: {exTensor1.device}\")"
      ],
      "metadata": {
        "colab": {
          "base_uri": "https://localhost:8080/"
        },
        "id": "by1pWEDgpIGr",
        "outputId": "33f4f891-501b-4925-ff9d-a61d79b6db16"
      },
      "id": "by1pWEDgpIGr",
      "execution_count": 51,
      "outputs": [
        {
          "output_type": "stream",
          "name": "stdout",
          "text": [
            "tensor([ 0,  2,  4,  6,  8, 10])\n",
            "Datatype of tensor: torch.int64\n",
            "Shape of tensor: torch.Size([6])\n",
            "Dimenstion of tensor: 1\n",
            "Device tensor is on: cpu\n"
          ]
        }
      ]
    },
    {
      "cell_type": "code",
      "source": [
        "print(XFive)\n",
        "print(f\"Shape : {XFive.shape}\")\n",
        "print(f\"Data type : {XFive.dtype}\")\n",
        "print(f\"Dimenstion : {XFive.ndim}\")\n",
        "print(f\"Device : {XFive.device}\")"
      ],
      "metadata": {
        "id": "NT39XPlWp4sj",
        "colab": {
          "base_uri": "https://localhost:8080/"
        },
        "outputId": "1e692514-2172-40a3-9aa1-57eb31a1793b"
      },
      "id": "NT39XPlWp4sj",
      "execution_count": 52,
      "outputs": [
        {
          "output_type": "stream",
          "name": "stdout",
          "text": [
            "tensor([ 0,  5, 10, 15, 20, 25, 30, 35, 40, 45, 50])\n",
            "Shape : torch.Size([11])\n",
            "Data type : torch.int64\n",
            "Dimenstion : 1\n",
            "Device : cpu\n"
          ]
        }
      ]
    },
    {
      "cell_type": "markdown",
      "source": [
        "## Manipulating tensors (tensor operations)\n",
        "\n",
        "Manipulating tensors (tensor operations)¶\n",
        "In deep learning, data (images, text, video, audio, protein structures, etc) gets represented as tensors.\n",
        "\n",
        "A model learns by investigating those tensors and performing a series of operations (could be 1,000,000s+) on tensors to create a representation of the patterns in the input data.\n",
        "\n",
        "These operations are often a wonderful dance between:\n",
        "\n",
        "* Addition\n",
        "* Substraction\n",
        "* Multiplication (element-wise)\n",
        "* Division\n",
        "* Matrix multiplication\n",
        "And that's it. Sure there are a few more here and there but these are the basic building blocks of neural networks.\n",
        "\n",
        "Stacking these building blocks in the right way, you can create the most sophisticated of neural networks (just like lego!)."
      ],
      "metadata": {
        "id": "dfBu9hr76El-"
      },
      "id": "dfBu9hr76El-"
    },
    {
      "cell_type": "code",
      "source": [
        "exTensor1"
      ],
      "metadata": {
        "colab": {
          "base_uri": "https://localhost:8080/"
        },
        "id": "JxiqyREL5q3T",
        "outputId": "144f82de-2945-4416-978a-a194d1989c03"
      },
      "id": "JxiqyREL5q3T",
      "execution_count": 53,
      "outputs": [
        {
          "output_type": "execute_result",
          "data": {
            "text/plain": [
              "tensor([ 0,  2,  4,  6,  8, 10])"
            ]
          },
          "metadata": {},
          "execution_count": 53
        }
      ]
    },
    {
      "cell_type": "code",
      "source": [
        "# Let's + 10 to the each of the elements\n",
        "exTensor1 + 10"
      ],
      "metadata": {
        "colab": {
          "base_uri": "https://localhost:8080/"
        },
        "id": "B5sYNnww8j9D",
        "outputId": "5d1a2748-8752-42fb-8fe2-388081d9b743"
      },
      "id": "B5sYNnww8j9D",
      "execution_count": 54,
      "outputs": [
        {
          "output_type": "execute_result",
          "data": {
            "text/plain": [
              "tensor([10, 12, 14, 16, 18, 20])"
            ]
          },
          "metadata": {},
          "execution_count": 54
        }
      ]
    },
    {
      "cell_type": "code",
      "source": [
        "# Lets try *\n",
        "%%time\n",
        "exTensor1 * 10"
      ],
      "metadata": {
        "colab": {
          "base_uri": "https://localhost:8080/"
        },
        "id": "j95tNlt88tUi",
        "outputId": "692c2e4c-7514-4c99-e0ba-0142dab75c78"
      },
      "id": "j95tNlt88tUi",
      "execution_count": 55,
      "outputs": [
        {
          "output_type": "stream",
          "name": "stdout",
          "text": [
            "CPU times: user 484 µs, sys: 81 µs, total: 565 µs\n",
            "Wall time: 398 µs\n"
          ]
        },
        {
          "output_type": "execute_result",
          "data": {
            "text/plain": [
              "tensor([  0,  20,  40,  60,  80, 100])"
            ]
          },
          "metadata": {},
          "execution_count": 55
        }
      ]
    },
    {
      "cell_type": "code",
      "source": [
        "%%time\n",
        "torch.multiply(exTensor1, 10)"
      ],
      "metadata": {
        "colab": {
          "base_uri": "https://localhost:8080/"
        },
        "id": "9Z7l_Yg4_07z",
        "outputId": "d2432be1-30cb-42b4-8f1a-cd9b56a97a55"
      },
      "id": "9Z7l_Yg4_07z",
      "execution_count": 56,
      "outputs": [
        {
          "output_type": "stream",
          "name": "stdout",
          "text": [
            "CPU times: user 644 µs, sys: 0 ns, total: 644 µs\n",
            "Wall time: 1.69 ms\n"
          ]
        },
        {
          "output_type": "execute_result",
          "data": {
            "text/plain": [
              "tensor([  0,  20,  40,  60,  80, 100])"
            ]
          },
          "metadata": {},
          "execution_count": 56
        }
      ]
    },
    {
      "cell_type": "code",
      "source": [
        "# When you dont use = that means you don't change\n",
        "#    the origin value, just you see a results\n",
        "exTensor1"
      ],
      "metadata": {
        "colab": {
          "base_uri": "https://localhost:8080/"
        },
        "id": "8gccKM6R800_",
        "outputId": "1fa1bdb0-26cc-4e1f-c0a1-136a7857e158"
      },
      "id": "8gccKM6R800_",
      "execution_count": 57,
      "outputs": [
        {
          "output_type": "execute_result",
          "data": {
            "text/plain": [
              "tensor([ 0,  2,  4,  6,  8, 10])"
            ]
          },
          "metadata": {},
          "execution_count": 57
        }
      ]
    },
    {
      "cell_type": "markdown",
      "source": [
        "PyTorch also has a bunch of built-in functions like torch.mul() (short for multiplication) and torch.add() to perform basic operations."
      ],
      "metadata": {
        "id": "3KNH9w_e9L36"
      },
      "id": "3KNH9w_e9L36"
    },
    {
      "cell_type": "code",
      "source": [
        "# Insted of * we can us multiply funation\n",
        "torch.multiply(exTensor1, 10)"
      ],
      "metadata": {
        "colab": {
          "base_uri": "https://localhost:8080/"
        },
        "id": "6ENCF7rb8-I0",
        "outputId": "e59cc436-ffb3-4287-c9dc-2e1d65f21498"
      },
      "id": "6ENCF7rb8-I0",
      "execution_count": 58,
      "outputs": [
        {
          "output_type": "execute_result",
          "data": {
            "text/plain": [
              "tensor([  0,  20,  40,  60,  80, 100])"
            ]
          },
          "metadata": {},
          "execution_count": 58
        }
      ]
    },
    {
      "cell_type": "code",
      "source": [
        "# Insted of + we can us add function\n",
        "print(torch.add(exTensor1, 10))\n",
        "print(torch.add(exTensor1, exTensor1))"
      ],
      "metadata": {
        "colab": {
          "base_uri": "https://localhost:8080/"
        },
        "id": "j7eEnDFk9b-o",
        "outputId": "8c71a979-888a-4156-85eb-cfe439dbd435"
      },
      "id": "j7eEnDFk9b-o",
      "execution_count": 59,
      "outputs": [
        {
          "output_type": "stream",
          "name": "stdout",
          "text": [
            "tensor([10, 12, 14, 16, 18, 20])\n",
            "tensor([ 0,  4,  8, 12, 16, 20])\n"
          ]
        }
      ]
    },
    {
      "cell_type": "markdown",
      "source": [
        "! However, it's more common to use the operator symbols like * instead of torch.mul()"
      ],
      "metadata": {
        "id": "R8OARQdw-EMH"
      },
      "id": "R8OARQdw-EMH"
    },
    {
      "cell_type": "markdown",
      "source": [
        "\n",
        "## Matrix multiplication (is all you need)\n",
        "One of the most common operations in machine learning and deep learning algorithms (like neural networks) is matrix multiplication.\n",
        "\n",
        "\n",
        "PyTorch implements matrix multiplication functionality in the torch.matmul() method.\n",
        "\n",
        "The main two rules for matrix multiplication to remember are:\n",
        "\n",
        "1. The **inner dimensions** must match:\n",
        "* (3, 2) @ (3, 2) won't work\n",
        "* (2, 3) @ (3, 2) will work\n",
        "* (3, 2) @ (2, 3) will work\n",
        "The resulting matrix has the shape of\n",
        "2. the **outer dimensions**:\n",
        "* '(2, 3) @ (3, 2)' -> '(2, 2)'\n",
        "* '(3, 2) @ (2, 3)' -> '(3, 3)'\n",
        "\n",
        "Note: \"@\" in Python is the symbol for matrix multiplication.\n",
        "\n",
        "Resource: You can see all of the rules for matrix multiplication using torch.matmul() in the PyTorch documentation."
      ],
      "metadata": {
        "id": "iCMVr0FmI7ox"
      },
      "id": "iCMVr0FmI7ox"
    },
    {
      "cell_type": "code",
      "source": [
        "exTensor1"
      ],
      "metadata": {
        "colab": {
          "base_uri": "https://localhost:8080/"
        },
        "id": "bpIs5qJ9vfii",
        "outputId": "25449536-b90e-417b-ea4b-f06061a74e4b"
      },
      "id": "bpIs5qJ9vfii",
      "execution_count": 60,
      "outputs": [
        {
          "output_type": "execute_result",
          "data": {
            "text/plain": [
              "tensor([ 0,  2,  4,  6,  8, 10])"
            ]
          },
          "metadata": {},
          "execution_count": 60
        }
      ]
    },
    {
      "cell_type": "code",
      "source": [
        "torch.matmul(exTensor1, exTensor1)"
      ],
      "metadata": {
        "colab": {
          "base_uri": "https://localhost:8080/"
        },
        "id": "1gCsmhY7vjye",
        "outputId": "df8aa751-797b-40c4-e396-a1550490985e"
      },
      "id": "1gCsmhY7vjye",
      "execution_count": 61,
      "outputs": [
        {
          "output_type": "execute_result",
          "data": {
            "text/plain": [
              "tensor(220)"
            ]
          },
          "metadata": {},
          "execution_count": 61
        }
      ]
    },
    {
      "cell_type": "code",
      "source": [
        "exTensor1 @ exTensor1"
      ],
      "metadata": {
        "colab": {
          "base_uri": "https://localhost:8080/"
        },
        "id": "I6Y7fTfewlJl",
        "outputId": "907228e1-e268-460c-b45a-94e282d81921"
      },
      "id": "I6Y7fTfewlJl",
      "execution_count": 62,
      "outputs": [
        {
          "output_type": "execute_result",
          "data": {
            "text/plain": [
              "tensor(220)"
            ]
          },
          "metadata": {},
          "execution_count": 62
        }
      ]
    },
    {
      "cell_type": "markdown",
      "source": [
        "\n",
        "You can do matrix multiplication by hand but it's not recommended.\n",
        "\n",
        "The in-built torch.matmul() method is faster."
      ],
      "metadata": {
        "id": "BJJu9B6QwsEA"
      },
      "id": "BJJu9B6QwsEA"
    },
    {
      "cell_type": "code",
      "source": [
        "exTensor2_1 = torch.tensor([[1,2],\n",
        "                           [3,4],\n",
        "                           [5,6]])\n",
        "\n",
        "exTensor2_2 = torch.tensor([[7,10],\n",
        "                             [8,11],\n",
        "                             [9,12]])"
      ],
      "metadata": {
        "id": "dfD0gMV391Ni"
      },
      "id": "dfD0gMV391Ni",
      "execution_count": 63,
      "outputs": []
    },
    {
      "cell_type": "markdown",
      "source": [
        "\n",
        "## One of the most common errors in deep learning (shape errors)\n",
        "Because much of deep learning is multiplying and performing operations on matrices and matrices have a strict rule about what shapes and sizes can be combined, one of the most common errors you'll run into in deep learning is shape mismatches."
      ],
      "metadata": {
        "id": "KtNnIOnCwwgH"
      },
      "id": "KtNnIOnCwwgH"
    },
    {
      "cell_type": "code",
      "source": [
        "exTensor2_1.shape"
      ],
      "metadata": {
        "colab": {
          "base_uri": "https://localhost:8080/"
        },
        "id": "hKh0Hau-u5wh",
        "outputId": "f020cec4-b66c-4fd4-e748-d7a93c9ce91f"
      },
      "id": "hKh0Hau-u5wh",
      "execution_count": 64,
      "outputs": [
        {
          "output_type": "execute_result",
          "data": {
            "text/plain": [
              "torch.Size([3, 2])"
            ]
          },
          "metadata": {},
          "execution_count": 64
        }
      ]
    },
    {
      "cell_type": "code",
      "source": [
        "exTensor2_2.shape"
      ],
      "metadata": {
        "colab": {
          "base_uri": "https://localhost:8080/"
        },
        "id": "iFcu2f1xvCuM",
        "outputId": "74de8212-6a5c-4ff8-8734-5636e22a4f42"
      },
      "id": "iFcu2f1xvCuM",
      "execution_count": 65,
      "outputs": [
        {
          "output_type": "execute_result",
          "data": {
            "text/plain": [
              "torch.Size([3, 2])"
            ]
          },
          "metadata": {},
          "execution_count": 65
        }
      ]
    },
    {
      "cell_type": "markdown",
      "source": [
        "we can do matrix multiplication becase it's broke role one\n",
        "for exTensor2_1 and exTensor2_2\n",
        "**we need transpose one of them**\n",
        "\n",
        "One of the ways to do this is with a transpose (switch the dimensions of a given tensor).\n",
        "\n",
        "You can perform transposes in PyTorch using either:\n",
        "\n",
        "* torch.transpose(input, dim0, dim1) - where input is the desired tensor to transpose and dim0 and dim1 are the dimensions to be swapped.\n",
        "* tensor.T - where tensor is the desired tensor to transpose."
      ],
      "metadata": {
        "id": "7iFfXog3w1_h"
      },
      "id": "7iFfXog3w1_h"
    },
    {
      "cell_type": "code",
      "source": [
        "print(exTensor2_1)\n",
        "print(\"\\n\")\n",
        "print(exTensor2_2)"
      ],
      "metadata": {
        "colab": {
          "base_uri": "https://localhost:8080/"
        },
        "id": "gHQVQrObvQh3",
        "outputId": "992d8615-2b6e-446c-8321-49bc10fb3ad5"
      },
      "id": "gHQVQrObvQh3",
      "execution_count": 66,
      "outputs": [
        {
          "output_type": "stream",
          "name": "stdout",
          "text": [
            "tensor([[1, 2],\n",
            "        [3, 4],\n",
            "        [5, 6]])\n",
            "\n",
            "\n",
            "tensor([[ 7, 10],\n",
            "        [ 8, 11],\n",
            "        [ 9, 12]])\n"
          ]
        }
      ]
    },
    {
      "cell_type": "code",
      "source": [
        "print(exTensor2_1)\n",
        "print(\"\\n\")\n",
        "print(exTensor2_2.T)"
      ],
      "metadata": {
        "colab": {
          "base_uri": "https://localhost:8080/"
        },
        "id": "KG5pPwZIxbeo",
        "outputId": "80a09a6a-48d3-42d9-ee56-f325f24ea0ee"
      },
      "id": "KG5pPwZIxbeo",
      "execution_count": 67,
      "outputs": [
        {
          "output_type": "stream",
          "name": "stdout",
          "text": [
            "tensor([[1, 2],\n",
            "        [3, 4],\n",
            "        [5, 6]])\n",
            "\n",
            "\n",
            "tensor([[ 7,  8,  9],\n",
            "        [10, 11, 12]])\n"
          ]
        }
      ]
    },
    {
      "cell_type": "code",
      "source": [
        "exTensor2_2_New = exTensor2_2.T"
      ],
      "metadata": {
        "id": "rwpfe5R4xhPw"
      },
      "id": "rwpfe5R4xhPw",
      "execution_count": 68,
      "outputs": []
    },
    {
      "cell_type": "code",
      "source": [
        "# The operation works when tensor_B is transposed\n",
        "print(f\"Original shapes: exTensor2_1 = {exTensor2_1.shape}, exTensor2_2= {exTensor2_2.shape}\\n\")\n",
        "print(f\"New shapes: exTensor2_1 = {exTensor2_1.shape} (same as above), exTensor2_2 = {exTensor2_2.T.shape}\\n\")\n",
        "print(f\"Multiplying: {exTensor2_1.shape} * {exTensor2_2.T.shape} <- inner dimensions match\\n\")\n",
        "print(\"Output:\\n\")\n",
        "output = torch.matmul(exTensor2_1, exTensor2_2.T)\n",
        "print(output)\n",
        "print(f\"\\nOutput shape: {output.shape}\")"
      ],
      "metadata": {
        "colab": {
          "base_uri": "https://localhost:8080/"
        },
        "id": "WBG6g4DexqoX",
        "outputId": "909a3c98-d56e-4bd5-f8d1-47b4e2d91243"
      },
      "id": "WBG6g4DexqoX",
      "execution_count": 69,
      "outputs": [
        {
          "output_type": "stream",
          "name": "stdout",
          "text": [
            "Original shapes: exTensor2_1 = torch.Size([3, 2]), exTensor2_2= torch.Size([3, 2])\n",
            "\n",
            "New shapes: exTensor2_1 = torch.Size([3, 2]) (same as above), exTensor2_2 = torch.Size([2, 3])\n",
            "\n",
            "Multiplying: torch.Size([3, 2]) * torch.Size([2, 3]) <- inner dimensions match\n",
            "\n",
            "Output:\n",
            "\n",
            "tensor([[ 27,  30,  33],\n",
            "        [ 61,  68,  75],\n",
            "        [ 95, 106, 117]])\n",
            "\n",
            "Output shape: torch.Size([3, 3])\n"
          ]
        }
      ]
    },
    {
      "cell_type": "markdown",
      "source": [
        "Without the transpose, the rules of matrix multiplication aren't fulfilled and we get an error like above.\n",
        "\n",
        "How about a visual?\n",
        "\n",
        "![visual demo of matrix multiplication](https://github.com/mrdbourke/pytorch-deep-learning/raw/main/images/00-matrix-multiply-crop.gif)\n",
        "\n",
        "You can create your own matrix multiplication visuals like this at http://matrixmultiplication.xyz/.\n",
        "\n",
        "> **Note:** A matrix multiplication like this is also referred to as the [**dot product**](https://www.mathsisfun.com/algebra/vectors-dot-product.html) of two matrices.\n",
        "\n",
        "\n",
        "\n",
        "Neural networks are full of matrix multiplications and dot products.\n",
        "\n",
        "The [`torch.nn.Linear()`](https://pytorch.org/docs/1.9.1/generated/torch.nn.Linear.html) module (we'll see this in action later on), also known as a feed-forward layer or fully connected layer, implements a matrix multiplication between an input `x` and a weights matrix `A`.\n",
        "\n",
        "$$\n",
        "y = x\\cdot{A^T} + b\n",
        "$$\n",
        "\n",
        "Where:\n",
        "* `x` is the input to the layer (deep learning is a stack of layers like `torch.nn.Linear()` and others on top of each other).\n",
        "* `A` is the weights matrix created by the layer, this starts out as random numbers that get adjusted as a neural network learns to better represent patterns in the data (notice the \"`T`\", that's because the weights matrix gets transposed).\n",
        "  * **Note:** You might also often see `W` or another letter like `X` used to showcase the weights matrix.\n",
        "* `b` is the bias term used to slightly offset the weights and inputs.\n",
        "* `y` is the output (a manipulation of the input in the hopes to discover patterns in it).\n",
        "\n",
        "This is a linear function (you may have seen something like $y = mx+b$ in high school or elsewhere), and can be used to draw a straight line!\n",
        "\n",
        "Let's play around with a linear layer.\n",
        "\n",
        "Try changing the values of `in_features` and `out_features` below and see what happens.\n",
        "\n",
        "Do you notice anything to do with the shapes?"
      ],
      "metadata": {
        "id": "aW9Xu6FdzV1g"
      },
      "id": "aW9Xu6FdzV1g"
    },
    {
      "cell_type": "code",
      "source": [
        "exTensor2_1, exTensor2_1.shape"
      ],
      "metadata": {
        "id": "VZDixHNxyJYx",
        "colab": {
          "base_uri": "https://localhost:8080/"
        },
        "outputId": "786a1ca6-dff0-40e7-9b05-7f5cffe8bb08"
      },
      "id": "VZDixHNxyJYx",
      "execution_count": 71,
      "outputs": [
        {
          "output_type": "execute_result",
          "data": {
            "text/plain": [
              "(tensor([[1, 2],\n",
              "         [3, 4],\n",
              "         [5, 6]]),\n",
              " torch.Size([3, 2]))"
            ]
          },
          "metadata": {},
          "execution_count": 71
        }
      ]
    },
    {
      "cell_type": "code",
      "source": [
        "exTensor2_2_New, exTensor2_2_New.shape"
      ],
      "metadata": {
        "colab": {
          "base_uri": "https://localhost:8080/"
        },
        "id": "EzVT_K1hzugW",
        "outputId": "9a913910-b96e-488b-dffc-531f6de4d4af"
      },
      "id": "EzVT_K1hzugW",
      "execution_count": 73,
      "outputs": [
        {
          "output_type": "execute_result",
          "data": {
            "text/plain": [
              "(tensor([[ 7,  8,  9],\n",
              "         [10, 11, 12]]),\n",
              " torch.Size([2, 3]))"
            ]
          },
          "metadata": {},
          "execution_count": 73
        }
      ]
    },
    {
      "cell_type": "code",
      "source": [
        "exTensorR1 = exTensor2_1 @ exTensor2_2_New"
      ],
      "metadata": {
        "id": "506xM-Rbz8GR"
      },
      "id": "506xM-Rbz8GR",
      "execution_count": 74,
      "outputs": []
    },
    {
      "cell_type": "code",
      "source": [
        "print(exTensorR1)\n",
        "print(f\"Shape : {exTensorR1.shape}\")\n",
        "print(f\"Dimenstion : {exTensorR1.ndim}\")\n",
        "print(f\"Datatype : {exTensorR1.dtype}\")\n",
        "print(f\"Device : {exTensorR1.device}\")"
      ],
      "metadata": {
        "colab": {
          "base_uri": "https://localhost:8080/"
        },
        "id": "Q-z6qeF10Pz4",
        "outputId": "58f4b9ac-8df6-4da4-b3f1-8268d44464c3"
      },
      "id": "Q-z6qeF10Pz4",
      "execution_count": 75,
      "outputs": [
        {
          "output_type": "stream",
          "name": "stdout",
          "text": [
            "tensor([[ 27,  30,  33],\n",
            "        [ 61,  68,  75],\n",
            "        [ 95, 106, 117]])\n",
            "Shape : torch.Size([3, 3])\n",
            "Dimenstion : 2\n",
            "Datatype : torch.int64\n",
            "Device : cpu\n"
          ]
        }
      ]
    },
    {
      "cell_type": "markdown",
      "source": [
        "\n",
        "## Finding the min, max, mean, sum, etc (aggregation)\n",
        "Now we've seen a few ways to manipulate tensors, let's run through a few ways to aggregate them (go from more values to less values)."
      ],
      "metadata": {
        "id": "rQ9Aj0ls4-9g"
      },
      "id": "rQ9Aj0ls4-9g"
    },
    {
      "cell_type": "code",
      "source": [
        "exTensorR1"
      ],
      "metadata": {
        "colab": {
          "base_uri": "https://localhost:8080/"
        },
        "id": "R_eHfg8y00qn",
        "outputId": "846740f9-4cf8-4471-c0e3-c2899c8edbce"
      },
      "id": "R_eHfg8y00qn",
      "execution_count": 77,
      "outputs": [
        {
          "output_type": "execute_result",
          "data": {
            "text/plain": [
              "tensor([[ 27,  30,  33],\n",
              "        [ 61,  68,  75],\n",
              "        [ 95, 106, 117]])"
            ]
          },
          "metadata": {},
          "execution_count": 77
        }
      ]
    },
    {
      "cell_type": "code",
      "source": [
        "#Find Min\n",
        "exTensorR1.min()"
      ],
      "metadata": {
        "colab": {
          "base_uri": "https://localhost:8080/"
        },
        "id": "IkGZ9n8Y5EiW",
        "outputId": "241d536f-92df-4613-d7cf-0825021caa84"
      },
      "id": "IkGZ9n8Y5EiW",
      "execution_count": 84,
      "outputs": [
        {
          "output_type": "execute_result",
          "data": {
            "text/plain": [
              "tensor(27)"
            ]
          },
          "metadata": {},
          "execution_count": 84
        }
      ]
    },
    {
      "cell_type": "code",
      "source": [
        "#Find Max\n",
        "exTensorR1.max()"
      ],
      "metadata": {
        "colab": {
          "base_uri": "https://localhost:8080/"
        },
        "id": "kVQACgk35PKe",
        "outputId": "1ef7b83e-ebaa-4acb-ed17-7904d96c5dac"
      },
      "id": "kVQACgk35PKe",
      "execution_count": 81,
      "outputs": [
        {
          "output_type": "execute_result",
          "data": {
            "text/plain": [
              "tensor(117)"
            ]
          },
          "metadata": {},
          "execution_count": 81
        }
      ]
    },
    {
      "cell_type": "code",
      "source": [
        "#Find mean\n",
        "exTensorR1.type(torch.float32).mean()"
      ],
      "metadata": {
        "colab": {
          "base_uri": "https://localhost:8080/"
        },
        "id": "khEEftgj5aS4",
        "outputId": "70969502-1c8c-4bb0-efd2-a04f1454a5a4"
      },
      "id": "khEEftgj5aS4",
      "execution_count": 83,
      "outputs": [
        {
          "output_type": "execute_result",
          "data": {
            "text/plain": [
              "tensor(68.)"
            ]
          },
          "metadata": {},
          "execution_count": 83
        }
      ]
    },
    {
      "cell_type": "markdown",
      "source": [
        "> **Note:** You may find some methods such as `torch.mean()` require tensors to be in `torch.float32` (the most common) or another specific datatype, otherwise the operation will fail.\n",
        "\n"
      ],
      "metadata": {
        "id": "UptGLvIK54uB"
      },
      "id": "UptGLvIK54uB"
    },
    {
      "cell_type": "code",
      "source": [
        "# Sum of elements\n",
        "exTensorR1.sum()"
      ],
      "metadata": {
        "colab": {
          "base_uri": "https://localhost:8080/"
        },
        "id": "chQ0lVWH6N8F",
        "outputId": "c8424970-df56-4f90-a357-e23a2884e8c8"
      },
      "id": "chQ0lVWH6N8F",
      "execution_count": 85,
      "outputs": [
        {
          "output_type": "execute_result",
          "data": {
            "text/plain": [
              "tensor(612)"
            ]
          },
          "metadata": {},
          "execution_count": 85
        }
      ]
    },
    {
      "cell_type": "markdown",
      "source": [
        "You can also do the same as above with `torch` methods."
      ],
      "metadata": {
        "id": "ZqGYLwGW6WOw"
      },
      "id": "ZqGYLwGW6WOw"
    },
    {
      "cell_type": "code",
      "source": [
        "torch.min(exTensorR1), torch.max(exTensorR1)"
      ],
      "metadata": {
        "colab": {
          "base_uri": "https://localhost:8080/"
        },
        "id": "Zd_z-hsC5nlb",
        "outputId": "7e985458-8685-4d67-e0d8-9605d7b16c1f"
      },
      "id": "Zd_z-hsC5nlb",
      "execution_count": 87,
      "outputs": [
        {
          "output_type": "execute_result",
          "data": {
            "text/plain": [
              "(tensor(27), tensor(117))"
            ]
          },
          "metadata": {},
          "execution_count": 87
        }
      ]
    },
    {
      "cell_type": "code",
      "source": [
        "torch.mean(exTensorR1.type(torch.float32)), torch.sum(exTensorR1)"
      ],
      "metadata": {
        "colab": {
          "base_uri": "https://localhost:8080/"
        },
        "id": "YNsWa7F56pNR",
        "outputId": "139db9ca-a016-4df2-d961-68ca53809ca3"
      },
      "id": "YNsWa7F56pNR",
      "execution_count": 89,
      "outputs": [
        {
          "output_type": "execute_result",
          "data": {
            "text/plain": [
              "(tensor(68.), tensor(612))"
            ]
          },
          "metadata": {},
          "execution_count": 89
        }
      ]
    },
    {
      "cell_type": "code",
      "source": [],
      "metadata": {
        "id": "uxPonEqx61HA"
      },
      "id": "uxPonEqx61HA",
      "execution_count": null,
      "outputs": []
    }
  ],
  "metadata": {
    "kernelspec": {
      "display_name": "Python 3",
      "name": "python3"
    },
    "language_info": {
      "codemirror_mode": {
        "name": "ipython",
        "version": 3
      },
      "file_extension": ".py",
      "mimetype": "text/x-python",
      "name": "python",
      "nbconvert_exporter": "python",
      "pygments_lexer": "ipython3",
      "version": "3.13.5"
    },
    "colab": {
      "provenance": [],
      "include_colab_link": true
    }
  },
  "nbformat": 4,
  "nbformat_minor": 5
}