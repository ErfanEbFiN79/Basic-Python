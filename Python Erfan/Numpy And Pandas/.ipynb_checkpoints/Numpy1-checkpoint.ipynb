{
 "cells": [
  {
   "cell_type": "markdown",
   "id": "4f198760-6668-47ab-9c1c-0490aaa1be02",
   "metadata": {},
   "source": [
    "# Numpy 1"
   ]
  },
  {
   "cell_type": "markdown",
   "id": "5f65a31e-5e85-45f4-abb1-bd48b447202b",
   "metadata": {},
   "source": [
    "# Base Form"
   ]
  },
  {
   "cell_type": "raw",
   "id": "9c9ce9ca-b334-4843-adbc-7d5ac42d43c9",
   "metadata": {},
   "source": [
    "Link Youtube\n",
    "\n",
    "https://www.youtube.com/watch?v=4c_mwnYdbhQ"
   ]
  },
  {
   "cell_type": "code",
   "execution_count": 2,
   "id": "2591e96a-fe8b-4a09-a115-9854025f966f",
   "metadata": {},
   "outputs": [],
   "source": [
    "import numpy as np\n",
    "\n",
    "# first you need to import the library"
   ]
  },
  {
   "cell_type": "code",
   "execution_count": 3,
   "id": "28221671-8869-4459-b030-8619f24d2aad",
   "metadata": {},
   "outputs": [
    {
     "name": "stdout",
     "output_type": "stream",
     "text": [
      "[1, 2, 3, 4, 5, 6, 7]\n",
      "2\n"
     ]
    }
   ],
   "source": [
    "a = [1,2,3,4,5,6,7]\n",
    "print(a)\n",
    "print(a[1])"
   ]
  },
  {
   "cell_type": "raw",
   "id": "7541d982-315c-4f0d-b694-983ffc4b3b4a",
   "metadata": {},
   "source": [
    "!! you need to know basic python "
   ]
  },
  {
   "cell_type": "code",
   "execution_count": 4,
   "id": "45562243-7e8e-4c52-9270-987a8305430e",
   "metadata": {},
   "outputs": [
    {
     "name": "stdout",
     "output_type": "stream",
     "text": [
      "<class 'numpy.ndarray'>\n",
      "[1 2 3 4 5]\n"
     ]
    }
   ],
   "source": [
    "a = np.array([1,2,3,4,5])\n",
    "print(type(a))\n",
    "print(a)"
   ]
  },
  {
   "cell_type": "raw",
   "id": "95b16f92-aeb9-4ff5-a5b9-6fd88d3839c8",
   "metadata": {},
   "source": [
    "the return is a list but seprate with space"
   ]
  },
  {
   "cell_type": "raw",
   "id": "9a0d11f3-84fd-490b-a2c2-ca1274ca6103",
   "metadata": {},
   "source": [
    "! you can do what you do at lists"
   ]
  },
  {
   "cell_type": "code",
   "execution_count": 5,
   "id": "8a06087d-37a1-41bd-aa52-ccb331ee1a19",
   "metadata": {},
   "outputs": [
    {
     "name": "stdout",
     "output_type": "stream",
     "text": [
      "[1 2 3 4 5]\n"
     ]
    }
   ],
   "source": [
    "print(a)"
   ]
  },
  {
   "cell_type": "code",
   "execution_count": 6,
   "id": "35ab173c-b480-4fc1-ab9c-9f9f11fa0946",
   "metadata": {},
   "outputs": [
    {
     "name": "stdout",
     "output_type": "stream",
     "text": [
      "1\n"
     ]
    }
   ],
   "source": [
    "print(a[0])"
   ]
  },
  {
   "cell_type": "code",
   "execution_count": 7,
   "id": "c88f66a1-3645-4aee-86c7-330d9f872dbc",
   "metadata": {},
   "outputs": [
    {
     "name": "stdout",
     "output_type": "stream",
     "text": [
      "3\n"
     ]
    }
   ],
   "source": [
    "print(a[2])"
   ]
  },
  {
   "cell_type": "code",
   "execution_count": 8,
   "id": "d7bb0fd5-742e-4abb-ac01-23efe27ae390",
   "metadata": {},
   "outputs": [
    {
     "name": "stdout",
     "output_type": "stream",
     "text": [
      "[5 4 3 2 1]\n"
     ]
    }
   ],
   "source": [
    "print(a[::-1])"
   ]
  },
  {
   "cell_type": "code",
   "execution_count": 9,
   "id": "0bac640e-0d6e-4b78-9c83-bf2ac6f03309",
   "metadata": {},
   "outputs": [
    {
     "name": "stdout",
     "output_type": "stream",
     "text": [
      "[2 3]\n"
     ]
    }
   ],
   "source": [
    "print(a[1:3])"
   ]
  },
  {
   "cell_type": "raw",
   "id": "d63f2740-2196-4c64-b3b2-2950da1f33c4",
   "metadata": {},
   "source": [
    "! you can do normal assintment"
   ]
  },
  {
   "cell_type": "code",
   "execution_count": 10,
   "id": "7eb71a68-290f-459a-9d9f-a8d459cb7998",
   "metadata": {},
   "outputs": [
    {
     "name": "stdout",
     "output_type": "stream",
     "text": [
      "[ 1 20  3  4  5]\n"
     ]
    }
   ],
   "source": [
    "a[1] = 20\n",
    "print(a)"
   ]
  },
  {
   "cell_type": "raw",
   "id": "8deeaae3-eb07-438b-a5e1-57837b8fa34a",
   "metadata": {},
   "source": [
    "Also you can create multi-dimensional numpy"
   ]
  },
  {
   "cell_type": "code",
   "execution_count": 11,
   "id": "7b018b93-ffda-4525-9f9a-6c22cee9cf90",
   "metadata": {},
   "outputs": [],
   "source": [
    "a_mul = np.array([\n",
    "    [1,2,3],\n",
    "    [4,5,6],\n",
    "    [7,8,9]\n",
    "])"
   ]
  },
  {
   "cell_type": "code",
   "execution_count": 12,
   "id": "0fdc83f2-5ee5-48d5-bac4-b78508cf0695",
   "metadata": {},
   "outputs": [
    {
     "name": "stdout",
     "output_type": "stream",
     "text": [
      "[[1 2 3]\n",
      " [4 5 6]\n",
      " [7 8 9]]\n"
     ]
    }
   ],
   "source": [
    "print(a_mul)"
   ]
  },
  {
   "cell_type": "code",
   "execution_count": 13,
   "id": "5d69c17c-abf9-4d86-844f-2f5c1867a005",
   "metadata": {},
   "outputs": [
    {
     "name": "stdout",
     "output_type": "stream",
     "text": [
      "1 => [1 2 3]\n",
      "2 => [4 5 6]\n",
      "3 => [7 8 9]\n"
     ]
    }
   ],
   "source": [
    "print(f\"1 => {a_mul[0]}\\n2 => {a_mul[1]}\\n3 => {a_mul[2]}\")"
   ]
  },
  {
   "cell_type": "code",
   "execution_count": 14,
   "id": "fa87ddf2-1fd5-40a9-8c46-177252ab4664",
   "metadata": {},
   "outputs": [
    {
     "name": "stdout",
     "output_type": "stream",
     "text": [
      "2\n"
     ]
    }
   ],
   "source": [
    "print(a_mul[0][1])"
   ]
  },
  {
   "cell_type": "code",
   "execution_count": 15,
   "id": "52ddfe8f-0180-4c03-83e1-ded8140bb8fe",
   "metadata": {},
   "outputs": [
    {
     "name": "stdout",
     "output_type": "stream",
     "text": [
      "[2 3]\n"
     ]
    }
   ],
   "source": [
    "print(a_mul[0][1:3])"
   ]
  },
  {
   "cell_type": "code",
   "execution_count": 16,
   "id": "9264ecd1-ba62-45d2-952a-e1cdf8bd84ba",
   "metadata": {},
   "outputs": [
    {
     "name": "stdout",
     "output_type": "stream",
     "text": [
      "[[7 8 9]\n",
      " [4 5 6]\n",
      " [1 2 3]]\n"
     ]
    }
   ],
   "source": [
    "print(a_mul[::-1])"
   ]
  },
  {
   "cell_type": "markdown",
   "id": "472d9cef-b79b-4683-869c-bbfa884f4f08",
   "metadata": {},
   "source": [
    "# Array Attribute"
   ]
  },
  {
   "cell_type": "code",
   "execution_count": 17,
   "id": "f527bf68-f256-4ccf-9b56-f8852b7db7d8",
   "metadata": {},
   "outputs": [
    {
     "name": "stdout",
     "output_type": "stream",
     "text": [
      "(5,)\n"
     ]
    }
   ],
   "source": [
    "print(a.shape)"
   ]
  },
  {
   "cell_type": "code",
   "execution_count": 18,
   "id": "0966cf7f-2c3b-4251-830f-c17d980f793a",
   "metadata": {},
   "outputs": [
    {
     "name": "stdout",
     "output_type": "stream",
     "text": [
      "(3, 3)\n"
     ]
    }
   ],
   "source": [
    "print(a_mul.shape)"
   ]
  },
  {
   "cell_type": "code",
   "execution_count": 19,
   "id": "9eaaf422-8fda-4ed4-9e6c-f9dd557cae9f",
   "metadata": {},
   "outputs": [],
   "source": [
    "b_mul = np.array([\n",
    "    [1,2,3,4],\n",
    "    [5,6,7,8],\n",
    "    [9,10,11,12]\n",
    "])"
   ]
  },
  {
   "cell_type": "code",
   "execution_count": 20,
   "id": "e961df5c-3a73-41e7-8123-4c4f37c019de",
   "metadata": {},
   "outputs": [
    {
     "name": "stdout",
     "output_type": "stream",
     "text": [
      "[[ 1  2  3  4]\n",
      " [ 5  6  7  8]\n",
      " [ 9 10 11 12]]\n"
     ]
    }
   ],
   "source": [
    "print(b_mul)"
   ]
  },
  {
   "cell_type": "code",
   "execution_count": 21,
   "id": "3008c435-8556-43b9-966e-a98b48ff50ce",
   "metadata": {},
   "outputs": [
    {
     "name": "stdout",
     "output_type": "stream",
     "text": [
      "(3, 4)\n"
     ]
    }
   ],
   "source": [
    "print(b_mul.shape) # => 3 List and each list has 3 different elements"
   ]
  },
  {
   "cell_type": "code",
   "execution_count": 22,
   "id": "d338cf97-adee-4cad-900d-0e9f3e508798",
   "metadata": {},
   "outputs": [],
   "source": [
    "c_mul = np.array([\n",
    "\n",
    "[\n",
    "    [1,2,3,4],\n",
    "    [5,6,7,8],\n",
    "    [9,10,11,12]],\n",
    "[\n",
    "    [1,1,1,1],\n",
    "    [1,1,1,1],\n",
    "    [1,1,1,1]       \n",
    "]\n",
    "    \n",
    "])"
   ]
  },
  {
   "cell_type": "code",
   "execution_count": 23,
   "id": "d90b606c-3af1-4c8a-beca-042025e9a5fe",
   "metadata": {},
   "outputs": [
    {
     "name": "stdout",
     "output_type": "stream",
     "text": [
      "[[[ 1  2  3  4]\n",
      "  [ 5  6  7  8]\n",
      "  [ 9 10 11 12]]\n",
      "\n",
      " [[ 1  1  1  1]\n",
      "  [ 1  1  1  1]\n",
      "  [ 1  1  1  1]]]\n"
     ]
    }
   ],
   "source": [
    "print(c_mul)"
   ]
  },
  {
   "cell_type": "code",
   "execution_count": 24,
   "id": "a8096435-76ee-4c6b-9b07-43cee6e26a4c",
   "metadata": {},
   "outputs": [
    {
     "data": {
      "text/plain": [
       "array([[ 1,  2,  3,  4],\n",
       "       [ 5,  6,  7,  8],\n",
       "       [ 9, 10, 11, 12]])"
      ]
     },
     "execution_count": 24,
     "metadata": {},
     "output_type": "execute_result"
    }
   ],
   "source": [
    "c_mul[0]"
   ]
  },
  {
   "cell_type": "code",
   "execution_count": 25,
   "id": "e6bfc042-ca48-4e24-b85b-068620ad93a1",
   "metadata": {},
   "outputs": [
    {
     "data": {
      "text/plain": [
       "array([5, 6, 7, 8])"
      ]
     },
     "execution_count": 25,
     "metadata": {},
     "output_type": "execute_result"
    }
   ],
   "source": [
    "c_mul[0][1]"
   ]
  },
  {
   "cell_type": "code",
   "execution_count": 26,
   "id": "171f8b1c-994a-449e-8862-43fe73ab3886",
   "metadata": {},
   "outputs": [
    {
     "data": {
      "text/plain": [
       "np.int64(7)"
      ]
     },
     "execution_count": 26,
     "metadata": {},
     "output_type": "execute_result"
    }
   ],
   "source": [
    "c_mul[0][1][2]"
   ]
  },
  {
   "cell_type": "code",
   "execution_count": 27,
   "id": "243c3f32-7f15-4f3e-ad89-4b78eadbef01",
   "metadata": {},
   "outputs": [],
   "source": [
    "number7 = c_mul[0][1][2]"
   ]
  },
  {
   "cell_type": "code",
   "execution_count": 28,
   "id": "f0079175-c783-4420-a829-9909e6ed684d",
   "metadata": {},
   "outputs": [
    {
     "name": "stdout",
     "output_type": "stream",
     "text": [
      "7\n"
     ]
    }
   ],
   "source": [
    "print(number7)"
   ]
  },
  {
   "cell_type": "code",
   "execution_count": 29,
   "id": "ffd0d8e1-8ad4-4f57-9172-f93bdfd6a6ff",
   "metadata": {},
   "outputs": [
    {
     "name": "stdout",
     "output_type": "stream",
     "text": [
      "(2, 3, 4)\n"
     ]
    }
   ],
   "source": [
    "print(c_mul.shape)"
   ]
  },
  {
   "cell_type": "code",
   "execution_count": 30,
   "id": "17b8e4f7-602a-47cd-bb8f-57a8b70508d0",
   "metadata": {},
   "outputs": [
    {
     "name": "stdout",
     "output_type": "stream",
     "text": [
      "3\n",
      "2\n",
      "2\n"
     ]
    }
   ],
   "source": [
    "print(c_mul.ndim) # => the number of dimention, How deep goes!\n",
    "print(b_mul.ndim)\n",
    "print(a_mul.ndim)"
   ]
  },
  {
   "cell_type": "code",
   "execution_count": 31,
   "id": "a4493401-5e83-4b06-996b-8c11e43ac960",
   "metadata": {},
   "outputs": [
    {
     "name": "stdout",
     "output_type": "stream",
     "text": [
      "9\n",
      "12\n",
      "24\n"
     ]
    }
   ],
   "source": [
    "print(a_mul.size) # => 3 * 3 (n * m)\n",
    "print(b_mul.size) \n",
    "print(c_mul.size) "
   ]
  },
  {
   "cell_type": "code",
   "execution_count": 32,
   "id": "8dc4e840-a086-4841-b235-da2c1428245e",
   "metadata": {},
   "outputs": [
    {
     "name": "stdout",
     "output_type": "stream",
     "text": [
      "int64\n",
      "int64\n",
      "int64\n"
     ]
    }
   ],
   "source": [
    "print(a_mul.dtype) \n",
    "print(b_mul.dtype) \n",
    "print(c_mul.dtype) "
   ]
  },
  {
   "cell_type": "markdown",
   "id": "6ca15d32-6091-4f49-9344-56b6f0070909",
   "metadata": {},
   "source": [
    "## Numpy data types"
   ]
  },
  {
   "cell_type": "code",
   "execution_count": 33,
   "id": "5c517998-f447-42e4-b9ca-84a4c6eb16fc",
   "metadata": {},
   "outputs": [],
   "source": [
    "d_mul = np.array(\n",
    "    [\n",
    "        [1,2,3],\n",
    "        [4,\"Five\",6],\n",
    "        [7,8,9]\n",
    "    ]\n",
    ")"
   ]
  },
  {
   "cell_type": "code",
   "execution_count": 34,
   "id": "348569f4-fc97-4463-ba61-fae02fc52eaa",
   "metadata": {},
   "outputs": [
    {
     "name": "stdout",
     "output_type": "stream",
     "text": [
      "<U21\n"
     ]
    }
   ],
   "source": [
    "print(d_mul.dtype)"
   ]
  },
  {
   "cell_type": "markdown",
   "id": "8d98287d-eb53-4601-a2c4-099980b057ce",
   "metadata": {},
   "source": [
    "output above means => string with a less than 21 character\n",
    "data type now it's string"
   ]
  },
  {
   "cell_type": "code",
   "execution_count": 35,
   "id": "b4386271-144d-48b1-b58e-143f448712a0",
   "metadata": {},
   "outputs": [
    {
     "data": {
      "text/plain": [
       "np.str_('1')"
      ]
     },
     "execution_count": 35,
     "metadata": {},
     "output_type": "execute_result"
    }
   ],
   "source": [
    "d_mul[0][0]"
   ]
  },
  {
   "cell_type": "code",
   "execution_count": 36,
   "id": "a508adf3-e710-4ca9-b7f1-12bb46334e3f",
   "metadata": {},
   "outputs": [
    {
     "name": "stdout",
     "output_type": "stream",
     "text": [
      "1\n"
     ]
    }
   ],
   "source": [
    "print(d_mul[0][0])"
   ]
  },
  {
   "cell_type": "code",
   "execution_count": 37,
   "id": "319638e7-8d12-49a8-90d5-e8d6b75181f5",
   "metadata": {},
   "outputs": [],
   "source": [
    "answer2 = d_mul[0][0]"
   ]
  },
  {
   "cell_type": "code",
   "execution_count": 38,
   "id": "afb52912-f38c-44ae-9691-93b6f471b104",
   "metadata": {},
   "outputs": [
    {
     "data": {
      "text/plain": [
       "np.str_('1')"
      ]
     },
     "execution_count": 38,
     "metadata": {},
     "output_type": "execute_result"
    }
   ],
   "source": [
    "answer2"
   ]
  },
  {
   "cell_type": "code",
   "execution_count": 39,
   "id": "8fb8be22-3f0b-40be-acc3-035e82a6ee6c",
   "metadata": {},
   "outputs": [
    {
     "name": "stdout",
     "output_type": "stream",
     "text": [
      "1\n"
     ]
    }
   ],
   "source": [
    "print(answer2)"
   ]
  },
  {
   "cell_type": "code",
   "execution_count": 40,
   "id": "af8071c4-ec94-4d5b-b798-1897c4874ea9",
   "metadata": {},
   "outputs": [
    {
     "data": {
      "text/plain": [
       "numpy.str_"
      ]
     },
     "execution_count": 40,
     "metadata": {},
     "output_type": "execute_result"
    }
   ],
   "source": [
    "type(answer2)"
   ]
  },
  {
   "cell_type": "raw",
   "id": "ba0e07ce-e14f-4b97-b270-b91ee2ba93d7",
   "metadata": {},
   "source": [
    "d_mul = np.array(\n",
    "    [\n",
    "        [1,2,3],\n",
    "        [4,\"Five\",6],\n",
    "        [7,8,9]\n",
    "    ]\n",
    ")\n",
    "\n",
    "If you change \"Five\" => to a int number then you get <class 'numpy.int64'> or <class 'numpy.int32'>"
   ]
  },
  {
   "cell_type": "code",
   "execution_count": 41,
   "id": "d039540d-1ba6-4bc5-b924-5792ceb72a11",
   "metadata": {},
   "outputs": [
    {
     "name": "stdout",
     "output_type": "stream",
     "text": [
      "<U1\n"
     ]
    }
   ],
   "source": [
    "print(d_mul[0][0].dtype)"
   ]
  },
  {
   "cell_type": "code",
   "execution_count": 42,
   "id": "855aeafb-f107-45af-a895-9a3077a9369f",
   "metadata": {},
   "outputs": [
    {
     "name": "stdout",
     "output_type": "stream",
     "text": [
      "Five\n"
     ]
    }
   ],
   "source": [
    "print(d_mul[1][1])"
   ]
  },
  {
   "cell_type": "code",
   "execution_count": 43,
   "id": "b99e4cd2-7311-4424-88e0-a116c4ffee63",
   "metadata": {},
   "outputs": [
    {
     "name": "stdout",
     "output_type": "stream",
     "text": [
      "<U4\n"
     ]
    }
   ],
   "source": [
    "print(d_mul[1][1].dtype)"
   ]
  },
  {
   "cell_type": "raw",
   "id": "a8a568d3-a4d4-4796-ae7f-2a5e6593e6e2",
   "metadata": {},
   "source": [
    "d_mul = np.array(\n",
    "    [\n",
    "        [1,2,3],\n",
    "        [4,\"Five\",6],\n",
    "        [7,8,9]\n",
    "    ],\n",
    "    dtype = np.int32\n",
    ")\n",
    "\n",
    "if you try to type casted you will get error:\n",
    "\n",
    "---------------------------------------------------------------------------\n",
    "ValueError                                Traceback (most recent call last)\n",
    "Cell In[47], line 1\n",
    "----> 1 d_mul = np.array(\n",
    "      2     [\n",
    "      3         [1,2,3],\n",
    "      4         [4,\"Five\",6],\n",
    "      5         [7,8,9]\n",
    "      6     ],\n",
    "      7     dtype = np.int32\n",
    "      8 )\n",
    "\n",
    "ValueError: invalid literal for int() with base 10: 'Five'"
   ]
  },
  {
   "cell_type": "raw",
   "id": "c6cfe072-c3ee-4c8c-8817-d033ad9bdfd0",
   "metadata": {},
   "source": [
    "But if you have strig as a number it's will work\n",
    "\n",
    "EX:"
   ]
  },
  {
   "cell_type": "code",
   "execution_count": 44,
   "id": "3db2294d-323b-4054-8c80-4481aa79b75a",
   "metadata": {},
   "outputs": [],
   "source": [
    "e_mul = np.array(\n",
    "    [\n",
    "        [1,2,3],\n",
    "        [4,\"5\",6],\n",
    "        [7,8,9]\n",
    "    ],\n",
    "    dtype = np.int32\n",
    ")"
   ]
  },
  {
   "cell_type": "code",
   "execution_count": 45,
   "id": "1e17003e-981e-494e-9b30-eeff03275ae0",
   "metadata": {},
   "outputs": [
    {
     "name": "stdout",
     "output_type": "stream",
     "text": [
      "int32\n"
     ]
    }
   ],
   "source": [
    "print(e_mul.dtype)"
   ]
  },
  {
   "cell_type": "code",
   "execution_count": 46,
   "id": "4ce80824-9b49-48f1-bd44-0b986ee2523f",
   "metadata": {},
   "outputs": [
    {
     "name": "stdout",
     "output_type": "stream",
     "text": [
      "5\n"
     ]
    }
   ],
   "source": [
    "print(e_mul[1][1])"
   ]
  },
  {
   "cell_type": "code",
   "execution_count": 47,
   "id": "a8edb8cc-8e3d-4af7-81f9-febe3c336158",
   "metadata": {},
   "outputs": [
    {
     "name": "stdout",
     "output_type": "stream",
     "text": [
      "True\n"
     ]
    }
   ],
   "source": [
    "print(e_mul[1][1] == 5)"
   ]
  },
  {
   "cell_type": "code",
   "execution_count": 48,
   "id": "5e2f4f93-7e54-40b3-9bce-b9e88b5aac2d",
   "metadata": {},
   "outputs": [
    {
     "name": "stdout",
     "output_type": "stream",
     "text": [
      "False\n"
     ]
    }
   ],
   "source": [
    "print(e_mul[1][1] == '5')"
   ]
  },
  {
   "cell_type": "code",
   "execution_count": 49,
   "id": "493f0d0c-e46b-45cc-b48e-094241e20ef2",
   "metadata": {},
   "outputs": [],
   "source": [
    "f_mul = np.array(\n",
    "    [\n",
    "        [1,2,3],\n",
    "        [4,\"5\",6],\n",
    "        [7,8,9]\n",
    "    ],\n",
    "    dtype = np.float64\n",
    ")"
   ]
  },
  {
   "cell_type": "code",
   "execution_count": 50,
   "id": "a7117839-b744-492d-9628-c22941bad4c8",
   "metadata": {},
   "outputs": [
    {
     "name": "stdout",
     "output_type": "stream",
     "text": [
      "float64\n"
     ]
    }
   ],
   "source": [
    "print(f_mul.dtype)"
   ]
  },
  {
   "cell_type": "code",
   "execution_count": 51,
   "id": "b7817f21-66bf-4759-93c8-49d6d660199e",
   "metadata": {},
   "outputs": [
    {
     "name": "stdout",
     "output_type": "stream",
     "text": [
      "5.0\n"
     ]
    }
   ],
   "source": [
    "print(f_mul[1][1])"
   ]
  },
  {
   "cell_type": "code",
   "execution_count": 52,
   "id": "48c57200-b355-47f7-9c58-79d81d73cc36",
   "metadata": {},
   "outputs": [
    {
     "name": "stdout",
     "output_type": "stream",
     "text": [
      "float64\n"
     ]
    }
   ],
   "source": [
    "print(f_mul[1][1].dtype)"
   ]
  },
  {
   "cell_type": "code",
   "execution_count": 53,
   "id": "08bc6eef-363b-459e-a162-c6291e7f56cd",
   "metadata": {},
   "outputs": [
    {
     "name": "stdout",
     "output_type": "stream",
     "text": [
      "6.0\n"
     ]
    }
   ],
   "source": [
    "print(f_mul[1][2])"
   ]
  },
  {
   "cell_type": "code",
   "execution_count": 54,
   "id": "a1a437ab-4779-4930-a29b-7d22f376d564",
   "metadata": {},
   "outputs": [
    {
     "name": "stdout",
     "output_type": "stream",
     "text": [
      "float64\n"
     ]
    }
   ],
   "source": [
    "print(f_mul[1][2].dtype)"
   ]
  },
  {
   "cell_type": "code",
   "execution_count": 55,
   "id": "23838991-91f6-4fb3-b860-2e8899f4e658",
   "metadata": {},
   "outputs": [
    {
     "name": "stdout",
     "output_type": "stream",
     "text": [
      "3.0\n"
     ]
    }
   ],
   "source": [
    "print(f_mul[0,2]) # I thing get accsess like this it's very easer "
   ]
  },
  {
   "cell_type": "code",
   "execution_count": 56,
   "id": "1af49c1f-5bf7-40e3-be5c-84492ba9e737",
   "metadata": {},
   "outputs": [],
   "source": [
    "dic1 = {'1' : 'A'}\n",
    "g_mul = np.array(\n",
    "    [\n",
    "        [1,2,3],\n",
    "        [4,5,dic1],\n",
    "        [7,8,9],\n",
    "        [10,11,12]\n",
    "    ]\n",
    ")"
   ]
  },
  {
   "cell_type": "code",
   "execution_count": 57,
   "id": "f2ce3a43-e56c-415e-9105-26c33dedb39a",
   "metadata": {},
   "outputs": [
    {
     "name": "stdout",
     "output_type": "stream",
     "text": [
      "{'1': 'A'}\n"
     ]
    }
   ],
   "source": [
    "print(g_mul[1,2])"
   ]
  },
  {
   "cell_type": "code",
   "execution_count": 58,
   "id": "1a5b90be-4df2-4cce-ba25-3969a1bc3879",
   "metadata": {},
   "outputs": [
    {
     "name": "stdout",
     "output_type": "stream",
     "text": [
      "object\n"
     ]
    }
   ],
   "source": [
    "print(g_mul.dtype)"
   ]
  },
  {
   "cell_type": "code",
   "execution_count": 59,
   "id": "31c8e97c-822e-419a-b247-06795108e469",
   "metadata": {},
   "outputs": [
    {
     "data": {
      "text/plain": [
       "1"
      ]
     },
     "execution_count": 59,
     "metadata": {},
     "output_type": "execute_result"
    }
   ],
   "source": [
    "g_mul[0,0]"
   ]
  },
  {
   "cell_type": "code",
   "execution_count": 60,
   "id": "ac410fc7-aba6-44df-ba39-fee911f7cc16",
   "metadata": {},
   "outputs": [
    {
     "name": "stdout",
     "output_type": "stream",
     "text": [
      "<class 'int'>\n"
     ]
    }
   ],
   "source": [
    "print(type(g_mul[0,0]))"
   ]
  },
  {
   "cell_type": "code",
   "execution_count": 61,
   "id": "61297ada-2e92-4807-9092-43d49adfe333",
   "metadata": {},
   "outputs": [
    {
     "name": "stdout",
     "output_type": "stream",
     "text": [
      "<class 'dict'>\n"
     ]
    }
   ],
   "source": [
    "print(type(g_mul[1,2]))"
   ]
  },
  {
   "cell_type": "code",
   "execution_count": 62,
   "id": "f03ffaef-baad-40bf-884b-2f7286657a5d",
   "metadata": {},
   "outputs": [],
   "source": [
    "dic2 = {'Six' : 6}\n",
    "h_mul = np.array(\n",
    "    [\n",
    "        [\"Hello\",2,3],\n",
    "        [4,5,dic2],\n",
    "        [7,8,9],\n",
    "        [10,11,\"By\"]\n",
    "    ]\n",
    ")"
   ]
  },
  {
   "cell_type": "code",
   "execution_count": 63,
   "id": "af73d45f-aa0f-416a-88e3-e58d753f14c8",
   "metadata": {},
   "outputs": [
    {
     "name": "stdout",
     "output_type": "stream",
     "text": [
      "object\n"
     ]
    }
   ],
   "source": [
    "print(h_mul.dtype)"
   ]
  },
  {
   "cell_type": "code",
   "execution_count": 64,
   "id": "45f3ac96-ad5d-4629-b06e-a63a41dc651d",
   "metadata": {},
   "outputs": [
    {
     "data": {
      "text/plain": [
       "'Hello'"
      ]
     },
     "execution_count": 64,
     "metadata": {},
     "output_type": "execute_result"
    }
   ],
   "source": [
    "h_mul[0,0]"
   ]
  },
  {
   "cell_type": "code",
   "execution_count": 65,
   "id": "b29591d9-8f57-4d64-bfb5-31fb3c120f3d",
   "metadata": {},
   "outputs": [
    {
     "data": {
      "text/plain": [
       "str"
      ]
     },
     "execution_count": 65,
     "metadata": {},
     "output_type": "execute_result"
    }
   ],
   "source": [
    "type(h_mul[0,0])"
   ]
  },
  {
   "cell_type": "code",
   "execution_count": 66,
   "id": "a2f4be46-aa4b-4e79-8f9b-2f5d510f3bfb",
   "metadata": {},
   "outputs": [
    {
     "data": {
      "text/plain": [
       "int"
      ]
     },
     "execution_count": 66,
     "metadata": {},
     "output_type": "execute_result"
    }
   ],
   "source": [
    "type(h_mul[0,1])"
   ]
  },
  {
   "cell_type": "code",
   "execution_count": 67,
   "id": "444178af-5e93-456f-8ba1-381fe886d641",
   "metadata": {},
   "outputs": [
    {
     "data": {
      "text/plain": [
       "dict"
      ]
     },
     "execution_count": 67,
     "metadata": {},
     "output_type": "execute_result"
    }
   ],
   "source": [
    "type(h_mul[1,2])"
   ]
  },
  {
   "cell_type": "code",
   "execution_count": 68,
   "id": "cec8517c-eb55-4d13-b146-36cebd34d73c",
   "metadata": {},
   "outputs": [
    {
     "data": {
      "text/plain": [
       "str"
      ]
     },
     "execution_count": 68,
     "metadata": {},
     "output_type": "execute_result"
    }
   ],
   "source": [
    "type(h_mul[3,2])"
   ]
  },
  {
   "cell_type": "code",
   "execution_count": 69,
   "id": "d29da3c7-6fb6-4870-80fe-1270d1a05a17",
   "metadata": {},
   "outputs": [],
   "source": [
    "i_mul = np.array([\n",
    "    [1,2,3],\n",
    "    [4,5,6],\n",
    "    [7,8,9]\n",
    "\n",
    "], dtype = \"<U2\") # you can use all kine of U<number>"
   ]
  },
  {
   "cell_type": "code",
   "execution_count": 70,
   "id": "d0a3e3b1-0693-4c29-b2e8-efbcb861d943",
   "metadata": {},
   "outputs": [
    {
     "name": "stdout",
     "output_type": "stream",
     "text": [
      "8\n"
     ]
    }
   ],
   "source": [
    "print(i_mul[2,1])"
   ]
  },
  {
   "cell_type": "code",
   "execution_count": 71,
   "id": "6f05e724-cb92-4516-82e4-11b287ba5ab1",
   "metadata": {},
   "outputs": [
    {
     "name": "stdout",
     "output_type": "stream",
     "text": [
      "<class 'numpy.str_'>\n"
     ]
    }
   ],
   "source": [
    "print(type(i_mul[2,1]))"
   ]
  },
  {
   "cell_type": "markdown",
   "id": "8c290f55-f600-4fa4-8989-4f3677232edc",
   "metadata": {},
   "source": [
    "## Filling Arrays"
   ]
  },
  {
   "cell_type": "code",
   "execution_count": 72,
   "id": "30cd857c-f34e-40cd-a5d8-284dec5cf530",
   "metadata": {},
   "outputs": [
    {
     "name": "stdout",
     "output_type": "stream",
     "text": [
      "[[[9 9 9 9]\n",
      "  [9 9 9 9]\n",
      "  [9 9 9 9]]\n",
      "\n",
      " [[9 9 9 9]\n",
      "  [9 9 9 9]\n",
      "  [9 9 9 9]]]\n"
     ]
    }
   ],
   "source": [
    "np1 = np.full((2,3,4), 9)\n",
    "print(np1)"
   ]
  },
  {
   "cell_type": "code",
   "execution_count": 73,
   "id": "ba80dc60-3dc4-4524-8699-d83171583231",
   "metadata": {},
   "outputs": [
    {
     "name": "stdout",
     "output_type": "stream",
     "text": [
      "[[[1 2 3]\n",
      "  [1 2 3]\n",
      "  [1 2 3]]]\n"
     ]
    }
   ],
   "source": [
    "np2 = np.full((1,3,3), (1,2,3))\n",
    "print(np2)"
   ]
  },
  {
   "cell_type": "code",
   "execution_count": 74,
   "id": "9f19c9d1-aecc-4262-a105-bf3f7f58fe76",
   "metadata": {},
   "outputs": [
    {
     "data": {
      "text/plain": [
       "array([[[0., 0., 0., 0.],\n",
       "        [0., 0., 0., 0.],\n",
       "        [0., 0., 0., 0.],\n",
       "        [0., 0., 0., 0.]]])"
      ]
     },
     "execution_count": 74,
     "metadata": {},
     "output_type": "execute_result"
    }
   ],
   "source": [
    "np.zeros((1,4,4))"
   ]
  },
  {
   "cell_type": "code",
   "execution_count": 75,
   "id": "2bbebe7a-efc6-48be-a668-9e8ec2b0eddc",
   "metadata": {},
   "outputs": [
    {
     "data": {
      "text/plain": [
       "array([[[1., 1., 1., 1.],\n",
       "        [1., 1., 1., 1.],\n",
       "        [1., 1., 1., 1.],\n",
       "        [1., 1., 1., 1.]]])"
      ]
     },
     "execution_count": 75,
     "metadata": {},
     "output_type": "execute_result"
    }
   ],
   "source": [
    "np.ones((1,4,4))"
   ]
  },
  {
   "cell_type": "code",
   "execution_count": 76,
   "id": "25547bad-c03f-4b78-82d8-12c0bc73665b",
   "metadata": {},
   "outputs": [
    {
     "data": {
      "text/plain": [
       "array([[[0., 0.],\n",
       "        [0., 0.]],\n",
       "\n",
       "       [[0., 0.],\n",
       "        [0., 0.]]])"
      ]
     },
     "execution_count": 76,
     "metadata": {},
     "output_type": "execute_result"
    }
   ],
   "source": [
    "np.empty((2,2,2)) #reserve space and show location address"
   ]
  },
  {
   "cell_type": "code",
   "execution_count": 77,
   "id": "ba82fb6e-dd37-4b0b-a1bf-a2d9c1cd58b6",
   "metadata": {},
   "outputs": [
    {
     "name": "stdout",
     "output_type": "stream",
     "text": [
      "[ 0  5 10 15 20 25 30 35 40 45 50 55 60 65 70 75 80 85 90 95]\n"
     ]
    }
   ],
   "source": [
    "np3 = np.arange(0,100,5)\n",
    "print(np3)"
   ]
  },
  {
   "cell_type": "code",
   "execution_count": 78,
   "id": "5093bdf6-7e3d-4cd9-80de-df588b243431",
   "metadata": {},
   "outputs": [
    {
     "data": {
      "text/plain": [
       "array([  0., 100.])"
      ]
     },
     "execution_count": 78,
     "metadata": {},
     "output_type": "execute_result"
    }
   ],
   "source": [
    "np.linspace(0,100, 2)"
   ]
  },
  {
   "cell_type": "code",
   "execution_count": 79,
   "id": "2a89eecb-bc48-4833-bd80-7eb634f0baae",
   "metadata": {},
   "outputs": [
    {
     "data": {
      "text/plain": [
       "array([  0.        ,  11.11111111,  22.22222222,  33.33333333,\n",
       "        44.44444444,  55.55555556,  66.66666667,  77.77777778,\n",
       "        88.88888889, 100.        ])"
      ]
     },
     "execution_count": 79,
     "metadata": {},
     "output_type": "execute_result"
    }
   ],
   "source": [
    "np.linspace(0,100, 10)"
   ]
  },
  {
   "cell_type": "code",
   "execution_count": 80,
   "id": "01249b25-a348-47c9-9b98-31e5ae8dc85a",
   "metadata": {},
   "outputs": [
    {
     "data": {
      "text/plain": [
       "array([  0.        ,   1.01010101,   2.02020202,   3.03030303,\n",
       "         4.04040404,   5.05050505,   6.06060606,   7.07070707,\n",
       "         8.08080808,   9.09090909,  10.1010101 ,  11.11111111,\n",
       "        12.12121212,  13.13131313,  14.14141414,  15.15151515,\n",
       "        16.16161616,  17.17171717,  18.18181818,  19.19191919,\n",
       "        20.2020202 ,  21.21212121,  22.22222222,  23.23232323,\n",
       "        24.24242424,  25.25252525,  26.26262626,  27.27272727,\n",
       "        28.28282828,  29.29292929,  30.3030303 ,  31.31313131,\n",
       "        32.32323232,  33.33333333,  34.34343434,  35.35353535,\n",
       "        36.36363636,  37.37373737,  38.38383838,  39.39393939,\n",
       "        40.4040404 ,  41.41414141,  42.42424242,  43.43434343,\n",
       "        44.44444444,  45.45454545,  46.46464646,  47.47474747,\n",
       "        48.48484848,  49.49494949,  50.50505051,  51.51515152,\n",
       "        52.52525253,  53.53535354,  54.54545455,  55.55555556,\n",
       "        56.56565657,  57.57575758,  58.58585859,  59.5959596 ,\n",
       "        60.60606061,  61.61616162,  62.62626263,  63.63636364,\n",
       "        64.64646465,  65.65656566,  66.66666667,  67.67676768,\n",
       "        68.68686869,  69.6969697 ,  70.70707071,  71.71717172,\n",
       "        72.72727273,  73.73737374,  74.74747475,  75.75757576,\n",
       "        76.76767677,  77.77777778,  78.78787879,  79.7979798 ,\n",
       "        80.80808081,  81.81818182,  82.82828283,  83.83838384,\n",
       "        84.84848485,  85.85858586,  86.86868687,  87.87878788,\n",
       "        88.88888889,  89.8989899 ,  90.90909091,  91.91919192,\n",
       "        92.92929293,  93.93939394,  94.94949495,  95.95959596,\n",
       "        96.96969697,  97.97979798,  98.98989899, 100.        ])"
      ]
     },
     "execution_count": 80,
     "metadata": {},
     "output_type": "execute_result"
    }
   ],
   "source": [
    "np.linspace(0,100, 100)"
   ]
  },
  {
   "cell_type": "code",
   "execution_count": 81,
   "id": "b7434778-987d-4f93-8a44-dc11904d0cb9",
   "metadata": {},
   "outputs": [
    {
     "data": {
      "text/plain": [
       "array([  0.,   1.,   2.,   3.,   4.,   5.,   6.,   7.,   8.,   9.,  10.,\n",
       "        11.,  12.,  13.,  14.,  15.,  16.,  17.,  18.,  19.,  20.,  21.,\n",
       "        22.,  23.,  24.,  25.,  26.,  27.,  28.,  29.,  30.,  31.,  32.,\n",
       "        33.,  34.,  35.,  36.,  37.,  38.,  39.,  40.,  41.,  42.,  43.,\n",
       "        44.,  45.,  46.,  47.,  48.,  49.,  50.,  51.,  52.,  53.,  54.,\n",
       "        55.,  56.,  57.,  58.,  59.,  60.,  61.,  62.,  63.,  64.,  65.,\n",
       "        66.,  67.,  68.,  69.,  70.,  71.,  72.,  73.,  74.,  75.,  76.,\n",
       "        77.,  78.,  79.,  80.,  81.,  82.,  83.,  84.,  85.,  86.,  87.,\n",
       "        88.,  89.,  90.,  91.,  92.,  93.,  94.,  95.,  96.,  97.,  98.,\n",
       "        99., 100.])"
      ]
     },
     "execution_count": 81,
     "metadata": {},
     "output_type": "execute_result"
    }
   ],
   "source": [
    "np.linspace(0,100, 101)"
   ]
  },
  {
   "cell_type": "code",
   "execution_count": 82,
   "id": "00ecc6ef-9144-437b-bd60-43177827c3dc",
   "metadata": {},
   "outputs": [
    {
     "name": "stdout",
     "output_type": "stream",
     "text": [
      "nan\n"
     ]
    }
   ],
   "source": [
    "print(np.nan)"
   ]
  },
  {
   "cell_type": "code",
   "execution_count": 83,
   "id": "8fe7fcde-9ea1-4448-adc9-e35424101115",
   "metadata": {},
   "outputs": [
    {
     "data": {
      "text/plain": [
       "inf"
      ]
     },
     "execution_count": 83,
     "metadata": {},
     "output_type": "execute_result"
    }
   ],
   "source": [
    "np.inf"
   ]
  },
  {
   "cell_type": "code",
   "execution_count": 84,
   "id": "795635a5-54b5-4794-9758-c337f31f1183",
   "metadata": {},
   "outputs": [
    {
     "name": "stdout",
     "output_type": "stream",
     "text": [
      "True\n"
     ]
    }
   ],
   "source": [
    "print(np.isnan(np.nan))"
   ]
  },
  {
   "cell_type": "code",
   "execution_count": 85,
   "id": "dd33102a-ede9-4d90-b84c-ec5bfe11977a",
   "metadata": {},
   "outputs": [
    {
     "name": "stdout",
     "output_type": "stream",
     "text": [
      "False\n"
     ]
    }
   ],
   "source": [
    "print(np.isinf(np.nan))"
   ]
  },
  {
   "cell_type": "code",
   "execution_count": 86,
   "id": "a8089b8c-29ed-4f6f-bf01-575a7859ecbb",
   "metadata": {},
   "outputs": [
    {
     "name": "stdout",
     "output_type": "stream",
     "text": [
      "True\n"
     ]
    }
   ],
   "source": [
    "print(np.isinf(np.inf))"
   ]
  },
  {
   "cell_type": "code",
   "execution_count": 87,
   "id": "483ebd70-5e58-4ff6-af63-80a358faf957",
   "metadata": {},
   "outputs": [
    {
     "name": "stderr",
     "output_type": "stream",
     "text": [
      "C:\\Users\\ebfin\\AppData\\Local\\Temp\\ipykernel_7416\\3438155168.py:1: RuntimeWarning: invalid value encountered in sqrt\n",
      "  np.sqrt(-1)\n"
     ]
    },
    {
     "data": {
      "text/plain": [
       "np.float64(nan)"
      ]
     },
     "execution_count": 87,
     "metadata": {},
     "output_type": "execute_result"
    }
   ],
   "source": [
    "np.sqrt(-1)"
   ]
  },
  {
   "cell_type": "code",
   "execution_count": 88,
   "id": "b0119a70-c81f-4270-bc9a-a674641bea05",
   "metadata": {},
   "outputs": [
    {
     "name": "stdout",
     "output_type": "stream",
     "text": [
      "True\n"
     ]
    },
    {
     "name": "stderr",
     "output_type": "stream",
     "text": [
      "C:\\Users\\ebfin\\AppData\\Local\\Temp\\ipykernel_7416\\1919082837.py:1: RuntimeWarning: invalid value encountered in sqrt\n",
      "  print(np.isnan(np.sqrt(-1)))\n"
     ]
    }
   ],
   "source": [
    "print(np.isnan(np.sqrt(-1)))"
   ]
  },
  {
   "cell_type": "code",
   "execution_count": 89,
   "id": "c9d11a10-811b-4bef-a880-66a2ff5f02a1",
   "metadata": {},
   "outputs": [
    {
     "name": "stdout",
     "output_type": "stream",
     "text": [
      "[ True]\n"
     ]
    },
    {
     "name": "stderr",
     "output_type": "stream",
     "text": [
      "C:\\Users\\ebfin\\AppData\\Local\\Temp\\ipykernel_7416\\3436478471.py:1: RuntimeWarning: divide by zero encountered in divide\n",
      "  print(np.isinf(np.array([10]) / 0))\n"
     ]
    }
   ],
   "source": [
    "print(np.isinf(np.array([10]) / 0))"
   ]
  },
  {
   "cell_type": "markdown",
   "id": "b9a54b5b-877c-4b13-8c0d-878c15677842",
   "metadata": {},
   "source": [
    "# Mathematical Operations"
   ]
  },
  {
   "cell_type": "code",
   "execution_count": 90,
   "id": "446fa49b-ef6d-4599-9abf-125ad6913a3c",
   "metadata": {},
   "outputs": [],
   "source": [
    "l1 = [1,2,3,4,5]\n",
    "l2 = [6,7,8,9,10]\n",
    "a1 = np.array(l1)\n",
    "a2 = np.array(l2)"
   ]
  },
  {
   "cell_type": "code",
   "execution_count": 91,
   "id": "0be1c9eb-f5ee-4758-8ec3-273e90ccd4ed",
   "metadata": {},
   "outputs": [
    {
     "name": "stdout",
     "output_type": "stream",
     "text": [
      "[1 2 3 4 5]\n"
     ]
    }
   ],
   "source": [
    "print(a1)"
   ]
  },
  {
   "cell_type": "code",
   "execution_count": 92,
   "id": "63a95cd4-2b84-49a7-9410-45f8af13fb43",
   "metadata": {},
   "outputs": [
    {
     "name": "stdout",
     "output_type": "stream",
     "text": [
      "[ 6  7  8  9 10]\n"
     ]
    }
   ],
   "source": [
    "print(a2)"
   ]
  },
  {
   "cell_type": "code",
   "execution_count": 93,
   "id": "f61de737-7f34-4b74-8600-c4f875fe7a45",
   "metadata": {},
   "outputs": [
    {
     "name": "stdout",
     "output_type": "stream",
     "text": [
      "l1 and l2 are <class 'list'> but a1 and a2 are <class 'numpy.ndarray'>\n"
     ]
    }
   ],
   "source": [
    "print(f'l1 and l2 are {type(l1)} but a1 and a2 are {type(a1)}')"
   ]
  },
  {
   "cell_type": "code",
   "execution_count": 94,
   "id": "6ccc905f-bea7-4221-a1f6-37e36c30b2e8",
   "metadata": {},
   "outputs": [
    {
     "data": {
      "text/plain": [
       "[1, 2, 3, 4, 5, 1, 2, 3, 4, 5, 1, 2, 3, 4, 5, 1, 2, 3, 4, 5, 1, 2, 3, 4, 5]"
      ]
     },
     "execution_count": 94,
     "metadata": {},
     "output_type": "execute_result"
    }
   ],
   "source": [
    "l1 * 5 # repeat list for 5 time"
   ]
  },
  {
   "cell_type": "code",
   "execution_count": 95,
   "id": "52f8debe-0c73-4e0d-9d7a-7682e894e0c2",
   "metadata": {},
   "outputs": [
    {
     "data": {
      "text/plain": [
       "array([ 5, 10, 15, 20, 25])"
      ]
     },
     "execution_count": 95,
     "metadata": {},
     "output_type": "execute_result"
    }
   ],
   "source": [
    "a1 * 5 # multyply each number with 5"
   ]
  },
  {
   "cell_type": "raw",
   "id": "e9c87bef-9923-415b-8c0f-f122cbbd4609",
   "metadata": {},
   "source": [
    "l1  + 5 \n",
    "\n",
    "if you try this you are going to get error:\n",
    "\n",
    "---------------------------------------------------------------------------\n",
    "TypeError                                 Traceback (most recent call last)\n",
    "Cell In[105], line 1\n",
    "----> 1 l1  + 5\n",
    "\n",
    "TypeError: can only concatenate list (not \"int\") to list"
   ]
  },
  {
   "cell_type": "code",
   "execution_count": 96,
   "id": "fa12d9bc-05a9-42a6-9d5b-0fe48c8ddf45",
   "metadata": {},
   "outputs": [
    {
     "data": {
      "text/plain": [
       "array([1, 2, 3, 4, 5])"
      ]
     },
     "execution_count": 96,
     "metadata": {},
     "output_type": "execute_result"
    }
   ],
   "source": [
    "a1"
   ]
  },
  {
   "cell_type": "code",
   "execution_count": 97,
   "id": "393dd8e8-430b-4d9d-90af-23fb88942448",
   "metadata": {},
   "outputs": [
    {
     "data": {
      "text/plain": [
       "array([ 6,  7,  8,  9, 10])"
      ]
     },
     "execution_count": 97,
     "metadata": {},
     "output_type": "execute_result"
    }
   ],
   "source": [
    "a1 + 5"
   ]
  },
  {
   "cell_type": "code",
   "execution_count": 98,
   "id": "40f99506-f54e-4c48-b5e2-427b2a6d301e",
   "metadata": {},
   "outputs": [
    {
     "data": {
      "text/plain": [
       "array([-4, -3, -2, -1,  0])"
      ]
     },
     "execution_count": 98,
     "metadata": {},
     "output_type": "execute_result"
    }
   ],
   "source": [
    "a1 - 5"
   ]
  },
  {
   "cell_type": "code",
   "execution_count": 99,
   "id": "17dc4923-eede-4b50-9856-942f3742504c",
   "metadata": {},
   "outputs": [
    {
     "data": {
      "text/plain": [
       "[1, 2, 3, 4, 5, 6, 7, 8, 9, 10]"
      ]
     },
     "execution_count": 99,
     "metadata": {},
     "output_type": "execute_result"
    }
   ],
   "source": [
    "l1 + l2"
   ]
  },
  {
   "cell_type": "code",
   "execution_count": 100,
   "id": "20a1d050-e7fe-4ad4-adea-96f031e819cb",
   "metadata": {},
   "outputs": [
    {
     "data": {
      "text/plain": [
       "array([1, 2, 3, 4, 5])"
      ]
     },
     "execution_count": 100,
     "metadata": {},
     "output_type": "execute_result"
    }
   ],
   "source": [
    "a1"
   ]
  },
  {
   "cell_type": "code",
   "execution_count": 101,
   "id": "a166b28f-5a23-427d-88c5-99641b916400",
   "metadata": {},
   "outputs": [
    {
     "data": {
      "text/plain": [
       "array([ 6,  7,  8,  9, 10])"
      ]
     },
     "execution_count": 101,
     "metadata": {},
     "output_type": "execute_result"
    }
   ],
   "source": [
    "a2"
   ]
  },
  {
   "cell_type": "code",
   "execution_count": 102,
   "id": "c4cb3bb0-dd51-404f-89af-ae972059e34a",
   "metadata": {},
   "outputs": [
    {
     "data": {
      "text/plain": [
       "array([ 7,  9, 11, 13, 15])"
      ]
     },
     "execution_count": 102,
     "metadata": {},
     "output_type": "execute_result"
    }
   ],
   "source": [
    "a1 + a2"
   ]
  },
  {
   "cell_type": "code",
   "execution_count": 103,
   "id": "721b705d-1566-4333-84d8-0d5eaea8a193",
   "metadata": {},
   "outputs": [
    {
     "name": "stdout",
     "output_type": "stream",
     "text": [
      "1 2 3 4 5 \t\n",
      "6 7 8 9 10 \t\n",
      "7 9 11 13 15 "
     ]
    }
   ],
   "source": [
    "for i in a1:\n",
    "    print(i, end=\" \")\n",
    "print('\\t')\n",
    "for j in a2:\n",
    "    print(j, end= \" \" )\n",
    "print('\\t')\n",
    "for i in a1 + a2:\n",
    "    print(i, end=\" \")"
   ]
  },
  {
   "cell_type": "raw",
   "id": "0caae3a9-fd30-4d8d-823f-69124e8581e2",
   "metadata": {},
   "source": [
    "l1 / l2 \n",
    "\n",
    "yor are going to get error:\n",
    "\n",
    "---------------------------------------------------------------------------\n",
    "TypeError                                 Traceback (most recent call last)\n",
    "Cell In[156], line 1\n",
    "----> 1 l1 / l2\n",
    "\n",
    "TypeError: unsupported operand type(s) for /: 'list' and 'list'"
   ]
  },
  {
   "cell_type": "code",
   "execution_count": 104,
   "id": "033175f8-242e-4725-8aff-4191cc616366",
   "metadata": {},
   "outputs": [
    {
     "data": {
      "text/plain": [
       "array([0.16666667, 0.28571429, 0.375     , 0.44444444, 0.5       ])"
      ]
     },
     "execution_count": 104,
     "metadata": {},
     "output_type": "execute_result"
    }
   ],
   "source": [
    "a1 / a2"
   ]
  },
  {
   "cell_type": "code",
   "execution_count": 105,
   "id": "1e01c57d-cb03-4757-b08e-ff43d7740398",
   "metadata": {},
   "outputs": [
    {
     "data": {
      "text/plain": [
       "array([ 6, 14, 24, 36, 50])"
      ]
     },
     "execution_count": 105,
     "metadata": {},
     "output_type": "execute_result"
    }
   ],
   "source": [
    "a1 * a2"
   ]
  },
  {
   "cell_type": "code",
   "execution_count": 106,
   "id": "4f25f1e7-7520-4ab2-96a9-acc651a9b3fc",
   "metadata": {},
   "outputs": [],
   "source": [
    "a11 = np.array(\n",
    "    [1,2,3]\n",
    ")\n",
    "a22 = np.array(\n",
    "    [\n",
    "        [1],\n",
    "        [2]\n",
    "    ]\n",
    ")"
   ]
  },
  {
   "cell_type": "code",
   "execution_count": 107,
   "id": "551056eb-40c2-4195-bf72-273c03fa6ace",
   "metadata": {},
   "outputs": [
    {
     "name": "stdout",
     "output_type": "stream",
     "text": [
      "(3,)\n"
     ]
    }
   ],
   "source": [
    "print(a11.shape)"
   ]
  },
  {
   "cell_type": "code",
   "execution_count": 108,
   "id": "ad7bbd5b-0e70-4455-9824-62d37cba6c4d",
   "metadata": {},
   "outputs": [
    {
     "name": "stdout",
     "output_type": "stream",
     "text": [
      "(2, 1)\n"
     ]
    }
   ],
   "source": [
    "print(a22.shape)"
   ]
  },
  {
   "cell_type": "code",
   "execution_count": 109,
   "id": "739f0e22-ff67-4351-b40b-dec51df5f221",
   "metadata": {},
   "outputs": [],
   "source": [
    "b1 = a11 + a22"
   ]
  },
  {
   "cell_type": "code",
   "execution_count": 110,
   "id": "0fcc59f2-97b6-46cf-a53f-1b761cac9d87",
   "metadata": {},
   "outputs": [
    {
     "data": {
      "text/plain": [
       "array([[2, 3, 4],\n",
       "       [3, 4, 5]])"
      ]
     },
     "execution_count": 110,
     "metadata": {},
     "output_type": "execute_result"
    }
   ],
   "source": [
    "b1"
   ]
  },
  {
   "cell_type": "code",
   "execution_count": 111,
   "id": "0ea309d6-db2c-4810-ab94-2f1cae613e37",
   "metadata": {},
   "outputs": [
    {
     "data": {
      "text/plain": [
       "(2, 3)"
      ]
     },
     "execution_count": 111,
     "metadata": {},
     "output_type": "execute_result"
    }
   ],
   "source": [
    "b1.shape"
   ]
  },
  {
   "cell_type": "code",
   "execution_count": 112,
   "id": "0058031c-01ef-4b60-b52e-0cda5e48636c",
   "metadata": {},
   "outputs": [],
   "source": [
    "a111 = np.array([1,2,3,4])\n",
    "a222 = np.array(\n",
    "    [\n",
    "        [1,2],\n",
    "        [1,3],\n",
    "    ]\n",
    ")"
   ]
  },
  {
   "cell_type": "code",
   "execution_count": 113,
   "id": "e7683ea5-0039-4911-b090-48638aad6bc2",
   "metadata": {},
   "outputs": [
    {
     "name": "stdout",
     "output_type": "stream",
     "text": [
      "[1 2 3 4]\n"
     ]
    }
   ],
   "source": [
    "print(a111)"
   ]
  },
  {
   "cell_type": "code",
   "execution_count": 114,
   "id": "37a8dff4-f612-4ec2-98e7-41098845fae0",
   "metadata": {},
   "outputs": [
    {
     "name": "stdout",
     "output_type": "stream",
     "text": [
      "[[1 2]\n",
      " [1 3]]\n"
     ]
    }
   ],
   "source": [
    "print(a222)"
   ]
  },
  {
   "cell_type": "raw",
   "id": "becc9b98-de93-4c14-a2df-9a93f0393518",
   "metadata": {},
   "source": [
    "b2 = a111 + a222\n",
    "\n",
    "you are going to get error:\n",
    "\n",
    "---------------------------------------------------------------------------\n",
    "ValueError                                Traceback (most recent call last)\n",
    "Cell In[192], line 1\n",
    "----> 1 b2 = a111 + a222\n",
    "\n",
    "ValueError: operands could not be broadcast together with shapes (4,) (2,2) "
   ]
  },
  {
   "cell_type": "code",
   "execution_count": 115,
   "id": "f7432848-e54a-4a5e-8840-4c3ff9f77ab0",
   "metadata": {},
   "outputs": [
    {
     "data": {
      "text/plain": [
       "array([1, 2, 3, 4, 5])"
      ]
     },
     "execution_count": 115,
     "metadata": {},
     "output_type": "execute_result"
    }
   ],
   "source": [
    "a1"
   ]
  },
  {
   "cell_type": "code",
   "execution_count": 116,
   "id": "811e5a78-a3ec-4889-a57f-8b45f0c3ea68",
   "metadata": {},
   "outputs": [
    {
     "data": {
      "text/plain": [
       "array([ 6,  7,  8,  9, 10])"
      ]
     },
     "execution_count": 116,
     "metadata": {},
     "output_type": "execute_result"
    }
   ],
   "source": [
    "a2"
   ]
  },
  {
   "cell_type": "code",
   "execution_count": 117,
   "id": "7caa7031-b81f-475d-b8f1-a3e700dd6eae",
   "metadata": {},
   "outputs": [
    {
     "data": {
      "text/plain": [
       "array([1, 2, 3])"
      ]
     },
     "execution_count": 117,
     "metadata": {},
     "output_type": "execute_result"
    }
   ],
   "source": [
    "a11"
   ]
  },
  {
   "cell_type": "code",
   "execution_count": 118,
   "id": "2d4729a6-efca-47ae-b61a-bf40e4065502",
   "metadata": {},
   "outputs": [
    {
     "data": {
      "text/plain": [
       "array([[1],\n",
       "       [2]])"
      ]
     },
     "execution_count": 118,
     "metadata": {},
     "output_type": "execute_result"
    }
   ],
   "source": [
    "a22"
   ]
  },
  {
   "cell_type": "code",
   "execution_count": 119,
   "id": "f90e7083-0783-4e87-a748-b799ebcfcb02",
   "metadata": {},
   "outputs": [
    {
     "data": {
      "text/plain": [
       "array([ 6, 14, 24, 36, 50])"
      ]
     },
     "execution_count": 119,
     "metadata": {},
     "output_type": "execute_result"
    }
   ],
   "source": [
    "a1 * a2"
   ]
  },
  {
   "cell_type": "code",
   "execution_count": 120,
   "id": "1793366f-babf-4d64-b465-87cb46ae2bcd",
   "metadata": {},
   "outputs": [],
   "source": [
    "c1 = np.array(\n",
    "    [\n",
    "        [1,2,3],\n",
    "        [4,5,6]\n",
    "    ]\n",
    ")"
   ]
  },
  {
   "cell_type": "code",
   "execution_count": 121,
   "id": "113d37bd-8d17-4be5-a327-5ef220327761",
   "metadata": {},
   "outputs": [
    {
     "data": {
      "text/plain": [
       "array([[1, 2, 3],\n",
       "       [4, 5, 6]])"
      ]
     },
     "execution_count": 121,
     "metadata": {},
     "output_type": "execute_result"
    }
   ],
   "source": [
    "c1"
   ]
  },
  {
   "cell_type": "code",
   "execution_count": 122,
   "id": "3bc4de9c-ee5e-4ff5-a13d-fb38312d1264",
   "metadata": {},
   "outputs": [
    {
     "data": {
      "text/plain": [
       "array([[1.        , 1.41421356, 1.73205081],\n",
       "       [2.        , 2.23606798, 2.44948974]])"
      ]
     },
     "execution_count": 122,
     "metadata": {},
     "output_type": "execute_result"
    }
   ],
   "source": [
    "np.sqrt(c1)"
   ]
  },
  {
   "cell_type": "code",
   "execution_count": 123,
   "id": "f9555a01-b37f-44bf-9e62-b49a7b6f3d8f",
   "metadata": {},
   "outputs": [
    {
     "data": {
      "text/plain": [
       "array([[ 0.84147098,  0.90929743,  0.14112001],\n",
       "       [-0.7568025 , -0.95892427, -0.2794155 ]])"
      ]
     },
     "execution_count": 123,
     "metadata": {},
     "output_type": "execute_result"
    }
   ],
   "source": [
    "np.sin(c1)"
   ]
  },
  {
   "cell_type": "code",
   "execution_count": 124,
   "id": "f0300a5e-f5ee-4d20-b077-8addda3aa592",
   "metadata": {},
   "outputs": [
    {
     "data": {
      "text/plain": [
       "array([[ 0.54030231, -0.41614684, -0.9899925 ],\n",
       "       [-0.65364362,  0.28366219,  0.96017029]])"
      ]
     },
     "execution_count": 124,
     "metadata": {},
     "output_type": "execute_result"
    }
   ],
   "source": [
    "np.cos(c1)"
   ]
  },
  {
   "cell_type": "code",
   "execution_count": 125,
   "id": "eaaa81cc-91c1-436d-aa9d-df66169c7dd4",
   "metadata": {},
   "outputs": [
    {
     "data": {
      "text/plain": [
       "array([[ 1.55740772, -2.18503986, -0.14254654],\n",
       "       [ 1.15782128, -3.38051501, -0.29100619]])"
      ]
     },
     "execution_count": 125,
     "metadata": {},
     "output_type": "execute_result"
    }
   ],
   "source": [
    "np.tan(c1)"
   ]
  },
  {
   "cell_type": "code",
   "execution_count": 126,
   "id": "5a7fc338-dc00-42ba-ba5b-29363dedb520",
   "metadata": {},
   "outputs": [
    {
     "data": {
      "text/plain": [
       "array([[0.        , 1.        , 1.5849625 ],\n",
       "       [2.        , 2.32192809, 2.5849625 ]])"
      ]
     },
     "execution_count": 126,
     "metadata": {},
     "output_type": "execute_result"
    }
   ],
   "source": [
    "np.log2(c1)"
   ]
  },
  {
   "cell_type": "markdown",
   "id": "69451910-e9a1-48da-94bc-54e28cb60aaf",
   "metadata": {},
   "source": [
    "# Array Methods"
   ]
  },
  {
   "cell_type": "code",
   "execution_count": 127,
   "id": "4b86b588-e487-4c1a-848b-ddae0c571cb9",
   "metadata": {},
   "outputs": [],
   "source": [
    "np11 = np.array([1,2,3])"
   ]
  },
  {
   "cell_type": "code",
   "execution_count": 128,
   "id": "17b569a6-ce23-4d6a-abdb-bf95f7eb1da4",
   "metadata": {},
   "outputs": [
    {
     "name": "stdout",
     "output_type": "stream",
     "text": [
      "[1 2 3]\n"
     ]
    }
   ],
   "source": [
    "print(np11)"
   ]
  },
  {
   "cell_type": "code",
   "execution_count": 129,
   "id": "c20081e9-4d33-47d1-a2ab-12d11802c8dd",
   "metadata": {},
   "outputs": [
    {
     "data": {
      "text/plain": [
       "array([1, 2, 3, 7, 8, 9])"
      ]
     },
     "execution_count": 129,
     "metadata": {},
     "output_type": "execute_result"
    }
   ],
   "source": [
    "np.append(np11, [7,8,9]) # add to the end of the array"
   ]
  },
  {
   "cell_type": "code",
   "execution_count": 130,
   "id": "60ba78d0-e0ad-4dfc-b95c-11c49921e955",
   "metadata": {},
   "outputs": [],
   "source": [
    "np11 = np.append(np11, [7,8,9])"
   ]
  },
  {
   "cell_type": "code",
   "execution_count": 131,
   "id": "e627ae5b-eeca-49ee-aa6c-718ea81072eb",
   "metadata": {},
   "outputs": [
    {
     "data": {
      "text/plain": [
       "array([1, 2, 3, 7, 8, 9])"
      ]
     },
     "execution_count": 131,
     "metadata": {},
     "output_type": "execute_result"
    }
   ],
   "source": [
    "np11"
   ]
  },
  {
   "cell_type": "code",
   "execution_count": 132,
   "id": "aa4f56d1-f7a3-4270-bab4-ede7dd50899e",
   "metadata": {},
   "outputs": [
    {
     "data": {
      "text/plain": [
       "array([1, 2, 3, 4, 5, 6, 7, 8, 9])"
      ]
     },
     "execution_count": 132,
     "metadata": {},
     "output_type": "execute_result"
    }
   ],
   "source": [
    "np.insert(np11, 3 , [4,5,6]) # add where you want"
   ]
  },
  {
   "cell_type": "code",
   "execution_count": 133,
   "id": "fa4c7467-a336-499c-b68b-336d5b2d7185",
   "metadata": {},
   "outputs": [
    {
     "data": {
      "text/plain": [
       "array([1, 2, 3, 7, 8, 9])"
      ]
     },
     "execution_count": 133,
     "metadata": {},
     "output_type": "execute_result"
    }
   ],
   "source": [
    "np11"
   ]
  },
  {
   "cell_type": "code",
   "execution_count": 134,
   "id": "01bb3349-9931-4ad4-baf1-3c9eb03d1f81",
   "metadata": {},
   "outputs": [],
   "source": [
    "np11 = np.insert(np11, 3 , [4,5,6])"
   ]
  },
  {
   "cell_type": "code",
   "execution_count": 135,
   "id": "d6e0caa9-e966-47ff-894c-2e35a27b9b1e",
   "metadata": {},
   "outputs": [
    {
     "data": {
      "text/plain": [
       "array([1, 2, 3, 4, 5, 6, 7, 8, 9])"
      ]
     },
     "execution_count": 135,
     "metadata": {},
     "output_type": "execute_result"
    }
   ],
   "source": [
    "np11"
   ]
  },
  {
   "cell_type": "code",
   "execution_count": 136,
   "id": "a4805b4d-d14e-4a8a-82d7-f3e56370b90e",
   "metadata": {},
   "outputs": [
    {
     "data": {
      "text/plain": [
       "array([1, 3, 4, 5, 6, 7, 8, 9])"
      ]
     },
     "execution_count": 136,
     "metadata": {},
     "output_type": "execute_result"
    }
   ],
   "source": [
    "np.delete(np11, 1) # 1 pointed to the location :/"
   ]
  },
  {
   "cell_type": "code",
   "execution_count": 137,
   "id": "7f49af36-0bc8-4f27-932f-e46eb7a8a975",
   "metadata": {},
   "outputs": [
    {
     "data": {
      "text/plain": [
       "array([1, 2, 3, 4, 5, 6, 7, 8, 9])"
      ]
     },
     "execution_count": 137,
     "metadata": {},
     "output_type": "execute_result"
    }
   ],
   "source": [
    "np11"
   ]
  },
  {
   "cell_type": "code",
   "execution_count": 138,
   "id": "5d28c61f-26a6-4751-bbdd-bd73ca9e442a",
   "metadata": {},
   "outputs": [
    {
     "data": {
      "text/plain": [
       "array([2, 3, 4, 5, 6, 7, 8, 9])"
      ]
     },
     "execution_count": 138,
     "metadata": {},
     "output_type": "execute_result"
    }
   ],
   "source": [
    "np.delete(np11,0)"
   ]
  },
  {
   "cell_type": "code",
   "execution_count": 139,
   "id": "4ec1dfc7-b8bf-4f64-8590-8fbf86089587",
   "metadata": {},
   "outputs": [
    {
     "data": {
      "text/plain": [
       "array([1, 2, 3, 4, 5, 6, 7, 8])"
      ]
     },
     "execution_count": 139,
     "metadata": {},
     "output_type": "execute_result"
    }
   ],
   "source": [
    "np.delete(np11,8)"
   ]
  },
  {
   "cell_type": "code",
   "execution_count": 140,
   "id": "5e935838-8734-4e51-a3e6-3f97594708f0",
   "metadata": {},
   "outputs": [],
   "source": [
    "np22 = np.array(\n",
    "    [\n",
    "        [1,2,3],\n",
    "        [4,5,6],\n",
    "        [7,8,9],\n",
    "        [10,11,12],\n",
    "        [13,14,15]\n",
    "    ]\n",
    ")"
   ]
  },
  {
   "cell_type": "code",
   "execution_count": 141,
   "id": "4b3d896a-ec66-4c08-96fa-4fae6be655e1",
   "metadata": {},
   "outputs": [
    {
     "data": {
      "text/plain": [
       "(5, 3)"
      ]
     },
     "execution_count": 141,
     "metadata": {},
     "output_type": "execute_result"
    }
   ],
   "source": [
    "np22.shape"
   ]
  },
  {
   "cell_type": "code",
   "execution_count": 142,
   "id": "a008b835-eeb4-4d15-a4f6-0a870904f297",
   "metadata": {},
   "outputs": [
    {
     "data": {
      "text/plain": [
       "15"
      ]
     },
     "execution_count": 142,
     "metadata": {},
     "output_type": "execute_result"
    }
   ],
   "source": [
    "np22.size"
   ]
  },
  {
   "cell_type": "code",
   "execution_count": 143,
   "id": "d0ed7204-2074-4af7-924b-8dcd78cb679b",
   "metadata": {},
   "outputs": [
    {
     "data": {
      "text/plain": [
       "array([ 2,  3,  4,  5,  6,  7,  8,  9, 10, 11, 12, 13, 14, 15])"
      ]
     },
     "execution_count": 143,
     "metadata": {},
     "output_type": "execute_result"
    }
   ],
   "source": [
    "np.delete(np22, 0)"
   ]
  },
  {
   "cell_type": "code",
   "execution_count": 144,
   "id": "6de08308-1858-4cc5-957f-aae1c26ccddf",
   "metadata": {},
   "outputs": [
    {
     "data": {
      "text/plain": [
       "array([ 1,  2,  3,  4,  6,  7,  8,  9, 10, 11, 12, 13, 14, 15])"
      ]
     },
     "execution_count": 144,
     "metadata": {},
     "output_type": "execute_result"
    }
   ],
   "source": [
    "np.delete(np22, 4)"
   ]
  },
  {
   "cell_type": "code",
   "execution_count": 145,
   "id": "35e677a8-ef54-41e5-a1c1-55c65741f512",
   "metadata": {},
   "outputs": [
    {
     "data": {
      "text/plain": [
       "array([[ 2,  3],\n",
       "       [ 5,  6],\n",
       "       [ 8,  9],\n",
       "       [11, 12],\n",
       "       [14, 15]])"
      ]
     },
     "execution_count": 145,
     "metadata": {},
     "output_type": "execute_result"
    }
   ],
   "source": [
    "np.delete(np22, 0,1)"
   ]
  },
  {
   "cell_type": "code",
   "execution_count": 146,
   "id": "b67fef9e-7fc2-42cb-b134-383ac3eeaa89",
   "metadata": {},
   "outputs": [
    {
     "data": {
      "text/plain": [
       "array([[ 1,  2,  3],\n",
       "       [ 7,  8,  9],\n",
       "       [10, 11, 12],\n",
       "       [13, 14, 15]])"
      ]
     },
     "execution_count": 146,
     "metadata": {},
     "output_type": "execute_result"
    }
   ],
   "source": [
    "np.delete(np22, 1,0)"
   ]
  },
  {
   "cell_type": "code",
   "execution_count": 147,
   "id": "169e07f9-bf70-47ea-9035-c4a94eaaf109",
   "metadata": {},
   "outputs": [
    {
     "data": {
      "text/plain": [
       "array([[ 1,  2,  3],\n",
       "       [ 4,  5,  6],\n",
       "       [10, 11, 12],\n",
       "       [13, 14, 15]])"
      ]
     },
     "execution_count": 147,
     "metadata": {},
     "output_type": "execute_result"
    }
   ],
   "source": [
    "np.delete(np22, 2,0)"
   ]
  },
  {
   "cell_type": "code",
   "execution_count": 148,
   "id": "134379b0-fd53-4533-82d0-fd6986d91575",
   "metadata": {},
   "outputs": [
    {
     "data": {
      "text/plain": [
       "array([[ 1,  2,  3],\n",
       "       [ 4,  5,  6],\n",
       "       [ 7,  8,  9],\n",
       "       [10, 11, 12],\n",
       "       [13, 14, 15]])"
      ]
     },
     "execution_count": 148,
     "metadata": {},
     "output_type": "execute_result"
    }
   ],
   "source": [
    "np22"
   ]
  },
  {
   "cell_type": "code",
   "execution_count": 149,
   "id": "571646fc-5242-4a17-8a15-4799c6731cf3",
   "metadata": {},
   "outputs": [
    {
     "data": {
      "text/plain": [
       "array([[ 1,  3],\n",
       "       [ 4,  6],\n",
       "       [ 7,  9],\n",
       "       [10, 12],\n",
       "       [13, 15]])"
      ]
     },
     "execution_count": 149,
     "metadata": {},
     "output_type": "execute_result"
    }
   ],
   "source": [
    "np.delete(np22, 1,1)"
   ]
  },
  {
   "cell_type": "code",
   "execution_count": 150,
   "id": "776a7d77-22c1-4f46-bb56-f10418eff35b",
   "metadata": {},
   "outputs": [
    {
     "data": {
      "text/plain": [
       "array([[ 1,  2],\n",
       "       [ 4,  5],\n",
       "       [ 7,  8],\n",
       "       [10, 11],\n",
       "       [13, 14]])"
      ]
     },
     "execution_count": 150,
     "metadata": {},
     "output_type": "execute_result"
    }
   ],
   "source": [
    "np.delete(np22, 2,1)"
   ]
  },
  {
   "cell_type": "code",
   "execution_count": 151,
   "id": "0e8dd298-1927-46b4-a95d-24c81480ac3f",
   "metadata": {},
   "outputs": [
    {
     "data": {
      "text/plain": [
       "array([[ 1,  2,  3],\n",
       "       [ 4,  5,  6],\n",
       "       [10, 11, 12],\n",
       "       [13, 14, 15]])"
      ]
     },
     "execution_count": 151,
     "metadata": {},
     "output_type": "execute_result"
    }
   ],
   "source": [
    "np.delete(np22, 2,0)"
   ]
  },
  {
   "cell_type": "code",
   "execution_count": 152,
   "id": "480f187a-783e-430c-8c56-28bea72d01b6",
   "metadata": {},
   "outputs": [
    {
     "data": {
      "text/plain": [
       "array([[ 1,  2,  3],\n",
       "       [ 4,  5,  6],\n",
       "       [ 7,  8,  9],\n",
       "       [13, 14, 15]])"
      ]
     },
     "execution_count": 152,
     "metadata": {},
     "output_type": "execute_result"
    }
   ],
   "source": [
    "np.delete(np22, 3,0)"
   ]
  },
  {
   "cell_type": "code",
   "execution_count": 153,
   "id": "d0637910-ca08-414e-9856-1434bba29cbf",
   "metadata": {},
   "outputs": [
    {
     "data": {
      "text/plain": [
       "array([[ 1,  2,  3],\n",
       "       [ 4,  5,  6],\n",
       "       [ 7,  8,  9],\n",
       "       [10, 11, 12]])"
      ]
     },
     "execution_count": 153,
     "metadata": {},
     "output_type": "execute_result"
    }
   ],
   "source": [
    "np.delete(np22, 4,0)"
   ]
  },
  {
   "cell_type": "markdown",
   "id": "0e4502a3-f545-4b74-b4f4-57a3346c3414",
   "metadata": {},
   "source": [
    "## Structuer Methods"
   ]
  },
  {
   "cell_type": "code",
   "execution_count": 154,
   "id": "1e9c3152-f0b5-4bcf-9686-099243df11ae",
   "metadata": {},
   "outputs": [],
   "source": [
    "np33 = np.array(\n",
    "    [\n",
    "        [1,2,3,4,5],\n",
    "        [6,7,8,9,10],\n",
    "        [11,12,13,14,15],\n",
    "        [16,17,18,19,20]\n",
    "    ]\n",
    ")"
   ]
  },
  {
   "cell_type": "code",
   "execution_count": 155,
   "id": "e704b1c3-5629-477c-bcc2-34a3d9135919",
   "metadata": {},
   "outputs": [
    {
     "data": {
      "text/plain": [
       "array([[ 1,  2,  3,  4,  5],\n",
       "       [ 6,  7,  8,  9, 10],\n",
       "       [11, 12, 13, 14, 15],\n",
       "       [16, 17, 18, 19, 20]])"
      ]
     },
     "execution_count": 155,
     "metadata": {},
     "output_type": "execute_result"
    }
   ],
   "source": [
    "np33"
   ]
  },
  {
   "cell_type": "code",
   "execution_count": 156,
   "id": "cfb9700b-622b-4190-9960-7c8d045750c5",
   "metadata": {},
   "outputs": [
    {
     "data": {
      "text/plain": [
       "(4, 5)"
      ]
     },
     "execution_count": 156,
     "metadata": {},
     "output_type": "execute_result"
    }
   ],
   "source": [
    "np33.shape"
   ]
  },
  {
   "cell_type": "code",
   "execution_count": 157,
   "id": "07dc4043-ab72-42df-837d-80c05ec7ad6f",
   "metadata": {},
   "outputs": [
    {
     "data": {
      "text/plain": [
       "20"
      ]
     },
     "execution_count": 157,
     "metadata": {},
     "output_type": "execute_result"
    }
   ],
   "source": [
    "np33.size"
   ]
  },
  {
   "cell_type": "code",
   "execution_count": 158,
   "id": "1d86c5df-1301-4cd7-9842-35b90970ff07",
   "metadata": {},
   "outputs": [
    {
     "data": {
      "text/plain": [
       "array([[ 1,  2,  3,  4,  5],\n",
       "       [ 6,  7,  8,  9, 10],\n",
       "       [11, 12, 13, 14, 15],\n",
       "       [16, 17, 18, 19, 20]])"
      ]
     },
     "execution_count": 158,
     "metadata": {},
     "output_type": "execute_result"
    }
   ],
   "source": [
    "np33"
   ]
  },
  {
   "cell_type": "code",
   "execution_count": 159,
   "id": "40c60929-bf23-4036-9868-eaa6e95f8f38",
   "metadata": {},
   "outputs": [
    {
     "data": {
      "text/plain": [
       "array([[ 1,  2,  3,  4],\n",
       "       [ 5,  6,  7,  8],\n",
       "       [ 9, 10, 11, 12],\n",
       "       [13, 14, 15, 16],\n",
       "       [17, 18, 19, 20]])"
      ]
     },
     "execution_count": 159,
     "metadata": {},
     "output_type": "execute_result"
    }
   ],
   "source": [
    "np33.reshape((5,4))"
   ]
  },
  {
   "cell_type": "code",
   "execution_count": 160,
   "id": "e9156b46-40b0-4ea0-af4a-f156378b9ca0",
   "metadata": {},
   "outputs": [
    {
     "data": {
      "text/plain": [
       "array([[ 1,  2,  3,  4,  5,  6,  7,  8,  9, 10, 11, 12, 13, 14, 15, 16,\n",
       "        17, 18, 19, 20]])"
      ]
     },
     "execution_count": 160,
     "metadata": {},
     "output_type": "execute_result"
    }
   ],
   "source": [
    "np33.reshape((1,-1))"
   ]
  },
  {
   "cell_type": "code",
   "execution_count": 161,
   "id": "ba077417-ac99-4920-8fa6-288218f9c5b5",
   "metadata": {},
   "outputs": [
    {
     "data": {
      "text/plain": [
       "array([ 1,  2,  3,  4,  5,  6,  7,  8,  9, 10, 11, 12, 13, 14, 15, 16, 17,\n",
       "       18, 19, 20])"
      ]
     },
     "execution_count": 161,
     "metadata": {},
     "output_type": "execute_result"
    }
   ],
   "source": [
    "np33.reshape((-1))"
   ]
  },
  {
   "cell_type": "code",
   "execution_count": 162,
   "id": "c3d479c6-12df-4b6b-9b0c-94afadf66ff2",
   "metadata": {
    "editable": true,
    "slideshow": {
     "slide_type": ""
    },
    "tags": []
   },
   "outputs": [
    {
     "data": {
      "text/plain": [
       "array([[ 1],\n",
       "       [ 2],\n",
       "       [ 3],\n",
       "       [ 4],\n",
       "       [ 5],\n",
       "       [ 6],\n",
       "       [ 7],\n",
       "       [ 8],\n",
       "       [ 9],\n",
       "       [10],\n",
       "       [11],\n",
       "       [12],\n",
       "       [13],\n",
       "       [14],\n",
       "       [15],\n",
       "       [16],\n",
       "       [17],\n",
       "       [18],\n",
       "       [19],\n",
       "       [20]])"
      ]
     },
     "execution_count": 162,
     "metadata": {},
     "output_type": "execute_result"
    }
   ],
   "source": [
    "np33.reshape((-1,1))"
   ]
  },
  {
   "cell_type": "code",
   "execution_count": 163,
   "id": "6a710bcc-e31c-47d7-89c2-2ec2685b1d16",
   "metadata": {},
   "outputs": [
    {
     "data": {
      "text/plain": [
       "array([[ 1,  2,  3,  4,  5,  6,  7,  8,  9, 10, 11, 12, 13, 14, 15, 16,\n",
       "        17, 18, 19, 20]])"
      ]
     },
     "execution_count": 163,
     "metadata": {},
     "output_type": "execute_result"
    }
   ],
   "source": [
    "np33.reshape((1,-1))"
   ]
  },
  {
   "cell_type": "code",
   "execution_count": 164,
   "id": "74aa6bb5-0e20-431a-8b30-9209c8b9bcd2",
   "metadata": {},
   "outputs": [
    {
     "data": {
      "text/plain": [
       "array([[ 1],\n",
       "       [ 2],\n",
       "       [ 3],\n",
       "       [ 4],\n",
       "       [ 5],\n",
       "       [ 6],\n",
       "       [ 7],\n",
       "       [ 8],\n",
       "       [ 9],\n",
       "       [10],\n",
       "       [11],\n",
       "       [12],\n",
       "       [13],\n",
       "       [14],\n",
       "       [15],\n",
       "       [16],\n",
       "       [17],\n",
       "       [18],\n",
       "       [19],\n",
       "       [20]])"
      ]
     },
     "execution_count": 164,
     "metadata": {},
     "output_type": "execute_result"
    }
   ],
   "source": [
    "np33.reshape((20,1))"
   ]
  },
  {
   "cell_type": "code",
   "execution_count": 165,
   "id": "d1e4a14e-d89b-4fea-8117-95f661aaa110",
   "metadata": {},
   "outputs": [
    {
     "data": {
      "text/plain": [
       "array([[ 1,  2,  3,  4,  5,  6,  7,  8,  9, 10],\n",
       "       [11, 12, 13, 14, 15, 16, 17, 18, 19, 20]])"
      ]
     },
     "execution_count": 165,
     "metadata": {},
     "output_type": "execute_result"
    }
   ],
   "source": [
    "np33.reshape((2,10))"
   ]
  },
  {
   "cell_type": "code",
   "execution_count": 166,
   "id": "95714a37-d1dd-43c7-aca8-71b316459c7d",
   "metadata": {},
   "outputs": [
    {
     "data": {
      "text/plain": [
       "array([[[ 1,  2,  3,  4,  5],\n",
       "        [ 6,  7,  8,  9, 10]],\n",
       "\n",
       "       [[11, 12, 13, 14, 15],\n",
       "        [16, 17, 18, 19, 20]]])"
      ]
     },
     "execution_count": 166,
     "metadata": {},
     "output_type": "execute_result"
    }
   ],
   "source": [
    "np33.reshape((2,2,5))"
   ]
  },
  {
   "cell_type": "code",
   "execution_count": 167,
   "id": "bf877582-5dc6-46da-b1ab-fa9fee4a1b21",
   "metadata": {},
   "outputs": [
    {
     "data": {
      "text/plain": [
       "array([[[ 1,  2],\n",
       "        [ 3,  4],\n",
       "        [ 5,  6],\n",
       "        [ 7,  8],\n",
       "        [ 9, 10]],\n",
       "\n",
       "       [[11, 12],\n",
       "        [13, 14],\n",
       "        [15, 16],\n",
       "        [17, 18],\n",
       "        [19, 20]]])"
      ]
     },
     "execution_count": 167,
     "metadata": {},
     "output_type": "execute_result"
    }
   ],
   "source": [
    "np33.reshape((2,5,2))"
   ]
  },
  {
   "cell_type": "code",
   "execution_count": 168,
   "id": "4ea5dca5-3c69-460b-8102-94405285c287",
   "metadata": {},
   "outputs": [
    {
     "data": {
      "text/plain": [
       "array([[[ 1,  2],\n",
       "        [ 3,  4]],\n",
       "\n",
       "       [[ 5,  6],\n",
       "        [ 7,  8]],\n",
       "\n",
       "       [[ 9, 10],\n",
       "        [11, 12]],\n",
       "\n",
       "       [[13, 14],\n",
       "        [15, 16]],\n",
       "\n",
       "       [[17, 18],\n",
       "        [19, 20]]])"
      ]
     },
     "execution_count": 168,
     "metadata": {},
     "output_type": "execute_result"
    }
   ],
   "source": [
    "np33.reshape((5,2,2))"
   ]
  },
  {
   "cell_type": "code",
   "execution_count": 169,
   "id": "3d567be4-6f4d-4b81-9d8e-9ea8f2c86d17",
   "metadata": {
    "editable": true,
    "slideshow": {
     "slide_type": ""
    },
    "tags": []
   },
   "outputs": [
    {
     "data": {
      "text/plain": [
       "array([[[ 1,  2],\n",
       "        [ 3,  4],\n",
       "        [ 5,  6],\n",
       "        [ 7,  8],\n",
       "        [ 9, 10]],\n",
       "\n",
       "       [[11, 12],\n",
       "        [13, 14],\n",
       "        [15, 16],\n",
       "        [17, 18],\n",
       "        [19, 20]]])"
      ]
     },
     "execution_count": 169,
     "metadata": {},
     "output_type": "execute_result"
    }
   ],
   "source": [
    "np33.reshape((-1,5,2))"
   ]
  },
  {
   "cell_type": "code",
   "execution_count": 170,
   "id": "5267b55b-0afb-44c6-b2c7-4a160544a883",
   "metadata": {
    "editable": true,
    "slideshow": {
     "slide_type": ""
    },
    "tags": []
   },
   "outputs": [
    {
     "data": {
      "text/plain": [
       "array([[[ 1,  2],\n",
       "        [ 3,  4],\n",
       "        [ 5,  6],\n",
       "        [ 7,  8],\n",
       "        [ 9, 10],\n",
       "        [11, 12],\n",
       "        [13, 14],\n",
       "        [15, 16],\n",
       "        [17, 18],\n",
       "        [19, 20]]])"
      ]
     },
     "execution_count": 170,
     "metadata": {},
     "output_type": "execute_result"
    }
   ],
   "source": [
    "np33.reshape((-1,10,2))"
   ]
  },
  {
   "cell_type": "code",
   "execution_count": 171,
   "id": "8f3e97ba-a5b2-45d2-8d88-6b9854d74763",
   "metadata": {},
   "outputs": [
    {
     "data": {
      "text/plain": [
       "array([[ 1,  2,  3,  4,  5],\n",
       "       [ 6,  7,  8,  9, 10],\n",
       "       [11, 12, 13, 14, 15],\n",
       "       [16, 17, 18, 19, 20]])"
      ]
     },
     "execution_count": 171,
     "metadata": {},
     "output_type": "execute_result"
    }
   ],
   "source": [
    "np33"
   ]
  },
  {
   "cell_type": "code",
   "execution_count": 172,
   "id": "05d65388-d885-4a63-b1d1-cdb6a4e4eda2",
   "metadata": {},
   "outputs": [
    {
     "data": {
      "text/plain": [
       "array([ 1,  2,  3,  4,  5,  6,  7,  8,  9, 10, 11, 12, 13, 14, 15, 16, 17,\n",
       "       18, 19, 20])"
      ]
     },
     "execution_count": 172,
     "metadata": {},
     "output_type": "execute_result"
    }
   ],
   "source": [
    "np33.flatten() # you can change value but the original values don't have chaneg"
   ]
  },
  {
   "cell_type": "code",
   "execution_count": 173,
   "id": "8a6e7347-3409-49bf-8a83-92153f91b582",
   "metadata": {},
   "outputs": [
    {
     "data": {
      "text/plain": [
       "array([ 1,  2,  3,  4,  5,  6,  7,  8,  9, 10, 11, 12, 13, 14, 15, 16, 17,\n",
       "       18, 19, 20])"
      ]
     },
     "execution_count": 173,
     "metadata": {},
     "output_type": "execute_result"
    }
   ],
   "source": [
    "np33.ravel() # change the the original array"
   ]
  },
  {
   "cell_type": "code",
   "execution_count": 174,
   "id": "41ff5a9f-55d5-40e1-837f-1c089bca442c",
   "metadata": {},
   "outputs": [],
   "source": [
    "var = [v for v in np33.flat]"
   ]
  },
  {
   "cell_type": "code",
   "execution_count": 175,
   "id": "41be011a-d7ed-447a-b026-07580e56ba9c",
   "metadata": {},
   "outputs": [
    {
     "name": "stdout",
     "output_type": "stream",
     "text": [
      "[np.int64(1), np.int64(2), np.int64(3), np.int64(4), np.int64(5), np.int64(6), np.int64(7), np.int64(8), np.int64(9), np.int64(10), np.int64(11), np.int64(12), np.int64(13), np.int64(14), np.int64(15), np.int64(16), np.int64(17), np.int64(18), np.int64(19), np.int64(20)]\n"
     ]
    }
   ],
   "source": [
    "print(var)"
   ]
  },
  {
   "cell_type": "code",
   "execution_count": 176,
   "id": "17d9c30a-6519-4920-968c-03dedd6d822e",
   "metadata": {},
   "outputs": [
    {
     "data": {
      "text/plain": [
       "array([[ 1,  2,  3,  4,  5],\n",
       "       [ 6,  7,  8,  9, 10],\n",
       "       [11, 12, 13, 14, 15],\n",
       "       [16, 17, 18, 19, 20]])"
      ]
     },
     "execution_count": 176,
     "metadata": {},
     "output_type": "execute_result"
    }
   ],
   "source": [
    "np33"
   ]
  },
  {
   "cell_type": "code",
   "execution_count": 177,
   "id": "32fa506b-aa0f-409e-9213-9ec236be316f",
   "metadata": {},
   "outputs": [
    {
     "data": {
      "text/plain": [
       "array([[ 1,  6, 11, 16],\n",
       "       [ 2,  7, 12, 17],\n",
       "       [ 3,  8, 13, 18],\n",
       "       [ 4,  9, 14, 19],\n",
       "       [ 5, 10, 15, 20]])"
      ]
     },
     "execution_count": 177,
     "metadata": {},
     "output_type": "execute_result"
    }
   ],
   "source": [
    "np33.transpose()"
   ]
  },
  {
   "cell_type": "code",
   "execution_count": 178,
   "id": "193e8a2c-84f7-4c8c-9e96-48f052af6da3",
   "metadata": {},
   "outputs": [
    {
     "data": {
      "text/plain": [
       "array([[ 1,  6, 11, 16],\n",
       "       [ 2,  7, 12, 17],\n",
       "       [ 3,  8, 13, 18],\n",
       "       [ 4,  9, 14, 19],\n",
       "       [ 5, 10, 15, 20]])"
      ]
     },
     "execution_count": 178,
     "metadata": {},
     "output_type": "execute_result"
    }
   ],
   "source": [
    "np33.T"
   ]
  },
  {
   "cell_type": "code",
   "execution_count": 179,
   "id": "b108826f-f6fd-4c85-8c1b-afb6d59b5395",
   "metadata": {},
   "outputs": [
    {
     "data": {
      "text/plain": [
       "array([[ 1,  6, 11, 16],\n",
       "       [ 2,  7, 12, 17],\n",
       "       [ 3,  8, 13, 18],\n",
       "       [ 4,  9, 14, 19],\n",
       "       [ 5, 10, 15, 20]])"
      ]
     },
     "execution_count": 179,
     "metadata": {},
     "output_type": "execute_result"
    }
   ],
   "source": [
    "np33.swapaxes(0,1) # you can choose axis"
   ]
  },
  {
   "cell_type": "markdown",
   "id": "daf00bfa-9697-44c8-b42a-f446a9a540d0",
   "metadata": {},
   "source": [
    "### Concatenating, Stacking, Splitting"
   ]
  },
  {
   "cell_type": "code",
   "execution_count": 180,
   "id": "db77c774-db24-4e4d-ac3a-783026f164ce",
   "metadata": {},
   "outputs": [],
   "source": [
    "ab1 = np.array(\n",
    "    [\n",
    "        [1,2,3,4,5],\n",
    "        [6,7,8,9,10]\n",
    "    ]\n",
    ")\n",
    "\n",
    "ab2 = np.array(\n",
    "    [\n",
    "        [11,12,13,14,15],\n",
    "        [16,17,18,19,20]\n",
    "    ]\n",
    ")"
   ]
  },
  {
   "cell_type": "code",
   "execution_count": 181,
   "id": "a104f2a6-7009-4b43-ba36-bd1b2ca7107d",
   "metadata": {},
   "outputs": [
    {
     "data": {
      "text/plain": [
       "array([[ 1,  2,  3,  4,  5],\n",
       "       [ 6,  7,  8,  9, 10]])"
      ]
     },
     "execution_count": 181,
     "metadata": {},
     "output_type": "execute_result"
    }
   ],
   "source": [
    "ab1"
   ]
  },
  {
   "cell_type": "code",
   "execution_count": 182,
   "id": "18bb4bcf-2a74-482b-b680-fb84abcaafa2",
   "metadata": {},
   "outputs": [
    {
     "data": {
      "text/plain": [
       "array([[11, 12, 13, 14, 15],\n",
       "       [16, 17, 18, 19, 20]])"
      ]
     },
     "execution_count": 182,
     "metadata": {},
     "output_type": "execute_result"
    }
   ],
   "source": [
    "ab2"
   ]
  },
  {
   "cell_type": "code",
   "execution_count": 183,
   "id": "b7d6950a-c579-4fa1-a262-dc642b963a13",
   "metadata": {},
   "outputs": [],
   "source": [
    "ab12 = np.concatenate((ab1, ab2), axis = 0)"
   ]
  },
  {
   "cell_type": "code",
   "execution_count": 184,
   "id": "ca2070e5-6363-4027-80b0-76cf2b1e1133",
   "metadata": {},
   "outputs": [
    {
     "data": {
      "text/plain": [
       "array([[ 1,  2,  3,  4,  5],\n",
       "       [ 6,  7,  8,  9, 10],\n",
       "       [11, 12, 13, 14, 15],\n",
       "       [16, 17, 18, 19, 20]])"
      ]
     },
     "execution_count": 184,
     "metadata": {},
     "output_type": "execute_result"
    }
   ],
   "source": [
    "ab12"
   ]
  },
  {
   "cell_type": "code",
   "execution_count": 185,
   "id": "239774fb-c4b0-4de4-9ac4-096e897c73da",
   "metadata": {},
   "outputs": [],
   "source": [
    "ab12 = np.concatenate((ab1, ab2), axis = 1)"
   ]
  },
  {
   "cell_type": "code",
   "execution_count": 186,
   "id": "7b5cc180-d3e6-42f6-8927-38e4ccc5c023",
   "metadata": {},
   "outputs": [
    {
     "data": {
      "text/plain": [
       "array([[ 1,  2,  3,  4,  5, 11, 12, 13, 14, 15],\n",
       "       [ 6,  7,  8,  9, 10, 16, 17, 18, 19, 20]])"
      ]
     },
     "execution_count": 186,
     "metadata": {},
     "output_type": "execute_result"
    }
   ],
   "source": [
    "ab12"
   ]
  },
  {
   "cell_type": "code",
   "execution_count": 187,
   "id": "802778d7-3930-4c5d-b7ab-8e0375f697ce",
   "metadata": {},
   "outputs": [],
   "source": [
    "ab122 = np.stack((ab1, ab2))"
   ]
  },
  {
   "cell_type": "code",
   "execution_count": 188,
   "id": "5f073759-67d1-4151-8a58-1298b75a95f6",
   "metadata": {},
   "outputs": [
    {
     "name": "stdout",
     "output_type": "stream",
     "text": [
      "[[[ 1  2  3  4  5]\n",
      "  [ 6  7  8  9 10]]\n",
      "\n",
      " [[11 12 13 14 15]\n",
      "  [16 17 18 19 20]]]\n"
     ]
    }
   ],
   "source": [
    "print(ab122)"
   ]
  },
  {
   "cell_type": "code",
   "execution_count": 189,
   "id": "6e40f38b-71ea-4994-b64b-531d8bc1c1ce",
   "metadata": {},
   "outputs": [
    {
     "name": "stdout",
     "output_type": "stream",
     "text": [
      "[[ 1  2  3  4  5]\n",
      " [ 6  7  8  9 10]\n",
      " [11 12 13 14 15]\n",
      " [16 17 18 19 20]]\n"
     ]
    }
   ],
   "source": [
    "ab122 = np.vstack((ab1, ab2))\n",
    "print(ab122)"
   ]
  },
  {
   "cell_type": "code",
   "execution_count": 190,
   "id": "da04a89a-e259-41d6-93aa-f3fd2e78fea9",
   "metadata": {},
   "outputs": [
    {
     "name": "stdout",
     "output_type": "stream",
     "text": [
      "[[ 1  2  3  4  5 11 12 13 14 15]\n",
      " [ 6  7  8  9 10 16 17 18 19 20]]\n"
     ]
    }
   ],
   "source": [
    "ab122 = np.hstack((ab1, ab2))\n",
    "print(ab122)"
   ]
  },
  {
   "cell_type": "code",
   "execution_count": 191,
   "id": "5e7e5ca4-7a6a-4bbe-be49-19ec161f2bee",
   "metadata": {},
   "outputs": [
    {
     "data": {
      "text/plain": [
       "array([[ 1,  2,  3,  4,  5],\n",
       "       [ 6,  7,  8,  9, 10],\n",
       "       [11, 12, 13, 14, 15],\n",
       "       [16, 17, 18, 19, 20]])"
      ]
     },
     "execution_count": 191,
     "metadata": {},
     "output_type": "execute_result"
    }
   ],
   "source": [
    "np33"
   ]
  },
  {
   "cell_type": "code",
   "execution_count": 192,
   "id": "69193f82-6f3a-4b57-9951-6ead56e5cfc6",
   "metadata": {},
   "outputs": [
    {
     "name": "stdout",
     "output_type": "stream",
     "text": [
      "[array([[ 1,  2,  3,  4,  5],\n",
      "       [ 6,  7,  8,  9, 10]]), array([[11, 12, 13, 14, 15],\n",
      "       [16, 17, 18, 19, 20]])]\n"
     ]
    }
   ],
   "source": [
    "np33_1_s = np.split(np33, 2, axis = 0)\n",
    "print(np33_1_s)"
   ]
  },
  {
   "cell_type": "code",
   "execution_count": 193,
   "id": "a86bf4d1-3698-4827-9170-32d0ebf6fd2c",
   "metadata": {},
   "outputs": [
    {
     "name": "stdout",
     "output_type": "stream",
     "text": [
      "[array([[1, 2, 3, 4, 5]]), array([[ 6,  7,  8,  9, 10]]), array([[11, 12, 13, 14, 15]]), array([[16, 17, 18, 19, 20]])]\n"
     ]
    }
   ],
   "source": [
    "np33_1_s = np.split(np33, 4, axis = 0)\n",
    "print(np33_1_s)"
   ]
  },
  {
   "cell_type": "markdown",
   "id": "ff3df1e0-378a-463c-933b-84a9880fa62a",
   "metadata": {},
   "source": [
    "### Aggregate Functions"
   ]
  },
  {
   "cell_type": "code",
   "execution_count": 195,
   "id": "9cc7d678-8a04-4dcc-a76c-b8c4610beb10",
   "metadata": {},
   "outputs": [
    {
     "data": {
      "text/plain": [
       "array([1, 2, 3, 4])"
      ]
     },
     "execution_count": 195,
     "metadata": {},
     "output_type": "execute_result"
    }
   ],
   "source": [
    "a111"
   ]
  },
  {
   "cell_type": "code",
   "execution_count": 196,
   "id": "5a62ea76-a112-4b0b-85fc-70a4bd8b7ae6",
   "metadata": {},
   "outputs": [
    {
     "name": "stdout",
     "output_type": "stream",
     "text": [
      "1\n"
     ]
    }
   ],
   "source": [
    "print(a111.min())"
   ]
  },
  {
   "cell_type": "code",
   "execution_count": 197,
   "id": "c30ed84f-4407-409d-9cbf-96e412bf7b4c",
   "metadata": {},
   "outputs": [
    {
     "name": "stdout",
     "output_type": "stream",
     "text": [
      "4\n"
     ]
    }
   ],
   "source": [
    "print(a111.max())"
   ]
  },
  {
   "cell_type": "code",
   "execution_count": 198,
   "id": "14a64463-363f-4cc7-9300-8e3bac55c58f",
   "metadata": {},
   "outputs": [
    {
     "name": "stdout",
     "output_type": "stream",
     "text": [
      "1.118033988749895\n"
     ]
    }
   ],
   "source": [
    "print(a111.std())"
   ]
  },
  {
   "cell_type": "code",
   "execution_count": 199,
   "id": "e92a9bfd-2c57-4ef0-92ce-a407ccd54ed7",
   "metadata": {},
   "outputs": [
    {
     "name": "stdout",
     "output_type": "stream",
     "text": [
      "10\n"
     ]
    }
   ],
   "source": [
    "print(a111.sum())"
   ]
  },
  {
   "cell_type": "code",
   "execution_count": 207,
   "id": "dbf25382-123a-4101-b838-2f2d6cd54bd6",
   "metadata": {},
   "outputs": [
    {
     "data": {
      "text/plain": [
       "array([[ 1,  2,  3],\n",
       "       [ 4,  5,  6],\n",
       "       [ 7,  8,  9],\n",
       "       [10, 11, 12],\n",
       "       [13, 14, 15]])"
      ]
     },
     "execution_count": 207,
     "metadata": {},
     "output_type": "execute_result"
    }
   ],
   "source": [
    "np22"
   ]
  },
  {
   "cell_type": "code",
   "execution_count": 210,
   "id": "fb5bee9c-a21c-4e91-a775-e21a1135ba2d",
   "metadata": {},
   "outputs": [
    {
     "name": "stdout",
     "output_type": "stream",
     "text": [
      "15\n",
      "1\n",
      "8.0\n",
      "4.320493798938574\n",
      "120\n",
      "8.0\n"
     ]
    }
   ],
   "source": [
    "print(np22.max())\n",
    "print(np22.min())\n",
    "print(np22.mean())\n",
    "print(np22.std())\n",
    "print(np22.sum())\n",
    "print(np.median(np22))"
   ]
  },
  {
   "cell_type": "markdown",
   "id": "8cf0d983-3082-496e-978b-96ba269d26ec",
   "metadata": {},
   "source": [
    "### NumPy Random"
   ]
  },
  {
   "cell_type": "code",
   "execution_count": 212,
   "id": "440d49cd-92da-47ad-8e23-8f4a743e5a43",
   "metadata": {},
   "outputs": [
    {
     "name": "stdout",
     "output_type": "stream",
     "text": [
      "[[[80 90 38 81]\n",
      "  [68  7 97 43]\n",
      "  [94 17 60 17]]\n",
      "\n",
      " [[71 41 49 13]\n",
      "  [96 95 14 95]\n",
      "  [22 14 15 16]]]\n"
     ]
    }
   ],
   "source": [
    "numbers = np.random.randint(100, size=(2,3,4))\n",
    "print(numbers)"
   ]
  },
  {
   "cell_type": "code",
   "execution_count": 214,
   "id": "e48bc7d0-15ac-4af2-9405-82a0dafdc49c",
   "metadata": {},
   "outputs": [
    {
     "data": {
      "text/plain": [
       "array([[[ 8,  3, 12, 13],\n",
       "        [19, 14,  9, 17],\n",
       "        [14, 19,  1, 15]],\n",
       "\n",
       "       [[ 6,  5,  4,  4],\n",
       "        [ 8, 13,  9, 17],\n",
       "        [ 9, 11,  9,  8]]], dtype=int32)"
      ]
     },
     "execution_count": 214,
     "metadata": {},
     "output_type": "execute_result"
    }
   ],
   "source": [
    "np.random.randint(0, 20, size=(2,3,4))"
   ]
  },
  {
   "cell_type": "code",
   "execution_count": 215,
   "id": "cfa7363b-aadb-4ced-9a5d-83ae8191d955",
   "metadata": {},
   "outputs": [
    {
     "data": {
      "text/plain": [
       "array([[5, 6, 8, 7, 4, 5, 6, 3, 4, 4],\n",
       "       [2, 3, 4, 6, 4, 6, 5, 5, 8, 3],\n",
       "       [5, 5, 6, 6, 5, 5, 5, 5, 6, 7],\n",
       "       [3, 6, 6, 3, 5, 1, 4, 8, 5, 5],\n",
       "       [5, 9, 5, 7, 6, 7, 4, 5, 6, 2]], dtype=int32)"
      ]
     },
     "execution_count": 215,
     "metadata": {},
     "output_type": "execute_result"
    }
   ],
   "source": [
    "np.random.binomial(10, p= 0.5, size=(5, 10))"
   ]
  },
  {
   "cell_type": "code",
   "execution_count": 216,
   "id": "2c5064a0-404d-4b0d-96fd-d9ca98442672",
   "metadata": {},
   "outputs": [
    {
     "data": {
      "text/plain": [
       "array([[153.01315694, 180.86598422, 185.9357448 , 173.65667106,\n",
       "        208.77002555, 162.48805053, 150.00952645, 193.81436197,\n",
       "        187.97678576, 186.38720583],\n",
       "       [161.75591182, 160.56229581, 143.92675775, 163.70194747,\n",
       "        149.97256096, 180.35302155, 131.52807208, 156.03244864,\n",
       "        186.02902358, 178.21469199],\n",
       "       [176.1914553 , 158.59186931, 153.41512455, 181.56252188,\n",
       "        166.21977645, 151.9941962 , 167.98551377, 135.68626542,\n",
       "        173.39461786, 179.41250044],\n",
       "       [158.03057437, 156.19949718, 174.95247854, 174.88769134,\n",
       "        164.05299848, 172.59534945, 159.80181074, 148.33656357,\n",
       "        167.11357092, 179.2246804 ],\n",
       "       [146.31798236, 156.64630085, 183.48109377, 180.91475691,\n",
       "        171.15446291, 191.22467719, 162.74373359, 188.13743798,\n",
       "        179.7775168 , 172.20172497]])"
      ]
     },
     "execution_count": 216,
     "metadata": {},
     "output_type": "execute_result"
    }
   ],
   "source": [
    "np.random.normal(loc=170, scale=15, size=(5,10))"
   ]
  },
  {
   "cell_type": "code",
   "execution_count": 217,
   "id": "cbed2ac0-a806-4fc4-918a-a41793f6c9d0",
   "metadata": {},
   "outputs": [
    {
     "data": {
      "text/plain": [
       "array([[20, 30, 40, 20, 30, 30, 50, 40, 10, 10],\n",
       "       [50, 40, 20, 10, 40, 40, 10, 30, 50, 50],\n",
       "       [10, 40, 30, 40, 10, 10, 10, 20, 10, 40],\n",
       "       [20, 30, 50, 10, 40, 40, 30, 40, 20, 50],\n",
       "       [30, 50, 50, 50, 10, 10, 40, 30, 10, 50]])"
      ]
     },
     "execution_count": 217,
     "metadata": {},
     "output_type": "execute_result"
    }
   ],
   "source": [
    "np.random.choice([10,20,30,40,50], size= (5,10))"
   ]
  },
  {
   "cell_type": "markdown",
   "id": "71a0ed77-19fe-43c1-aa79-269f37285b6f",
   "metadata": {},
   "source": [
    "### Exporting and Importing"
   ]
  },
  {
   "cell_type": "code",
   "execution_count": 218,
   "id": "a867bcbe-ecf9-4108-8d77-8c7bb933e137",
   "metadata": {},
   "outputs": [],
   "source": [
    "np.save(\"myarry.npy\", numbers)"
   ]
  },
  {
   "cell_type": "code",
   "execution_count": 219,
   "id": "61c2cba0-0bf1-4771-87b7-216a84773012",
   "metadata": {},
   "outputs": [
    {
     "data": {
      "text/plain": [
       "array([[[80, 90, 38, 81],\n",
       "        [68,  7, 97, 43],\n",
       "        [94, 17, 60, 17]],\n",
       "\n",
       "       [[71, 41, 49, 13],\n",
       "        [96, 95, 14, 95],\n",
       "        [22, 14, 15, 16]]], dtype=int32)"
      ]
     },
     "execution_count": 219,
     "metadata": {},
     "output_type": "execute_result"
    }
   ],
   "source": [
    "np.load(\"myarry.npy\")"
   ]
  },
  {
   "cell_type": "code",
   "execution_count": 221,
   "id": "00021e1b-913f-4ef3-8c2a-c7f949167ec8",
   "metadata": {},
   "outputs": [],
   "source": [
    "numbers2 = np.array(\n",
    "    [\n",
    "        [1,2,3],\n",
    "        [4,5,6]\n",
    "    ]\n",
    ")"
   ]
  },
  {
   "cell_type": "code",
   "execution_count": 222,
   "id": "465c8ee3-4409-408d-9bc3-3e63ce023642",
   "metadata": {},
   "outputs": [],
   "source": [
    "np.savetxt(\"myArrycsv.csv\", numbers2, delimiter=\",\")"
   ]
  },
  {
   "cell_type": "code",
   "execution_count": 223,
   "id": "5a5e5f67-1675-4122-91be-a1b76181074c",
   "metadata": {},
   "outputs": [
    {
     "data": {
      "text/plain": [
       "array([[1., 2., 3.],\n",
       "       [4., 5., 6.]])"
      ]
     },
     "execution_count": 223,
     "metadata": {},
     "output_type": "execute_result"
    }
   ],
   "source": [
    "np.loadtxt(\"myArrycsv.csv\", delimiter=\",\")"
   ]
  },
  {
   "cell_type": "code",
   "execution_count": null,
   "id": "3da62e75-d04b-47ab-86ab-080063ff8afd",
   "metadata": {},
   "outputs": [],
   "source": []
  }
 ],
 "metadata": {
  "kernelspec": {
   "display_name": "Python 3 (ipykernel)",
   "language": "python",
   "name": "python3"
  },
  "language_info": {
   "codemirror_mode": {
    "name": "ipython",
    "version": 3
   },
   "file_extension": ".py",
   "mimetype": "text/x-python",
   "name": "python",
   "nbconvert_exporter": "python",
   "pygments_lexer": "ipython3",
   "version": "3.13.5"
  }
 },
 "nbformat": 4,
 "nbformat_minor": 5
}
